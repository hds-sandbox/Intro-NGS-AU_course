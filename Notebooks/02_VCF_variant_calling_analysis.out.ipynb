{
 "cells": [
  {
   "cell_type": "markdown",
   "id": "00af4b5b-258b-4aab-9870-18a072be9530",
   "metadata": {},
   "source": [
    "# Variant calling and VCF files\n",
    "\n",
    "Lavinia I Fechete, Stig U Andersen, Mikkel H Schierup, Samuele Soraggi\n",
    "\n",
    ":::{.callout-note title=\"Tutorial description\"}\n",
    "\n",
    "This tutorial will cover the steps for performing Variant calling and working on the resulting VCF file format. We will be using the Hifi and RNA-seq mapping data obtained from Galaxy. At the end of this tutorial you will be able to:\n",
    "\n",
    "- call variants using alignment files\n",
    "- extract data from `VCF` files using `Python`\n",
    "- filter and count variants \n",
    "\n",
    ":::\n",
    "\n",
    "The present tutorial, like the rest of the course material, is available\n",
    "at our [open-source github\n",
    "repository](https://github.com/hds-sandbox/NGS_summer_course_Aarhus). \n",
    "\n",
    "To use this notebook, use the `NGS (python)` kernel that contains the\n",
    "packages. Choose it by selecting `Kernel -> Change Kernel` in the menu\n",
    "on top of the window.\n",
    "\n",
    ":::{.callout-tip collapse=\"true\" title=\"A few introductory points to run this notebook (click to show)\"}\n",
    "\n",
    "* To use this notebook, use the `NGS (python)` kernel that contains the packages. Choose it by selecting `Kernel -> Change Kernel` in the menu on top of the window.\n",
    "\n",
    "<figure>\n",
    "<img src=\"images/kernelchoice.png\" width=\"500\" alt=\"Kernel Choice\" class=\"center\">\n",
    "</figure>\n",
    "\n",
    "* In this notebook you will use both bash and python commands\n",
    "* On some computers, you might see the result of the commands once they are done running. This means you will wait some time while the computer is crunching, and only afterwards you will see the result of the command you have executed\n",
    "*  You can run the code in each cell by clicking on the run cell button, or by pressing <kbd> Shift </kbd> + <kbd> Enter </kbd>.  When the code is done running, a small green check sign will appear on the left side\n",
    "*   You need to run the cells in sequential order, please do not run a cell until the one above finished running and do not skip any cells\n",
    "*   Each cell contains a short description of the code and the output you should get. Please try not to focus on understanding the code for each command in too much detail, but rather try to focus on the output \n",
    "*   You can create new code cells by pressing <kbd> + </kbd> in the Menu bar above. \n",
    "    \n",
    ":::\n",
    "\n",
    "Import the necessary Python libraries:"
   ]
  },
  {
   "cell_type": "code",
   "execution_count": null,
   "id": "cell-3",
   "metadata": {
    "tags": []
   },
   "outputs": [],
   "source": [
    "import pandas\n",
    "import allel\n",
    "import numpy as np\n",
    "import matplotlib as mpl\n",
    "import matplotlib.pyplot as plt\n",
    "import seaborn as sns"
   ]
  },
  {
   "cell_type": "markdown",
   "id": "a5454439-0fb6-44aa-b2f2-9cb7178aca05",
   "metadata": {},
   "source": [
    "Some of the commands used in the course are functions we implement to\n",
    "simplify reading the code of this course. Mostly, those are commands\n",
    "requiring lines of code that would not add anything to your learning\n",
    "curve (management of plots, trivial calculations, few management of the\n",
    "notebook layout). However, you are free to look at the code into the\n",
    "file `Scripts/pythonScripts.py` and to reuse our code in your own work\n",
    "(citing our course)."
   ]
  },
  {
   "cell_type": "code",
   "execution_count": null,
   "id": "cell-5",
   "metadata": {
    "tags": []
   },
   "outputs": [],
   "source": [
    "%run ../Scripts/pythonScripts.py"
   ]
  },
  {
   "cell_type": "markdown",
   "id": "c6cf1bf0-4345-447f-9262-988afb447fad",
   "metadata": {},
   "source": [
    "Create a folder for the data necessary to VCF data analysis"
   ]
  },
  {
   "cell_type": "code",
   "execution_count": null,
   "id": "cell-7",
   "metadata": {
    "tags": []
   },
   "outputs": [],
   "source": [
    "%%bash\n",
    "mkdir -p Data_for_VCF_analysis"
   ]
  },
  {
   "cell_type": "markdown",
   "id": "8af23f58-bccc-4e76-b843-33e98e158220",
   "metadata": {},
   "source": [
    "# Use the `bam` files generated from the alignment of raw reads\n",
    "\n",
    "We will use the data created during the alignment session of the course.\n",
    "You had two possibilities:\n",
    "\n",
    "-   using the interactive `Galaxy` platform as explained in [the course\n",
    "    webpage](https://hds-sandbox.github.io/NGS_summer_course_Aarhus/).\n",
    "    In this case you will need to upload the some of the created data\n",
    "    into the folder `Data_for_VCF_analysis`, renaming the files as\n",
    "    follows:\n",
    "\n",
    "    -   Hifi reads mapped to Contig1: `HIFI_contig_1.bam`\n",
    "    -   Hifi reads mapped to Contig2: `HIFI_contig_2.bam`\n",
    "    -   Hifi reads mapped to Contig 1 and 2: `HIFI_contig_1_2_asm20.bam`\n",
    "        (you can of course choose the one with the `map-pb` alignment\n",
    "        option from the alignment notebook)\n",
    "    -   S10 RNAseq reads mapped to Contig 1 and 2 (After merging the bam\n",
    "        files): `RNA_S10_merged.bam`\n",
    "    -   Ti RNAseq reads mapped to Contig 1 and 2 (After merging the bam\n",
    "        files): `RNA_TI_merged.bam`\n",
    "\n",
    "-   using the notebook `01_align.ipynb`. In that case, you just need to\n",
    "    run the command below, linking the data in the `results` folder into\n",
    "    the folder `Data_for_VCF_analysis`."
   ]
  },
  {
   "cell_type": "code",
   "execution_count": null,
   "id": "cell-10",
   "metadata": {
    "tags": []
   },
   "outputs": [],
   "source": [
    "%%bash\n",
    "ln -fs `realpath results/HIFI_alignment/PacBio_clover_alignment_1.sort.bam` Data_for_VCF_analysis/HIFI_contig_1.bam\n",
    "ln -fs `realpath results/HIFI_alignment/PacBio_clover_alignment_2.sort.bam` Data_for_VCF_analysis/HIFI_contig_2.bam\n",
    "ln -fs `realpath results/HIFI_alignment/PacBio_clover_alignment_1_2_asm20.sort.bam` Data_for_VCF_analysis/HIFI_contig_1_2.bam\n",
    "ln -fs `realpath results/STAR_output/S10_align_contigs_1_2_merge/S10.sorted.bam` Data_for_VCF_analysis/RNA_S10_merged.bam\n",
    "ln -fs `realpath results/STAR_output/TI_align_contigs_1_2_merge/TI.sorted.bam` Data_for_VCF_analysis/RNA_TI_merged.bam"
   ]
  },
  {
   "cell_type": "markdown",
   "id": "fd0a47e1-3ec6-426e-9ec9-4d050c0fe795",
   "metadata": {},
   "source": [
    "# Variant calling\n",
    "\n",
    "We will use a tool named `bcftools` to find variants in the alignment\n",
    "files (`.bam`) relative to the reference genome, in this case, the file\n",
    "`DNA_Contig1_2.fasta`. In this way we can identify positions in the\n",
    "genome where the sequence of the aligned reads differ from the reference\n",
    "genome they were mapped to. There are multiple types of **genetic\n",
    "variation**, e.g. SNPs (single nucleotide polymorphism), indels\n",
    "(insertions or deletions) and structural variations (such as chromosomal\n",
    "rearrangements).\n",
    "\n",
    "Here we will only be working with SNPs, thus we will use the terms\n",
    "**variants** and **SNPs** interchangeably. The called variants will be\n",
    "stored in a specific format file, the Variant Call Format (`VCF`). <br>\n",
    "When looking at an alignment files in IGV you should easily recognize\n",
    "the SNP positions. You can see in the figure below that at the marked\n",
    "positions all the mapped reads have a mismatch compared to the\n",
    "reference."
   ]
  },
  {
   "cell_type": "raw",
   "id": "1bf6e99e-ee44-4eee-84bd-de50e519480f",
   "metadata": {
    "raw_mimetype": "text/html"
   },
   "source": [
    "<figure>"
   ]
  },
  {
   "cell_type": "markdown",
   "id": "6f7bb282-26b4-4417-ba2a-eb58e06a049a",
   "metadata": {},
   "source": [
    "<img src=\"images/alignment.png\" width=\"600\" alt=\"Alignment on IGV\" class=\"center\">"
   ]
  },
  {
   "cell_type": "raw",
   "id": "69525244-267c-404b-99a5-589bf4358540",
   "metadata": {
    "raw_mimetype": "text/html"
   },
   "source": [
    "</figure>"
   ]
  },
  {
   "cell_type": "markdown",
   "id": "708d6792-86a6-4d15-9629-4474e3a2d529",
   "metadata": {},
   "source": [
    "You will be calling **two types of SNPs** in this notebook. First, we\n",
    "will find **subgenome SNPs** using the Hifi reads mapped to white clover\n",
    "Contig1 and Contig2. These are positions in the contigs that are\n",
    "different between the two subgenomes of white clover.\n",
    "\n",
    "Secondly, we will find SNPs that differentiate between the sequenced\n",
    "white clover S10 (the reference genome) and Ti genotype, using RNA-seq\n",
    "read mapping.\n",
    "\n",
    "Create a folder that will store all the files generated in this\n",
    "notebook."
   ]
  },
  {
   "cell_type": "code",
   "execution_count": null,
   "id": "cell-15",
   "metadata": {
    "tags": []
   },
   "outputs": [],
   "source": [
    "!mkdir -p results/VCF_Files"
   ]
  },
  {
   "cell_type": "markdown",
   "id": "1a13b814-1a85-4d00-81d5-954ed3c45197",
   "metadata": {},
   "source": [
    "## Call subgenome SNPs using the Hifi alignments and the reference genome\n",
    "\n",
    "We will use the `bcftools` software to call SNPs from alignment files.\n",
    "`bcftools` is a toolkit for variant calling and manipulating VCF files.\n",
    "If you are interested, you can find all the functionalities here\n",
    "http://samtools.github.io/bcftools/bcftools.html#call.\n",
    "\n",
    "We mainly need two commands for this step, first `bcftools mpileup`\n",
    "which takes as input the alignment and the genome reference files,\n",
    "followed by `bcftools call` to produce VCF files.\n",
    "\n",
    "The cell below will generate 3 VCF files stored in the folder\n",
    "`results/VCF_Files` using the Hifi alignment files uploaded from Galaxy."
   ]
  },
  {
   "cell_type": "code",
   "execution_count": null,
   "id": "cell-17",
   "metadata": {
    "outputId": "67df6a82-cfd8-4741-e48c-2942c440b615",
    "tags": []
   },
   "outputs": [],
   "source": [
    "!bcftools mpileup --threads 4 -Ou --skip-indels -f ../Data/Clover_Data/DNA_Contig1_2.fasta Data_for_VCF_analysis/HIFI_contig_1.bam | bcftools call -mv -Ov -o results/VCF_Files/HIFI_Contig_1.vcf\n",
    "!bcftools mpileup --threads 4 -Ou --skip-indels -f ../Data/Clover_Data/DNA_Contig1_2.fasta Data_for_VCF_analysis/HIFI_contig_2.bam | bcftools call -mv -Ov -o results/VCF_Files/HIFI_Contig_2.vcf\n",
    "!bcftools mpileup --threads 4 -Ou --skip-indels -f ../Data/Clover_Data/DNA_Contig1_2.fasta Data_for_VCF_analysis/HIFI_contig_1_2.bam | bcftools call -mv -Ov -o results/VCF_Files/HIFI_Contig_1_2.vcf"
   ]
  },
  {
   "cell_type": "markdown",
   "id": "125bc3b0-d292-4f4d-ad7b-a23d08a752f9",
   "metadata": {},
   "source": [
    "<font size=\"+2\"> <b> TASK </b> </font>\n",
    "\n",
    "-   Inspect the VCF files using IGV, comparing them to the specific\n",
    "    alignment BAM files. (You can download the VCF files to your\n",
    "    computer from the `results/VCF_Files` folder)\n",
    "-   Are there any problematic positions that may not represent true\n",
    "    SNPs?\n",
    "-   How can you use the HiFi reads aligned to Contigs1+2 identify\n",
    "    potential problems?\n",
    "\n",
    "**Hint:** Try scrolling to the ends of the contigs.\n",
    "\n",
    "## Call SNPs using the two RNA-seq genotypes, S10 and Ti\n",
    "\n",
    "We will repeat the same step as above this time using the RNA-seq\n",
    "alignment files for the two white clover genotypes (S10 and Ti). These\n",
    "commands will produce another two VCF files, stored in the same folder."
   ]
  },
  {
   "cell_type": "code",
   "execution_count": null,
   "id": "cell-20",
   "metadata": {
    "outputId": "6b3396ba-7ab2-4101-f0a9-c1624d053135",
    "tags": []
   },
   "outputs": [],
   "source": [
    "!bcftools mpileup --threads 4 -Ou --skip-indels -f reference_data/DNA_Contig1_2.fasta Data_for_VCF_analysis/RNA_S10_merged.bam | bcftools call -mv -Ov -o results/VCF_Files/RNA_S10_merged.vcf\n",
    "!bcftools mpileup --threads 4 -Ou --skip-indels -f reference_data/DNA_Contig1_2.fasta Data_for_VCF_analysis/RNA_TI_merged.bam | bcftools call -mv -Ov -o results/VCF_Files/RNA_TI_merged.vcf"
   ]
  },
  {
   "cell_type": "markdown",
   "id": "d585b299-333c-4548-9c72-ea1c986b79be",
   "metadata": {},
   "source": [
    "<font size=\"+2\"> <b> TASK </b> </font>\n",
    "\n",
    "-   Inspect one of the VCFs and the corresponding alignment files in\n",
    "    IGV.\n",
    "-   Is it relevant to filter for false positives in this case, and what\n",
    "    parameters would you look further into?\n",
    "\n",
    "# VCF files processing and filtering\n",
    "\n",
    "Take a look at what one of the previously generated VCF files contains\n",
    "by running the cell below.\n",
    "\n",
    "A VCF file begins with the meta-information lines starting with `##`\n",
    "followed by one header line, starting with `#`. Next, there are the data\n",
    "lines, each describing a genetic variant for a certain position in the\n",
    "genome. Each data line contains multiple tab-delimited columns with\n",
    "information about the variant. There are 9 fixed columns, labelled\n",
    "“CHROM”, “POS”, “ID”, “REF”, “ALT”, “QUAL”, “FILTER”, “INFO” and\n",
    "“FORMAT”. Find more about the content of those columns [in this\n",
    "wikipedia page](https://en.wikipedia.org/wiki/Variant_Call_Format).\n",
    "\n",
    "In the sample column you can find the most likely genotype of the\n",
    "sample. For diploid organisms, there will be a 0 value for reference\n",
    "allele and 1 for the alternate allele."
   ]
  },
  {
   "cell_type": "raw",
   "id": "f55587c7-ec9c-4a0c-b0ee-45f8f49b0555",
   "metadata": {
    "raw_mimetype": "text/html"
   },
   "source": [
    "<figure>"
   ]
  },
  {
   "cell_type": "markdown",
   "id": "a424f07e-98ad-4f94-abe1-1aeeae75f996",
   "metadata": {},
   "source": [
    "<img src=\"images/vcf_genotype.png\" width=\"700\" alt=\"Possible genotypes in the data\" class=\"center\">"
   ]
  },
  {
   "cell_type": "raw",
   "id": "7e0b0f6f-1f28-448a-89ab-cfde90c25baa",
   "metadata": {
    "raw_mimetype": "text/html"
   },
   "source": [
    "<figcaption>"
   ]
  },
  {
   "cell_type": "markdown",
   "id": "ca268a01-a102-4d8a-8321-f77eee936228",
   "metadata": {},
   "source": [
    "Figure: possible genotypes in the data."
   ]
  },
  {
   "cell_type": "raw",
   "id": "ce02cb64-5b73-45f4-a921-9d03ac3182f7",
   "metadata": {
    "raw_mimetype": "text/html"
   },
   "source": [
    "</figcaption>"
   ]
  },
  {
   "cell_type": "raw",
   "id": "66f9465c-c73b-4a34-b26b-7d7f7af6c31d",
   "metadata": {
    "raw_mimetype": "text/html"
   },
   "source": [
    "</figure>"
   ]
  },
  {
   "cell_type": "markdown",
   "id": "395827db-3a87-409a-b0fa-4c9a517ec10a",
   "metadata": {},
   "source": [
    "For example, here we read the first 50 rows from the\n",
    "`RNAseq_S10_merged.vcf` file. You can see that the file format follows\n",
    "the same pattern as explained above."
   ]
  },
  {
   "cell_type": "code",
   "execution_count": null,
   "id": "cell-27",
   "metadata": {
    "outputId": "81f3b2e2-2795-4130-febe-54180d0577e9",
    "tags": []
   },
   "outputs": [],
   "source": [
    "!cat results/VCF_Files/RNA_S10_merged.vcf | head -50"
   ]
  },
  {
   "cell_type": "markdown",
   "id": "e88db2f5-cd27-4d52-b9db-b612855a8788",
   "metadata": {},
   "source": [
    "Next, in order to generate plots of the metrics stored in the VCF files,\n",
    "we will first import the VCF files in Python using the `scikit-allel`\n",
    "package. This package contains a series of function helpful for\n",
    "processing variant calling files. <br> For now, we will import only the\n",
    "VCF files generated using the Hifi data alignments. You can ignore the\n",
    "warning."
   ]
  },
  {
   "cell_type": "code",
   "execution_count": null,
   "id": "cell-29",
   "metadata": {
    "outputId": "bfe98aaa-e71a-407e-8c7e-3f38090f8574",
    "tags": []
   },
   "outputs": [],
   "source": [
    "#Import the VCF files\n",
    "Hifi_Contig_1_vcf = allel.read_vcf('results/VCF_Files/HIFI_Contig_1.vcf', fields='*')\n",
    "Hifi_Contig_2_vcf = allel.read_vcf('results/VCF_Files/HIFI_Contig_2.vcf', fields='*')\n",
    "Hifi_Contig_1_2_vcf = allel.read_vcf('results/VCF_Files/HIFI_Contig_1_2.vcf', fields='*')"
   ]
  },
  {
   "cell_type": "markdown",
   "id": "5c2c7e42-15c8-4bc4-9f22-aca898786fa1",
   "metadata": {},
   "source": [
    "Let’s check the number of SNPs in each of the three VCF files.\n",
    "\n",
    "The first two VCF files contain subgenome SNPs. You can see that we\n",
    "identified a have a high number of polymorphisms between the two\n",
    "subgenomes. On the other hand the Hifi_Contig1_2_vcf file contains what\n",
    "we would call false positives, as we called SNPs using the same Hifi\n",
    "reads that were used for assembling the reference genome. As expected\n",
    "the number of SNPs in this file is much smaller."
   ]
  },
  {
   "cell_type": "code",
   "execution_count": null,
   "id": "cell-31",
   "metadata": {
    "outputId": "9addd257-5ec9-472d-a609-95a6fed658fc",
    "tags": []
   },
   "outputs": [],
   "source": [
    "print(\"Number of SNPs in Hifi Contig 1 vcf file:\", Hifi_Contig_1_vcf['variants/POS'].size)\n",
    "print(\"Number of SNPs in Hifi Contig 2 vcf file:\", Hifi_Contig_2_vcf['variants/POS'].size)\n",
    "print(\"Number of SNPs in Hifi Contig 1 and 2 vcf file:\", Hifi_Contig_1_2_vcf['variants/POS'].size)"
   ]
  },
  {
   "cell_type": "markdown",
   "id": "f60fa9ce-e9bd-4d44-bd29-18facc8f385a",
   "metadata": {},
   "source": [
    "As an overview of the distribution of SNPs, we can plot the density of\n",
    "SNPs across the contigs. We have defined a function called\n",
    "`plot_variant_density` in the file `../Scripts/pythonScripts.sh` that\n",
    "does exactly that. We use that to plot the SNP density across the\n",
    "contigs in the three VCF files in bins of 5000 bp.\n",
    "\n",
    "We can approximate that a SNP density of 0.1 SNPs/bp repesents one\n",
    "polymorphic site at every ten nucleotides. You can see that for the two\n",
    "contigs there are regions more conserved between the two subgenomes,\n",
    "which show a low density of SNPs and more variable regions, which have a\n",
    "higher SNP density.\n",
    "\n",
    "In the third plot we can mainly observe SNPs at the beging of the\n",
    "contigs, as you have probably also oberved when inspecting the files in\n",
    "IGV. Taking a look at the scale of the y-axis you can oberve that the\n",
    "SNP density for `Hifi_Contig1_2_vcf` is much smaller compared to the\n",
    "other two files.\n",
    "\n",
    "Note: For easier plotting of the files that contain SNPs from both\n",
    "Contig 1 and 2, the SNP density is plotted as an overlay of both\n",
    "contigs."
   ]
  },
  {
   "cell_type": "code",
   "execution_count": null,
   "id": "cell-33",
   "metadata": {
    "outputId": "c1cd00a6-c009-49be-c435-49122ed8b9b5",
    "tags": []
   },
   "outputs": [],
   "source": [
    "#Plot SNP density\n",
    "plot_variant_density(Hifi_Contig_1_vcf, window_size=5000, title='Contig 1 Raw SNP density')\n",
    "plot_variant_density(Hifi_Contig_2_vcf, window_size=5000, title='Contig 2 Raw SNP density')\n",
    "plot_variant_density(Hifi_Contig_1_2_vcf, window_size=5000, title='Contig 1 and 2 Raw SNP density')"
   ]
  },
  {
   "cell_type": "markdown",
   "id": "1d0c2175-04bc-49a6-ab04-28d45803d495",
   "metadata": {},
   "source": [
    "We can also plot some of the most relevant parameters from the VCF\n",
    "files, such as the read depth and the quality, to have an overview of\n",
    "the quality of the SNPs in these samples. We defined for that the\n",
    "function `plot_variant_hist` in the file `../Scripts/pythonScripts.sh`.\n",
    "\n",
    "We can plot the metrics “DP” (Read depth), “QUAL” (Quality score), and\n",
    "“MQ” (Mapping quality for `Hifi_Contig1_vcf`. The x-axis represents the\n",
    "chosen metric, while the y-axis represents the number of SNPs. You can\n",
    "observe that the majority of the SNPs from this file have a high\n",
    "quality."
   ]
  },
  {
   "cell_type": "code",
   "execution_count": null,
   "id": "cell-36",
   "metadata": {
    "outputId": "0d82a668-e8da-45f8-fc02-4cc404e75d79",
    "tags": []
   },
   "outputs": [],
   "source": [
    "plot_variant_hist(Hifi_Contig_1_vcf,'DP', \"mediumblue\")\n",
    "plot_variant_hist(Hifi_Contig_1_vcf, 'QUAL', \"forestgreen\")\n",
    "plot_variant_hist(Hifi_Contig_1_vcf, 'MQ', \"darkred\")"
   ]
  },
  {
   "cell_type": "markdown",
   "id": "5369ed0b-b4d2-4d22-bf7e-7730568bb446",
   "metadata": {},
   "source": [
    "<font size=\"+2\"> <b> TASK </b> </font>\n",
    "\n",
    "-   In the two cells below generate the same three plots as above using\n",
    "    the VCF files for Contig 2 and Contig 1+2.\n",
    "\n",
    "-   You will just need to copy the three command lines from the cell\n",
    "    above and replace the name of the VCF files."
   ]
  },
  {
   "cell_type": "code",
   "execution_count": null,
   "id": "cell-38",
   "metadata": {},
   "outputs": [],
   "source": [
    "#Plot the metrics for Contig 2"
   ]
  },
  {
   "cell_type": "code",
   "execution_count": null,
   "id": "cell-39",
   "metadata": {
    "tags": []
   },
   "outputs": [],
   "source": [
    "#Plot the metrics for Contig 1 + 2"
   ]
  },
  {
   "cell_type": "markdown",
   "id": "fe6abe1e-c6e1-4877-b531-8adc407b278b",
   "metadata": {},
   "source": [
    "As you can observe in the plots above, there are some positions with\n",
    "very low read depth and low quality. Those might represent\n",
    "false-positive variants. Thus, we will filter the VCF files in order to\n",
    "eliminate those positions. <br> For this purpose, we will use another\n",
    "`bcftools` function `bcftools filter`. We can pass thresholds for all\n",
    "the info metrics to this function using the “-i” flag. Below is just an\n",
    "example of the thresholds, you can change the values to suit your files.\n",
    "<br> Note that this command will generate a new filtered VCF file in the\n",
    "“VCF_Files” Folder."
   ]
  },
  {
   "cell_type": "code",
   "execution_count": null,
   "id": "cell-41",
   "metadata": {
    "tags": []
   },
   "outputs": [],
   "source": [
    "!bcftools filter -i '(QUAL>150) & (DP > 20) & (MQ > 40)' results/VCF_Files/HIFI_Contig_1.vcf -O v > results/VCF_Files/HIFI_Contig_1_filtered.vcf"
   ]
  },
  {
   "cell_type": "code",
   "execution_count": null,
   "id": "cell-42",
   "metadata": {
    "tags": []
   },
   "outputs": [],
   "source": [
    "!bcftools filter -i '(QUAL>150) & (DP > 20) & (MQ > 40)' results/VCF_Files/HIFI_Contig_2.vcf -O v > results/VCF_Files/HIFI_Contig_2_filtered.vcf"
   ]
  },
  {
   "cell_type": "code",
   "execution_count": null,
   "id": "cell-43",
   "metadata": {
    "tags": []
   },
   "outputs": [],
   "source": [
    "!bcftools filter -i '(QUAL>150) & (DP > 20) & (MQ > 40)' results/VCF_Files/HIFI_Contig_1_2.vcf -O v > results/VCF_Files/HIFI_Contig_1_2_filtered.vcf"
   ]
  },
  {
   "cell_type": "markdown",
   "id": "b09f7d8d-8fd2-4807-b786-ebbeb88a2bcc",
   "metadata": {},
   "source": [
    "------------------------------------------------------------------------\n",
    "\n",
    "We read the filtered VCF file for Contig1 in python and generate the\n",
    "same plots as before. We can read the VCF file and generate all the\n",
    "plots in one cell this time.\n",
    "\n",
    "We check how many positions have been eliminated by the filter and\n",
    "compare the plots with the ones for the unfiltered VCFs.\n",
    "\n",
    "If you consider that there are still positions with with low quality you\n",
    "can change the filter and repeat the process."
   ]
  },
  {
   "cell_type": "code",
   "execution_count": null,
   "id": "cell-45",
   "metadata": {
    "outputId": "a51726b7-4a4a-4527-cf90-b0b722a5ec05",
    "tags": []
   },
   "outputs": [],
   "source": [
    "Hifi_Contig1_filtered = allel.read_vcf('results/VCF_Files/HIFI_Contig_1_filtered.vcf', fields='*')\n",
    "\n",
    "print(\"Number of SNPs in Contig 1 VCF filtered file:\", Hifi_Contig1_filtered['variants/POS'].size)\n",
    "\n",
    "#Plot SNP density\n",
    "plot_variant_density(Hifi_Contig1_filtered, window_size=5000, title='Contig 1 Filtered variant density')\n",
    "#Plot metrics\n",
    "plot_variant_hist(Hifi_Contig1_filtered,'DP',  \"mediumblue\")\n",
    "plot_variant_hist(Hifi_Contig1_filtered, 'QUAL',  \"forestgreen\")\n",
    "plot_variant_hist(Hifi_Contig1_filtered, 'MQ', \"darkred\")"
   ]
  },
  {
   "cell_type": "markdown",
   "id": "b49b05da-2014-4742-9a7b-622cf2706111",
   "metadata": {},
   "source": [
    "<font size=\"+2\"> <b> TASK </b> </font>\n",
    "\n",
    "**This exercise covers the rest of the notebook and contains\n",
    "explanations as well**. The code will work only if you complete\n",
    "correctly the empty cells. Some cells are filled in to help.\n",
    "\n",
    "-   Compare the VCF files before and after filtering in IGV. In the two\n",
    "    cells below generate the same plots as above using the filtered VCF\n",
    "    files for Contig 2 and Contig 1 + 2. You will just need to copy the\n",
    "    three command lines from the cell above and replace the name of the\n",
    "    VCF files."
   ]
  },
  {
   "cell_type": "code",
   "execution_count": null,
   "id": "cell-47",
   "metadata": {
    "tags": []
   },
   "outputs": [],
   "source": [
    "#Figures for Contig 2 Filtered VCF\n"
   ]
  },
  {
   "cell_type": "code",
   "execution_count": null,
   "id": "cell-48",
   "metadata": {
    "tags": []
   },
   "outputs": [],
   "source": [
    "#Figures for Contig 1 + 2 Filtered VCF\n",
    "\n"
   ]
  },
  {
   "cell_type": "markdown",
   "id": "e36d22b3-c407-4db1-9570-3e2d0c92607f",
   "metadata": {},
   "source": [
    "-   Repeat the quality check and filtering as described above for the\n",
    "    two RNA-seq VCF files:\n",
    "\n",
    "Read the VCF files in Python:"
   ]
  },
  {
   "cell_type": "code",
   "execution_count": null,
   "id": "cell-51",
   "metadata": {
    "outputId": "e9d2ea81-5fc4-4157-be80-7a667d4517f1",
    "tags": []
   },
   "outputs": [],
   "source": [
    "vcf_S10_RNA = allel.read_vcf('results/VCF_Files/RNA_S10_merged.vcf', fields='*')\n",
    "vcf_Ti_RNA = allel.read_vcf('results/VCF_Files/RNA_TI_merged.vcf', fields='*')"
   ]
  },
  {
   "cell_type": "markdown",
   "id": "2983fea3-3c0d-4f1e-a513-2ab335c4a9fc",
   "metadata": {},
   "source": [
    "Print the number of SNPs in the two RNA-seq VCF files. Note that the\n",
    "number of SNPs is much smaller than for the Hifi VCF files. Also, there\n",
    "is a difference in the number of SNPs for the two genotypes. As S10\n",
    "RNA-seq data originates from the same genotype as the referece genome,\n",
    "one would expect a small number of SNPs to be identified in this case."
   ]
  },
  {
   "cell_type": "code",
   "execution_count": null,
   "id": "cell-53",
   "metadata": {
    "tags": []
   },
   "outputs": [],
   "source": [
    "print(\"Number of SNPs in S10 RNA-seq VCF file:\", vcf_S10_RNA['variants/POS'].size)\n",
    "print(\"Number of SNPs in Ti RNA-seq VCF file:\", vcf_Ti_RNA['variants/POS'].size)"
   ]
  },
  {
   "cell_type": "markdown",
   "id": "da75698c-ee60-4332-96ad-f1b8c7396f1e",
   "metadata": {},
   "source": [
    "Generate SNP density plots using the plot_variant_density() function:"
   ]
  },
  {
   "cell_type": "code",
   "execution_count": null,
   "id": "8a1786f3-9b16-4743-84c4-204ee8a27895",
   "metadata": {},
   "outputs": [],
   "source": [
    "#code here"
   ]
  },
  {
   "cell_type": "code",
   "execution_count": null,
   "id": "e988ba05-19bb-4bc1-ba43-18bc470cc491",
   "metadata": {},
   "outputs": [],
   "source": [
    "#code here"
   ]
  },
  {
   "cell_type": "markdown",
   "id": "47464278-1457-4656-b558-370afc2f8b0f",
   "metadata": {},
   "source": [
    "Generate info histograms using the plot_variant_hist() function for the\n",
    "same fields. You should observe that the metrics for the RNA-seq vcf\n",
    "files are quite different from the ones using Hifi reads."
   ]
  },
  {
   "cell_type": "code",
   "execution_count": null,
   "id": "63def5da-5ffd-4b73-a67f-17f407e0f218",
   "metadata": {},
   "outputs": [],
   "source": [
    "#code here"
   ]
  },
  {
   "cell_type": "code",
   "execution_count": null,
   "id": "28cc3528-2c5c-4863-a162-1a8c4b1b199c",
   "metadata": {},
   "outputs": [],
   "source": [
    "#code here"
   ]
  },
  {
   "cell_type": "markdown",
   "id": "8cf2f347-c8ab-443b-b3ae-b1a68035e224",
   "metadata": {},
   "source": [
    "Filter the VCF files using `bcftools` and your selected tresholds after\n",
    "inspecting the VCF files. **Add the filter thresholds before running the\n",
    "command.**"
   ]
  },
  {
   "cell_type": "code",
   "execution_count": null,
   "id": "cell-61",
   "metadata": {
    "tags": []
   },
   "outputs": [],
   "source": [
    "!bcftools view -i 'add filter thresholds here' results/VCF_Files/RNA_S10_merged.vcf -O v > results/VCF_Files/RNA_S10_merged_filtered.vcf\n",
    "!bcftools view -i 'add filter thresholds here' results/VCF_Files/RNA_TI_merged.vcf -O v > results/VCF_Files/RNA_TI_merged_filtered.vcf"
   ]
  },
  {
   "cell_type": "markdown",
   "id": "cc645398-50df-4862-8bd7-c84c6a4fb58e",
   "metadata": {},
   "source": [
    "Read the filtered VCFs in python:"
   ]
  },
  {
   "cell_type": "code",
   "execution_count": null,
   "id": "cell-63",
   "metadata": {
    "tags": []
   },
   "outputs": [],
   "source": [
    "vcf_S10_RNA_filtered = allel.read_vcf('results/VCF_Files/RNA_S10_merged_filtered.vcf', fields='*')\n",
    "vcf_Ti_RNA_filtered = allel.read_vcf('results/VCF_Files/RNA_TI_merged_filtered.vcf', fields='*')"
   ]
  },
  {
   "cell_type": "markdown",
   "id": "fbeea52a-dc00-4dab-b23f-c473246cf16b",
   "metadata": {},
   "source": [
    "Check the number of SNPs in the filtered VCF files:"
   ]
  },
  {
   "cell_type": "code",
   "execution_count": null,
   "id": "cell-65",
   "metadata": {
    "tags": []
   },
   "outputs": [],
   "source": [
    "print(\"Number of SNPs in the filtered S10 RNA-seq VCF file:\", vcf_S10_RNA_filtered['variants/POS'].size)\n",
    "print(\"Number of SNPs in the filtered Ti RNA-seq VCF file:\", vcf_Ti_RNA_filtered['variants/POS'].size)"
   ]
  },
  {
   "cell_type": "markdown",
   "id": "7485d59e-13db-4b14-b875-1bcd6bedc284",
   "metadata": {},
   "source": [
    "Plot same histograms for the filtered VCF files."
   ]
  },
  {
   "cell_type": "code",
   "execution_count": null,
   "id": "491ba9fa-ec00-4a8b-b975-5f0ad912a1f5",
   "metadata": {},
   "outputs": [],
   "source": [
    "#code here"
   ]
  },
  {
   "cell_type": "code",
   "execution_count": null,
   "id": "c30d7016-185a-4585-bfc7-e900bdaa5858",
   "metadata": {},
   "outputs": [],
   "source": [
    "#code here"
   ]
  },
  {
   "cell_type": "markdown",
   "id": "9f6318a4-621d-4a95-8c1b-dfea6b4c9c18",
   "metadata": {},
   "source": [
    "-   Question: Is it relevant to filter for false positives in this case,\n",
    "    and what parameters would you look further into?\n",
    "\n",
    "# Genotypes counting\n",
    "\n",
    "We want to count the different genotypes in each of the five filtered\n",
    "VCF files generated previously. To make this task easier we can take\n",
    "advantage of the counting functions in the `scikit-allel` package. We\n",
    "have used those to implement a little function called `position_count`\n",
    "in the file `../Scripts/pythonScripts.sh`.\n",
    "\n",
    "-   You can then use the function with each of the 5 filtered VCF files\n",
    "    to count the number of positions. You need to fill the names of the\n",
    "    VCF files imported in Python."
   ]
  },
  {
   "cell_type": "code",
   "execution_count": null,
   "id": "cell-73",
   "metadata": {
    "outputId": "03c3e06a-8dd3-432f-eb19-95e53d91e167",
    "tags": []
   },
   "outputs": [],
   "source": [
    "#Contig 1 filtered VCF\n",
    "position_count(Hifi_Contig1_filtered)"
   ]
  },
  {
   "cell_type": "code",
   "execution_count": null,
   "id": "cell-74",
   "metadata": {
    "outputId": "844c863e-8e3e-4986-e000-70d2e58d52ad"
   },
   "outputs": [],
   "source": [
    "#Contig 2 filtered VCF\n",
    "position_count()"
   ]
  },
  {
   "cell_type": "code",
   "execution_count": null,
   "id": "cell-75",
   "metadata": {},
   "outputs": [],
   "source": [
    "#Contig 1 and 2 filtered VCF\n",
    "position_count()"
   ]
  },
  {
   "cell_type": "code",
   "execution_count": null,
   "id": "cell-76",
   "metadata": {},
   "outputs": [],
   "source": [
    "#RNAseq S10 filtered VCF\n",
    "position_count()"
   ]
  },
  {
   "cell_type": "code",
   "execution_count": null,
   "id": "cell-77",
   "metadata": {},
   "outputs": [],
   "source": [
    "#RNAseq Ti filtered VCF\n",
    "position_count()"
   ]
  },
  {
   "cell_type": "markdown",
   "id": "fc8fe229-83e9-4a8d-a71f-bf3abcad172c",
   "metadata": {},
   "source": [
    "# Comparison of VCF files\n",
    "\n",
    "Compare the VCF files with subgenome variants and the VCF files with\n",
    "S10/Tienshan genotype specific variants obtained from RNA-seq mapping\n",
    "\n",
    "We want now to find overlapping position between the Contig 1 and Contig\n",
    "2 Hifi VCF files and the Ti RNAseq VCF file.\n",
    "\n",
    "To ease this task we will first create two merged VCF files containing:\n",
    "\n",
    "-   Hifi Contig 1 VCF + Ti RNAseq VCF\n",
    "-   Hifi Contig 2 VCF + Ti RNAseq VCF\n",
    "\n",
    "Once again, we will use `bcftools` for this task, using the merge\n",
    "function. However, the `bcftools merge` function works only with\n",
    "compressed and indexed VCF files, so first we will do this."
   ]
  },
  {
   "cell_type": "code",
   "execution_count": null,
   "id": "cell-81",
   "metadata": {
    "outputId": "2397816a-53ea-47fb-8aaa-c199a5ee919d",
    "tags": []
   },
   "outputs": [],
   "source": [
    "!bcftools view results/VCF_Files/HIFI_Contig_1_filtered.vcf -Oz -o results/VCF_Files/HIFI_Contig_1_filtered.vcf.gz\n",
    "!bcftools index results/VCF_Files/HIFI_Contig_1_filtered.vcf.gz -f -o results/VCF_Files/HIFI_Contig_1_filtered.vcf.gz.csi\n",
    "\n",
    "!bcftools view results/VCF_Files/HIFI_Contig_2_filtered.vcf -Oz -o results/VCF_Files/HIFI_Contig_2_filtered.vcf.gz\n",
    "!bcftools index results/VCF_Files/HIFI_Contig_2_filtered.vcf.gz -f -o results/VCF_Files/HIFI_Contig_2_filtered.vcf.gz.csi\n",
    "\n",
    "!bcftools view results/VCF_Files/RNA_TI_merged_filtered.vcf -Oz -o results/VCF_Files/RNA_TI_merged_filtered.vcf.gz\n",
    "!bcftools index results/VCF_Files/RNA_TI_merged_filtered.vcf.gz -f -o results/VCF_Files/RNA_TI_merged_filtered.vcf.gz.csi"
   ]
  },
  {
   "cell_type": "markdown",
   "id": "fdb2a600-08e9-4592-9c7e-70f9b7a86244",
   "metadata": {},
   "source": [
    "Now we can merge Contig 1 VCF with the Ti RNA VCF and keep only\n",
    "positions that match between the two files by filtering out any\n",
    "positions with missing genotypes."
   ]
  },
  {
   "cell_type": "code",
   "execution_count": null,
   "id": "cell-83",
   "metadata": {
    "tags": []
   },
   "outputs": [],
   "source": [
    "!bcftools merge results/VCF_Files/HIFI_Contig_1_filtered.vcf.gz results/VCF_Files/RNA_TI_merged_filtered.vcf.gz | bcftools filter -e 'GT=\"./.\"' > results/VCF_Files/TI_Contig_1_merged.vcf"
   ]
  },
  {
   "cell_type": "markdown",
   "id": "3e5a4c54-e91d-4a9d-ad4a-c609b95162dc",
   "metadata": {},
   "source": [
    "Merge Contig 2 VCF with the Ti RNA VCF and keep only positions that\n",
    "match between the two files."
   ]
  },
  {
   "cell_type": "code",
   "execution_count": null,
   "id": "cell-85",
   "metadata": {
    "tags": []
   },
   "outputs": [],
   "source": [
    "!bcftools merge results/VCF_Files/HIFI_Contig_2_filtered.vcf.gz results/VCF_Files/RNA_TI_merged_filtered.vcf.gz | bcftools filter -e 'GT=\"./.\"' > results/VCF_Files/TI_Contig_2_merged.vcf"
   ]
  },
  {
   "cell_type": "markdown",
   "id": "51644563-e48f-4646-92f2-157b1bea0f59",
   "metadata": {},
   "source": [
    "Take a look at the merged VCF file. <br> You can see that compared with\n",
    "the VCF files for just one sample, there is now a new column in the\n",
    "file, with the corresponding genotype for the second sample that we\n",
    "merged."
   ]
  },
  {
   "cell_type": "code",
   "execution_count": null,
   "id": "cell-87",
   "metadata": {
    "outputId": "0f084879-0d21-43ec-a691-596fd40c4952",
    "tags": []
   },
   "outputs": [],
   "source": [
    "!cat results/VCF_Files/TI_Contig_1_merged.vcf | head -50"
   ]
  },
  {
   "cell_type": "markdown",
   "id": "55e9204a-b11f-4467-a0c0-19a78ff1fae7",
   "metadata": {},
   "source": [
    "In order to count the genotypes for the matching positions we can use\n",
    "once again `bcftools filter` command. Only that this time we will filter\n",
    "based on the genotype columns for the two samples (GT\\[0\\] and GT\\[1\\]).\n",
    "GT\\[0\\] repesents the genotype for the first sample in the merge command\n",
    "and GT\\[1\\] is the genotype for the second sample in the merge command.\n",
    "\n",
    "-   AR - heterozygous\n",
    "-   AA - homozygous alternate\n",
    "\n",
    "For example, the filter `GT[0]=\"AR\" && GT[1]=\"AR\"` will keep only\n",
    "position in which both samples have a heterozygous genotype. A quick way\n",
    "to count how many positions are in the VCF file is by suing the simple\n",
    "bash command `grep`. This will count all the lines in the VCF files that\n",
    "do not start with a `#`, thus all the data lines."
   ]
  },
  {
   "cell_type": "code",
   "execution_count": null,
   "id": "cell-89",
   "metadata": {
    "outputId": "0e6347cc-1def-4de1-f2d3-e87e54e40277",
    "tags": []
   },
   "outputs": [],
   "source": [
    "!echo \"AR + AR:\"\n",
    "!bcftools filter  -i 'GT[0]=\"AR\" && GT[1]=\"AR\"' results/VCF_Files/TI_Contig_1_merged.vcf | grep -c -v \"^#\"\n",
    "!echo \"AR + AA:\"\n",
    "!bcftools filter  -i 'GT[0]=\"AR\" && GT[1]=\"AA\"' results/VCF_Files/TI_Contig_1_merged.vcf | grep -c -v \"^#\"\n",
    "!echo \"AA + AR:\"\n",
    "!bcftools filter  -i 'GT[0]=\"AA\" && GT[1]=\"AR\"' results/VCF_Files/TI_Contig_1_merged.vcf | grep -c -v \"^#\"\n",
    "!echo \"AA + AA:\"\n",
    "!bcftools filter  -i 'GT[0]=\"AA\" && GT[1]=\"AA\"' results/VCF_Files/TI_Contig_1_merged.vcf | grep -c -v \"^#\""
   ]
  },
  {
   "cell_type": "markdown",
   "id": "2cce54cf-4c65-4de6-8bb6-ef3adbd340af",
   "metadata": {},
   "source": [
    "-   Use the same commands as above to count the positions marching the\n",
    "    filters in the Contig2_Ti_merged.vcf."
   ]
  },
  {
   "cell_type": "code",
   "execution_count": null,
   "id": "832403be-428a-4526-ad3e-50f1a0411a8c",
   "metadata": {},
   "outputs": [],
   "source": [
    "#commands here"
   ]
  },
  {
   "cell_type": "markdown",
   "id": "8d747efc-8610-4deb-becc-3d862f47b118",
   "metadata": {},
   "source": [
    ":::{.callout-note title=\"Wrapping up\"}\n",
    "\n",
    "In this exercise, you identified polymorphisms between the two white clover subgenomes using Hifi reads alignment files and SNPs specific for the white clover Tienshan genotype using RNA-seq alignment files. You learned how to import VCF files in Python to extract data and created plots. You also filtered low-quality variants from the VCF files and counted genotypes. \n",
    "\n",
    ":::"
   ]
  }
 ],
 "metadata": {
  "colab": {
   "collapsed_sections": [],
   "name": "VCF.version3.ipynb",
   "provenance": []
  },
  "kernelspec": {
   "display_name": "Python 3 (ipykernel)",
   "language": "python",
   "name": "python3"
  },
  "language_info": {
   "codemirror_mode": {
    "name": "ipython",
    "version": 3
   },
   "file_extension": ".py",
   "mimetype": "text/x-python",
   "name": "python",
   "nbconvert_exporter": "python",
   "pygments_lexer": "ipython3",
   "version": "3.11.7"
  },
  "vscode": {
   "interpreter": {
    "hash": "aee8b7b246df8f9039afb4144a1f6fd8d2ca17a180786b69acc140d282b71a49"
   }
  },
  "widgets": {
   "application/vnd.jupyter.widget-state+json": {
    "state": {},
    "version_major": 2,
    "version_minor": 0
   }
  }
 },
 "nbformat": 4,
 "nbformat_minor": 5
}
