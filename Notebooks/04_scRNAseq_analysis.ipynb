{
 "cells": [
  {
   "attachments": {},
   "cell_type": "markdown",
   "metadata": {
    "execution": {
     "iopub.execute_input": "2022-06-01T07:55:54.065420Z",
     "iopub.status.busy": "2022-06-01T07:55:54.064800Z",
     "iopub.status.idle": "2022-06-01T07:55:54.073610Z",
     "shell.execute_reply": "2022-06-01T07:55:54.072162Z",
     "shell.execute_reply.started": "2022-06-01T07:55:54.065350Z"
    }
   },
   "source": [
    "<div class=\"alert-warning\">\n",
    " <font size=\"+2\"> <b> Single Cell Analysis Tutorial </b> </font>\n",
    "</div>\n"
   ]
  },
  {
   "attachments": {},
   "cell_type": "markdown",
   "metadata": {},
   "source": [
    "This tutorial will cover the basic steps of single cell analysis. at the end of this tutorial you will be able to use `python` to\n",
    "\n",
    "<div style=\"background-color:rgba(0, 128, 0, 0.3); text-align:left; vertical-align: left; padding:40px 0;\">\n",
    "    \n",
    "\n",
    "- Filter your data selecting specific criteria\n",
    "- Preprocess your data for advanced analysis\n",
    "- Identify potential cell types \n",
    "- Perform differential gene expression\n",
    "- Visualize the basic differentiation dynamics of your data\n",
    "- Merge datasets and do cross-data analysis\n",
    "\n",
    "</div>\n",
    "<br> </br>\n",
    "\n",
    "The present tutorial, like the rest of the course material, is available at our [open-source github repository](https://github.com/hds-sandbox/NGS_summer_course_Aarhus) and will be kept up-to-date as long as the course will be renewed.\n",
    "\n",
    "To use this notebook, use the `NGS (python)` kernel that contains the packages. Choose it by selecting `Kernel -> Change Kernel` in the menu on top of the window.\n",
    "\n",
    "<details>\n",
    "  <summary><b>A few introductory points to run this notebook (click to show):</b></summary>\n",
    "  \n",
    "* To use this notebook, use the `NGS (Python)` kernel that contains the packages. Choose it by selecting `Kernel -> Change Kernel` in the menu on top of the window.\n",
    "\n",
    "<figure>\n",
    "<img src=\"images/kernelchoice.png\" width=\"500\" alt=\"Kernel Choice\" class=\"center\">\n",
    "</figure>\n",
    "\n",
    "* In this notebook you will use only python commands\n",
    "* On some computers, you might see the result of the commands once they are done running. This means you will wait some time while the computer is crunching, and only afterwards you will see the result of the command you have executed\n",
    "*  You can run the code in each cell by clicking on the run cell button, or by pressing <kbd> Shift </kbd> + <kbd> Enter </kbd>.  When the code is done running, a small green check sign will appear on the left side\n",
    "*   You need to run the cells in sequential order, please do not run a cell until the one above finished running and do not skip any cells\n",
    "*   Each cell contains a short description of the code and the output you should get. Please try not to focus on understanding the code for each command in too much detail, but rather try to focus on the output \n",
    "*   You can create new code cells by pressing <kbd> + </kbd> in the Menu bar above. \n",
    "    \n",
    "</details>\n",
    "<br> </br>"
   ]
  },
  {
   "attachments": {},
   "cell_type": "markdown",
   "metadata": {
    "execution": {
     "iopub.execute_input": "2022-06-01T07:57:09.275749Z",
     "iopub.status.busy": "2022-06-01T07:57:09.275141Z",
     "iopub.status.idle": "2022-06-01T07:57:09.280871Z",
     "shell.execute_reply": "2022-06-01T07:57:09.279826Z",
     "shell.execute_reply.started": "2022-06-01T07:57:09.275693Z"
    }
   },
   "source": [
    "# Biological background\n",
    "\n",
    "We will start by analyzing a dataset coming from various sections of human testicular tissue.\n",
    "The testis is a complex organ composed of multiple cell types: germ cells at different stages of maturation and several somatic cell types supporting testicular structure and spermatogenesis (development of cells into spermatozoa); Sertoli cells, peritubular cells, Leydig cells, and other interstitial cells, as outlined in the figure below. Characterizing the various cell types is important to understand which genes and processes are relevant at different levels of maturations of cells into spermatozoa.\n",
    "\n",
    "<figure>\n",
    "<img src=\"images/celltypes.png\" width=\"700\" alt=\"Tubule scheme\" class=\"center\">\n",
    "<figcaption> Figure: section of a tubule of the human testis. The human testis are surrounded by long tubules in which cells <br>start to develop, beginning from the walls of the tubules towards the center. At the center of the tubule, <br>spermatozoa will access to the epididymis to reach full maturation. </figcaption>\n",
    "</figure>\n",
    "\n",
    "After characterizing the spermatogenic process, we will perform comparative analysis of our dataset to testicular samples from men affected by azoospermia (reduced or absent froduction of spermatozoa). Infertility is a growing problem, especially in the Western world, where approximately 10–15% of couples are infertile. In about half of the infertile couples, the cause involves a male-factor ([Agarwal et al. 2015](https://rbej.biomedcentral.com/articles/10.1186/s12958-015-0032-1); [Barratt et al. 2017](https://pubmed.ncbi.nlm.nih.gov/28981651/)). One of the most severe forms of male infertility is azoospermia (from greek *azo*, *without life*) where no spermatozoa can be detected in the ejaculate, which renders biological fatherhood difficult. Azoospermia is found in approximately 10–15% of infertile men ([Jarow et al. 1989](https://pubmed.ncbi.nlm.nih.gov/2499695/); [Olesen et al. 2017](https://pubmed.ncbi.nlm.nih.gov/27793385/)) and the aetiology is thought to be primarily genetic.\n",
    "\n",
    "Common to the various azoospermic conditions is the lack or distuption of gene expression patterns. It makes therefore sense to detect genes expressed more in the healthy dataset against the azoospermic one. We can also investigate gene enrichment databases to get a clearer picture of what the genes of interest are relevant to.\n",
    "\n",
    "<figure>\n",
    "<img src=\"images/azoospermia.jpeg\" width=\"700\" alt=\"Tubule Azoospermia\" class=\"center\">\n",
    "<figcaption> Figure: Examples of testicular histology and the composition of testicular cell types that can be observed among men with various types of azoospermia. Degenerated ghost tubules (#) are tubules where an abnormally large central channel is present, but no cells are developing from the walls of the tubule. Other tubules show Sertoli-cell-only (SCO) pattern (*) and large clusters of Leydig cells, meaning they only have nurse cells, but no developing germ cells. Tubules with germ cell neoplasia in situ (GCNIS) do not contain any normal germ cells (&). GCNIS cells are the precursor cells of testicular germ cell cancer and are found more frequently among men with azoospermia than among men with good semen quality. From <a href=\"https://pubmed.ncbi.nlm.nih.gov/31950241/\">Soraggi et al 2020</a>.</figcaption>\n",
    "</figure>\n",
    "\n"
   ]
  },
  {
   "attachments": {},
   "cell_type": "markdown",
   "metadata": {
    "id": "RACqMPl9XkGe"
   },
   "source": [
    "# UMI-based single cell data from microdroplets\n",
    "\n",
    "\n",
    "\n",
    "The dataset we are using in this tutorial is based on a microdroplet-based method from 10X chromium. From today's lecture we remember that a microdroplet single cell sequencing protocol works as follow:\n",
    "\n",
    "- each cell is isolated together with a barcode bead in a gel/oil droplet\n",
    "\n",
    "<figure>\n",
    "<img src=\"images/droplet.gif\" width=\"700\" alt=\"Annotated Data\">\n",
    "<figcaption> Figure:  Isolation of cells and beads into microdroplets.</figcaption>\n",
    "    </figure>\n",
    "\n",
    "- each transcript in the cell is captured via the bead and assigned a cell barcode and a transcript unique molecular identifier (UMI)\n",
    "- 3' reverse transcription of mRNA into cDNA is then performed in preparation to the PCR amplification\n",
    "- the cDNA is amplified through PCR cycles\n",
    "<figure>\n",
    "<img src=\"images/10X.png\" width=\"700\" alt=\"Annotated Data\">\n",
    "<figcaption> Figure:  steps for the microdroplet-based single cell RNA sequencing after isolation.</figcaption>\n",
    "    </figure>"
   ]
  },
  {
   "attachments": {},
   "cell_type": "markdown",
   "metadata": {},
   "source": [
    "## The raw data in practice"
   ]
  },
  {
   "attachments": {},
   "cell_type": "markdown",
   "metadata": {
    "id": "lEunSoTXbEI4"
   },
   "source": [
    "Let's look at a specific read and its UMI and cell barcode. The data is organized in paired-end reads (written on `fastq` files), where the first `fastq` file contains reads in the following format \n",
    "\n",
    "```\n",
    "@SRR8363305.1 1 length=26\n",
    "NTGAAGTGTTAAGACAAGCGTGAACT\n",
    "+SRR8363305.1 1 length=26\n",
    "#AAFFJJJJJJJJJJJJJJJJFJJJJ\n",
    "```\n",
    "\n",
    "Here, the first 16 characters `NTGAAGTGTTAAGACA` represent the cell barcode, while the last 10 characters `AGCGTGAACT` are the transcript UMI tag. The last line represents the quality scores of the 26 characters of barcode+UMI.\n",
    "\n",
    "The associated second `fastq` file contains reads of 98nt as the following\n",
    "```\n",
    "@SRR8363305.1 1 length=98\n",
    "NCTAAAGATCACACTAAGGCAACTCATGGAGGGGTCTTCAAAGACCTTGCAAGAAGTACTAACTATGGAGTATCGGCTAAGTCAANCNTGTATGAGAT\n",
    "+SRR8363305.1 1 length=98\n",
    "#A<77AFJJFAAAJJJ7-7-<7FJ-7----<77--7FAAA--<JFFF-7--7<<-F77---FF---7-7A-777777A-<-7---#-#A-7-7--7--\n",
    "```\n",
    "The 98nt-long string of characters in the second line is a partial sequence of the cDNA transcript. Specifically, the 10X chromium protocol used for sequencing the data is biased towards the 3' end, because the sequencing happens from the 3' to the 5' end of the transcripts. The last line contains the corresponding quality scores."
   ]
  },
  {
   "attachments": {},
   "cell_type": "markdown",
   "metadata": {},
   "source": [
    "## Alignment and expression matrix"
   ]
  },
  {
   "attachments": {},
   "cell_type": "markdown",
   "metadata": {
    "id": "ofVtlCYOknrS"
   },
   "source": [
    "Once the data is sequenced, it is possible to align the reads to the transcriptome. This is done with tools that are sensible to the presence of spliced transcripts. We will skip the alignment step because it is quite trivial (it requires a [pipeline implemented by 10X](https://support.10xgenomics.com/single-cell-gene-expression/software/pipelines/latest/what-is-cell-ranger) if you are using 10X data, otherwise you can use one of the available pipelines [available on NextFlow](https://nf-co.re/scrnaseq)), and because it would require too much time and memory for the scope of a one-day tutorial. Instead, we start from the transcript count matrix that results as the output from the transcriptome alignment."
   ]
  },
  {
   "attachments": {},
   "cell_type": "markdown",
   "metadata": {},
   "source": [
    "# Data analysis"
   ]
  },
  {
   "attachments": {},
   "cell_type": "markdown",
   "metadata": {
    "id": "5CkTH8CqqYQN"
   },
   "source": [
    "**Prepare packages and data necessary to run this python notebook.**\n",
    "We will use *scanpy* as the main analysis tool for the analysis. Scanpy has a comprehensive [manual webpage](https://scanpy.readthedocs.io/en/stable/) that includes many different tutorials you can use for further practicing. Scanpy is used in the discussion paper and the tutorial paper of this course. \n",
    "An alternative and well-established tool for R users is [Seurat](https://satijalab.org/seurat/). However, scanpy is mainatined and updated by a wider community with many of the latest developed tools.\n",
    "\n",
    "*Note:* it can take few minutes to get all the package loaded. Do not mind red-coloured warnings."
   ]
  },
  {
   "cell_type": "code",
   "execution_count": null,
   "metadata": {
    "tags": []
   },
   "outputs": [],
   "source": [
    "import warnings\n",
    "warnings.filterwarnings(\"ignore\")"
   ]
  },
  {
   "cell_type": "code",
   "execution_count": null,
   "metadata": {
    "id": "RiqWA0hekRCg",
    "tags": []
   },
   "outputs": [],
   "source": [
    "import scanpy as sc\n",
    "import bbknn\n",
    "import numpy as np\n",
    "import pandas as pd\n",
    "import seaborn as sns\n",
    "import matplotlib.pyplot as plt\n",
    "import sklearn\n",
    "import os\n",
    "import gc\n",
    "import diffxpy.api as dxpy\n",
    "import plotly.express as px\n",
    "import re"
   ]
  },
  {
   "attachments": {},
   "cell_type": "markdown",
   "metadata": {},
   "source": [
    "Some of the commands used in the course are functions we implement to simplify reading the code of this course. Mostly, those are commands requiring lines of code that would not add anything to your learning curve (management of plots, trivial calculations, few management of the notebook layout). However, you are free to look at the code into the file `Scripts/pythonScripts.py` and to reuse our code in your own work (citing our course)."
   ]
  },
  {
   "cell_type": "code",
   "execution_count": null,
   "metadata": {
    "tags": []
   },
   "outputs": [],
   "source": [
    "%run ../Scripts/pythonScripts.py"
   ]
  },
  {
   "attachments": {},
   "cell_type": "markdown",
   "metadata": {
    "id": "4eq07HzJrGM7"
   },
   "source": [
    "**Load the dataset.**\n",
    "\n",
    "There are many different possible formats the data can be loaded from. Each format has a dedicated reading command in scanpy, for example `read_h5ad`, `read_10X`, `read_csv`,.... In our case, we have a file already in `h5ad` format. This format is very convenient to store data with large matrices and their annotations, and is often used to store the scRNAseq expression data after alignment and demultiplexing."
   ]
  },
  {
   "cell_type": "code",
   "execution_count": null,
   "metadata": {
    "id": "pCXATujukUOF",
    "tags": []
   },
   "outputs": [],
   "source": [
    "adata = sc.read_h5ad('../Data/scrna_data/rawDataScanpy.h5ad')"
   ]
  },
  {
   "attachments": {},
   "cell_type": "markdown",
   "metadata": {
    "id": "eNjjM1FzraQ8"
   },
   "source": [
    "The data is opened and an `Annotated data` object is created. This object contains:\n",
    "\n",
    "\n",
    "*   The data matrix `adata.X` of size $N\\_cells \\times N\\_genes$. The cells are called observations (obs) and the genes variables (var).\n",
    "*   Vectors of cells-related variables in the dataframe `adata.obs`\n",
    "* Vectors of genes-related variables in the dataframe `adata.var`\n",
    "* Matrices of size $N\\_cells \\times N\\_genes$ in `adata.layers`\n",
    "* Matrices where each line is cell-related in `adata.obsm`\n",
    "* Matrices where each line is gene-related in `adata.varm`\n",
    "* Anything else that must be saved is in `adata.uns`\n",
    "\n",
    "\n",
    "<fifgure>\n",
    "<img src=\"https://anndata.readthedocs.io/en/latest/_images/anndata_schema.svg\" width=\"500\" alt=\"Annotated Data\">\n",
    "<figcaption> Figure: Structure of an annotated data object. In green the stack of expression matrix it can contains, where `X` is the one currently used for analysis.</figcaption>\n",
    "    </figure>"
   ]
  },
  {
   "attachments": {},
   "cell_type": "markdown",
   "metadata": {},
   "source": [
    "The data has 62751 cells and 33694 genes"
   ]
  },
  {
   "cell_type": "code",
   "execution_count": null,
   "metadata": {
    "id": "Oz3EGFixkUSV",
    "tags": []
   },
   "outputs": [],
   "source": [
    "adata.shape"
   ]
  },
  {
   "attachments": {},
   "cell_type": "markdown",
   "metadata": {},
   "source": [
    "If you are running this tutorial on your own laptop and your computer crashes, you might need to subsample your data when you run the code, because there might be some issue with too much memory usage. You can subsample the data to include for example only 5000 cells using the command below (remove the `#` so that the code can be executed). The results should not differ much from the tutorial with the whole dataset, but you might have to tune some parameters along the code (especially clustering and UMAP projection will look different)."
   ]
  },
  {
   "cell_type": "code",
   "execution_count": null,
   "metadata": {
    "tags": []
   },
   "outputs": [],
   "source": [
    "#sc.pp.subsample(adata, n_obs=5000, random_state=12345, copy=False)"
   ]
  },
  {
   "attachments": {},
   "cell_type": "markdown",
   "metadata": {
    "id": "h7gv4sAg4sFd"
   },
   "source": [
    "We calculate quality measures to fill the object `adata` with some information about cells and genes"
   ]
  },
  {
   "cell_type": "code",
   "execution_count": null,
   "metadata": {
    "id": "juKwVIi7kUWf",
    "tags": []
   },
   "outputs": [],
   "source": [
    "sc.preprocessing.calculate_qc_metrics(adata, inplace=True)"
   ]
  },
  {
   "attachments": {},
   "cell_type": "markdown",
   "metadata": {
    "id": "TAfRztN84z-N"
   },
   "source": [
    "We can see that now `adata` contains many observations (`obs`) and variables (`var`). Those can be used for filtering and analysis purpose, as well as they might be needed by some scanpy tools"
   ]
  },
  {
   "cell_type": "code",
   "execution_count": null,
   "metadata": {
    "id": "C1cdFkN6t8wC",
    "tags": []
   },
   "outputs": [],
   "source": [
    "adata"
   ]
  },
  {
   "attachments": {},
   "cell_type": "markdown",
   "metadata": {
    "id": "qGU2izzq5VpZ"
   },
   "source": [
    "`adata.obs` is a dataframe, i.e. a table with indexes on the rows (cell barcodes) and column names (the observation types). One can select a specific observation type by indexing it in the table"
   ]
  },
  {
   "cell_type": "code",
   "execution_count": null,
   "metadata": {
    "id": "5Rt1F54S5Obr",
    "tags": []
   },
   "outputs": [],
   "source": [
    "adata.obs.head()"
   ]
  },
  {
   "cell_type": "code",
   "execution_count": null,
   "metadata": {
    "id": "Wej69GdQ5Oew",
    "tags": []
   },
   "outputs": [],
   "source": [
    "adata.obs['batch'] #sample label - the data contains 15 separate samples"
   ]
  },
  {
   "attachments": {},
   "cell_type": "markdown",
   "metadata": {
    "id": "HkWrb3ZP56Ug"
   },
   "source": [
    "`adata.var` works similarly, but now each row is referred to a gene"
   ]
  },
  {
   "cell_type": "code",
   "execution_count": null,
   "metadata": {
    "id": "KwnI9K625Oo8",
    "tags": []
   },
   "outputs": [],
   "source": [
    "adata.var.head()"
   ]
  },
  {
   "cell_type": "code",
   "execution_count": null,
   "metadata": {
    "id": "_9C4Mffi53KU",
    "tags": []
   },
   "outputs": [],
   "source": [
    "adata.var['n_cells_by_counts'] #nr of cells showing transcripts of a gene"
   ]
  },
  {
   "attachments": {},
   "cell_type": "markdown",
   "metadata": {
    "id": "up3TrdZOn9rA"
   },
   "source": [
    "## Preprocessing\n",
    "\n",
    "We preprocess the dataset by filtering cells and genes according to various quality measures and removing doublets.  Note that we are working  with all the samples at once. It is more correct to filter one sample at a time, and then merge them together prior to normalization, but we are keeping the samples merged for simplicity, and because the various samples are technically quite homogeneous."
   ]
  },
  {
   "attachments": {},
   "cell_type": "markdown",
   "metadata": {
    "id": "mBpLG1AP6c26"
   },
   "source": [
    "### Quality Filtering\n",
    "Using the prefix `MT-` in the gene names we calculate the percentage of mithocondrial genes in each cell, and store this value as an observation in `adata.obs`. Cells with high MT percentage are often broken cells that spilled out mithocondrial content (in this case they will often have low gene and transcript counts), cells captured together with residuals of broken cells (more unlikely if a good job in the sequencing lab has been done) or empty droplets containing only ambient RNA."
   ]
  },
  {
   "cell_type": "code",
   "execution_count": null,
   "metadata": {
    "id": "r0LxkU-hxxfH",
    "tags": []
   },
   "outputs": [],
   "source": [
    "MT = ['MT-' in i for i in adata.var_names] #a vector with True and False to find MT genes\n",
    "perc_mito = np.sum( adata[:,MT].X, 1 ).A1 / np.sum( adata.X, 1 ).A1\n",
    "adata.obs['perc_mito'] = perc_mito.copy()"
   ]
  },
  {
   "attachments": {},
   "cell_type": "markdown",
   "metadata": {
    "id": "lsejBJQ1NAGD"
   },
   "source": [
    "One can identify cells to be filtered out by looking at the relation between number of transcripts (horizontal axis) and number of genes per cell (vertical axis), coloured by percent of MT genes. We can see that high percentages of mitocondrial genes are present for cells that have less than 1000 detected genes (vertical axis)."
   ]
  },
  {
   "cell_type": "code",
   "execution_count": null,
   "metadata": {
    "id": "rX_BJwMGkUav",
    "tags": []
   },
   "outputs": [],
   "source": [
    "sc.pl.scatter(adata, x='total_counts', y='n_genes_by_counts', color='perc_mito', \n",
    "              title='Transcript vs detected genes coloured by mitochondrial content')"
   ]
  },
  {
   "attachments": {},
   "cell_type": "markdown",
   "metadata": {},
   "source": [
    "We can zoom into the plot by selecting cells with less than 3000 genes"
   ]
  },
  {
   "cell_type": "code",
   "execution_count": null,
   "metadata": {
    "id": "QV1gGJcmkUem",
    "tags": []
   },
   "outputs": [],
   "source": [
    "sc.pl.scatter(adata[adata.obs['n_genes_by_counts']<3000], x='total_counts', y='n_genes_by_counts', color='perc_mito',\n",
    "             title='Transcript vs detected genes coloured by mitochondrial content\\nfor <3000 genes')"
   ]
  },
  {
   "attachments": {},
   "cell_type": "markdown",
   "metadata": {
    "id": "PNLYt9yHN0Db"
   },
   "source": [
    "Another useful visualization is the distribution of each quality feature of the data. We look at the amount of transcripts per cell zooming into the interval (0,20000) transcripts to find a lower threshold. Usually, there is a peak with low quality cells on the left side of the histogram, or a descending tail. The threshold whould select such peak (or tail). In our case we can select 2000 as threshold. Hover on the plots with the mouse to see the value of each bar of the histogram."
   ]
  },
  {
   "cell_type": "code",
   "execution_count": null,
   "metadata": {
    "tags": []
   },
   "outputs": [],
   "source": [
    "fig = px.histogram(adata[adata.obs['total_counts']<20000].obs, x='total_counts', nbins=100,\n",
    "                  title='distribution of total transcripts per cell for <20000 transcripts')\n",
    "fig.show()"
   ]
  },
  {
   "attachments": {},
   "cell_type": "markdown",
   "metadata": {},
   "source": [
    "For the upper threshold of the number of transcripts, we can choose 40000"
   ]
  },
  {
   "cell_type": "code",
   "execution_count": null,
   "metadata": {
    "tags": []
   },
   "outputs": [],
   "source": [
    "fig = px.histogram(adata.obs, x='total_counts', nbins=100, \n",
    "                   title='distribution of total transcripts per cell')\n",
    "fig.show()"
   ]
  },
  {
   "attachments": {},
   "cell_type": "markdown",
   "metadata": {},
   "source": [
    "Regarding the number of detected genes, a lower threshold could be around 800 genes. An Upper threshold can be 8000 genes, to remove the tail on the right side of the histogram"
   ]
  },
  {
   "cell_type": "code",
   "execution_count": null,
   "metadata": {
    "tags": []
   },
   "outputs": [],
   "source": [
    "fig = px.histogram(adata.obs, x='n_genes_by_counts', nbins=100, title='distribution of detected genes per cell')\n",
    "fig.show()"
   ]
  },
  {
   "attachments": {},
   "cell_type": "markdown",
   "metadata": {},
   "source": [
    "Cells with too much mitochondrial content might be broken cells spilling out MT content, or ambient noise captured into the droplet. Standard values of the threshold are between 5% and 20%. We select 20%."
   ]
  },
  {
   "cell_type": "code",
   "execution_count": null,
   "metadata": {
    "tags": []
   },
   "outputs": [],
   "source": [
    "fig = px.histogram(adata.obs, x='perc_mito', nbins=100, title='distribution of mitochondrial content per cell')\n",
    "fig.show()"
   ]
  },
  {
   "attachments": {},
   "cell_type": "markdown",
   "metadata": {},
   "source": [
    "Finally, we look at the percentage of transcripts expressing genes in each cell. We plot the genes showing the highest percentages in a barplot. We can see MALAT1 is expressed in up to 60% of the transcripts in some cells. This can be an indicator of cells with too low quality. Other genes that are highly expressed are of the mitocondrial type and will be filtered out already with the mitochondrial threshold. PRM1, PRM2, PTGDS are typical of spermatogonial processes, and we do not consider those as unusual"
   ]
  },
  {
   "cell_type": "code",
   "execution_count": null,
   "metadata": {
    "tags": []
   },
   "outputs": [],
   "source": [
    "fig, ax = plt.subplots(1,1)\n",
    "ax.set_title('Top genes in terms of percentage of transcripts explained in each cell')\n",
    "fig = sc.pl.highest_expr_genes(adata, n_top=20, ax=ax)"
   ]
  },
  {
   "attachments": {},
   "cell_type": "markdown",
   "metadata": {},
   "source": [
    "We save the percentages of transcripts expressing MALAT1 and select a threshold for this values. We choose 10% as threshold to cut out the upper tail."
   ]
  },
  {
   "cell_type": "code",
   "execution_count": null,
   "metadata": {
    "tags": []
   },
   "outputs": [],
   "source": [
    "perc_malat = np.sum( adata[:,'MALAT1'].X, 1 ).A1 / np.sum( adata.X, 1 ).A1\n",
    "adata.obs['perc_MALAT1'] = perc_malat.copy()"
   ]
  },
  {
   "cell_type": "code",
   "execution_count": null,
   "metadata": {
    "tags": []
   },
   "outputs": [],
   "source": [
    "fig = px.histogram(adata.obs, x='perc_MALAT1', nbins=100, title='Distribution of the amount of MALAT1 transcripts in each cell')\n",
    "fig.show()"
   ]
  },
  {
   "attachments": {},
   "cell_type": "markdown",
   "metadata": {},
   "source": [
    "Note also how cells with high amount of MALAT1 expression are usually cells of low quality, containing a low amount of transcripts. This means that many of the cells with high content of MALAT1 will be also filtered out when removing cells with low amount of transcripts."
   ]
  },
  {
   "cell_type": "code",
   "execution_count": null,
   "metadata": {
    "tags": []
   },
   "outputs": [],
   "source": [
    "px.scatter(data_frame=adata.obs, x='total_counts', y='perc_MALAT1', \n",
    "           title='Relationship between amount of MALAT1 gene and transcripts per cell')"
   ]
  },
  {
   "attachments": {},
   "cell_type": "markdown",
   "metadata": {
    "id": "k9bTFM7Kuzdn"
   },
   "source": [
    "We use the following commands to implement some of the thresholds discussed in the plots above"
   ]
  },
  {
   "cell_type": "code",
   "execution_count": null,
   "metadata": {
    "id": "bclPuqo1zNf2",
    "tags": []
   },
   "outputs": [],
   "source": [
    "sc.preprocessing.filter_cells(adata, max_genes=8000)"
   ]
  },
  {
   "cell_type": "code",
   "execution_count": null,
   "metadata": {
    "id": "YOAfQ5vaPPAo",
    "tags": []
   },
   "outputs": [],
   "source": [
    "sc.preprocessing.filter_cells(adata, min_genes=800)"
   ]
  },
  {
   "cell_type": "code",
   "execution_count": null,
   "metadata": {
    "id": "ULPOOxHEzNis",
    "tags": []
   },
   "outputs": [],
   "source": [
    "sc.preprocessing.filter_cells(adata, max_counts=40000)"
   ]
  },
  {
   "cell_type": "code",
   "execution_count": null,
   "metadata": {
    "id": "TZ4uRu0HErkC",
    "tags": []
   },
   "outputs": [],
   "source": [
    "adata = adata[adata.obs['perc_mito']<0.2].copy()"
   ]
  },
  {
   "cell_type": "code",
   "execution_count": null,
   "metadata": {
    "tags": []
   },
   "outputs": [],
   "source": [
    "adata = adata[adata.obs['perc_MALAT1']<0.1].copy()"
   ]
  },
  {
   "attachments": {},
   "cell_type": "markdown",
   "metadata": {
    "id": "QU_Df0QDSyXO"
   },
   "source": [
    "It is good practice to also remove those genes found in too few cells (for example in 10 or less cells). Any cell type clustering 10 or less cells will be undetected in the data, but in any case it would be irrelevant to have such tiny clusters, since statistical analysis on those would be unreliable."
   ]
  },
  {
   "cell_type": "code",
   "execution_count": null,
   "metadata": {
    "id": "O582jDNQFCrg",
    "tags": []
   },
   "outputs": [],
   "source": [
    "sc.preprocessing.filter_genes(adata, min_cells=10)"
   ]
  },
  {
   "cell_type": "code",
   "execution_count": null,
   "metadata": {
    "id": "oWphXZfhzNlu",
    "tags": []
   },
   "outputs": [],
   "source": [
    "print('There are now', adata.shape[0], 'cells and', adata.shape[1],'genes after filtering')"
   ]
  },
  {
   "attachments": {},
   "cell_type": "markdown",
   "metadata": {
    "id": "OocVF9nhk9Cj"
   },
   "source": [
    "### Doublets removal\n",
    "\n",
    "Another important step consists in filtering out multiplets. We will use the package `scrublet` [(Wolock et al, 2019)](https://www.cell.com/cell-systems/pdfExtended/S2405-4712(18)30474-5), that simulates doublets from the data and compare the simulations to the real data to find any doublet-like cells in it. \n",
    "<figure>\n",
    "<img src=\"images/scrublet.jpg\" width=\"700\" alt=\"Scrublet\">\n",
    "<figcaption> Figure: schematics of the `scrublet algorithm`, from the related paper.</figcaption>\n",
    "    </figure>\n",
    "\n",
    "\n",
    "Multiplets are in the almost  totality of the cases doublets, because triplets and higher multiplets are extremely rare. We will thus talk only about doublets instead of multiplets. Read [this more technical blog post](https://liorpachter.wordpress.com/2019/02/07/sub-poisson-loading-for-single-cell-rna-seq/) for deeper explanations about this fact.\n",
    "\n",
    "Below, we run `scrublet` on the data. The package is part of the `scanpy` tool and straightforward to use. As a required parameter, you have to insert the expect doublet rate, from which the software will start its estimation of doublets presence. A rule of thumb is to choose 6% as a typical rate, because is the value in between the possible doublet rates depending on how many cells are loaded in a single cell experiment. Otherwise, you can have a look [at this table](https://kb.10xgenomics.com/hc/en-us/articles/360059124751-Why-is-the-multiplet-rate-different-for-the-Next-GEM-Single-Cell-3-LT-v3-1-assay-compared-to-other-single-cell-applications-) to see what is the expected doublet rate for different amounts of cells loaded in a single cell 10X experiment. In our case, each sample ranges somewhere between 3000 and 5000 cells, so one could use 3% as a possible guess.\n",
    "\n",
    "<figure>\n",
    "<img src=\"images/doublet_rates.png\" width=\"700\" alt=\"Doublets\">\n",
    "<figcaption> Figure: doublet rates for various setting in a single cell experiment with 10X technology.</figcaption>\n",
    "    </figure>"
   ]
  },
  {
   "cell_type": "code",
   "execution_count": null,
   "metadata": {
    "id": "Ly845O8Mcxh7",
    "tags": []
   },
   "outputs": [],
   "source": [
    "sc.external.pp.scrublet(adata, #dataset\n",
    "                        expected_doublet_rate=0.06, #the chosen doublet rate as an estimate to start from\n",
    "                        random_state=12345)"
   ]
  },
  {
   "attachments": {},
   "cell_type": "markdown",
   "metadata": {},
   "source": [
    "We gave 6% as expected doublet rate, but note how the algorithm estimated that the doublet rate is estimated to be actually 3%. Not far away from what one could guess using the doublet rates' table, meaning that, in this regard, the data has been produced pretty well. \n",
    "\n",
    "We now plot the doublet scores assigned to each cell by the algorithm. We can see that most cells have a low score (the score is a value between 0 and 1, where 1 is a theoretically perfect doublet). Datasets with many doublets show a more bimodal distribution (look for example at [this jupyter notebook](https://github.com/swolock/scrublet/blob/master/examples/scrublet_basics.ipynb) from the `scrublet` tutorial), while here we just have a light tail beyond 0.1. Therefore we will filter out the cells above this threshold"
   ]
  },
  {
   "cell_type": "code",
   "execution_count": null,
   "metadata": {
    "tags": []
   },
   "outputs": [],
   "source": [
    "fig = px.histogram(adata.obs, x='doublet_score', title='Distribution of doublet scores per cell')\n",
    "fig.show()"
   ]
  },
  {
   "cell_type": "code",
   "execution_count": null,
   "metadata": {
    "id": "pkbqsP_voQjk",
    "tags": []
   },
   "outputs": [],
   "source": [
    "adata = adata[ adata.obs['doublet_score']<.1 ].copy()"
   ]
  },
  {
   "attachments": {},
   "cell_type": "markdown",
   "metadata": {
    "id": "X6icWMo9TdBS"
   },
   "source": [
    "### Data Normalization\n",
    "\n",
    "Biologically similar cells are not necessarily **directly comparable** in a dataset because of different technical biases - amongst many the different percentage of captured transcripts (capture efficiency), the presence of technical replicates, the presence of noisy transcripts. The capture efficiency can be influenced by many factors, i.e. the different transcript tags leading to different capture efficiency, the type of protocol used in the laboratory, the amount of PCR performed on different transcripts. Biological biases might as well alter the transcript proportion in a cell, for example in case of different points in the cell cycles altering the expression of specific genes.\n",
    "\n",
    "To avoid these differences, a **normalization** approach is needed. Normalization is one of the main topics of scRNAseq data preprocessing, and many advanced techniques take into account the statistical distribution of counts and the presence of technical/biological features of interest ([Lytal et al, 2020](https://www.frontiersin.org/articles/10.3389/fgene.2020.00041/full)).\n",
    "\n",
    "The most standard approach is the **TMP (Transcript Per Million) normalization**. Here, the transcripts is each cell are rescaled by a factor such that each cell has the same number of transcripts. After TPM rescaling, the data is usually logarithmized, so that a transcript $x$ becomes $log(x+1)$. Logarithmization is known to help reducing the technical bias induced by the amount of transcripts in each cell. Finally, the data is standardized with mean 0 and variance 1. This is necessary since the PCA assumes implicitly that datapoints are normally distributed.\n",
    "\n",
    "As a rule of thumb, TPM works fine but might introduce biases in the data, mostly due to technical differences that are not always removed by normalization. It is possible to use more advanced methods for considering technical and biological covariates as part of a statistical model for the transcripts. One of the current state-of-the-art method is *scTransform* ([Hafemeister and Satija, 2019](https://genomebiology.biomedcentral.com/articles/10.1186/s13059-019-1874-1)). This is currently implemented in `R`."
   ]
  },
  {
   "attachments": {},
   "cell_type": "markdown",
   "metadata": {},
   "source": [
    "### Effect of normalization on technical features"
   ]
  },
  {
   "attachments": {},
   "cell_type": "markdown",
   "metadata": {},
   "source": [
    "Before normalizing we look at the highest correlation between the PCA of the raw data and some technical features. The first component of the PCA has the highest $R^2$ when correlated with the total amount of transcripts. PC5 is mostly correlated with the amount of mitochondrial transcripts. This means that the two PC components mostly describe variations in the technical features and misses the description of biological variation. We will see after normalization that these correlations are reduced. Note that we are plotting the correlations for one specific sample, `Guo1`, but the concept holds for the remaining samples."
   ]
  },
  {
   "cell_type": "code",
   "execution_count": null,
   "metadata": {
    "tags": []
   },
   "outputs": [],
   "source": [
    "sc.preprocessing.pca(adata, svd_solver='arpack', random_state=12345)\n",
    "dependentFeatures(adata=adata[adata.obs['batch']=='Guo1'], obs_subset=['total_counts','perc_mito'])"
   ]
  },
  {
   "attachments": {},
   "cell_type": "markdown",
   "metadata": {},
   "source": [
    "### <div class=\"alert-success\"> <font size=\"+2\"> <b> Optional task </b> </font> </div>\n",
    "Try to look at other samples and see if there are some principal components highly dependent with technical features. You might also want to choose other technical features from the data.\n",
    "\n",
    "The available samples are\n"
   ]
  },
  {
   "cell_type": "code",
   "execution_count": null,
   "metadata": {
    "tags": []
   },
   "outputs": [],
   "source": [
    "print( list(adata.obs['batch'].cat.categories) )"
   ]
  },
  {
   "attachments": {},
   "cell_type": "markdown",
   "metadata": {},
   "source": [
    "and the technical features"
   ]
  },
  {
   "cell_type": "code",
   "execution_count": null,
   "metadata": {
    "tags": []
   },
   "outputs": [],
   "source": [
    "print( list( adata.obs.columns ) )"
   ]
  },
  {
   "cell_type": "code",
   "execution_count": null,
   "metadata": {
    "tags": []
   },
   "outputs": [],
   "source": [
    "sc.preprocessing.pca(adata, svd_solver='arpack', random_state=12345)\n",
    "dependentFeatures(adata=adata[adata.obs['batch'] == ''], #sample name\n",
    "                  obs_subset=['total_counts','perc_mito']) #technical features"
   ]
  },
  {
   "attachments": {},
   "cell_type": "markdown",
   "metadata": {},
   "source": [
    "<div class=\"alert-success\"> <font size=\"+2\"> <b> End of optional task </b> </font> </div>"
   ]
  },
  {
   "attachments": {},
   "cell_type": "markdown",
   "metadata": {},
   "source": [
    "Here we execute the normalization steps. We use the standard TPM normalization and evaluate the result looking at the data projections later on - our datasets are of very good quality, so there will be no problems with the simple TMP normalization. We select also the most variable genes to avoid considering genes that have very constant expression across all the dataset, and are therefore not informative. The most variable genes are used to create the PCA projection of the data, and we can use them also in other parts of the analysis."
   ]
  },
  {
   "attachments": {},
   "cell_type": "markdown",
   "metadata": {},
   "source": [
    "When doing normalization, we also want to choose the amount of most variable genes. To do so, we plot the histogram of each gene's variance, choose a threshold and see how many genes go above that threshold."
   ]
  },
  {
   "cell_type": "code",
   "execution_count": null,
   "metadata": {
    "tags": []
   },
   "outputs": [],
   "source": [
    "variance = np.ravel(np.log1p(np.var(adata.X.todense(), axis=0)))\n",
    "px.histogram(variance, title='Log-variance of each gene')"
   ]
  },
  {
   "attachments": {},
   "cell_type": "markdown",
   "metadata": {
    "tags": []
   },
   "source": [
    "We zoom between 0 and 1. We choose a tail of 0. Around 13000 genes have the three smallest variance values in the histograms. We choose a threshold above those bars, which is 0.05. There will be around 15000 genes with a variance above that value. Keep in mind this value, you will see it is used in the normalization step. Using the most variable genes is useful to avoid noise from genes which do not vary along the data when calculating PCA."
   ]
  },
  {
   "cell_type": "code",
   "execution_count": null,
   "metadata": {
    "tags": []
   },
   "outputs": [],
   "source": [
    "px.histogram(variance, range_x=(0,1), nbins=1000, title='Log-variance of each gene (zoom up to 1)')"
   ]
  },
  {
   "cell_type": "code",
   "execution_count": null,
   "metadata": {
    "tags": []
   },
   "outputs": [],
   "source": [
    "print(f'{sum(variance>0.05)} genes have a variance above 0.05')"
   ]
  },
  {
   "attachments": {},
   "cell_type": "markdown",
   "metadata": {},
   "source": [
    "Finally! Now we can normalize, label the 15000 most variable genes and scale the data"
   ]
  },
  {
   "cell_type": "code",
   "execution_count": null,
   "metadata": {
    "id": "PgOpOCgwzNo8",
    "tags": []
   },
   "outputs": [],
   "source": [
    "# save raw data matrix\n",
    "adata.layers['raw_counts'] = adata.X.copy()\n",
    "# TPM normalization\n",
    "sc.pp.normalize_per_cell(adata)\n",
    "# matrix logarithmization\n",
    "sc.pp.log1p(adata)\n",
    "# most variable genes\n",
    "sc.pp.highly_variable_genes(adata, n_top_genes=15000)\n",
    "#scale\n",
    "sc.pp.scale(adata)\n",
    "adata.layers['scaled_counts'] = adata.X.copy()"
   ]
  },
  {
   "attachments": {},
   "cell_type": "markdown",
   "metadata": {},
   "source": [
    "After normalization the linear correlations are visibly much reduced."
   ]
  },
  {
   "cell_type": "code",
   "execution_count": null,
   "metadata": {
    "tags": []
   },
   "outputs": [],
   "source": [
    "sc.preprocessing.pca(adata, svd_solver='arpack', random_state=123, use_highly_variable=True)\n",
    "dependentFeatures(adata=adata[adata.obs['batch']=='Guo1'], obs_subset=['total_counts','perc_mito'])"
   ]
  },
  {
   "attachments": {},
   "cell_type": "markdown",
   "metadata": {
    "id": "bFQ5AoqjbsHM"
   },
   "source": [
    "### Dimensionality reduction\n",
    "\n",
    "With the term **dimensionality reduction**, we intend the projection of each data point (cell) $x=[x_1, x_2, \\dots, x_{N_{cell}}]$ into a data point $y$ in  $D$ dimensions, so that $y=[y_1, y_2, \\dots, y_D]$, where $D << N_{cell}$.\n",
    "\n",
    "Dimensionality reduction is meaningful for single cell data analysis, since we know that the genes are expressed in modules of co-expression, meaning that the behaviour of many co-expressed genes can be compressed into the same dimension. \n",
    "\n",
    "Moreover, using computationally heavy algorithms on the reduced data will help speeding up calculations and reduce memory use, though using a reliable approximation of the full-dimension dataset. "
   ]
  },
  {
   "attachments": {},
   "cell_type": "markdown",
   "metadata": {
    "id": "ZeyJZzEg8D7Q"
   },
   "source": [
    "### PCA\n",
    "\n",
    "PCA is one of the most used dimensionality reduction methods. It projects the data by identifying the axis of maximum variation. Since axis are orthogonal, PCA is best for data that has a linear behaviour. However, it has proved to be a reliable method for single cell data, especially to establish the PCA projection as the starting point for computational methods. We calculated the PCA already few lines above, when we checked the correlation with technical variables after normalization."
   ]
  },
  {
   "attachments": {},
   "cell_type": "markdown",
   "metadata": {
    "id": "6AdB_Rhy_lCE"
   },
   "source": [
    "You can visualize the ratio of variances of each subsequent pair of principal components, where you can see which number of dimensions is best to consider for further applications. Low variance ratios illustrate that along their principal components only little information is represented, probably mostly backgound noise of the dataset. Here we can for example say that 15 dimensions mostly explain the meaningful biological variation in the data. We will use the option `n_pcs=15` in some of the functions of `scanpy` that are based on the PCA."
   ]
  },
  {
   "cell_type": "code",
   "execution_count": null,
   "metadata": {
    "id": "9-aUxIu7_6Nn",
    "tags": []
   },
   "outputs": [],
   "source": [
    "sc.plotting.pca_variance_ratio(adata)"
   ]
  },
  {
   "attachments": {},
   "cell_type": "markdown",
   "metadata": {
    "id": "f7t_NJPGAOz-"
   },
   "source": [
    "You can plot any dimensionality reduction and colour cells by elements of `adata.obs` or by gene expression. Below we plot the PCA coloured by different samples composing the dataset, the total number of transcripts and the expression of gene SYCP1. Note how the various samples overlap into the PCA plot. In some cases you can see that the PCA plot is composed of chunks separated by sample, but fortunately this is not our situation. \n",
    "\n",
    "In such case more advanced techniques for normalization are needed, so that the samples are taken into account. `Scanpy` has the function `sc.pp.combat` to normalize accounting samples, but there are many other possibilities such as the package `mnnCorrect`. "
   ]
  },
  {
   "cell_type": "code",
   "execution_count": null,
   "metadata": {
    "id": "qM2TWaf9zNr_",
    "tags": []
   },
   "outputs": [],
   "source": [
    "plt.rcParams['figure.figsize'] = (6,6) #reduce figure size\n",
    "sc.pl.pca(adata, color=['batch','total_counts','SYCP1'])"
   ]
  },
  {
   "attachments": {},
   "cell_type": "markdown",
   "metadata": {
    "id": "pSzeXYdLU2Td",
    "tags": []
   },
   "source": [
    "### UMAP projection\n",
    "\n",
    "UMAP [(McInnes et al, 2018)](https://joss.theoj.org/papers/10.21105/joss.00861) is another projection algorithm that finds the optimal formulation of the projection criteria according to some topological theory, aiming at preserving the structure of the high-dimensional graph describing the data. This projection technique has become [one of the most used and appreciated](https://www.nature.com/articles/s10038-020-00851-4), and is structured in a way that calculations are faster than in other algorithms, and scale less than exponentially with the number of dimensions. Explore [this \"paper with code\"](https://paperswithcode.com/method/parametric-umap) to learn about UMAP and its extension applied to neural networks. UMAP has also a [manual page](https://umap-learn.readthedocs.io/en/latest/) with other examples in `python`.\n",
    "\n",
    "<img src=\"images/umap.png\" width=\"700\" alt=\"UMAP\">"
   ]
  },
  {
   "attachments": {},
   "cell_type": "markdown",
   "metadata": {},
   "source": [
    "We calculate first the neighborhood of each cell (the distance between the most similar cells). We use the package `bbknn` to take samples into account and reduce any remaining difference between samples, even though we can see a good overlapping in the PCA plot. In case you haven't multiple samples, you can use the function `sc.pp.neighbors`. Note that we impose the use of 15 PCA components."
   ]
  },
  {
   "cell_type": "code",
   "execution_count": null,
   "metadata": {
    "tags": []
   },
   "outputs": [],
   "source": [
    "bbknn.bbknn(adata, n_pcs=15)"
   ]
  },
  {
   "attachments": {},
   "cell_type": "markdown",
   "metadata": {},
   "source": [
    "We calculate and plot the UMAP projection. We calculate three components, so we can also produce a 3d plot"
   ]
  },
  {
   "cell_type": "code",
   "execution_count": null,
   "metadata": {
    "id": "fMLSyODoB0It",
    "tags": []
   },
   "outputs": [],
   "source": [
    "sc.tools.umap(adata, random_state=123, n_components=3)"
   ]
  },
  {
   "attachments": {},
   "cell_type": "markdown",
   "metadata": {
    "id": "8La94PFz2dAr"
   },
   "source": [
    "The plot is made for different pairs of dimensions (1,2 - 1,3 - 2,3) and coloured by a single gene expressed in spermatids. You can observe how there are some smaller clusters separated from a main block of cells looking like a long \"snake\". Note also that clusters that seem close to each other, might actually end up being far away when rotating our point of view."
   ]
  },
  {
   "cell_type": "code",
   "execution_count": null,
   "metadata": {
    "tags": []
   },
   "outputs": [],
   "source": [
    "sc.plotting.umap(adata, color=['TNP2'], components=['1,2','1,3','2,3'])"
   ]
  },
  {
   "attachments": {},
   "cell_type": "markdown",
   "metadata": {},
   "source": [
    "We can look better at the projection in 3D. Here the colour represents the total transcripts per cell. The main group of cells seems twisting at least twice without overlapping, but we do not see any branching. This might mean that there is only one differentiation path. Use the mouse to rotate and zoom in and out the interactive plot."
   ]
  },
  {
   "cell_type": "code",
   "execution_count": null,
   "metadata": {
    "tags": []
   },
   "outputs": [],
   "source": [
    "X = adata.obsm['X_umap']\n",
    "fig = px.scatter_3d(adata.obsm, x=X[:,0], y=X[:,1], z=X[:,2], color=adata.obs['total_counts'], opacity=.5)\n",
    "fig.show()"
   ]
  },
  {
   "attachments": {},
   "cell_type": "markdown",
   "metadata": {},
   "source": [
    "We can also colour by a specific gene. Try any gene you want (inserted here instead of `TNP2`)"
   ]
  },
  {
   "cell_type": "code",
   "execution_count": null,
   "metadata": {
    "tags": []
   },
   "outputs": [],
   "source": [
    "X = adata.obsm['X_umap']\n",
    "fig = px.scatter_3d(adata.obsm, x=X[:,0], y=X[:,1], z=X[:,2], color=np.ravel(adata[:,'TNP2'].X))\n",
    "fig.show()"
   ]
  },
  {
   "attachments": {},
   "cell_type": "markdown",
   "metadata": {},
   "source": [
    "You can also use a standard plotting command to visualize the 3d plot, but it cannot be rotated interactively"
   ]
  },
  {
   "cell_type": "code",
   "execution_count": null,
   "metadata": {
    "id": "Oc2yTHi1qOBy",
    "tags": []
   },
   "outputs": [],
   "source": [
    "sc.plotting.umap(adata, color=['TNP2'], projection='3d', components=['1,2,3'] )"
   ]
  },
  {
   "attachments": {},
   "cell_type": "markdown",
   "metadata": {},
   "source": [
    "### <div class=\"alert-success\"> <font size=\"+2\"> <b> Exercise: tSNE projection </b> </font> </div>\n",
    "\n",
    "PCA and UMAP are two of the many projection methods available at the moment. Before UMAP, a very popular method was (and still is) tSNE [van der Maaten and Hinton, 2008](https://www.jmlr.org/papers/volume9/vandermaaten08a/vandermaaten08a.pdf). tSNE tries to match the statistical distribution of the high-dimensional data and its projection. The statistical distribution modeling high-dimensional data is Cryptoled by a parameter called *perplexity*, defining how far away cells are considered to be in the neighbourhood of a cell. The largest the perplexity, the farther away cells are going to be pulled close to each other in the tSNE projection. In general, tSNE is not very good at keeping the global behaviour of the data into account, while it often pulls cells together in separate chunks. \n",
    "\n",
    "Changing the perplexity can change a lot the output of tSNE, even though it has shown empirically being stable with values between 5 and 50.\n",
    "Here you can experiment different values of the perplexity and plot tSNE. You will see how - for lower perplexities - tSNE cannot keep the dataset together as in the UMAP projection, dividing it instead into many chunks covering a large 2D space. The tSNE algorithm is actually quite slow, especially with increasing perplexity, so we will subsample the dataset to be only 5000 cells. If you must wait too long to get the code executed, reduce this number even more.\n",
    "\n",
    "You can also change the method measuring distances between points. The standard distance is `euclidean`, and you can change this parameter with `cityblock`, `cosine`, `euclidean`, `l1`, `l2`, `manhattan`, `braycurtis`, `canberra`, `chebyshev`, `correlation`, `dice`, `hamming`, `jaccard`, `kulsinski`, `mahalanobis`, `minkowski`, `rogerstanimoto`, `russellrao`, `seuclidean`, `sokalmichener`, `sokalsneath`, `sqeuclidean`, `yule`. Some of those distances are well-known for people handy with data science or mathematics, others are more obscure."
   ]
  },
  {
   "cell_type": "code",
   "execution_count": null,
   "metadata": {},
   "outputs": [],
   "source": [
    "YOUR_NAME = 'WRITE YOUR NAME HERE'\n",
    "PERPLEXITY = 5\n",
    "DISTANCE_METRIC = 'euclidean'"
   ]
  },
  {
   "cell_type": "code",
   "execution_count": null,
   "metadata": {
    "tags": []
   },
   "outputs": [],
   "source": [
    "adata_sub = sc.pp.subsample(adata, random_state=54321, n_obs=5000, copy=True)"
   ]
  },
  {
   "cell_type": "code",
   "execution_count": null,
   "metadata": {
    "tags": []
   },
   "outputs": [],
   "source": [
    "sc.tools.tsne(adata_sub, random_state=54321, perplexity=PERPLEXITY, metric=f'{DISTANCE_METRIC}')"
   ]
  },
  {
   "cell_type": "code",
   "execution_count": null,
   "metadata": {
    "tags": []
   },
   "outputs": [],
   "source": [
    "sc.plotting.tsne(adata_sub, color=['batch'], legend_loc=None, frameon=False, title=f'{YOUR_NAME}\\nPerplexity={PERPLEXITY} Metrix={DISTANCE_METRIC}')"
   ]
  },
  {
   "attachments": {},
   "cell_type": "markdown",
   "metadata": {},
   "source": [
    "This saves the plot in the folder `figures` using your name, perplexity parameter and distance metric, so that you can save all your `tSNE` attempts."
   ]
  },
  {
   "cell_type": "code",
   "execution_count": null,
   "metadata": {
    "tags": []
   },
   "outputs": [],
   "source": [
    "sc.plotting.tsne(adata_sub, color=['batch'], legend_loc=None, frameon=False, \n",
    "                 title=f'{YOUR_NAME}\\nPerplexity={PERPLEXITY} Metric={DISTANCE_METRIC}', show=False,  \n",
    "                 save=f'{YOUR_NAME}Perplexity={PERPLEXITY}Metric={DISTANCE_METRIC}.png')"
   ]
  },
  {
   "attachments": {},
   "cell_type": "markdown",
   "metadata": {},
   "source": [
    "--------------------"
   ]
  },
  {
   "attachments": {},
   "cell_type": "markdown",
   "metadata": {
    "id": "ofEe1iXSGoTq",
    "tags": []
   },
   "source": [
    "## Clusters Identification\n",
    "\n",
    "Cell types can be identified and then assigned to clusters calculated by one of the many available clustering techniques.\n",
    "When identifying a cluster, we can assign that to a likely cell type by visualizing known markers on a projection plot, e.g. an UMAP plot. Similarly, one can score cells for a set of markers. Finally, if an atlas of cell types is available, one can use it for a supervised assignment of cell types ([see for example the `R` package `scmap`](https://github.com/hemberg-lab/scmap)) and [the `ingest` tool from `scanpy`](https://scanpy.readthedocs.io/en/stable/generated/scanpy.tl.ingest.html).\n",
    "\n",
    "Be aware that clusters do not necessarily match perfectly cell types (especially if cells change in a continuous way, hard clusters are not the best solution, though an acceptable one). \n",
    "\n"
   ]
  },
  {
   "attachments": {},
   "cell_type": "markdown",
   "metadata": {
    "id": "gXmngRZOqoGZ"
   },
   "source": [
    "### Print markers' scores\n",
    "\n",
    "The first step to identify various cell types is to print markers on the UMAP plot. We will print markers' scores, that is the average expression of a list of markers, subtracted of the average expression of some random genes. We provide a python dictionary including some cell types and a few of their marker genes.\n",
    "\n",
    "A dictionary is a python object in which you can allocate different objects (matrices, vectors, lists, ...), each having an assigned name. Here, we have lists of marker genes, where each list is identified by the name of the corresponding cell type. To remember the different stages of spermatogenesis, a scheme is attached below, and you can read more about the spermatogenic process [at this page](https://embryology.ch/en/embryogenese/gametogenesis/spermatogenesis/developmental-stages-of-spermatogenesis.html?p=2#developmental-stages-of-spermatogenesis)\n",
    "\n",
    "<img src=\"images/spermatogenesis.gif\" width=\"500\" alt=\"Spermatogenesis\">"
   ]
  },
  {
   "cell_type": "code",
   "execution_count": null,
   "metadata": {
    "id": "4CHx2ZaisKzU",
    "tags": []
   },
   "outputs": [],
   "source": [
    "markers = dict() #make an empty dictionary\n",
    "### SPERMATOCYTOGENESIS\n",
    "markers['SpermatogoniaA'] = ['ID4','HMGA1']\n",
    "markers['SpermatogoniaB'] = ['MKI67','DMRT1','STRA8'] \n",
    "markers['SpermatocytesI'] = ['MEIOB','PRSS50','SYCP1','TEX101']\n",
    "markers['SpermatocytesII'] = ['PIWIL1','ACRV1','SPATA16','CLGN']\n",
    "### SPERMIOGENESIS\n",
    "markers['Round.Spt'] = ['SPATA9','SPAM1'] #Round spermatids\n",
    "markers['Elong.Spt'] = ['PRM1','PRM2'] #Elongated spermatids\n",
    "### SOMATIC CELLS\n",
    "markers['Sertoli'] = ['CTSL', 'VIM']\n",
    "markers['Macroph'] = ['CD163','TYROBP']\n",
    "markers['Leydig'] = ['CFD']\n",
    "markers['Endothelial'] = ['CD34']\n",
    "markers['Myoid'] = ['ACTA2']\n",
    "markers['Smooth_Muscle'] = ['RGS5']"
   ]
  },
  {
   "attachments": {},
   "cell_type": "markdown",
   "metadata": {},
   "source": [
    "We calculate the scores for the markers"
   ]
  },
  {
   "cell_type": "code",
   "execution_count": null,
   "metadata": {
    "tags": []
   },
   "outputs": [],
   "source": [
    "markers_scores, adata = marker_score(markers, adata)"
   ]
  },
  {
   "attachments": {},
   "cell_type": "markdown",
   "metadata": {
    "id": "MnLkaGyRtNwv"
   },
   "source": [
    "Make a separate UMAP plot for every cell type. You should be able to see quite clearly some clusters where the marker's expressions are stronger. Sertoli cells are usually hard to identify - their markers are expressed also in other cell types, and often Sertoli cells are not captured due to their size. It seems that there aren't sertoli cells into our dataset."
   ]
  },
  {
   "cell_type": "code",
   "execution_count": null,
   "metadata": {
    "tags": []
   },
   "outputs": [],
   "source": [
    "sc.plotting.umap(adata, color=markers_scores, components=['1,2'], ncols=2, vmax=5, s=30, cmap='Blues')"
   ]
  },
  {
   "attachments": {},
   "cell_type": "markdown",
   "metadata": {
    "id": "5qB3dIy-Xh0j",
    "tags": []
   },
   "source": [
    "### Leiden clustering algorithm \n",
    "\n",
    "Scanpy contains the *leiden* algorithm [(Traag et al, 2019)](https://www.nature.com/articles/s41598-019-41695-z), making clusters whose points are well connected and at the same time mostly disconnected from other clusters. Other approaches, e.g. *k-means*, can be performed on the data or on its PCA/tSNE/UMAP projection. The leiden algorithm is however [considered to be one of the best techniques at the moment](https://theses.liacs.nl/pdf/2017-2018-QatoKristi.pdf) to find communities of similar datapoints, and we will therefore use that. Read more about the leiden algorithm [here](https://api.semanticscholar.org/CorpusID:54692004).\n",
    "\n",
    "<figure>\n",
    "<img src=\"images/leiden.png\" width=\"500\" alt=\"leiden\">\n",
    "<figcaption> Figure: refinement steps used by the `leiden algorithm` to find communities of well-connected points.</figcaption>\n",
    "    </figure>\n",
    "\n",
    "We calculate some clusterings at various resolution, and choose the one matching best the clusters we have visualized from the markers' score. The amount of clusters depend on the chosen resolution. Later in this tutorial, we will integrate this dataset with another one, showing how to cluster the new data using ours as a \"reference\" clustering. "
   ]
  },
  {
   "cell_type": "code",
   "execution_count": null,
   "metadata": {
    "tags": []
   },
   "outputs": [],
   "source": [
    "#leiden clustering at various resolutions\n",
    "sc.tools.leiden(adata, resolution=1, random_state=12345, key_added='leiden_R1')\n",
    "sc.tools.leiden(adata, resolution=0.5, random_state=12345, key_added='leiden_R.5')\n",
    "sc.tools.leiden(adata, resolution=0.25, random_state=12345, key_added='leiden_R.25')\n",
    "sc.tools.leiden(adata, resolution=0.1, random_state=12345, key_added='leiden_R.1')"
   ]
  },
  {
   "attachments": {},
   "cell_type": "markdown",
   "metadata": {},
   "source": [
    "We can see that at resolution 1 we have many clusters, and their number decreases with decreasing resolution. It seems that 0.25 is the resolution best matching the clusters we desire to annotate."
   ]
  },
  {
   "cell_type": "code",
   "execution_count": null,
   "metadata": {
    "tags": []
   },
   "outputs": [],
   "source": [
    "sc.plotting.umap(adata, color=['leiden_R1','leiden_R.5','leiden_R.25', 'leiden_R.1'], legend_loc='on data', ncols=2)"
   ]
  },
  {
   "attachments": {},
   "cell_type": "markdown",
   "metadata": {},
   "source": [
    "### Differential Gene expression"
   ]
  },
  {
   "attachments": {},
   "cell_type": "markdown",
   "metadata": {},
   "source": [
    "It is not always easy to assign clusters from marker scores.  For example, cluster 12 at resolution 0.25 is not immediately recognizable as pericyte cells. Sometimes it is good to double check which genes are most expressed in a cluster compared to all the others before assigning cell types. Here we look at the 50 most expressed genes in each cluster from the Leiden algorithm.\n",
    "\n",
    "Differential gene expression is also the way of making a sound argument in a publication or report. Showing fancy UMAP plots coloured by gene expression is sadly not enough :) A standard way to do it, is to test if each gene has mean expression higher in a cluster than in all the others. Scanpy does that by using a t-test or the wilcoxon test. While the t-test is somewhat less powerful, the wilcoxon test is not best behaved with very sparse data, so we simply apply the default t-test to the dataset. Note that, for the standard t-test in scanpy, you need to use logarithmized data.\n",
    "\n",
    "More advanced techniques that model the statistical properties of the data, such as its sparsity, are available for differential expression. See for example the package `MAST` ([Finak et al, 2015](https://genomebiology.biomedcentral.com/articles/10.1186/s13059-015-0844-5)) and the following review on differential expression methods: ([Squair et al, 2021](https://www.nature.com/articles/s41467-021-25960-2))."
   ]
  },
  {
   "cell_type": "code",
   "execution_count": null,
   "metadata": {
    "id": "hmn4BTnuGPfH",
    "tags": []
   },
   "outputs": [],
   "source": [
    "#Perform the test on logarithmized data\n",
    "adata.X = adata.layers['raw_counts'] #raw data\n",
    "sc.pp.normalize_total(adata) #TPM normalization\n",
    "sc.pp.log1p(adata) #logarithm\n",
    "sc.tl.rank_genes_groups(adata, groupby='leiden_R.25', n_genes=50) #Top 50 diff.expressed genes in each cluster\n",
    "adata.X = adata.layers['scaled_counts'] #Set again the scaled data as standard data matrix"
   ]
  },
  {
   "attachments": {},
   "cell_type": "markdown",
   "metadata": {},
   "source": [
    "Organize result in a table. Each column has the cluster numbers with `_N`, `_P`, `_L` representing respectively the gene `N`ames, their `P`-values and the `L`og-fold change of each gene expression compared to the other clusters."
   ]
  },
  {
   "cell_type": "code",
   "execution_count": null,
   "metadata": {
    "tags": []
   },
   "outputs": [],
   "source": [
    "result = adata.uns['rank_genes_groups']\n",
    "groups = result['names'].dtype.names\n",
    "X = pd.DataFrame(\n",
    "    {group + '_' + key[:1].upper(): result[key][group]\n",
    "    for group in groups for key in ['names', 'pvals_adj','logfoldchanges']})\n",
    "X.head() #print only first five lines"
   ]
  },
  {
   "attachments": {},
   "cell_type": "markdown",
   "metadata": {},
   "source": [
    "We can look specifically at the genes for cluster 5. PRM2 is one of the first in the list and [associated with spermatids](https://pubmed.ncbi.nlm.nih.gov/7865133/) together with PRM1, as well as SPTY2D1-AS1 [Regulates sperm development](https://www.genecards.org/cgi-bin/carddisp.pl?gene=MISFA)."
   ]
  },
  {
   "cell_type": "code",
   "execution_count": null,
   "metadata": {
    "tags": []
   },
   "outputs": [],
   "source": [
    "X[ ['5_N'] ]"
   ]
  },
  {
   "attachments": {},
   "cell_type": "markdown",
   "metadata": {},
   "source": [
    "The table can also be exported into csv format in the folder `results_scrna`. It can be opened using `jupyterlab` as well `Excel` if you download it and set the comma character <kbd>,</kbd> as separator"
   ]
  },
  {
   "cell_type": "code",
   "execution_count": null,
   "metadata": {
    "tags": []
   },
   "outputs": [],
   "source": [
    "!mkdir -p results_scrna"
   ]
  },
  {
   "cell_type": "code",
   "execution_count": null,
   "metadata": {
    "tags": []
   },
   "outputs": [],
   "source": [
    "X.to_csv('./results_scrna/DiffExpression_NoAnnotation.csv', sep=',', index=None)"
   ]
  },
  {
   "attachments": {},
   "cell_type": "markdown",
   "metadata": {
    "id": "GUjPA5A5Po_y",
    "tags": []
   },
   "source": [
    "### Cluster assignment\n",
    "Defining the most likely cell type present in a cluster is sometimes a very complicated task, especially in big datasets where the cells change from one type to another in a very continuous fashion, making the \"hard clustering\" not a completely realistic model. However, for many applications, a hard clustering associated with a careful markers analysis is a well-accepted technique in the scientific community, and is used in basically the totality of the state-of-the-art publications.\n",
    "\n",
    "We now rename the categories we found in our observations about clusters - remember that we excluded Sertoli cells. Some cluster can be named the same and will be merged. Write the names of the clusters in the list `names` (an example of name of the first cluster is written) by looking at the dotplot and/or heatmap above, and at the UMAP plot. If two clusters seem to overlap a lot, just use the name of one of the two, or make up a name that is a combination of the two. If you use a name more than once, write its name followed by '.' and a number or letter."
   ]
  },
  {
   "cell_type": "code",
   "execution_count": null,
   "metadata": {
    "tags": []
   },
   "outputs": [],
   "source": [
    "new_names = {\n",
    "    '0': 'SpermatogoniaA.1',\n",
    "    '1': 'SpermatogoniaA.2',\n",
    "    '2': 'Peritubular_Myoid',\n",
    "    '3': 'Endothelial',\n",
    "    '4': 'Leydig',\n",
    "    '5': 'Elong_Spermatids',\n",
    "    '6': 'SpermatocitesII',\n",
    "    '7': 'SpermatogoniaB',\n",
    "    '8': 'Round_Spermatids.1',\n",
    "    '9': 'SpermatocitesI',\n",
    "    '10': 'Round_Spermatids.2',\n",
    "    '11': 'Macroph',\n",
    "    '12': 'Smooth_Muscle'\n",
    "}"
   ]
  },
  {
   "attachments": {},
   "cell_type": "markdown",
   "metadata": {
    "id": "0cGXXnqdMwX-"
   },
   "source": [
    "We merge the clusters with same names. This cannot be done with a *categorical* object, where categories cannot have the same name. We convert the cluster names into a simple *array* to do this, and then reconvert it to a categorical object."
   ]
  },
  {
   "cell_type": "code",
   "execution_count": null,
   "metadata": {
    "tags": []
   },
   "outputs": [],
   "source": [
    "adata.obs['spermatogenesis_types'] = rename_clusters(new_names, adata.obs['leiden_R.25'])"
   ]
  },
  {
   "cell_type": "code",
   "execution_count": null,
   "metadata": {
    "id": "lFhMYXZQ2siI",
    "tags": []
   },
   "outputs": [],
   "source": [
    "plt.rcParams['figure.figsize'] = (12,12)\n",
    "sc.pl.umap( adata, color=['spermatogenesis_types'], \n",
    "           legend_loc='on data', \n",
    "           legend_fontsize=16,\n",
    "           frameon=False,\n",
    "           size=60,\n",
    "           add_outline=True,\n",
    "           ncols=1  \n",
    "           )"
   ]
  },
  {
   "attachments": {},
   "cell_type": "markdown",
   "metadata": {
    "tags": []
   },
   "source": [
    "### <div class=\"alert-success\"> <font size=\"+2\"> <b> Exercise: Gene Enrichment Analysis </b> </font> </div>\n"
   ]
  },
  {
   "attachments": {},
   "cell_type": "markdown",
   "metadata": {},
   "source": [
    "Gene enrichment analysis consists in testing a set of genes to see if it overlaps significantly with lists of genes contained in a database ([Maleki et al, 2020](https://www.frontiersin.org/articles/10.3389/fgene.2020.00654/full)). There are all sorts of databases related to biological pathways, Tissue types, Transcription factors coexpression, Illnesses, ... that contain *a priori* information about sets of genes.\n",
    "\n",
    "We will try to find enrichment of genes for pathways, ontologies or diseases from the differentially expressed genes of a cluster, and we will create a \"consensus ontology\" collected from all the people in the course. We will use Enrichr ([Chen et al, 2013](https://bmcbioinformatics.biomedcentral.com/articles/10.1186/1471-2105-14-128)), that has a web interface of easy use. In this exercise, you will\n",
    "- choose one of the identified clusters\n",
    "- printout a file with a list of differentially expressed genes from the chosen cluster\n",
    "- open the `txt` file (in the folder `results_scrna`) and copy the whole list\n",
    "- paste the list in the [Enrichr website](https://maayanlab.cloud/Enrichr/)\n",
    "- find up to 5 terms you consider to be related to spermatogenesis\n",
    "\n",
    "There are a lot of databases shown in the results from Enrichr, separated in various tabs, so many terms will not be necessarily related to spermatogenesis, or they will be related to basic cellular processes common to many tissues."
   ]
  },
  {
   "attachments": {},
   "cell_type": "markdown",
   "metadata": {},
   "source": [
    "Remember the available clusters:"
   ]
  },
  {
   "cell_type": "code",
   "execution_count": null,
   "metadata": {
    "tags": []
   },
   "outputs": [],
   "source": [
    "print( list( adata.obs['spermatogenesis_types'].cat.categories ) ) "
   ]
  },
  {
   "attachments": {},
   "cell_type": "markdown",
   "metadata": {},
   "source": [
    "Choose the cluster name (write it between the two quotes)"
   ]
  },
  {
   "cell_type": "code",
   "execution_count": null,
   "metadata": {
    "tags": []
   },
   "outputs": [],
   "source": [
    "CHOSEN_CLUSTER = ''"
   ]
  },
  {
   "attachments": {},
   "cell_type": "markdown",
   "metadata": {},
   "source": [
    "Run differential expression"
   ]
  },
  {
   "cell_type": "code",
   "execution_count": null,
   "metadata": {
    "id": "hmn4BTnuGPfH",
    "tags": []
   },
   "outputs": [],
   "source": [
    "#Perform the test on logarithmized data\n",
    "adata.X = adata.layers['raw_counts']\n",
    "sc.pp.normalize_total(adata)\n",
    "sc.pp.log1p(adata)\n",
    "sc.tl.rank_genes_groups(adata, groupby='spermatogenesis_types', n_genes=50)\n",
    "#Use again the scaled data as standard\n",
    "adata.X = adata.layers['scaled_counts']"
   ]
  },
  {
   "attachments": {},
   "cell_type": "markdown",
   "metadata": {
    "execution": {
     "iopub.execute_input": "2022-05-31T08:28:40.113472Z",
     "iopub.status.busy": "2022-05-31T08:28:40.112867Z",
     "iopub.status.idle": "2022-05-31T08:28:40.126057Z",
     "shell.execute_reply": "2022-05-31T08:28:40.124789Z",
     "shell.execute_reply.started": "2022-05-31T08:28:40.113417Z"
    }
   },
   "source": [
    "Create the table and export names in a file with `.txt` extension and the name of your chosen cluster."
   ]
  },
  {
   "cell_type": "code",
   "execution_count": null,
   "metadata": {
    "tags": []
   },
   "outputs": [],
   "source": [
    "result = adata.uns['rank_genes_groups']\n",
    "groups = result['names'].dtype.names\n",
    "X = pd.DataFrame(\n",
    "    {group + '_' + key[:1].upper(): result[key][group]\n",
    "    for group in groups for key in ['names', 'pvals_adj','logfoldchanges']})\n",
    "X.head()\n",
    "#export\n",
    "X.to_csv(f'./results_scrna/{CHOSEN_CLUSTER}.txt', columns=[f'{CHOSEN_CLUSTER}_N'], header=None, index=None)"
   ]
  },
  {
   "attachments": {},
   "cell_type": "markdown",
   "metadata": {},
   "source": [
    "Open the text file, select the column with names and copy it into Enrichr website, then find the interesting enriched terms.\n",
    "\n",
    "------------"
   ]
  },
  {
   "attachments": {},
   "cell_type": "markdown",
   "metadata": {},
   "source": [
    "## Data dynamics"
   ]
  },
  {
   "attachments": {},
   "cell_type": "markdown",
   "metadata": {},
   "source": [
    "Knowing the beginning of a differentiation process for the cells of an organ, we can model how the development proceeds. This is done by the pseudotimes, based on the statistical concept of diffusion maps ([Ronald Coifman and Stephane Lafon, 2006](http://www.sciencedirect.com/science/article/pii/S1063520306000546), [Angerer et al, 2016](https://academic.oup.com/bioinformatics/article/32/8/1241/1744143)): given the cells at the beginning of the differentiation, pseudotimes are a special distance-based measure - imagine being able to walk along the 3D UMAP plot starting from `SpermatogoniaA`, measuring how much you have walked along the plot.\n",
    "Here we subset the dataset to consider only spermatogenic cells excluding somatic cells."
   ]
  },
  {
   "cell_type": "code",
   "execution_count": null,
   "metadata": {
    "tags": []
   },
   "outputs": [],
   "source": [
    "subdata = adata[ [i not in ['Endothelial','Macroph','Peritubular_Myoid','Smooth_Muscle','Leydig'] \n",
    "                  for i in adata.obs['spermatogenesis_types']] ].copy()"
   ]
  },
  {
   "cell_type": "code",
   "execution_count": null,
   "metadata": {
    "tags": []
   },
   "outputs": [],
   "source": [
    "subdata.uns['iroot'] = np.flatnonzero(subdata.obs['spermatogenesis_types'] == 'SpermatogoniaA')[1]"
   ]
  },
  {
   "cell_type": "code",
   "execution_count": null,
   "metadata": {
    "tags": []
   },
   "outputs": [],
   "source": [
    "sc.tl.dpt(subdata, n_dcs=2)"
   ]
  },
  {
   "cell_type": "code",
   "execution_count": null,
   "metadata": {
    "tags": []
   },
   "outputs": [],
   "source": [
    "plt.rcParams['figure.figsize'] = (8,8)\n",
    "sc.pl.umap( subdata, color=['dpt_pseudotime'],\n",
    "           legend_loc='right margin', \n",
    "           legend_fontsize=16,\n",
    "           frameon=False,\n",
    "           size=60,\n",
    "           add_outline=True,\n",
    "           ncols=1,\n",
    "           cmap='Blues'\n",
    "           )"
   ]
  },
  {
   "cell_type": "code",
   "execution_count": null,
   "metadata": {
    "tags": []
   },
   "outputs": [],
   "source": [
    "plt.rcParams['figure.figsize'] = (8,8)\n",
    "X = subdata.obsm['X_umap']\n",
    "fig = px.scatter_3d(subdata.obsm, x=X[:,0], y=X[:,1], z=X[:,2], color=subdata.obs['dpt_pseudotime'], \n",
    "                    hover_name=subdata.obs['spermatogenesis_types'])\n",
    "fig.show()"
   ]
  },
  {
   "attachments": {},
   "cell_type": "markdown",
   "metadata": {},
   "source": [
    "Note how some clusters have a small variance in pseudotime. This is because those clusters show a lower variability in gene expressions than in cell types where a wide range of differentiation events happen."
   ]
  },
  {
   "cell_type": "code",
   "execution_count": null,
   "metadata": {
    "tags": []
   },
   "outputs": [],
   "source": [
    "sc.pl.violin(subdata, keys='dpt_pseudotime', groupby='spermatogenesis_types', rotation=90,\n",
    "             order=['SpermatogoniaA','SpermatogoniaB','SpermatocitesI','SpermatocitesII','Round_Spermatids','Elong_Spermatids'])"
   ]
  },
  {
   "attachments": {},
   "cell_type": "markdown",
   "metadata": {},
   "source": [
    "Copy pseudotimes in the main object, leaving somatic cells at a negative value as a default, since they have not a calculated pseudotime"
   ]
  },
  {
   "cell_type": "code",
   "execution_count": null,
   "metadata": {
    "tags": []
   },
   "outputs": [],
   "source": [
    "adata.obs['dpt_pseudotime'] = np.repeat(-1, adata.shape[0])\n",
    "adata.obs['dpt_pseudotime'][subdata.obs_names] = subdata.obs['dpt_pseudotime']"
   ]
  },
  {
   "attachments": {},
   "cell_type": "markdown",
   "metadata": {},
   "source": [
    "remove `subdata` and use the `gc` garbage collector to free up memory"
   ]
  },
  {
   "cell_type": "code",
   "execution_count": null,
   "metadata": {
    "tags": []
   },
   "outputs": [],
   "source": [
    "#remove subdata as it is no longer used\n",
    "del subdata\n",
    "gc.collect() "
   ]
  },
  {
   "attachments": {},
   "cell_type": "markdown",
   "metadata": {
    "tags": []
   },
   "source": [
    "## Comparisons across different datasets\n",
    "In this last part of the analysis we import a dataset of testis tissues from infertile men (affected by [cryptozoospermia](https://www.ncbi.nlm.nih.gov/medgen/481180#:~:text=Definition,ejaculate%20may%20be%20initially%20measured.)). The data has already been preprocessed in advance. We will first annotated the new dataset using our spermatogenesis data as a reference, so that cluster names and pseudotimes are assigned accordingly. Then we will compare gene expressions using statistical tests."
   ]
  },
  {
   "attachments": {},
   "cell_type": "markdown",
   "metadata": {},
   "source": [
    "### Reference-based annotation\n",
    "\n",
    "We read the new data"
   ]
  },
  {
   "cell_type": "code",
   "execution_count": null,
   "metadata": {
    "tags": []
   },
   "outputs": [],
   "source": [
    "crypto = sc.read_h5ad('../Data/scrna_data/crypto_azoospermia.h5ad')"
   ]
  },
  {
   "cell_type": "code",
   "execution_count": null,
   "metadata": {
    "tags": []
   },
   "outputs": [],
   "source": [
    "#use only genes present in both datasets\n",
    "var_names = adata.var_names.intersection(crypto.var_names)\n",
    "adata = adata[:, var_names]\n",
    "crypto = crypto[:, var_names]"
   ]
  },
  {
   "attachments": {},
   "cell_type": "markdown",
   "metadata": {},
   "source": [
    "The tool `ingest` included in `scanpy` allows the annotation of a dataset starting from a reference. Look [here](https://scanpy-tutorials.readthedocs.io/en/latest/integrating-data-using-ingest.html#) for further examples about the use of `ingest`. We choose the clustering and the pseudotimes as observations to transfer to the new data. It takes some time to do the annotation."
   ]
  },
  {
   "cell_type": "code",
   "execution_count": null,
   "metadata": {
    "tags": []
   },
   "outputs": [],
   "source": [
    "sc.tl.ingest(crypto, adata, obs=['spermatogenesis_types','dpt_pseudotime'])"
   ]
  },
  {
   "attachments": {},
   "cell_type": "markdown",
   "metadata": {},
   "source": [
    "Keep the same cluster colours in the new data"
   ]
  },
  {
   "cell_type": "code",
   "execution_count": null,
   "metadata": {
    "tags": []
   },
   "outputs": [],
   "source": [
    "crypto.uns['spermatogenesis_types_colors'] = adata.uns['spermatogenesis_types_colors']  # fix colors"
   ]
  },
  {
   "attachments": {},
   "cell_type": "markdown",
   "metadata": {},
   "source": [
    "Make pseudotimes as a numeric array"
   ]
  },
  {
   "cell_type": "code",
   "execution_count": null,
   "metadata": {
    "tags": []
   },
   "outputs": [],
   "source": [
    "crypto.obs['dpt_pseudotime'] = np.array(crypto.obs['dpt_pseudotime'])"
   ]
  },
  {
   "attachments": {},
   "cell_type": "markdown",
   "metadata": {},
   "source": [
    "`Ingest` adapts also the UMAP plot of the new data to the reference one. Note how pseudotimes are off for some cell, especially for the Elongated Spermatids cluster. This might be due to reduced spermatogenic functionality of cells in infertile men."
   ]
  },
  {
   "cell_type": "code",
   "execution_count": null,
   "metadata": {
    "tags": []
   },
   "outputs": [],
   "source": [
    "sc.pl.umap(crypto, color=['spermatogenesis_types', 'dpt_pseudotime'], wspace=0.5,\n",
    "          title=['atlas-based clustering of azoospermic data', 'atlas-based pseudotimes of azoospermic data'])"
   ]
  },
  {
   "attachments": {},
   "cell_type": "markdown",
   "metadata": {},
   "source": [
    "Now we merge the two datasets together. Note that the expression matrix will not be integrated. `Ingest` is used only for reference-based annotation and UMAP alignment, but it cannot integrate the expression matrices removing biases (such as sample bias). For this there are other tools such as [`scVI-tools`](https://scvi-tools.org/), [`CCA` and `rPCA`](https://satijalab.org/seurat/articles/integration_rpca.html) and others. However, a good and computationally lighter alternative is to keep the matrices as they are and model the differences when applying tools on them, as we will do with differential expression testing."
   ]
  },
  {
   "cell_type": "code",
   "execution_count": null,
   "metadata": {
    "tags": []
   },
   "outputs": [],
   "source": [
    "merged = sc.AnnData.concatenate(adata, crypto, batch_key='condition', batch_categories=['Healthy','Crypto'])"
   ]
  },
  {
   "cell_type": "code",
   "execution_count": null,
   "metadata": {
    "tags": []
   },
   "outputs": [],
   "source": [
    "merged.uns['spermatogenesis_types_colors'] = adata.uns['spermatogenesis_types_colors']  # fix category colors"
   ]
  },
  {
   "attachments": {},
   "cell_type": "markdown",
   "metadata": {},
   "source": [
    "The UMAP shows a nice overlapping of the datasets and cluster names, apart from a few cell types that are off"
   ]
  },
  {
   "cell_type": "code",
   "execution_count": null,
   "metadata": {
    "tags": []
   },
   "outputs": [],
   "source": [
    "sc.pl.umap(merged, color=['condition','spermatogenesis_types','dpt_pseudotime'], wspace=0.3, s=30)"
   ]
  },
  {
   "attachments": {},
   "cell_type": "markdown",
   "metadata": {},
   "source": [
    "As already noticed before, pseudotimes are quite different between the two conditions"
   ]
  },
  {
   "cell_type": "code",
   "execution_count": null,
   "metadata": {
    "tags": []
   },
   "outputs": [],
   "source": [
    "fig, (ax1) = plt.subplots(1, 1, figsize=(12,8), gridspec_kw={'wspace':0.5})\n",
    "ax = sns.violinplot(x=\"spermatogenesis_types\", y=\"dpt_pseudotime\", hue=\"condition\", scale=\"width\", palette=\"Set2\", split=True, ax=ax1,                    \n",
    "                    data=merged[merged.obs['dpt_pseudotime']>=0].obs[ ['condition', 'dpt_pseudotime', 'spermatogenesis_types'] ], \n",
    "                    order=['SpermatogoniaA','SpermatogoniaB','SpermatocitesI', 'SpermatocitesII','Round_Spermatids','Elong_Spermatids'])"
   ]
  },
  {
   "attachments": {},
   "cell_type": "markdown",
   "metadata": {},
   "source": [
    "Free some memory up"
   ]
  },
  {
   "cell_type": "code",
   "execution_count": null,
   "metadata": {
    "tags": []
   },
   "outputs": [],
   "source": [
    "del adata, crypto\n",
    "gc.collect() "
   ]
  },
  {
   "attachments": {},
   "cell_type": "markdown",
   "metadata": {},
   "source": [
    "You can save the data like this"
   ]
  },
  {
   "cell_type": "code",
   "execution_count": null,
   "metadata": {
    "tags": []
   },
   "outputs": [],
   "source": [
    "merged.write('merged.h5ad')"
   ]
  },
  {
   "attachments": {},
   "cell_type": "markdown",
   "metadata": {},
   "source": [
    "### Cross-dataset differential expression\n",
    "\n",
    "We will perform the differential expression testing between the two conditions. Just to give a very quick overview, you can find three ways in which differential gene expression is done with scRNA-seq data:\n",
    "\n",
    "- using tests that are analogous to the ones for bulkRNA data. This has been the standard for some years, but generates a lot of false positives, because each cell is used as a bulk sample with very low amount of transcripts.\n",
    "- using statistical models that take into accounts technical biases in the data (e.g. [`D3E`](https://bioinformaticshome.com/tools/rna-seq/descriptions/D3E.html) and [`MAST`](https://genomebiology.biomedcentral.com/articles/10.1186/s13059-015-0844-5)) and should be more reliable than standard bulkRNA methods. [Squair et al, 2021](https://www.biorxiv.org/content/10.1101/2021.03.12.435024v1.full) show how those methods are much less effective than previously thought, probably because we still consider each cell as a bulk sample in the test, and the technical differences between cells are just too many to model them.\n",
    "- using groups of cells (in our case grouped by sample, condition and cell type) as a single bulk sample by summing the cells' transcriptomes. [Squair et al, 2021](https://www.biorxiv.org/content/10.1101/2021.03.12.435024v1.full) show how already standard bulkRNA methods applied on the pseudobulk data are very effective and reduce false positives. Right now, this is probably the state-of-the-art way to proceed. Look also at ([this other course](https://hbctraining.github.io/scRNA-seq_online/lessons/pseudobulk_DESeq2_scrnaseq.html)) for an application of the pseudobulk technique.\n",
    "\n",
    "We will apply the latter method. To do this we create **pseudobulk samples** by the sum of the transcriptomes from multiple cells in the data.\n",
    "In other words, we are doing nothing much different than the bulk RNA analysis done in Notebook 3 of this course. We will code only in python, but in future, when working on your own data, you can use any bulkRNA analysis tool with the pseudobulk matrix.\n",
    "\n",
    "After creating the pseudobulk matrix, we use a standard t-test for differential gene expression. More advanced tools like [pydeseq2](https://pydeseq2.readthedocs.io/en/latest/index.html) have features for including factors in the analysis."
   ]
  },
  {
   "cell_type": "code",
   "execution_count": null,
   "metadata": {
    "tags": []
   },
   "outputs": [],
   "source": [
    "merged = sc.read('merged.h5ad') #read the data"
   ]
  },
  {
   "attachments": {},
   "cell_type": "markdown",
   "metadata": {},
   "source": [
    "We remove mitochondrial and ribosomal genes to focus only on genes of interest."
   ]
  },
  {
   "cell_type": "code",
   "execution_count": null,
   "metadata": {
    "id": "r0LxkU-hxxfH",
    "tags": []
   },
   "outputs": [],
   "source": [
    "MT_RP = [('MT-' not in i)and(re.match('^RP[A-Za-z]', i) is None) for i in merged.var_names] #a vector with True and False to find mitocondrial/ribosomal genes\n",
    "merged = merged[:, MT_RP].copy()"
   ]
  },
  {
   "attachments": {},
   "cell_type": "markdown",
   "metadata": {},
   "source": [
    "We select the raw count matrix for the analysis, and subset the dataset into a new one including the cluster of interest. First, let's also look at how many cells there are in each cluster of the healthy and azoospermic sample:\n"
   ]
  },
  {
   "cell_type": "code",
   "execution_count": null,
   "metadata": {
    "tags": []
   },
   "outputs": [],
   "source": [
    "merged.X = merged.layers['raw_counts'].todense().copy()"
   ]
  },
  {
   "cell_type": "code",
   "execution_count": null,
   "metadata": {
    "tags": []
   },
   "outputs": [],
   "source": [
    "merged[merged.obs['condition']=='Healthy'].obs['spermatogenesis_types'].value_counts() #healthy sample"
   ]
  },
  {
   "attachments": {},
   "cell_type": "markdown",
   "metadata": {},
   "source": [
    "We can see there are many cells in each cell type, but we must also check that each condition has enough. Note that the azoospermia sample is quite little and have few cells in some clusters:"
   ]
  },
  {
   "cell_type": "code",
   "execution_count": null,
   "metadata": {
    "tags": []
   },
   "outputs": [],
   "source": [
    "merged[merged.obs['condition']=='Crypto'].obs['spermatogenesis_types'].value_counts()"
   ]
  },
  {
   "attachments": {},
   "cell_type": "markdown",
   "metadata": {},
   "source": [
    "We renormalize the data and take some significant genes. Less variable genes will not be useful for differential expression analysis."
   ]
  },
  {
   "cell_type": "code",
   "execution_count": null,
   "metadata": {
    "tags": []
   },
   "outputs": [],
   "source": [
    "sc.pp.log1p(merged)\n",
    "sc.pp.normalize_per_cell(merged)\n",
    "sc.pp.highly_variable_genes(merged, n_top_genes=5000)"
   ]
  },
  {
   "attachments": {},
   "cell_type": "markdown",
   "metadata": {},
   "source": [
    "Now we subset by most significant genes. Afterwards, we use a script to generate the bulk matrix for both conditions. This script always uses the raw counts matrix even if we normalized the data above to find the most variable genes."
   ]
  },
  {
   "cell_type": "code",
   "execution_count": null,
   "metadata": {
    "tags": []
   },
   "outputs": [],
   "source": [
    "matrix = merged[:,merged.var['highly_variable']].X.copy()"
   ]
  },
  {
   "cell_type": "code",
   "execution_count": null,
   "metadata": {
    "tags": []
   },
   "outputs": [],
   "source": [
    "matrix_bulk, clusters, conditions = pseudobulk_matrix(adata=merged, \n",
    "                                          batch_key='batch', \n",
    "                                          condition_key='condition', \n",
    "                                          cluster_key='spermatogenesis_types')"
   ]
  },
  {
   "attachments": {},
   "cell_type": "markdown",
   "metadata": {},
   "source": [
    "The bulk matrix looks like this. It shows the total expression of each gene in every cluster, sample and condition. Those are represented in the bulk sample name, together with a number. Our script actually creates 10 pseudobulk samples per each group of cells, by randomly subsampling them. In this way we still keep some of the single cell variability. This is why each pseudobulk sample has a number.\n",
    "For example: `Healthy_Guo1_Elong_Spermatids_2` is the pseudobulk sample number 2 from cells in the healthy condition, sample name Guo1 and cluster Elongated spermatids."
   ]
  },
  {
   "cell_type": "code",
   "execution_count": null,
   "metadata": {
    "tags": []
   },
   "outputs": [],
   "source": [
    "matrix_bulk.head()"
   ]
  },
  {
   "attachments": {},
   "cell_type": "markdown",
   "metadata": {},
   "source": [
    "For practical purpose we exchange rows and columns by rotating the matrix."
   ]
  },
  {
   "cell_type": "code",
   "execution_count": null,
   "metadata": {
    "tags": []
   },
   "outputs": [],
   "source": [
    "matrix_bulk = matrix_bulk.T\n",
    "matrix_bulk.head()"
   ]
  },
  {
   "attachments": {},
   "cell_type": "markdown",
   "metadata": {},
   "source": [
    "We create a scanpy object to be able to do statistical testing."
   ]
  },
  {
   "cell_type": "code",
   "execution_count": null,
   "metadata": {
    "tags": []
   },
   "outputs": [],
   "source": [
    "import anndata as ad"
   ]
  },
  {
   "cell_type": "code",
   "execution_count": null,
   "metadata": {
    "tags": []
   },
   "outputs": [],
   "source": [
    "pbulk = ad.AnnData(matrix_bulk)"
   ]
  },
  {
   "cell_type": "code",
   "execution_count": null,
   "metadata": {
    "tags": []
   },
   "outputs": [],
   "source": [
    "pbulk"
   ]
  },
  {
   "attachments": {},
   "cell_type": "markdown",
   "metadata": {},
   "source": [
    "We just remove those genes never expressed in the pseudobulk data"
   ]
  },
  {
   "cell_type": "code",
   "execution_count": null,
   "metadata": {
    "tags": []
   },
   "outputs": [],
   "source": [
    "sc.pp.filter_genes(pbulk, min_cells=1)"
   ]
  },
  {
   "attachments": {},
   "cell_type": "markdown",
   "metadata": {},
   "source": [
    "We create some metadata"
   ]
  },
  {
   "cell_type": "code",
   "execution_count": null,
   "metadata": {
    "tags": []
   },
   "outputs": [],
   "source": [
    "pbulk.obs['condition'] = conditions\n",
    "pbulk.obs['spermatogenesis_types'] = clusters "
   ]
  },
  {
   "attachments": {},
   "cell_type": "markdown",
   "metadata": {},
   "source": [
    "and normalize depth of each pseudobulk replicate and logarithmize, similarly to what was done in Notebook 3 of the course"
   ]
  },
  {
   "cell_type": "code",
   "execution_count": null,
   "metadata": {
    "tags": []
   },
   "outputs": [],
   "source": [
    "sc.pp.normalize_per_cell(pbulk)\n",
    "sc.pp.log1p(pbulk)"
   ]
  },
  {
   "attachments": {},
   "cell_type": "markdown",
   "metadata": {},
   "source": [
    "Out of curiosity, why not plotting a PCA of the pseudobulk data? We can see how it looks similar to the single cell data, with a decent overlapping of the conditions, meaning the pseudobulk process kept the differences between types, and also the data structure overall."
   ]
  },
  {
   "cell_type": "code",
   "execution_count": null,
   "metadata": {
    "tags": []
   },
   "outputs": [],
   "source": [
    "sc.pp.pca(pbulk)"
   ]
  },
  {
   "cell_type": "code",
   "execution_count": null,
   "metadata": {
    "tags": []
   },
   "outputs": [],
   "source": [
    "sc.pl.pca(pbulk, color=['condition','spermatogenesis_types'], s=50)"
   ]
  },
  {
   "attachments": {},
   "cell_type": "markdown",
   "metadata": {},
   "source": [
    "We can finally run the statistical test by condition. We will do a list with ALL genes, so we can explore it at any time afterwards. We will use the condition `Healthy` as reference, so the results will give how changes are in `Crypto` against `Healthy`"
   ]
  },
  {
   "cell_type": "code",
   "execution_count": null,
   "metadata": {
    "tags": []
   },
   "outputs": [],
   "source": [
    "sc.tl.rank_genes_groups(pbulk, groupby=\"condition\", reference='Healthy', n_genes=pbulk.shape[1])"
   ]
  },
  {
   "attachments": {},
   "cell_type": "markdown",
   "metadata": {},
   "source": [
    "We use a script to extract the results in a matrix. We will also calculate some other values under the hood and add them in the table."
   ]
  },
  {
   "cell_type": "code",
   "execution_count": null,
   "metadata": {
    "tags": []
   },
   "outputs": [],
   "source": [
    "DEG_matrix = pseudobulk_extract_DEG(pbulk=pbulk, adata=merged)"
   ]
  },
  {
   "attachments": {},
   "cell_type": "markdown",
   "metadata": {},
   "source": [
    "What does the resulting matrix contain? Apart from genes names, we can see in how many bulk samples those are expressed (in percentage for healthy and crypto cells), the fold-change and log-fold-change, the pvalues and adjusted pvalues. Note: those results are for Crypto vs Healthy. For values with Healthy as a reference, just change the sign to all fold-changes and log-fold-changes, and you have changed your reference!"
   ]
  },
  {
   "cell_type": "code",
   "execution_count": null,
   "metadata": {
    "tags": []
   },
   "outputs": [],
   "source": [
    "DEG_matrix.head()"
   ]
  },
  {
   "attachments": {},
   "cell_type": "markdown",
   "metadata": {},
   "source": [
    "We just want to make a volcano plot of the result table. We consider as significant genes with p-value below 0.001 (log p-value of 3) and a log-fold-change below -2 and above 2 for this plot. The dot size is the percentege of cells expressing each gene.\n",
    "\n",
    "As underexpressed genes we find amongst others CXCL2 (upregulated only [when azoospermia is together with inflamation](https://www.ncbi.nlm.nih.gov/pmc/articles/PMC10218437/)) and ZNRF3 ([involved in disorder of sex development](https://www.ncbi.nlm.nih.gov/pmc/articles/PMC9990451/)). Upregulated are for example CMTM1 (involved in fertility, [whose knockout has no effect on it](https://www.ncbi.nlm.nih.gov/pmc/articles/PMC6553932/)), SPATS1 ([involved in sperm development](https://journals.plos.org/plosone/article?id=10.1371/journal.pone.0251028)) and DLGAP2 ([associated to male infertility](https://www.ncbi.nlm.nih.gov/pmc/articles/PMC8339558/))"
   ]
  },
  {
   "cell_type": "code",
   "execution_count": null,
   "metadata": {
    "tags": []
   },
   "outputs": [],
   "source": [
    "pseudobulk_volcano(DEG_matrix, logfold_threshold=2, logpval_threshold=3, plot_size=(800,800))"
   ]
  },
  {
   "attachments": {},
   "cell_type": "markdown",
   "metadata": {},
   "source": [
    "Finally, you can save the table and download it, to view very easily in Excel."
   ]
  },
  {
   "cell_type": "code",
   "execution_count": null,
   "metadata": {
    "tags": []
   },
   "outputs": [],
   "source": [
    "DEG_matrix.to_csv('./pseudobulk_markers.csv', sep='\\t', index=None)"
   ]
  },
  {
   "attachments": {},
   "cell_type": "markdown",
   "metadata": {
    "execution": {
     "iopub.execute_input": "2022-06-16T10:14:05.063019Z",
     "iopub.status.busy": "2022-06-16T10:14:05.062465Z",
     "iopub.status.idle": "2022-06-16T10:14:05.068105Z",
     "shell.execute_reply": "2022-06-16T10:14:05.066869Z",
     "shell.execute_reply.started": "2022-06-16T10:14:05.062966Z"
    }
   },
   "source": [
    "# Wrapping up  🎉 🎉 🎉\n",
    "\n",
    "You executed the whole analysis to the very end of this notebook!\n",
    "\n",
    "It has been a pretty long one, but I hope you learnt new things and you will benefit from them in your future scRNA-seq analysis. Remember that the [scanpy webpage](https://scanpy.readthedocs.io/en/stable/) has a lot of tutorials and very good documentation for all the functions implemented. The universe of available tools for single cell RNA data is growing constantly and is difficult to navigate - I suggest you to try tools that seem interesting, are usable without too many dificulties, and then stick only to those that are really relevant. Fortunately the community revolving around scRNA-seq data analysis is huge and rather helpful and open-source. It is mostly a matter of googling yourself to relevant forums and github repositories to find useful answers to doubts, available tools, and guides."
   ]
  }
 ],
 "metadata": {
  "colab": {
   "collapsed_sections": [],
   "name": "Single_cell_day_Notebook_students.ipynb",
   "provenance": [],
   "toc_visible": true
  },
  "kernelspec": {
   "display_name": "Python 3 ",
   "language": "python",
   "name": "python3"
  },
  "language_info": {
   "codemirror_mode": {
    "name": "ipython",
    "version": 3
   },
   "file_extension": ".py",
   "mimetype": "text/x-python",
   "name": "python",
   "nbconvert_exporter": "python",
   "pygments_lexer": "ipython3",
   "version": "3.10.10"
  },
  "toc-autonumbering": true,
  "toc-showmarkdowntxt": false,
  "vscode": {
   "interpreter": {
    "hash": "aee8b7b246df8f9039afb4144a1f6fd8d2ca17a180786b69acc140d282b71a49"
   }
  }
 },
 "nbformat": 4,
 "nbformat_minor": 4
}
