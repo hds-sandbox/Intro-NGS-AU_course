{
 "cells": [
  {
   "cell_type": "markdown",
   "id": "96ec79df-5147-4a46-b1fb-8a0fe98a5c51",
   "metadata": {},
   "source": [
    "# Single cell analysis workflow\n",
    "\n",
    "Stig U Andersen, Mikkel H Schierup, Samuele Soraggi\n",
    "\n",
    ":::{.callout-note title=\"Tutorial description\"}\n",
    "\n",
    "This tutorial will cover the basic steps of single cell analysis from preprocessing to the final results production. at the end of this tutorial you will be able to use `python` to\n",
    "\n",
    "- Filter your data selecting specific criteria\n",
    "- Preprocess your data for advanced analysis\n",
    "- Identify potential cell types \n",
    "- Perform differential gene expression\n",
    "- Visualize the basic differentiation dynamics of your data\n",
    "- Merge datasets and do cross-data analysis\n",
    "\n",
    ":::\n",
    "\n",
    "The present tutorial, like the rest of the course material, is available\n",
    "at our [open-source github\n",
    "repository](https://github.com/hds-sandbox/NGS_summer_course_Aarhus) and\n",
    "will be kept up-to-date as long as the course will be renewed.\n",
    "\n",
    "To use this notebook, use the `NGS (python)` kernel that contains the\n",
    "packages. Choose it by selecting `Kernel -> Change Kernel` in the menu\n",
    "on top of the window.\n",
    "\n",
    ":::{.callout-tip collapse=\"true\" title=\"A few introductory points to run this notebook (click to show)\"}\n",
    "  \n",
    "* To use this notebook, use the `NGS (Python)` kernel that contains the packages. Choose it by selecting `Kernel -> Change Kernel` in the menu on top of the window.\n",
    "\n",
    "<figure>\n",
    "<img src=\"images/kernelchoice.png\" width=\"500\" alt=\"Kernel Choice\" class=\"center\">\n",
    "</figure>\n",
    "\n",
    "* In this notebook you will use only python commands\n",
    "* On some computers, you might see the result of the commands once they are done running. This means you will wait some time while the computer is crunching, and only afterwards you will see the result of the command you have executed\n",
    "*  You can run the code in each cell by clicking on the run cell button, or by pressing <kbd> Shift </kbd> + <kbd> Enter </kbd>.  When the code is done running, a small green check sign will appear on the left side\n",
    "*   You need to run the cells in sequential order, please do not run a cell until the one above finished running and do not skip any cells\n",
    "*   Each cell contains a short description of the code and the output you should get. Please try not to focus on understanding the code for each command in too much detail, but rather try to focus on the output \n",
    "*   You can create new code cells by pressing <kbd> + </kbd> in the Menu bar above. \n",
    "    \n",
    ":::\n",
    "\n",
    "# Biological background\n",
    "\n",
    "We will start by analyzing a dataset coming from various sections of\n",
    "human testicular tissue. The testis is a complex organ composed of\n",
    "multiple cell types: germ cells at different stages of maturation and\n",
    "several somatic cell types supporting testicular structure and\n",
    "spermatogenesis (development of cells into spermatozoa); Sertoli cells,\n",
    "peritubular cells, Leydig cells, and other interstitial cells, as\n",
    "outlined in the figure below. Characterizing the various cell types is\n",
    "important to understand which genes and processes are relevant at\n",
    "different levels of maturations of cells into spermatozoa."
   ]
  },
  {
   "cell_type": "markdown",
   "id": "dbd3403c-3a43-4049-beb9-8ce1446561f5",
   "metadata": {},
   "source": [
    "<img src=\"images/celltypes.png\" width=\"700\" alt=\"Tubule scheme\" class=\"center\">"
   ]
  },
  {
   "cell_type": "markdown",
   "id": "492b8faa-2a55-4c49-892b-1fef4281654a",
   "metadata": {},
   "source": [
    "Figure: section of a tubule of the human testis. The human testis are\n",
    "surrounded by long tubules in which cells <br>start to develop,\n",
    "beginning from the walls of the tubules towards the center. At the\n",
    "center of the tubule, <br>spermatozoa will access to the epididymis to\n",
    "reach full maturation."
   ]
  },
  {
   "cell_type": "markdown",
   "id": "cfb6b6e7-2472-4655-82f8-41080b0e05dd",
   "metadata": {},
   "source": [
    "After characterizing the spermatogenic process, we will perform\n",
    "comparative analysis of our dataset to testicular samples from men\n",
    "affected by azoospermia (reduced or absent froduction of spermatozoa).\n",
    "Infertility is a growing problem, especially in the Western world, where\n",
    "approximately 10–15% of couples are infertile. In about half of the\n",
    "infertile couples, the cause involves a male-factor ([Agarwal et\n",
    "al. 2015](https://rbej.biomedcentral.com/articles/10.1186/s12958-015-0032-1);\n",
    "[Barratt et al. 2017](https://pubmed.ncbi.nlm.nih.gov/28981651/)). One\n",
    "of the most severe forms of male infertility is azoospermia (from greek\n",
    "*azo*, *without life*) where no spermatozoa can be detected in the\n",
    "ejaculate, which renders biological fatherhood difficult. Azoospermia is\n",
    "found in approximately 10–15% of infertile men ([Jarow et\n",
    "al. 1989](https://pubmed.ncbi.nlm.nih.gov/2499695/); [Olesen et\n",
    "al. 2017](https://pubmed.ncbi.nlm.nih.gov/27793385/)) and the aetiology\n",
    "is thought to be primarily genetic.\n",
    "\n",
    "Common to the various azoospermic conditions is the lack or distuption\n",
    "of gene expression patterns. It makes therefore sense to detect genes\n",
    "expressed more in the healthy dataset against the azoospermic one. We\n",
    "can also investigate gene enrichment databases to get a clearer picture\n",
    "of what the genes of interest are relevant to."
   ]
  },
  {
   "cell_type": "markdown",
   "id": "56d9c98a-9819-4349-80d7-d93c75deccc4",
   "metadata": {},
   "source": [
    "<img src=\"images/azoospermia.jpeg\" width=\"700\" alt=\"Tubule Azoospermia\" class=\"center\">"
   ]
  },
  {
   "cell_type": "markdown",
   "id": "31ac1a62-822c-4b6f-a637-e0acc67b2404",
   "metadata": {},
   "source": [
    "Figure: Examples of testicular histology and the composition of\n",
    "testicular cell types that can be observed among men with various types\n",
    "of azoospermia. Degenerated ghost tubules (#) are tubules where an\n",
    "abnormally large central channel is present, but no cells are developing\n",
    "from the walls of the tubule. Other tubules show Sertoli-cell-only (SCO)\n",
    "pattern (\\*) and large clusters of Leydig cells, meaning they only have\n",
    "nurse cells, but no developing germ cells. Tubules with germ cell\n",
    "neoplasia in situ (GCNIS) do not contain any normal germ cells (&).\n",
    "GCNIS cells are the precursor cells of testicular germ cell cancer and\n",
    "are found more frequently among men with azoospermia than among men with\n",
    "good semen quality. From\n",
    "<a href=\"https://pubmed.ncbi.nlm.nih.gov/31950241/\">Soraggi et al\n",
    "2020</a>."
   ]
  },
  {
   "cell_type": "markdown",
   "id": "2b2a5f0f-773f-47b0-a0bb-90a29dcff98a",
   "metadata": {},
   "source": [
    "# UMI-based single cell data from microdroplets\n",
    "\n",
    "The dataset we are using in this tutorial is based on a\n",
    "microdroplet-based method from 10X chromium. From today’s lecture we\n",
    "remember that a microdroplet single cell sequencing protocol works as\n",
    "follow:\n",
    "\n",
    "-   each cell is isolated together with a barcode bead in a gel/oil\n",
    "    droplet"
   ]
  },
  {
   "cell_type": "markdown",
   "id": "db6727e8-d29f-4704-a505-c72536fc1f1f",
   "metadata": {},
   "source": [
    "<img src=\"images/droplet.gif\" width=\"700\" alt=\"Annotated Data\">"
   ]
  },
  {
   "cell_type": "markdown",
   "id": "5400d3a6-10ea-4270-ad57-fee56c9eb11a",
   "metadata": {},
   "source": [
    "Figure: Isolation of cells and beads into microdroplets."
   ]
  },
  {
   "cell_type": "markdown",
   "id": "de9039f5-4215-4778-b3cc-ac211b0fdd5b",
   "metadata": {},
   "source": [
    "-   each transcript in the cell is captured via the bead and assigned a\n",
    "    cell barcode and a transcript unique molecular identifier (UMI)\n",
    "-   3’ reverse transcription of mRNA into cDNA is then performed in\n",
    "    preparation to the PCR amplification\n",
    "-   the cDNA is amplified through PCR cycles\n",
    "    <figure>\n",
    "\n",
    "    <img src=\"images/10X.png\" width=\"700\" alt=\"Annotated Data\">\n",
    "    <figcaption>\n",
    "\n",
    "    Figure: steps for the microdroplet-based single cell RNA sequencing\n",
    "    after isolation.\n",
    "    </figcaption>\n",
    "\n",
    "    </figure>\n",
    "\n",
    "## The raw data in practice\n",
    "\n",
    "Let’s look at a specific read and its UMI and cell barcode. The data is\n",
    "organized in paired-end reads (written on `fastq` files), where the\n",
    "first `fastq` file contains reads in the following format\n",
    "\n",
    "    @SRR8363305.1 1 length=26\n",
    "    NTGAAGTGTTAAGACAAGCGTGAACT\n",
    "    +SRR8363305.1 1 length=26\n",
    "    #AAFFJJJJJJJJJJJJJJJJFJJJJ\n",
    "\n",
    "Here, the first 16 characters `NTGAAGTGTTAAGACA` represent the cell\n",
    "barcode, while the last 10 characters `AGCGTGAACT` are the transcript\n",
    "UMI tag. The last line represents the quality scores of the 26\n",
    "characters of barcode+UMI.\n",
    "\n",
    "The associated second `fastq` file contains reads of 98nt as the\n",
    "following\n",
    "\n",
    "    @SRR8363305.1 1 length=98\n",
    "    NCTAAAGATCACACTAAGGCAACTCATGGAGGGGTCTTCAAAGACCTTGCAAGAAGTACTAACTATGGAGTATCGGCTAAGTCAANCNTGTATGAGAT\n",
    "    +SRR8363305.1 1 length=98\n",
    "    #A<77AFJJFAAAJJJ7-7-<7FJ-7----<77--7FAAA--<JFFF-7--7<<-F77---FF---7-7A-777777A-<-7---#-#A-7-7--7--\n",
    "\n",
    "The 98nt-long string of characters in the second line is a partial\n",
    "sequence of the cDNA transcript. Specifically, the 10X chromium protocol\n",
    "used for sequencing the data is biased towards the 3’ end, because the\n",
    "sequencing happens from the 3’ to the 5’ end of the transcripts. The\n",
    "last line contains the corresponding quality scores.\n",
    "\n",
    "## Alignment and expression matrix\n",
    "\n",
    "Once the data is sequenced, it is possible to align the reads to the\n",
    "transcriptome. This is done with tools that are sensible to the presence\n",
    "of spliced transcripts. We will skip the alignment step because it is\n",
    "quite trivial (it requires a [pipeline implemented by\n",
    "10X](https://support.10xgenomics.com/single-cell-gene-expression/software/pipelines/latest/what-is-cell-ranger)\n",
    "if you are using 10X data, otherwise you can use one of the available\n",
    "pipelines [available on NextFlow](https://nf-co.re/scrnaseq)), and\n",
    "because it would require too much time and memory for the scope of a\n",
    "one-day tutorial. Instead, we start from the transcript count matrix\n",
    "that results as the output from the transcriptome alignment.\n",
    "\n",
    "# Data analysis\n",
    "\n",
    "**Prepare packages and data necessary to run this python notebook.** We\n",
    "will use *scanpy* as the main analysis tool for the analysis. Scanpy has\n",
    "a comprehensive [manual\n",
    "webpage](https://scanpy.readthedocs.io/en/stable/) that includes many\n",
    "different tutorials you can use for further practicing. Scanpy is used\n",
    "in the discussion paper and the tutorial paper of this course. An\n",
    "alternative and well-established tool for R users is\n",
    "[Seurat](https://satijalab.org/seurat/). However, scanpy is mainatined\n",
    "and updated by a wider community with many of the latest developed\n",
    "tools.\n",
    "\n",
    "*Note:* it can take few minutes to get all the package loaded. Do not\n",
    "mind red-coloured warnings."
   ]
  },
  {
   "cell_type": "code",
   "execution_count": null,
   "id": "cell-10",
   "metadata": {
    "tags": []
   },
   "outputs": [],
   "source": [
    "import warnings\n",
    "warnings.filterwarnings(\"ignore\")"
   ]
  },
  {
   "cell_type": "code",
   "execution_count": null,
   "id": "cell-11",
   "metadata": {
    "tags": []
   },
   "outputs": [],
   "source": [
    "import scanpy as sc\n",
    "import bbknn\n",
    "import numpy as np\n",
    "import pandas as pd\n",
    "import seaborn as sns\n",
    "import matplotlib.pyplot as plt\n",
    "import sklearn\n",
    "import os\n",
    "import gc\n",
    "import plotly.express as px\n",
    "import re\n",
    "import doubletdetection"
   ]
  },
  {
   "cell_type": "markdown",
   "id": "c4391840-228a-4cf9-ae7a-2ba995359f72",
   "metadata": {},
   "source": [
    "Some of the commands used in the course are functions we implement to\n",
    "simplify reading the code of this course. Mostly, those are commands\n",
    "requiring lines of code that would not add anything to your learning\n",
    "curve (management of plots, trivial calculations, few management of the\n",
    "notebook layout). However, you are free to look at the code into the\n",
    "file `Scripts/pythonScripts.py` and to reuse our code in your own work\n",
    "(citing our course)."
   ]
  },
  {
   "cell_type": "code",
   "execution_count": null,
   "id": "cell-13",
   "metadata": {
    "tags": []
   },
   "outputs": [],
   "source": [
    "%run ../Scripts/pythonScripts.py"
   ]
  },
  {
   "cell_type": "markdown",
   "id": "7baa8501-b253-4c31-89c7-c01c53984850",
   "metadata": {},
   "source": [
    "**Load the dataset.**\n",
    "\n",
    "There are many different possible formats the data can be loaded from.\n",
    "Each format has a dedicated reading command in scanpy, for example\n",
    "`read_h5ad`, `read_10X`, `read_csv`,…. In our case, we have a file\n",
    "already in `h5ad` format. This format is very convenient to store data\n",
    "with large matrices and their annotations, and is often used to store\n",
    "the scRNAseq expression data after alignment and demultiplexing."
   ]
  },
  {
   "cell_type": "code",
   "execution_count": null,
   "id": "cell-15",
   "metadata": {
    "tags": []
   },
   "outputs": [],
   "source": [
    "adata = sc.read_h5ad('../Data/scrna_data/rawDataScanpy.h5ad')"
   ]
  },
  {
   "cell_type": "markdown",
   "id": "20c2c93d-0524-48e2-a505-46fbfa046f36",
   "metadata": {},
   "source": [
    "The data is opened and an `Annotated data` object is created. This\n",
    "object contains:\n",
    "\n",
    "-   The data matrix `adata.X` of size $N\\_cells \\times N\\_genes$. The\n",
    "    cells are called observations (obs) and the genes variables (var).\n",
    "-   Vectors of cells-related variables in the dataframe `adata.obs`\n",
    "-   Vectors of genes-related variables in the dataframe `adata.var`\n",
    "-   Matrices of size $N\\_cells \\times N\\_genes$ in `adata.layers`\n",
    "-   Matrices where each line is cell-related in `adata.obsm`\n",
    "-   Matrices where each line is gene-related in `adata.varm`\n",
    "-   Anything else that must be saved is in `adata.uns`\n",
    "\n",
    "<fifgure>\n",
    "<img src=\"https://anndata.readthedocs.io/en/latest/_images/anndata_schema.svg\" width=\"500\" alt=\"Annotated Data\">"
   ]
  },
  {
   "cell_type": "markdown",
   "id": "f817119a-b71d-41a0-b3fd-8490a8ca8866",
   "metadata": {},
   "source": [
    "Figure: Structure of an annotated data object. In green the stack of\n",
    "expression matrix it can contains, where `X` is the one currently used\n",
    "for analysis."
   ]
  },
  {
   "cell_type": "markdown",
   "id": "fc4d90c8-f24c-41b8-8086-57945eeb3c65",
   "metadata": {},
   "source": [
    "The data has 62751 cells and 33694 genes"
   ]
  },
  {
   "cell_type": "code",
   "execution_count": null,
   "id": "cell-18",
   "metadata": {
    "tags": []
   },
   "outputs": [],
   "source": [
    "adata.shape"
   ]
  },
  {
   "cell_type": "markdown",
   "id": "e314447f-9c3a-4fdc-a7af-43eeeff5f0f2",
   "metadata": {},
   "source": [
    "If you are running this tutorial on your own laptop and your computer\n",
    "crashes, you might need to subsample your data when you run the code,\n",
    "because there might be some issue with too much memory usage. You can\n",
    "subsample the data to include for example only 5000 cells using the\n",
    "command below (remove the `#` so that the code can be executed). The\n",
    "results should not differ much from the tutorial with the whole dataset,\n",
    "but you might have to tune some parameters along the code (especially\n",
    "clustering and UMAP projection will look different)."
   ]
  },
  {
   "cell_type": "code",
   "execution_count": null,
   "id": "cell-20",
   "metadata": {
    "tags": []
   },
   "outputs": [],
   "source": [
    "#sc.pp.subsample(adata, n_obs=5000, random_state=12345, copy=False)"
   ]
  },
  {
   "cell_type": "markdown",
   "id": "78abf49c-9b46-4cec-8cf2-77990cdfc6f1",
   "metadata": {},
   "source": [
    "We calculate quality measures to fill the object `adata` with some\n",
    "information about cells and genes"
   ]
  },
  {
   "cell_type": "code",
   "execution_count": null,
   "id": "cell-22",
   "metadata": {
    "tags": []
   },
   "outputs": [],
   "source": [
    "sc.preprocessing.calculate_qc_metrics(adata, inplace=True)"
   ]
  },
  {
   "cell_type": "markdown",
   "id": "89c357f9-fcc8-4780-9458-066e1e45c101",
   "metadata": {},
   "source": [
    "We can see that now `adata` contains many observations (`obs`) and\n",
    "variables (`var`). Those can be used for filtering and analysis purpose,\n",
    "as well as they might be needed by some scanpy tools"
   ]
  },
  {
   "cell_type": "code",
   "execution_count": null,
   "id": "cell-24",
   "metadata": {
    "tags": []
   },
   "outputs": [],
   "source": [
    "adata"
   ]
  },
  {
   "cell_type": "markdown",
   "id": "b13479ff-bc65-4057-8db7-907bce6f0290",
   "metadata": {},
   "source": [
    "`adata.obs` is a dataframe, i.e. a table with indexes on the rows (cell\n",
    "barcodes) and column names (the observation types). One can select a\n",
    "specific observation type by indexing it in the table. We use `.head()`\n",
    "to show only the first few lines of the dataframe."
   ]
  },
  {
   "cell_type": "code",
   "execution_count": null,
   "id": "cell-26",
   "metadata": {
    "tags": []
   },
   "outputs": [],
   "source": [
    "adata.obs.head()"
   ]
  },
  {
   "cell_type": "code",
   "execution_count": null,
   "id": "cell-27",
   "metadata": {
    "tags": []
   },
   "outputs": [],
   "source": [
    "adata.obs['batch'] #sample label - the data contains 15 separate samples"
   ]
  },
  {
   "cell_type": "markdown",
   "id": "9282cf23-596f-4fe3-a21e-502c6b6fe250",
   "metadata": {},
   "source": [
    "`adata.var` works similarly, but now each row is referred to a gene"
   ]
  },
  {
   "cell_type": "code",
   "execution_count": null,
   "id": "cell-29",
   "metadata": {
    "tags": []
   },
   "outputs": [],
   "source": [
    "adata.var.head()"
   ]
  },
  {
   "cell_type": "code",
   "execution_count": null,
   "id": "cell-30",
   "metadata": {
    "tags": []
   },
   "outputs": [],
   "source": [
    "adata.var['n_cells_by_counts'] #nr of cells showing transcripts of a gene"
   ]
  },
  {
   "cell_type": "markdown",
   "id": "7412a53d-6f45-4139-9333-c936f025ae81",
   "metadata": {},
   "source": [
    "## Preprocessing\n",
    "\n",
    "We preprocess the dataset by filtering cells and genes according to\n",
    "various quality measures and removing doublets. Note that we are working\n",
    "with all the samples at once. It is more correct to filter one sample at\n",
    "a time, and then merge them together prior to normalization, but we are\n",
    "keeping the samples merged for simplicity, and because the various\n",
    "samples are technically quite homogeneous.\n",
    "\n",
    "### Quality Filtering\n",
    "\n",
    "Using the prefix `MT-` in the gene names we calculate the percentage of\n",
    "mithocondrial genes in each cell, and store this value as an observation\n",
    "in `adata.obs`. Cells with high MT percentage are often broken cells\n",
    "that spilled out mithocondrial content (in this case they will often\n",
    "have low gene and transcript counts), cells captured together with\n",
    "residuals of broken cells (more unlikely if a good job in the sequencing\n",
    "lab has been done) or empty droplets containing only ambient RNA."
   ]
  },
  {
   "cell_type": "code",
   "execution_count": null,
   "id": "cell-33",
   "metadata": {
    "tags": []
   },
   "outputs": [],
   "source": [
    "MT = ['MT-' in i for i in adata.var_names] #a vector with True and False to find MT genes\n",
    "perc_mito = np.sum( adata[:,MT].X, 1 ).A1 / np.sum( adata.X, 1 ).A1\n",
    "adata.obs['perc_mito'] = perc_mito.copy()"
   ]
  },
  {
   "cell_type": "markdown",
   "id": "48c1459d-977b-44ba-a58b-3229592430db",
   "metadata": {},
   "source": [
    "One can identify cells to be filtered out by looking at the relation\n",
    "between number of transcripts (horizontal axis) and number of genes per\n",
    "cell (vertical axis), coloured by percent of MT genes. We can see that\n",
    "high percentages of mitocondrial genes are present for cells that have\n",
    "less than 1000 detected genes (vertical axis)."
   ]
  },
  {
   "cell_type": "code",
   "execution_count": null,
   "id": "cell-35",
   "metadata": {
    "tags": []
   },
   "outputs": [],
   "source": [
    "sc.pl.scatter(adata, x='total_counts', y='n_genes_by_counts', color='perc_mito', \n",
    "              title='Transcript vs detected genes coloured by mitochondrial content')"
   ]
  },
  {
   "cell_type": "markdown",
   "id": "982caad9-bf06-4b5f-ba01-02b10f8fe74b",
   "metadata": {},
   "source": [
    "We can zoom into the plot by selecting cells with less than 3000 genes"
   ]
  },
  {
   "cell_type": "code",
   "execution_count": null,
   "id": "cell-37",
   "metadata": {
    "tags": []
   },
   "outputs": [],
   "source": [
    "sc.pl.scatter(adata[adata.obs['n_genes_by_counts']<3000], x='total_counts', y='n_genes_by_counts', color='perc_mito',\n",
    "             title='Transcript vs detected genes coloured by mitochondrial content\\nfor <3000 genes')"
   ]
  },
  {
   "cell_type": "markdown",
   "id": "9286b6c4-9f5b-41bd-b086-41d5205510a1",
   "metadata": {},
   "source": [
    "Another useful visualization is the distribution of each quality feature\n",
    "of the data. We look at the amount of transcripts per cell zooming into\n",
    "the interval (0,20000) transcripts to find a lower threshold. Usually,\n",
    "there is a peak with low quality cells on the left side of the\n",
    "histogram, or a descending tail. The threshold whould select such peak\n",
    "(or tail). In our case we can select 2000 as threshold. Hover on the\n",
    "plots with the mouse to see the value of each bar of the histogram."
   ]
  },
  {
   "cell_type": "code",
   "execution_count": null,
   "id": "cell-39",
   "metadata": {
    "tags": []
   },
   "outputs": [],
   "source": [
    "fig = px.histogram(adata[adata.obs['total_counts']<20000].obs, x='total_counts', nbins=100,\n",
    "                  title='distribution of total transcripts per cell for <20000 transcripts')\n",
    "fig.show()"
   ]
  },
  {
   "cell_type": "markdown",
   "id": "040a380a-e459-4da0-993b-80c0fdc86b2d",
   "metadata": {},
   "source": [
    "For the upper threshold of the number of transcripts, we can choose\n",
    "40000"
   ]
  },
  {
   "cell_type": "code",
   "execution_count": null,
   "id": "cell-41",
   "metadata": {
    "tags": []
   },
   "outputs": [],
   "source": [
    "fig = px.histogram(adata.obs, x='total_counts', nbins=100, \n",
    "                   title='distribution of total transcripts per cell')\n",
    "fig.show()"
   ]
  },
  {
   "cell_type": "markdown",
   "id": "ca77fae5-caaf-4145-b015-92277ef589b6",
   "metadata": {},
   "source": [
    "Regarding the number of detected genes, a lower threshold could be\n",
    "around 800 genes. An Upper threshold can be 8000 genes, to remove the\n",
    "tail on the right side of the histogram"
   ]
  },
  {
   "cell_type": "code",
   "execution_count": null,
   "id": "cell-43",
   "metadata": {
    "tags": []
   },
   "outputs": [],
   "source": [
    "fig = px.histogram(adata.obs, x='n_genes_by_counts', nbins=100, title='distribution of detected genes per cell')\n",
    "fig.show()"
   ]
  },
  {
   "cell_type": "markdown",
   "id": "aec1192b-6002-41ef-985d-1448750d0d7c",
   "metadata": {},
   "source": [
    "Cells with too much mitochondrial content might be broken cells spilling\n",
    "out MT content, or ambient noise captured into the droplet. Standard\n",
    "values of the threshold are between 5% and 20%. We select 20%."
   ]
  },
  {
   "cell_type": "code",
   "execution_count": null,
   "id": "cell-45",
   "metadata": {
    "tags": []
   },
   "outputs": [],
   "source": [
    "fig = px.histogram(adata.obs, x='perc_mito', nbins=100, title='distribution of mitochondrial content per cell')\n",
    "fig.show()"
   ]
  },
  {
   "cell_type": "markdown",
   "id": "9759039a-2c9c-4c9e-ba46-0fda9ddbe4a4",
   "metadata": {},
   "source": [
    "Finally, we look at the percentage of transcripts expressing genes in\n",
    "each cell. We plot the genes showing the highest percentages in a\n",
    "barplot. We can see MALAT1 is expressed in up to 60% of the transcripts\n",
    "in some cells. This can be an indicator of cells with too low quality.\n",
    "Other genes that are highly expressed are of the mitocondrial type and\n",
    "will be filtered out already with the mitochondrial threshold. PRM1,\n",
    "PRM2, PTGDS are typical of spermatogonial processes, and we do not\n",
    "consider those as unusual.\n",
    "\n",
    "The expression matrix is in compressed format (a so-called sparse\n",
    "matrix), but from now on we will need only the uncompressed matrix. We\n",
    "made a little function to decompress the matrix (`array_and_densify`)."
   ]
  },
  {
   "cell_type": "code",
   "execution_count": null,
   "id": "cell-47",
   "metadata": {},
   "outputs": [],
   "source": [
    "adata.X = array_and_densify(adata.X)"
   ]
  },
  {
   "cell_type": "code",
   "execution_count": null,
   "id": "cell-48",
   "metadata": {
    "tags": []
   },
   "outputs": [],
   "source": [
    "%matplotlib inline\n",
    "\n",
    "fig, ax = plt.subplots(1,1)\n",
    "ax.set_title('Top genes in terms of percentage of transcripts explained in each cell')\n",
    "fig = sc.pl.highest_expr_genes(adata, n_top=20, ax=ax)\n",
    "fig"
   ]
  },
  {
   "cell_type": "markdown",
   "id": "ec8cf423-7298-4099-89ea-7f83ed34442b",
   "metadata": {},
   "source": [
    "We save the percentages of transcripts expressing MALAT1 and select a\n",
    "threshold for this values. We choose 10% as threshold to cut out the\n",
    "upper tail."
   ]
  },
  {
   "cell_type": "code",
   "execution_count": null,
   "id": "cell-50",
   "metadata": {
    "tags": []
   },
   "outputs": [],
   "source": [
    "perc_malat = np.sum( adata[:,'MALAT1'].X, 1 ) / np.sum( adata.X, 1 )\n",
    "adata.obs['perc_MALAT1'] = perc_malat.copy()"
   ]
  },
  {
   "cell_type": "code",
   "execution_count": null,
   "id": "cell-51",
   "metadata": {
    "tags": []
   },
   "outputs": [],
   "source": [
    "fig = px.histogram(adata.obs, x='perc_MALAT1', nbins=100, title='Distribution of the amount of MALAT1 transcripts in each cell')\n",
    "fig.show()"
   ]
  },
  {
   "cell_type": "markdown",
   "id": "49e1ebcf-1091-436d-83db-2409358461c7",
   "metadata": {},
   "source": [
    "Note also how cells with high amount of MALAT1 expression are usually\n",
    "cells of low quality, containing a low amount of transcripts (position\n",
    "the mouse on some of the dots to see the values). This means that many\n",
    "of the cells with high content of MALAT1 will be also filtered out when\n",
    "removing cells with low amount of transcripts. This is compatible with\n",
    "the fact that MALAT1 can indicate dead cells who underwent apoptosis."
   ]
  },
  {
   "cell_type": "code",
   "execution_count": null,
   "id": "cell-53",
   "metadata": {
    "tags": []
   },
   "outputs": [],
   "source": [
    "px.scatter(data_frame=adata.obs, x='total_counts', y='perc_MALAT1', \n",
    "           title='Relationship between amount of MALAT1 gene and transcripts per cell')"
   ]
  },
  {
   "cell_type": "markdown",
   "id": "7918a49a-5403-42c9-b56b-f90e55bedacf",
   "metadata": {},
   "source": [
    "We use the following commands to implement some of the thresholds\n",
    "discussed in the plots above"
   ]
  },
  {
   "cell_type": "code",
   "execution_count": null,
   "id": "cell-55",
   "metadata": {
    "tags": []
   },
   "outputs": [],
   "source": [
    "sc.preprocessing.filter_cells(adata, max_genes=8000)"
   ]
  },
  {
   "cell_type": "code",
   "execution_count": null,
   "id": "cell-56",
   "metadata": {
    "tags": []
   },
   "outputs": [],
   "source": [
    "sc.preprocessing.filter_cells(adata, min_genes=800)"
   ]
  },
  {
   "cell_type": "code",
   "execution_count": null,
   "id": "cell-57",
   "metadata": {
    "tags": []
   },
   "outputs": [],
   "source": [
    "sc.preprocessing.filter_cells(adata, max_counts=40000)"
   ]
  },
  {
   "cell_type": "code",
   "execution_count": null,
   "id": "cell-58",
   "metadata": {
    "tags": []
   },
   "outputs": [],
   "source": [
    "adata = adata[adata.obs['perc_mito']<0.2].copy()"
   ]
  },
  {
   "cell_type": "code",
   "execution_count": null,
   "id": "cell-59",
   "metadata": {
    "tags": []
   },
   "outputs": [],
   "source": [
    "adata = adata[adata.obs['perc_MALAT1']<0.1].copy()"
   ]
  },
  {
   "cell_type": "markdown",
   "id": "e613d496-a123-47e9-95b8-ade59c6926b1",
   "metadata": {},
   "source": [
    "It is good practice to also remove those genes found in too few cells\n",
    "(for example in 10 or less cells). Any cell type clustering 10 or less\n",
    "cells will be undetected in the data, but in any case it would be\n",
    "irrelevant to have such tiny clusters, since statistical analysis on\n",
    "those would be unreliable."
   ]
  },
  {
   "cell_type": "code",
   "execution_count": null,
   "id": "cell-61",
   "metadata": {
    "tags": []
   },
   "outputs": [],
   "source": [
    "sc.preprocessing.filter_genes(adata, min_cells=10)"
   ]
  },
  {
   "cell_type": "code",
   "execution_count": null,
   "id": "cell-62",
   "metadata": {
    "tags": []
   },
   "outputs": [],
   "source": [
    "print('There are now', adata.shape[0], 'cells and', adata.shape[1],'genes after filtering')"
   ]
  },
  {
   "cell_type": "markdown",
   "id": "5b3da57d-3e3b-4207-8682-d0b9ffedc7ad",
   "metadata": {},
   "source": [
    "### Doublets removal\n",
    "\n",
    "Another important step consists in filtering out multiplets. We will use\n",
    "the package `scrublet` [(Wolock et al,\n",
    "2019)](https://www.cell.com/cell-systems/pdfExtended/S2405-4712(18)30474-5),\n",
    "that simulates doublets from the data and compare the simulations to the\n",
    "real data to find any doublet-like cells in it."
   ]
  },
  {
   "cell_type": "markdown",
   "id": "bc712147-3cae-4a4b-9e8a-360b04f18922",
   "metadata": {},
   "source": [
    "<img src=\"images/scrublet.jpg\" width=\"700\" alt=\"Scrublet\">"
   ]
  },
  {
   "cell_type": "markdown",
   "id": "75d20b4d-39cf-466c-9556-1124f701e383",
   "metadata": {},
   "source": [
    "Figure: schematics of the `scrublet algorithm`, from the related paper."
   ]
  },
  {
   "cell_type": "markdown",
   "id": "eb766453-356a-4c11-85bd-5a6f66eb36a1",
   "metadata": {},
   "source": [
    "<img src=\"images/doublet_rates.png\" width=\"700\" alt=\"Doublets\">"
   ]
  },
  {
   "cell_type": "markdown",
   "id": "5aec996f-a4a0-4e36-86f2-9acafc137d7d",
   "metadata": {},
   "source": [
    "Figure: doublet rates for various setting in a single cell experiment\n",
    "with 10X technology."
   ]
  },
  {
   "cell_type": "markdown",
   "id": "06d9f25a-13e7-44a9-ae06-63413c04ea70",
   "metadata": {},
   "source": [
    ":::{.callout-note}\n",
    "\n",
    "Multiplets are in the almost totality of the cases doublets, because\n",
    "triplets and higher multiplets are extremely rare. We will thus talk\n",
    "only about doublets instead of multiplets. Read [this more technical\n",
    "blog\n",
    "post](https://liorpachter.wordpress.com/2019/02/07/sub-poisson-loading-for-single-cell-rna-seq/)\n",
    "for deeper explanations about this fact.\n",
    "\n",
    "As a rule of thumb, you can have a look [at this\n",
    "table](https://kb.10xgenomics.com/hc/en-us/articles/360059124751-Why-is-the-multiplet-rate-different-for-the-Next-GEM-Single-Cell-3-LT-v3-1-assay-compared-to-other-single-cell-applications-)\n",
    "to see what is the expected amount of doublets rate for different\n",
    "amounts of cells loaded in a single cell 10X experiment. In our case,\n",
    "each sample ranges somewhere between 3000 and 5000 cells, meaning there\n",
    "were somewhere between 8000 and 10000 loaded cells in each experiment\n",
    "(assuming efficiency of cell capture between 50% and 70%), so one could\n",
    "use 6-8% as a guess.\n",
    "\n",
    ":::"
   ]
  },
  {
   "cell_type": "markdown",
   "id": "f776b864-fc1a-488a-88cf-cf781a5a832b",
   "metadata": {},
   "source": [
    "<img src=\"images/doublet_rates.png\" width=\"700\" alt=\"Doublets\">"
   ]
  },
  {
   "cell_type": "markdown",
   "id": "ffce3d60-af8b-465c-a453-7314126e4da5",
   "metadata": {},
   "source": [
    "Figure: doublet rates for various setting in a single cell experiment\n",
    "with 10X technology."
   ]
  },
  {
   "cell_type": "markdown",
   "id": "4d39a0a7-7000-4b54-8932-bd2dbd138953",
   "metadata": {},
   "source": [
    "Below, we run the detection and obtain a score between 0 and 1 for each\n",
    "doublet. We will use that score for filtering"
   ]
  },
  {
   "cell_type": "code",
   "execution_count": null,
   "id": "cell-64",
   "metadata": {},
   "outputs": [],
   "source": [
    "import scrublet\n",
    "scrub = scrublet.Scrublet(adata.X, expected_doublet_rate=0.08, random_state=123)\n",
    "doublet_score, _ = scrub.scrub_doublets(verbose=True)"
   ]
  },
  {
   "cell_type": "markdown",
   "id": "6455b026-2977-451f-b545-59fa3fb73f71",
   "metadata": {},
   "source": [
    "We gave 8% as expected doublet rate, but note how the algorithm\n",
    "estimated that the doublet rate is estimated to be actually 2-3%. Not\n",
    "far away from what one could guess using the doublet rates’ table,\n",
    "meaning that, in this regard, the data has been produced pretty well.\n",
    "\n",
    "We now plot the doublet scores assigned to each cell by the algorithm.\n",
    "We can see that most cells have a low score (the score is a value\n",
    "between 0 and 1, where 1 is a theoretically perfect doublet). Datasets\n",
    "with many doublets show a more bimodal distribution (look for example at\n",
    "[this jupyter\n",
    "notebook](https://github.com/swolock/scrublet/blob/master/examples/scrublet_basics.ipynb)\n",
    "from the `scrublet` tutorial), while here we just have a light tail\n",
    "beyond 0.1. Therefore we will filter out the cells above this threshold"
   ]
  },
  {
   "cell_type": "code",
   "execution_count": null,
   "id": "cell-66",
   "metadata": {},
   "outputs": [],
   "source": [
    "fig = px.histogram(adata.obs, x=doublet_score, title='Distribution of doublet scores per cell')\n",
    "fig.show()"
   ]
  },
  {
   "cell_type": "code",
   "execution_count": null,
   "id": "cell-67",
   "metadata": {},
   "outputs": [],
   "source": [
    "adata = adata[ doublet_score < .1 ].copy()"
   ]
  },
  {
   "cell_type": "markdown",
   "id": "0e9c7d16-0085-4275-9af6-bba7ec907533",
   "metadata": {},
   "source": [
    "### Data Normalization\n",
    "\n",
    "Biologically similar cells are not necessarily **directly comparable**\n",
    "in a dataset because of different technical biases - amongst many the\n",
    "different percentage of captured transcripts (capture efficiency), the\n",
    "presence of technical replicates, the presence of noisy transcripts. The\n",
    "capture efficiency can be influenced by many factors, i.e. the different\n",
    "transcript tags leading to different capture efficiency, the type of\n",
    "protocol used in the laboratory, the amount of PCR performed on\n",
    "different transcripts. Biological biases might as well alter the\n",
    "transcript proportion in a cell, for example in case of different points\n",
    "in the cell cycles altering the expression of specific genes.\n",
    "\n",
    "To avoid these differences, a **normalization** approach is needed.\n",
    "Normalization is one of the main topics of scRNAseq data preprocessing,\n",
    "and many advanced techniques take into account the statistical\n",
    "distribution of counts and the presence of technical/biological features\n",
    "of interest ([Lytal et al,\n",
    "2020](https://www.frontiersin.org/articles/10.3389/fgene.2020.00041/full)).\n",
    "\n",
    "The most standard approach is the **TMP (Transcript Per Million)\n",
    "normalization**. Here, the transcripts is each cell are rescaled by a\n",
    "factor such that each cell has the same number of transcripts. After TPM\n",
    "rescaling, the data is usually logarithmized, so that a transcript *x*\n",
    "becomes *log(x+1)*. Logarithmization is known to help reducing the\n",
    "technical bias induced by the amount of transcripts in each cell.\n",
    "Finally, the data is standardized with mean 0 and variance 1. This is\n",
    "necessary since the PCA assumes implicitly that datapoints are normally\n",
    "distributed.\n",
    "\n",
    "As a rule of thumb, TPM works fine but might introduce biases in the\n",
    "data, mostly due to technical differences that are not always removed by\n",
    "normalization. It is possible to use more advanced methods for\n",
    "considering technical and biological covariates as part of a statistical\n",
    "model for the transcripts. One of the current state-of-the-art method is\n",
    "*scTransform* ([Hafemeister and Satija,\n",
    "2019](https://genomebiology.biomedcentral.com/articles/10.1186/s13059-019-1874-1)).\n",
    "This is currently implemented in `R`.\n",
    "\n",
    "### Effect of normalization on technical features\n",
    "\n",
    "Before normalizing we look at the highest correlation between the PCA of\n",
    "the raw data and some technical features. The first component of the PCA\n",
    "has the highest *R^2* when correlated with the total amount of\n",
    "transcripts. PC5 is mostly correlated with the amount of mitochondrial\n",
    "transcripts. This means that the two PC components mostly describe\n",
    "variations in the technical features and misses the description of\n",
    "biological variation. We will see after normalization that these\n",
    "correlations are reduced. Note that we are plotting the correlations for\n",
    "one specific sample, `Guo1`, but the concept holds for the remaining\n",
    "samples."
   ]
  },
  {
   "cell_type": "code",
   "execution_count": null,
   "id": "cell-71",
   "metadata": {
    "tags": []
   },
   "outputs": [],
   "source": [
    "sc.preprocessing.pca(adata, svd_solver='arpack', random_state=12345)\n",
    "dependentFeatures(adata=adata[adata.obs['batch']=='Guo1'], obs_subset=['total_counts','perc_mito'])"
   ]
  },
  {
   "cell_type": "markdown",
   "id": "d58b8721-e9da-4242-8efc-fdd7ef85904a",
   "metadata": {},
   "source": [
    "<font size=\"+2\"> <b> Optional task </b> </font>\n",
    "\n",
    "Try to look at other samples and see if there are some principal\n",
    "components highly dependent with technical features. You might also want\n",
    "to choose other technical features from the data.\n",
    "\n",
    "The available samples are"
   ]
  },
  {
   "cell_type": "code",
   "execution_count": null,
   "id": "cell-73",
   "metadata": {
    "tags": []
   },
   "outputs": [],
   "source": [
    "print( list(adata.obs['batch'].cat.categories) )"
   ]
  },
  {
   "cell_type": "markdown",
   "id": "8ad2673c-eb04-4836-b603-97b7f0af811e",
   "metadata": {},
   "source": [
    "and the technical features"
   ]
  },
  {
   "cell_type": "code",
   "execution_count": null,
   "id": "cell-75",
   "metadata": {
    "tags": []
   },
   "outputs": [],
   "source": [
    "print( list( adata.obs.columns ) )"
   ]
  },
  {
   "cell_type": "markdown",
   "id": "49119dc4-c5b9-4b96-bd19-17ae93ef0128",
   "metadata": {},
   "source": [
    "There are already two technical features into the command below. Add one of the sample names and any feature, if you want to add any"
   ]
  },
  {
   "cell_type": "code",
   "execution_count": null,
   "id": "cell-76",
   "metadata": {
    "tags": []
   },
   "outputs": [],
   "source": [
    "dependentFeatures(adata=adata[adata.obs['batch'] == ''], #sample name\n",
    "                  obs_subset=['total_counts','perc_mito']) #technical features"
   ]
  },
  {
   "cell_type": "markdown",
   "id": "4fe3c0ec-b2c8-4d7e-b8fa-204fec706cc7",
   "metadata": {},
   "source": [
    "<font size=\"+2\"> <b> End of optional task </b> </font>\n",
    "\n",
    "Here we execute the normalization steps. We use the standard TPM\n",
    "normalization and evaluate the result looking at the data projections\n",
    "later on - our datasets are of very good quality, so there will be no\n",
    "problems with the simple TMP normalization. We select also the most\n",
    "variable genes to avoid considering genes that have very constant\n",
    "expression across all the dataset, and are therefore not informative.\n",
    "The most variable genes are used to create the PCA projection of the\n",
    "data, and we can use them also in other parts of the analysis.\n",
    "\n",
    "When doing normalization, we also want to choose the amount of most\n",
    "variable genes. To do so, we plot the histogram of each gene’s variance,\n",
    "choose a threshold and see how many genes go above that threshold."
   ]
  },
  {
   "cell_type": "code",
   "execution_count": null,
   "id": "cell-80",
   "metadata": {
    "tags": []
   },
   "outputs": [],
   "source": [
    "variance = np.ravel(np.log1p(np.var(adata.X, axis=0)))\n",
    "px.histogram(variance, title='Log-variance of each gene')"
   ]
  },
  {
   "cell_type": "markdown",
   "id": "1eaaa022-94f1-479a-a23f-0179e6d69aba",
   "metadata": {},
   "source": [
    "We zoom between 0 and 1, from which we can see decide to set a minimum\n",
    "threshold of 0.05, since we can also see that around 13000 genes have\n",
    "the three smallest variance values in the histograms. 0.05 is the\n",
    "threshold above those bars. There will be around 15000 genes with a\n",
    "variance above 0.05. Keep in mind this value, you will see it is used in\n",
    "the normalization step. Using the most variable genes is useful to avoid\n",
    "noise from genes which do not vary along the data when calculating PCA."
   ]
  },
  {
   "cell_type": "code",
   "execution_count": null,
   "id": "cell-82",
   "metadata": {
    "tags": []
   },
   "outputs": [],
   "source": [
    "px.histogram(variance, range_x=(0,1), nbins=1000, title='Log-variance of each gene (zoom up to 1)')"
   ]
  },
  {
   "cell_type": "code",
   "execution_count": null,
   "id": "cell-83",
   "metadata": {
    "tags": []
   },
   "outputs": [],
   "source": [
    "print(f'{sum(variance>0.05)} genes have a variance above 0.05')"
   ]
  },
  {
   "cell_type": "markdown",
   "id": "a73e7a23-ea2c-44fc-a2ac-a1879a31baa6",
   "metadata": {},
   "source": [
    "Finally! Now we can normalize, label the 15000 most variable genes and\n",
    "scale the data"
   ]
  },
  {
   "cell_type": "code",
   "execution_count": null,
   "id": "cell-85",
   "metadata": {
    "tags": []
   },
   "outputs": [],
   "source": [
    "# save raw data matrix\n",
    "adata.layers['raw_counts'] = adata.X.copy()\n",
    "# TPM normalization\n",
    "sc.pp.normalize_per_cell(adata)\n",
    "# matrix logarithmization\n",
    "sc.pp.log1p(adata)\n",
    "# most variable genes\n",
    "sc.pp.highly_variable_genes(adata, n_top_genes=15000)\n",
    "#scale\n",
    "sc.pp.scale(adata)\n",
    "adata.layers['scaled_counts'] = adata.X.copy()"
   ]
  },
  {
   "cell_type": "markdown",
   "id": "71346bc5-e1e9-4572-99cf-d16aaa472312",
   "metadata": {},
   "source": [
    "After normalization the linear correlations with technical features are\n",
    "visibly much reduced."
   ]
  },
  {
   "cell_type": "code",
   "execution_count": null,
   "id": "cell-87",
   "metadata": {
    "tags": []
   },
   "outputs": [],
   "source": [
    "sc.preprocessing.pca(adata, svd_solver='arpack', random_state=123, use_highly_variable=True)\n",
    "dependentFeatures(adata=adata[adata.obs['batch']=='Guo1'], obs_subset=['total_counts','perc_mito'])"
   ]
  },
  {
   "cell_type": "markdown",
   "id": "35676e0c-6bf1-4699-9384-bb98725196ae",
   "metadata": {},
   "source": [
    "### Dimensionality reduction\n",
    "\n",
    "With the term **dimensionality reduction**, we intend the projection of\n",
    "each data point (cell) x=\\[x_1, x_2, , x\\_{N\\_{cell}}\\] into a data\n",
    "point $y$ in $D$ dimensions, so that $y=[y_1, y_2, \\dots, y_D]$, where\n",
    "$D << N_{cell}$.\n",
    "\n",
    "Dimensionality reduction is meaningful for single cell data analysis,\n",
    "since we know that the genes are expressed in modules of co-expression,\n",
    "meaning that the behaviour of many co-expressed genes can be compressed\n",
    "into the same dimension.\n",
    "\n",
    "Moreover, using computationally heavy algorithms on the reduced data\n",
    "will help speeding up calculations and reduce memory use, though using a\n",
    "reliable approximation of the full-dimension dataset.\n",
    "\n",
    "### PCA\n",
    "\n",
    "PCA is one of the most used dimensionality reduction methods. It\n",
    "projects the data by identifying the axis of maximum variation. Since\n",
    "axis are orthogonal, PCA is best for data that has a linear behaviour.\n",
    "However, it has proved to be a reliable method for single cell data,\n",
    "especially to establish the PCA projection as the starting point for\n",
    "computational methods. We calculated the PCA already few lines above,\n",
    "when we checked the correlation with technical variables after\n",
    "normalization.\n",
    "\n",
    "You can visualize the ratio of variances of each subsequent pair of\n",
    "principal components, where you can see which number of dimensions is\n",
    "best to consider for further applications. Low variance ratios\n",
    "illustrate that along their principal components only little information\n",
    "is represented, probably mostly backgound noise of the dataset. Here we\n",
    "can for example say that 15 dimensions mostly explain the meaningful\n",
    "biological variation in the data. We will use the option `n_pcs=15` in\n",
    "some of the functions of `scanpy` that are based on the PCA."
   ]
  },
  {
   "cell_type": "code",
   "execution_count": null,
   "id": "cell-91",
   "metadata": {
    "tags": []
   },
   "outputs": [],
   "source": [
    "sc.plotting.pca_variance_ratio(adata)"
   ]
  },
  {
   "cell_type": "markdown",
   "id": "ed9059ef-5565-4248-95de-02a4ad7a5368",
   "metadata": {},
   "source": [
    "You can plot any dimensionality reduction and colour cells by elements\n",
    "of `adata.obs` or by gene expression. Below we plot the PCA coloured by\n",
    "different samples composing the dataset, the total number of transcripts\n",
    "and the expression of gene SYCP1. Note how the various samples overlap\n",
    "into the PCA plot. In some cases you can see that the PCA plot is\n",
    "composed of chunks separated by sample, but fortunately this is not our\n",
    "situation.\n",
    "\n",
    "In such case more advanced techniques for normalization are needed, so\n",
    "that the samples are taken into account. `Scanpy` has the function\n",
    "`sc.pp.combat` to normalize accounting samples, but there are many other\n",
    "possibilities such as the package `mnnCorrect`."
   ]
  },
  {
   "cell_type": "code",
   "execution_count": null,
   "id": "cell-93",
   "metadata": {
    "tags": []
   },
   "outputs": [],
   "source": [
    "plt.rcParams['figure.figsize'] = (6,6) #reduce figure size\n",
    "sc.pl.pca(adata, color=['batch','total_counts','SYCP1'])"
   ]
  },
  {
   "cell_type": "markdown",
   "id": "79110b66-b198-4d36-a897-c7e1f7cd4911",
   "metadata": {},
   "source": [
    "### UMAP projection\n",
    "\n",
    "UMAP [(McInnes et al,\n",
    "2018)](https://joss.theoj.org/papers/10.21105/joss.00861) is another\n",
    "projection algorithm that finds the optimal formulation of the\n",
    "projection criteria according to some topological theory, aiming at\n",
    "preserving the structure of the high-dimensional graph describing the\n",
    "data. This projection technique has become [one of the most used and\n",
    "appreciated](https://www.nature.com/articles/s10038-020-00851-4), and is\n",
    "structured in a way that calculations are faster than in other\n",
    "algorithms, and scale less than exponentially with the number of\n",
    "dimensions. Explore [this “paper with\n",
    "code”](https://paperswithcode.com/method/parametric-umap) to learn about\n",
    "UMAP and its extension applied to neural networks. UMAP has also a\n",
    "[manual page](https://umap-learn.readthedocs.io/en/latest/) with other\n",
    "examples in `python`.\n",
    "\n",
    "<img src=\"images/umap.png\" width=\"700\" alt=\"UMAP\">\n",
    "\n",
    "We calculate first the neighborhood of each cell (the distance between\n",
    "the most similar cells). We use the package `bbknn` to take samples into\n",
    "account and reduce any remaining difference between samples, even though\n",
    "we can see a good overlapping in the PCA plot. In case you haven’t\n",
    "multiple samples, you can use the function `sc.pp.neighbors`. Note that\n",
    "we impose the use of 15 PCA components."
   ]
  },
  {
   "cell_type": "code",
   "execution_count": null,
   "id": "cell-96",
   "metadata": {
    "tags": []
   },
   "outputs": [],
   "source": [
    "bbknn.bbknn(adata, n_pcs=15)"
   ]
  },
  {
   "cell_type": "markdown",
   "id": "363f2b40-42c2-409d-a94f-07f76620cdcf",
   "metadata": {},
   "source": [
    "We calculate and plot the UMAP projection. We calculate three\n",
    "components, so we can also produce a 3d plot. The parameters `a` and `b`\n",
    "can be used to strech and compress the projection. Usually they are\n",
    "decided automatically, but you can play with values around `1` to find\n",
    "the plot that is fanciest to you. You are welcome to try various\n",
    "combinations and keep the one you prefere."
   ]
  },
  {
   "cell_type": "code",
   "execution_count": null,
   "id": "cell-98",
   "metadata": {
    "tags": []
   },
   "outputs": [],
   "source": [
    "sc.tools.umap(adata, random_state=12345, n_components=3, a=.9, b=.9)"
   ]
  },
  {
   "cell_type": "markdown",
   "id": "c7233edb-9cb6-4ce3-9a8c-ecf2f3b00774",
   "metadata": {},
   "source": [
    "The plot is made for different pairs of dimensions (1,2 - 1,3 - 2,3) and\n",
    "coloured by a single gene expressed in spermatids. You can observe how\n",
    "there are some smaller clusters separated from a main block of cells\n",
    "looking like a long “snake”. Note also that clusters that seem close to\n",
    "each other, might actually end up being far away when rotating our point\n",
    "of view."
   ]
  },
  {
   "cell_type": "code",
   "execution_count": null,
   "id": "cell-100",
   "metadata": {
    "tags": []
   },
   "outputs": [],
   "source": [
    "sc.plotting.umap(adata, color=['TNP2'], components=['1,2','1,3','2,3'])"
   ]
  },
  {
   "cell_type": "markdown",
   "id": "3e6de1b6-993d-4ffc-bcec-449a4e787869",
   "metadata": {},
   "source": [
    "We can look better at the projection in 3D. Here the colour represents\n",
    "the total transcripts per cell. The main group of cells seems twisting\n",
    "at least twice without overlapping, but we do not see any branching.\n",
    "This might mean that there is only one differentiation path. Use the\n",
    "mouse to rotate and zoom in and out the interactive plot."
   ]
  },
  {
   "cell_type": "code",
   "execution_count": null,
   "id": "cell-102",
   "metadata": {
    "tags": []
   },
   "outputs": [],
   "source": [
    "X = adata.obsm['X_umap']\n",
    "fig = px.scatter_3d(adata.obsm, x=X[:,0], y=X[:,1], z=X[:,2], color=adata.obs['total_counts'], opacity=.5, height=800)\n",
    "fig.show()"
   ]
  },
  {
   "cell_type": "markdown",
   "id": "46aad51e-dd77-48fb-9dff-804f2cac7810",
   "metadata": {},
   "source": [
    "We can also colour by a specific gene. Try any gene you want (inserted\n",
    "here instead of `TNP2`)"
   ]
  },
  {
   "cell_type": "code",
   "execution_count": null,
   "id": "cell-104",
   "metadata": {
    "tags": []
   },
   "outputs": [],
   "source": [
    "X = adata.obsm['X_umap']\n",
    "fig = px.scatter_3d(adata.obsm, x=X[:,0], y=X[:,1], z=X[:,2], color=np.ravel(adata[:,'TNP2'].X), height=1000)\n",
    "fig.show()"
   ]
  },
  {
   "cell_type": "markdown",
   "id": "f82d423b-c7d3-4481-80b5-f5406e9f5ced",
   "metadata": {},
   "source": [
    "You can also use a standard plotting command to visualize the 3d plot,\n",
    "but it cannot be rotated interactively"
   ]
  },
  {
   "cell_type": "code",
   "execution_count": null,
   "id": "cell-106",
   "metadata": {
    "tags": []
   },
   "outputs": [],
   "source": [
    "sc.plotting.umap(adata, color=['TNP2'], projection='3d', components=['1,2,3'] )"
   ]
  },
  {
   "cell_type": "markdown",
   "id": "e47e2c5b-b49e-4e61-9ea9-83a8b6288c04",
   "metadata": {},
   "source": [
    "<font size=\"+2\"> <b> Exercise: tSNE projection </b> </font>\n",
    "\n",
    "PCA and UMAP are two of the many projection methods available at the\n",
    "moment. Before UMAP, a very popular method was (and still is) tSNE [van\n",
    "der Maaten and Hinton,\n",
    "2008](https://www.jmlr.org/papers/volume9/vandermaaten08a/vandermaaten08a.pdf).\n",
    "tSNE tries to match the statistical distribution of the high-dimensional\n",
    "data and its projection. The statistical distribution modeling\n",
    "high-dimensional data is Cryptoled by a parameter called *perplexity*,\n",
    "defining how far away cells are considered to be in the neighbourhood of\n",
    "a cell. The largest the perplexity, the farther away cells are going to\n",
    "be pulled close to each other in the tSNE projection. In general, tSNE\n",
    "is not very good at keeping the global behaviour of the data into\n",
    "account, while it often pulls cells together in separate chunks.\n",
    "\n",
    "Changing the perplexity can change a lot the output of tSNE, even though\n",
    "it has shown empirically being stable with values between 5 and 50. Here\n",
    "you can experiment different values of the perplexity and plot tSNE. You\n",
    "will see how - for lower perplexities - tSNE cannot keep the dataset\n",
    "together as in the UMAP projection, dividing it instead into many chunks\n",
    "covering a large 2D space. The tSNE algorithm is actually quite slow,\n",
    "especially with increasing perplexity, so we will subsample the dataset\n",
    "to be only 5000 cells. If you must wait too long to get the code\n",
    "executed, reduce this number even more.\n",
    "\n",
    "You can also change the method measuring distances between points. The\n",
    "standard distance is `euclidean`, and you can change this parameter with\n",
    "`cityblock`, `cosine`, `euclidean`, `l1`, `l2`, `manhattan`,\n",
    "`braycurtis`, `canberra`, `chebyshev`, `correlation`, `dice`, `hamming`,\n",
    "`jaccard`, `kulsinski`, `mahalanobis`, `minkowski`, `rogerstanimoto`,\n",
    "`russellrao`, `seuclidean`, `sokalmichener`, `sokalsneath`,\n",
    "`sqeuclidean`, `yule`. Some of those distances are well-known for people\n",
    "handy with data science or mathematics, others are more obscure."
   ]
  },
  {
   "cell_type": "code",
   "execution_count": null,
   "id": "cell-108",
   "metadata": {},
   "outputs": [],
   "source": [
    "YOUR_NAME = 'WRITE YOUR NAME HERE'\n",
    "PERPLEXITY = 5\n",
    "DISTANCE_METRIC = 'euclidean'"
   ]
  },
  {
   "cell_type": "code",
   "execution_count": null,
   "id": "cell-109",
   "metadata": {
    "tags": []
   },
   "outputs": [],
   "source": [
    "adata_sub = sc.pp.subsample(adata, random_state=54321, n_obs=5000, copy=True)"
   ]
  },
  {
   "cell_type": "code",
   "execution_count": null,
   "id": "cell-110",
   "metadata": {
    "tags": []
   },
   "outputs": [],
   "source": [
    "sc.tools.tsne(adata_sub, random_state=54321, perplexity=PERPLEXITY, metric=f'{DISTANCE_METRIC}')"
   ]
  },
  {
   "cell_type": "code",
   "execution_count": null,
   "id": "cell-111",
   "metadata": {
    "tags": []
   },
   "outputs": [],
   "source": [
    "sc.plotting.tsne(adata_sub, color=['batch'], legend_loc=None, frameon=False, title=f'{YOUR_NAME}\\nPerplexity={PERPLEXITY} Metrix={DISTANCE_METRIC}')"
   ]
  },
  {
   "cell_type": "markdown",
   "id": "83d2e269-672a-4709-8ecf-0f235f3074e7",
   "metadata": {},
   "source": [
    "This saves the plot in the folder `figures` using your name, perplexity\n",
    "parameter and distance metric, so that you can save all your `tSNE`\n",
    "attempts."
   ]
  },
  {
   "cell_type": "code",
   "execution_count": null,
   "id": "cell-113",
   "metadata": {
    "tags": []
   },
   "outputs": [],
   "source": [
    "sc.plotting.tsne(adata_sub, color=['batch'], legend_loc=None, frameon=False, \n",
    "                 title=f'{YOUR_NAME}\\nPerplexity={PERPLEXITY} Metric={DISTANCE_METRIC}', show=False,  \n",
    "                 save=f'{YOUR_NAME}Perplexity={PERPLEXITY}Metric={DISTANCE_METRIC}.png')"
   ]
  },
  {
   "cell_type": "markdown",
   "id": "6e9c0a33-9b59-4ffb-bedd-3e4ed616dbe5",
   "metadata": {},
   "source": [
    "------------------------------------------------------------------------\n",
    "\n",
    "## Clusters Identification\n",
    "\n",
    "Cell types can be identified and then assigned to clusters calculated by\n",
    "one of the many available clustering techniques. When identifying a\n",
    "cluster, we can assign that to a likely cell type by visualizing known\n",
    "markers on a projection plot, e.g. an UMAP plot. Similarly, one can\n",
    "score cells for a set of markers. Finally, if an atlas of cell types is\n",
    "available, one can use it for a supervised assignment of cell types\n",
    "([see for example the `R` package\n",
    "`scmap`](https://github.com/hemberg-lab/scmap)) and [the `ingest` tool\n",
    "from\n",
    "`scanpy`](https://scanpy.readthedocs.io/en/stable/generated/scanpy.tl.ingest.html).\n",
    "\n",
    "Be aware that clusters do not necessarily match perfectly cell types\n",
    "(especially if cells change in a continuous way, hard clusters are not\n",
    "the best solution, though an acceptable one).\n",
    "\n",
    "### Print markers’ scores\n",
    "\n",
    "The first step to identify various cell types is to print markers on the\n",
    "UMAP plot. We will print markers’ scores, that is the average expression\n",
    "of a list of markers, subtracted of the average expression of some\n",
    "random genes. We provide a python dictionary including some cell types\n",
    "and a few of their marker genes.\n",
    "\n",
    "A dictionary is a python object in which you can allocate different\n",
    "objects (matrices, vectors, lists, …), each having an assigned name.\n",
    "Here, we have lists of marker genes, where each list is identified by\n",
    "the name of the corresponding cell type. To remember the different\n",
    "stages of spermatogenesis, a scheme is attached below, and you can read\n",
    "more about the spermatogenic process [at this\n",
    "page](https://embryology.ch/en/embryogenese/gametogenesis/spermatogenesis/developmental-stages-of-spermatogenesis.html?p=2#developmental-stages-of-spermatogenesis)\n",
    "\n",
    "<img src=\"images/spermatogenesis.gif\" width=\"500\" alt=\"Spermatogenesis\">"
   ]
  },
  {
   "cell_type": "code",
   "execution_count": null,
   "id": "cell-117",
   "metadata": {
    "tags": []
   },
   "outputs": [],
   "source": [
    "markers = dict() #make an empty dictionary\n",
    "### SPERMATOCYTOGENESIS\n",
    "markers['SpermatogoniaA'] = ['ID4','HMGA1']\n",
    "markers['SpermatogoniaB'] = ['MKI67','DMRT1','STRA8'] \n",
    "markers['SpermatocytesI'] = ['MEIOB','PRSS50','SYCP1','TEX101']\n",
    "markers['SpermatocytesII'] = ['PIWIL1','ACRV1','SPATA16','CLGN']\n",
    "### SPERMIOGENESIS\n",
    "markers['Round.Spt'] = ['SPATA9','SPAM1'] #Round spermatids\n",
    "markers['Elong.Spt'] = ['PRM1','PRM2'] #Elongated spermatids\n",
    "### SOMATIC CELLS\n",
    "markers['Sertoli'] = ['CTSL', 'VIM']\n",
    "markers['Macroph'] = ['CD163','TYROBP']\n",
    "markers['Leydig'] = ['CFD']\n",
    "markers['Endothelial'] = ['CD34']\n",
    "markers['Myoid'] = ['ACTA2']\n",
    "markers['Smooth_Muscle'] = ['RGS5']"
   ]
  },
  {
   "cell_type": "markdown",
   "id": "e678d9c1-dbd9-425c-8f55-e29abbd922e8",
   "metadata": {},
   "source": [
    "We calculate the scores for the markers"
   ]
  },
  {
   "cell_type": "code",
   "execution_count": null,
   "id": "cell-119",
   "metadata": {
    "tags": []
   },
   "outputs": [],
   "source": [
    "markers_scores, adata = marker_score(markers, adata)"
   ]
  },
  {
   "cell_type": "markdown",
   "id": "cd78c36d-3d50-4ba7-a0b2-dada33034aad",
   "metadata": {},
   "source": [
    "Make a separate UMAP plot for every cell type. You should be able to see\n",
    "quite clearly some clusters where the marker’s expressions are stronger.\n",
    "Sertoli cells are usually hard to identify - their markers are expressed\n",
    "also in other cell types, and often Sertoli cells are not captured due\n",
    "to their size. It seems that there aren’t sertoli cells into our\n",
    "dataset."
   ]
  },
  {
   "cell_type": "code",
   "execution_count": null,
   "id": "cell-121",
   "metadata": {
    "tags": []
   },
   "outputs": [],
   "source": [
    "sc.plotting.umap(adata, color=markers_scores, components=['1,2'], ncols=2, vmax=5, s=30, cmap='Blues')"
   ]
  },
  {
   "cell_type": "markdown",
   "id": "cc81521b-b0fb-44b9-8728-5087d0a3caa8",
   "metadata": {},
   "source": [
    "### Leiden clustering algorithm\n",
    "\n",
    "Scanpy contains the *leiden* algorithm [(Traag et al,\n",
    "2019)](https://www.nature.com/articles/s41598-019-41695-z), making\n",
    "clusters whose points are well connected and at the same time mostly\n",
    "disconnected from other clusters. Other approaches, e.g. *k-means*, can\n",
    "be performed on the data or on its PCA/tSNE/UMAP projection. The leiden\n",
    "algorithm is however [considered to be one of the best techniques at the\n",
    "moment](https://theses.liacs.nl/pdf/2017-2018-QatoKristi.pdf) to find\n",
    "communities of similar datapoints, and we will therefore use that. Read\n",
    "more about the leiden algorithm\n",
    "[here](https://api.semanticscholar.org/CorpusID:54692004)."
   ]
  },
  {
   "cell_type": "markdown",
   "id": "01d295ac-393e-4755-80be-7decec4fb54e",
   "metadata": {},
   "source": [
    "<img src=\"images/leiden.png\" width=\"500\" alt=\"leiden\">"
   ]
  },
  {
   "cell_type": "markdown",
   "id": "dffa9e3f-cdea-4114-830b-1b96eac10656",
   "metadata": {},
   "source": [
    "Figure: refinement steps used by the `leiden algorithm` to find\n",
    "communities of well-connected points."
   ]
  },
  {
   "cell_type": "markdown",
   "id": "adc4e794-d67b-4765-b3b0-c592be65cb21",
   "metadata": {},
   "source": [
    "We calculate some clusterings at various resolution, and choose the one\n",
    "matching best the clusters we have visualized from the markers’ score.\n",
    "The amount of clusters depend on the chosen resolution. Later in this\n",
    "tutorial, we will integrate this dataset with another one, showing how\n",
    "to cluster the new data using ours as a “reference” clustering."
   ]
  },
  {
   "cell_type": "code",
   "execution_count": null,
   "id": "cell-123",
   "metadata": {
    "tags": []
   },
   "outputs": [],
   "source": [
    "#leiden clustering at various resolutions\n",
    "sc.tools.leiden(adata, resolution=1, random_state=12345, key_added='leiden_R1')\n",
    "sc.tools.leiden(adata, resolution=0.5, random_state=12345, key_added='leiden_R.5')\n",
    "sc.tools.leiden(adata, resolution=0.25, random_state=12345, key_added='leiden_R.25')\n",
    "sc.tools.leiden(adata, resolution=0.1, random_state=12345, key_added='leiden_R.1')"
   ]
  },
  {
   "cell_type": "markdown",
   "id": "0a4e0c63-15d1-4321-b3ac-6d879ba832a9",
   "metadata": {},
   "source": [
    "We can see that at resolution 1 we have many clusters, and their number\n",
    "decreases with decreasing resolution. We choose resolution 0.5 which has\n",
    "enough clusters to have a fine grained cell type assignment."
   ]
  },
  {
   "cell_type": "code",
   "execution_count": null,
   "id": "cell-125",
   "metadata": {
    "tags": []
   },
   "outputs": [],
   "source": [
    "sc.plotting.umap(adata, color=['leiden_R1','leiden_R.5','leiden_R.25', 'leiden_R.1'], legend_loc='on data', ncols=2)"
   ]
  },
  {
   "cell_type": "markdown",
   "id": "6aa6c593-f2b6-4fcc-902e-e811ddbcf8c3",
   "metadata": {},
   "source": [
    "### Differential Gene expression\n",
    "\n",
    "It is not always easy to assign clusters from marker scores. For\n",
    "example, cluster 12 at resolution 0.25 is not immediately recognizable\n",
    "as pericyte cells. Sometimes it is good to double check which genes are\n",
    "most expressed in a cluster compared to all the others before assigning\n",
    "cell types. Here we look at the 50 most expressed genes in each cluster\n",
    "from the Leiden algorithm.\n",
    "\n",
    "Differential gene expression is also the way of making a sound argument\n",
    "in a publication or report. Showing fancy UMAP plots coloured by gene\n",
    "expression is sadly not enough :) A standard way to do it, is to test if\n",
    "each gene has mean expression higher in a cluster than in all the\n",
    "others. Scanpy does that by using a t-test or the wilcoxon test. While\n",
    "the t-test is somewhat less powerful, the wilcoxon test is not best\n",
    "behaved with very sparse data, so we simply apply the default t-test to\n",
    "the dataset. Note that, for the standard t-test in scanpy, you need to\n",
    "use logarithmized data.\n",
    "\n",
    "More advanced techniques that model the statistical properties of the\n",
    "data, such as its sparsity, are available for differential expression.\n",
    "See for example the package `MAST` ([Finak et al,\n",
    "2015](https://genomebiology.biomedcentral.com/articles/10.1186/s13059-015-0844-5))\n",
    "and the following review on differential expression methods: ([Squair et\n",
    "al, 2021](https://www.nature.com/articles/s41467-021-25960-2))."
   ]
  },
  {
   "cell_type": "code",
   "execution_count": null,
   "id": "cell-128",
   "metadata": {
    "tags": []
   },
   "outputs": [],
   "source": [
    "#Perform the test on logarithmized data\n",
    "adata.X = adata.layers['raw_counts'] #raw data\n",
    "sc.pp.normalize_total(adata) #TPM normalization\n",
    "sc.pp.log1p(adata) #logarithm\n",
    "sc.tl.rank_genes_groups(adata, groupby='leiden_R.5', n_genes=50) #Top 50 diff.expressed genes in each cluster\n",
    "adata.X = adata.layers['scaled_counts'] #Set again the scaled data as standard data matrix"
   ]
  },
  {
   "cell_type": "markdown",
   "id": "21a2a53b-620d-4433-81d8-2fbf926f049f",
   "metadata": {},
   "source": [
    "Organize result in a table. Each column has the cluster numbers with\n",
    "`_N`, `_P`, `_L` representing respectively the gene `N`ames, their\n",
    "`P`-values and the `L`og-fold change of each gene expression compared to\n",
    "the other clusters. Many clusters show markers typical of\n",
    "spermatogenesis processes (MYL9, TEX-genes, …)"
   ]
  },
  {
   "cell_type": "code",
   "execution_count": null,
   "id": "cell-130",
   "metadata": {
    "tags": []
   },
   "outputs": [],
   "source": [
    "result = adata.uns['rank_genes_groups']\n",
    "groups = result['names'].dtype.names\n",
    "X = pd.DataFrame(\n",
    "    {group + '_' + key[:1].upper(): result[key][group]\n",
    "    for group in groups for key in ['names', 'pvals_adj','logfoldchanges']})\n",
    "X.head() #print only first five lines"
   ]
  },
  {
   "cell_type": "markdown",
   "id": "3580a953-214c-40bc-89ef-b8ef03ae7d8b",
   "metadata": {},
   "source": [
    "The table can also be exported into csv format in the folder\n",
    "`results_scrna`. It can be opened using `jupyterlab` as well `Excel` if\n",
    "you download it and set the comma character <kbd>,</kbd> as separator"
   ]
  },
  {
   "cell_type": "code",
   "execution_count": null,
   "id": "cell-132",
   "metadata": {
    "tags": []
   },
   "outputs": [],
   "source": [
    "!mkdir -p results_scrna"
   ]
  },
  {
   "cell_type": "code",
   "execution_count": null,
   "id": "cell-133",
   "metadata": {
    "tags": []
   },
   "outputs": [],
   "source": [
    "X.to_csv('./results_scrna/DiffExpression_NoAnnotation.csv', sep=',', index=None)"
   ]
  },
  {
   "cell_type": "markdown",
   "id": "e226fb98-e4e0-4312-b93c-ed3af4b13d03",
   "metadata": {},
   "source": [
    "### Cluster assignment\n",
    "\n",
    "Defining the most likely cell type present in a cluster is sometimes a\n",
    "very complicated task, especially in big datasets where the cells change\n",
    "from one type to another in a very continuous fashion, making the “hard\n",
    "clustering” not a completely realistic model. However, for many\n",
    "applications, a hard clustering associated with a careful markers\n",
    "analysis is a well-accepted technique in the scientific community, and\n",
    "is used in basically the totality of the state-of-the-art publications.\n",
    "To avoid the subjectivity of assigning clusters by hand, we get the best\n",
    "score for each cell type in each of the clusters. To do that, we average\n",
    "the markers scores calculated before with an ad-hoc function we wrote"
   ]
  },
  {
   "cell_type": "code",
   "execution_count": null,
   "id": "cell-135",
   "metadata": {},
   "outputs": [],
   "source": [
    "adata.obs['spermatogenesis_types'] = clustersByScores(adata, markers_scores, leidenClusters=adata.obs['leiden_R.5'])"
   ]
  },
  {
   "cell_type": "markdown",
   "id": "11d87df6-0509-4114-ab5a-7c0b584b7847",
   "metadata": {},
   "source": [
    "Let’s see how things look like! It seems we have a pretty uniform\n",
    "cluster naming!"
   ]
  },
  {
   "cell_type": "code",
   "execution_count": null,
   "id": "cell-137",
   "metadata": {
    "tags": []
   },
   "outputs": [],
   "source": [
    "plt.rcParams['figure.figsize'] = (12,12)\n",
    "sc.pl.umap( adata, color=['spermatogenesis_types'], \n",
    "           legend_loc='on data', \n",
    "           legend_fontsize=16,\n",
    "           frameon=False,\n",
    "           size=60,\n",
    "           add_outline=True,\n",
    "           ncols=1,\n",
    "           components=['1,2','2,3','1,3'] \n",
    "           )"
   ]
  },
  {
   "cell_type": "markdown",
   "id": "19a80b24-7d2b-40e0-ae0e-c2b83f6cf5d1",
   "metadata": {},
   "source": [
    "<font size=\"+2\"> <b> Exercise: Gene Enrichment Analysis </b> </font>\n",
    "\n",
    "Gene enrichment analysis consists in testing a set of genes to see if it\n",
    "overlaps significantly with lists of genes contained in a database\n",
    "([Maleki et al,\n",
    "2020](https://www.frontiersin.org/articles/10.3389/fgene.2020.00654/full)).\n",
    "There are all sorts of databases related to biological pathways, Tissue\n",
    "types, Transcription factors coexpression, Illnesses, … that contain *a\n",
    "priori* information about sets of genes.\n",
    "\n",
    "We will try to find enrichment of genes for pathways, ontologies or\n",
    "diseases from the differentially expressed genes of a cluster, and we\n",
    "will create a “consensus ontology” collected from all the people in the\n",
    "course. We will use Enrichr ([Chen et al,\n",
    "2013](https://bmcbioinformatics.biomedcentral.com/articles/10.1186/1471-2105-14-128)),\n",
    "that has a web interface of easy use. In this exercise, you will -\n",
    "choose one of the identified clusters - printout a file with a list of\n",
    "differentially expressed genes from the chosen cluster - open the `txt`\n",
    "file (in the folder `results_scrna`) and copy the whole list - paste the\n",
    "list in the [Enrichr website](https://maayanlab.cloud/Enrichr/) - find\n",
    "up to 5 terms you consider to be related to spermatogenesis\n",
    "\n",
    "There are a lot of databases shown in the results from Enrichr,\n",
    "separated in various tabs, so many terms will not be necessarily related\n",
    "to spermatogenesis, or they will be related to basic cellular processes\n",
    "common to many tissues.\n",
    "\n",
    "Remember the available clusters:"
   ]
  },
  {
   "cell_type": "code",
   "execution_count": null,
   "id": "cell-141",
   "metadata": {
    "tags": []
   },
   "outputs": [],
   "source": [
    "print( list( adata.obs['spermatogenesis_types'].cat.categories ) ) "
   ]
  },
  {
   "cell_type": "markdown",
   "id": "11cb2210-a485-408b-a057-b199a253feb1",
   "metadata": {},
   "source": [
    "**Choose the cluster name (write it between the two quotes)**"
   ]
  },
  {
   "cell_type": "code",
   "execution_count": null,
   "id": "cell-143",
   "metadata": {
    "tags": []
   },
   "outputs": [],
   "source": [
    "CHOSEN_CLUSTER = ''"
   ]
  },
  {
   "cell_type": "markdown",
   "id": "01170358-925b-42f4-a9de-89f9360309e0",
   "metadata": {},
   "source": [
    "Run differential expression"
   ]
  },
  {
   "cell_type": "code",
   "execution_count": null,
   "id": "cell-145",
   "metadata": {
    "tags": []
   },
   "outputs": [],
   "source": [
    "#Perform the test on logarithmized data\n",
    "adata.X = adata.layers['raw_counts']\n",
    "sc.pp.normalize_total(adata)\n",
    "sc.pp.log1p(adata)\n",
    "sc.tl.rank_genes_groups(adata, groupby='spermatogenesis_types', n_genes=50)\n",
    "#Use again the scaled data as standard\n",
    "adata.X = adata.layers['scaled_counts']"
   ]
  },
  {
   "cell_type": "markdown",
   "id": "bf2c27d8-731f-4efb-a9f7-b515aa9be9e8",
   "metadata": {},
   "source": [
    "Create the table and print the gene names. Highlight and copy them, so\n",
    "they are ready to be pasted."
   ]
  },
  {
   "cell_type": "code",
   "execution_count": null,
   "id": "cell-147",
   "metadata": {
    "tags": []
   },
   "outputs": [],
   "source": [
    "result = adata.uns['rank_genes_groups']\n",
    "groups = result['names'].dtype.names\n",
    "X = pd.DataFrame(\n",
    "    {group + '_' + key[:1].upper(): result[key][group]\n",
    "    for group in groups for key in ['names', 'pvals_adj','logfoldchanges']})\n",
    "for i in X[f'{CHOSEN_CLUSTER}_N'].values:\n",
    "    print(i)"
   ]
  },
  {
   "cell_type": "markdown",
   "id": "e91a398b-0329-42a8-9d87-f9b031e07cc1",
   "metadata": {},
   "source": [
    "Now paste the genes into the [Enrichr\n",
    "website](https://maayanlab.cloud/Enrichr/), then find possible\n",
    "interesting enriched terms.\n",
    "\n",
    "------------------------------------------------------------------------\n",
    "\n",
    "## Data dynamics\n",
    "\n",
    "Knowing the beginning of a differentiation process for the cells of an\n",
    "organ, we can model how the development proceeds. This is done by the\n",
    "pseudotimes, based on the statistical concept of diffusion maps ([Ronald\n",
    "Coifman and Stephane Lafon,\n",
    "2006](http://www.sciencedirect.com/science/article/pii/S1063520306000546),\n",
    "[Angerer et al,\n",
    "2016](https://academic.oup.com/bioinformatics/article/32/8/1241/1744143)):\n",
    "given the cells at the beginning of the differentiation, pseudotimes are\n",
    "a special distance-based measure - imagine being able to walk along the\n",
    "3D UMAP plot starting from `SpermatogoniaA`, measuring how much you have\n",
    "walked along the plot. Here we subset the dataset to consider only\n",
    "spermatogenic cells excluding somatic cells."
   ]
  },
  {
   "cell_type": "code",
   "execution_count": null,
   "id": "cell-151",
   "metadata": {
    "tags": []
   },
   "outputs": [],
   "source": [
    "subdata = adata[ [i not in ['Endothelial','Macroph','Myoid','Smooth','Leydig'] \n",
    "                  for i in adata.obs['spermatogenesis_types']] ].copy()"
   ]
  },
  {
   "cell_type": "code",
   "execution_count": null,
   "id": "cell-152",
   "metadata": {
    "tags": []
   },
   "outputs": [],
   "source": [
    "subdata.uns['iroot'] = np.flatnonzero(subdata.obs['spermatogenesis_types'] == 'SpermatogoniaA')[1]"
   ]
  },
  {
   "cell_type": "code",
   "execution_count": null,
   "id": "cell-153",
   "metadata": {
    "tags": []
   },
   "outputs": [],
   "source": [
    "sc.tl.dpt(subdata, n_dcs=2)"
   ]
  },
  {
   "cell_type": "code",
   "execution_count": null,
   "id": "cell-154",
   "metadata": {
    "tags": []
   },
   "outputs": [],
   "source": [
    "plt.rcParams['figure.figsize'] = (8,8)\n",
    "sc.pl.umap( subdata, color=['dpt_pseudotime'],\n",
    "           legend_loc='right margin', \n",
    "           legend_fontsize=16,\n",
    "           frameon=False,\n",
    "           size=60,\n",
    "           add_outline=True,\n",
    "           ncols=1,\n",
    "           cmap='Blues'\n",
    "           )"
   ]
  },
  {
   "cell_type": "code",
   "execution_count": null,
   "id": "cell-155",
   "metadata": {
    "tags": []
   },
   "outputs": [],
   "source": [
    "plt.rcParams['figure.figsize'] = (8,8)\n",
    "X = subdata.obsm['X_umap']\n",
    "fig = px.scatter_3d(subdata.obsm, x=X[:,0], y=X[:,1], z=X[:,2], color=subdata.obs['dpt_pseudotime'], \n",
    "                    hover_name=subdata.obs['spermatogenesis_types'],\n",
    "                    height=1000)\n",
    "fig.show()"
   ]
  },
  {
   "cell_type": "markdown",
   "id": "c3b9290d-5eb5-4852-8500-7b7d5a58b202",
   "metadata": {},
   "source": [
    "Note how some clusters have a small variance in pseudotime. This is\n",
    "because those clusters show a lower variability in gene expressions than\n",
    "in cell types where a wide range of differentiation events happen."
   ]
  },
  {
   "cell_type": "code",
   "execution_count": null,
   "id": "cell-157",
   "metadata": {
    "tags": []
   },
   "outputs": [],
   "source": [
    "sc.pl.violin(subdata, keys='dpt_pseudotime', groupby='spermatogenesis_types', rotation=90,\n",
    "             order=['SpermatogoniaA','SpermatogoniaB','SpermatocytesI','SpermatocytesII','Round.Spt','Elong.Spt'])"
   ]
  },
  {
   "cell_type": "markdown",
   "id": "ca1a9971-9b96-4156-b76f-43429404184e",
   "metadata": {},
   "source": [
    "Copy pseudotimes in the main object, leaving somatic cells at a negative\n",
    "value as a default, since they have not a calculated pseudotime"
   ]
  },
  {
   "cell_type": "code",
   "execution_count": null,
   "id": "cell-159",
   "metadata": {
    "tags": []
   },
   "outputs": [],
   "source": [
    "adata.obs['dpt_pseudotime'] = np.repeat(-1, adata.shape[0])\n",
    "adata.obs['dpt_pseudotime'][subdata.obs_names] = subdata.obs['dpt_pseudotime']"
   ]
  },
  {
   "cell_type": "markdown",
   "id": "4083685c-45b5-4e7a-9450-2db2abd9b2d7",
   "metadata": {},
   "source": [
    "remove `subdata` and use the `gc` garbage collector to free up memory"
   ]
  },
  {
   "cell_type": "code",
   "execution_count": null,
   "id": "cell-161",
   "metadata": {
    "tags": []
   },
   "outputs": [],
   "source": [
    "#remove subdata as it is no longer used\n",
    "del subdata\n",
    "gc.collect() "
   ]
  },
  {
   "cell_type": "markdown",
   "id": "90eedd1a-97e3-4ded-a4ea-d6b831d9ac66",
   "metadata": {},
   "source": [
    "## Comparisons across different datasets\n",
    "\n",
    "In this last part of the analysis we import a dataset of testis tissues\n",
    "from infertile men (affected by\n",
    "[cryptozoospermia](https://www.ncbi.nlm.nih.gov/medgen/481180#:~:text=Definition,ejaculate%20may%20be%20initially%20measured.)).\n",
    "The data has already been preprocessed in advance. We will first\n",
    "annotated the new dataset using our spermatogenesis data as a reference,\n",
    "so that cluster names and pseudotimes are assigned accordingly. Then we\n",
    "will compare gene expressions using statistical tests.\n",
    "\n",
    "### Reference-based annotation\n",
    "\n",
    "We read the new data"
   ]
  },
  {
   "cell_type": "code",
   "execution_count": null,
   "id": "cell-164",
   "metadata": {
    "tags": []
   },
   "outputs": [],
   "source": [
    "crypto = sc.read_h5ad('../Data/scrna_data/crypto_azoospermia.h5ad')"
   ]
  },
  {
   "cell_type": "code",
   "execution_count": null,
   "id": "cell-165",
   "metadata": {
    "tags": []
   },
   "outputs": [],
   "source": [
    "#use only genes present in both datasets\n",
    "var_names = adata.var_names.intersection(crypto.var_names)\n",
    "adata = adata[:, var_names]\n",
    "crypto = crypto[:, var_names]"
   ]
  },
  {
   "cell_type": "markdown",
   "id": "5fe8e4b9-d83a-427d-801e-294cbb6f7d28",
   "metadata": {},
   "source": [
    "The tool `ingest` included in `scanpy` allows the annotation of a\n",
    "dataset starting from a reference. Look\n",
    "[here](https://scanpy-tutorials.readthedocs.io/en/latest/integrating-data-using-ingest.html#)\n",
    "for further examples about the use of `ingest`. We choose the clustering\n",
    "and the pseudotimes as observations to transfer to the new data. It\n",
    "takes some time to do the annotation."
   ]
  },
  {
   "cell_type": "code",
   "execution_count": null,
   "id": "cell-167",
   "metadata": {
    "tags": []
   },
   "outputs": [],
   "source": [
    "sc.tl.ingest(crypto, adata, obs=['spermatogenesis_types','dpt_pseudotime'])"
   ]
  },
  {
   "cell_type": "markdown",
   "id": "7e5a5b46-db3f-4650-8f8e-917eb494fca6",
   "metadata": {},
   "source": [
    "Keep the same cluster colours in the new data"
   ]
  },
  {
   "cell_type": "code",
   "execution_count": null,
   "id": "cell-169",
   "metadata": {},
   "outputs": [],
   "source": [
    "adata"
   ]
  },
  {
   "cell_type": "code",
   "execution_count": null,
   "id": "cell-170",
   "metadata": {
    "tags": []
   },
   "outputs": [],
   "source": [
    "crypto.uns['spermatogenesis_types_colors'] = adata.uns['spermatogenesis_types_colors']  # fix colors"
   ]
  },
  {
   "cell_type": "markdown",
   "id": "f589dc88-ecd6-4eee-984a-13275685a7b6",
   "metadata": {},
   "source": [
    "Make pseudotimes as a numeric array"
   ]
  },
  {
   "cell_type": "code",
   "execution_count": null,
   "id": "cell-172",
   "metadata": {
    "tags": []
   },
   "outputs": [],
   "source": [
    "crypto.obs['dpt_pseudotime'] = np.array(crypto.obs['dpt_pseudotime'])"
   ]
  },
  {
   "cell_type": "markdown",
   "id": "6087d9bf-4506-457e-8c1b-b50789db7f9b",
   "metadata": {},
   "source": [
    "`Ingest` adapts also the UMAP plot of the new data to the reference one.\n",
    "Note how pseudotimes are off for some cell, especially for the Elongated\n",
    "Spermatids cluster. This might be due to reduced spermatogenic\n",
    "functionality of cells in infertile men."
   ]
  },
  {
   "cell_type": "code",
   "execution_count": null,
   "id": "cell-174",
   "metadata": {
    "tags": []
   },
   "outputs": [],
   "source": [
    "sc.pl.umap(crypto, color=['spermatogenesis_types', 'dpt_pseudotime'], wspace=0.5,\n",
    "          title=['atlas-based clustering of azoospermic data', 'atlas-based pseudotimes of azoospermic data'])"
   ]
  },
  {
   "cell_type": "markdown",
   "id": "5fa4539a-31e5-497b-91fd-0a1883a0dc06",
   "metadata": {},
   "source": [
    "Now we merge the two datasets together. Note that the expression matrix\n",
    "will not be integrated. `Ingest` is used only for reference-based\n",
    "annotation and UMAP alignment, but it cannot integrate the expression\n",
    "matrices removing biases (such as sample bias). For this there are other\n",
    "tools such as [`scVI-tools`](https://scvi-tools.org/), [`CCA` and\n",
    "`rPCA`](https://satijalab.org/seurat/articles/integration_rpca.html) and\n",
    "others. However, a good and computationally lighter alternative is to\n",
    "keep the matrices as they are and model the differences when applying\n",
    "tools on them, as we will do with differential expression testing."
   ]
  },
  {
   "cell_type": "code",
   "execution_count": null,
   "id": "cell-176",
   "metadata": {
    "tags": []
   },
   "outputs": [],
   "source": [
    "merged = sc.AnnData.concatenate(adata, crypto, batch_key='condition', batch_categories=['Healthy','Crypto'])"
   ]
  },
  {
   "cell_type": "code",
   "execution_count": null,
   "id": "cell-177",
   "metadata": {
    "tags": []
   },
   "outputs": [],
   "source": [
    "merged.uns['spermatogenesis_types_colors'] = adata.uns['spermatogenesis_types_colors']  # fix category colors"
   ]
  },
  {
   "cell_type": "markdown",
   "id": "328184f8-ecf0-46a6-8b08-5caba569a60a",
   "metadata": {},
   "source": [
    "The UMAP shows a nice overlapping of the datasets and cluster names,\n",
    "apart from a few cell types that are off"
   ]
  },
  {
   "cell_type": "code",
   "execution_count": null,
   "id": "cell-179",
   "metadata": {
    "tags": []
   },
   "outputs": [],
   "source": [
    "sc.pl.umap(merged, color=['condition','spermatogenesis_types','dpt_pseudotime'], wspace=0.3, s=30)"
   ]
  },
  {
   "cell_type": "markdown",
   "id": "0a945793-93ca-40ac-9f07-c624a2fd11c4",
   "metadata": {},
   "source": [
    "As already noticed before, pseudotimes are quite different between the\n",
    "two conditions"
   ]
  },
  {
   "cell_type": "code",
   "execution_count": null,
   "id": "cell-181",
   "metadata": {
    "tags": []
   },
   "outputs": [],
   "source": [
    "fig, (ax1) = plt.subplots(1, 1, figsize=(12,8), gridspec_kw={'wspace':0.5})\n",
    "ax = sns.violinplot(x=\"spermatogenesis_types\", y=\"dpt_pseudotime\", hue=\"condition\", scale=\"width\", palette=\"Set2\", split=True, ax=ax1,                    \n",
    "                    data=merged[merged.obs['dpt_pseudotime']>=0].obs[ ['condition', 'dpt_pseudotime', 'spermatogenesis_types'] ], \n",
    "                    order=['SpermatogoniaA','SpermatogoniaB','SpermatocytesI', 'SpermatocytesII','Round.Spt','Elong.Spt'])"
   ]
  },
  {
   "cell_type": "markdown",
   "id": "94692677-eb5c-489b-a431-b383d1b271ff",
   "metadata": {},
   "source": [
    "Free some memory up"
   ]
  },
  {
   "cell_type": "code",
   "execution_count": null,
   "id": "cell-183",
   "metadata": {
    "tags": []
   },
   "outputs": [],
   "source": [
    "del adata, crypto\n",
    "gc.collect() "
   ]
  },
  {
   "cell_type": "markdown",
   "id": "2c2739a3-a3f4-45fc-834b-060947cf4da6",
   "metadata": {},
   "source": [
    "You can save the data like this"
   ]
  },
  {
   "cell_type": "code",
   "execution_count": null,
   "id": "cell-185",
   "metadata": {
    "tags": []
   },
   "outputs": [],
   "source": [
    "merged.write('merged.h5ad')"
   ]
  },
  {
   "cell_type": "markdown",
   "id": "de0a284f-d847-45e6-9ec8-9e24c2fd8656",
   "metadata": {},
   "source": [
    "### Cross-dataset differential expression\n",
    "\n",
    "We will perform the differential expression testing between the two\n",
    "conditions. Just to give a very quick overview, you can find three ways\n",
    "in which differential gene expression is done with scRNA-seq data:\n",
    "\n",
    "-   using tests that are analogous to the ones for bulkRNA data. This\n",
    "    has been the standard for some years, but generates a lot of false\n",
    "    positives, because each cell is used as a bulk sample with very low\n",
    "    amount of transcripts.\n",
    "-   using statistical models that take into accounts technical biases in\n",
    "    the data\n",
    "    (e.g. [`D3E`](https://bioinformaticshome.com/tools/rna-seq/descriptions/D3E.html)\n",
    "    and\n",
    "    [`MAST`](https://genomebiology.biomedcentral.com/articles/10.1186/s13059-015-0844-5))\n",
    "    and should be more reliable than standard bulkRNA methods. [Squair\n",
    "    et al,\n",
    "    2021](https://www.biorxiv.org/content/10.1101/2021.03.12.435024v1.full)\n",
    "    show how those methods are much less effective than previously\n",
    "    thought, probably because we still consider each cell as a bulk\n",
    "    sample in the test, and the technical differences between cells are\n",
    "    just too many to model them.\n",
    "-   using groups of cells (in our case grouped by sample, condition and\n",
    "    cell type) as a single bulk sample by summing the cells’\n",
    "    transcriptomes. [Squair et al,\n",
    "    2021](https://www.biorxiv.org/content/10.1101/2021.03.12.435024v1.full)\n",
    "    show how already standard bulkRNA methods applied on the pseudobulk\n",
    "    data are very effective and reduce false positives. Right now, this\n",
    "    is probably the state-of-the-art way to proceed. Look also at ([this\n",
    "    other\n",
    "    course](https://hbctraining.github.io/scRNA-seq_online/lessons/pseudobulk_DESeq2_scrnaseq.html))\n",
    "    for an application of the pseudobulk technique.\n",
    "\n",
    "We will apply the latter method. To do this we create **pseudobulk\n",
    "samples** by the sum of the transcriptomes from multiple cells in the\n",
    "data. In other words, we are doing nothing much different than the bulk\n",
    "RNA analysis done in Notebook 3 of this course. We will code only in\n",
    "python, but in future, when working on your own data, you can use any\n",
    "bulkRNA analysis tool with the pseudobulk matrix.\n",
    "\n",
    "After creating the pseudobulk matrix, we use a standard t-test for\n",
    "differential gene expression. More advanced tools like\n",
    "[pydeseq2](https://pydeseq2.readthedocs.io/en/latest/index.html) have\n",
    "features for including factors in the analysis."
   ]
  },
  {
   "cell_type": "code",
   "execution_count": null,
   "id": "cell-187",
   "metadata": {
    "tags": []
   },
   "outputs": [],
   "source": [
    "merged = sc.read('merged.h5ad') #read the data"
   ]
  },
  {
   "cell_type": "code",
   "execution_count": null,
   "id": "cell-188",
   "metadata": {},
   "outputs": [],
   "source": [
    "merged.X"
   ]
  },
  {
   "cell_type": "markdown",
   "id": "3e3ce36c-db74-4418-a814-427d5ce07190",
   "metadata": {},
   "source": [
    "We remove mitochondrial and ribosomal genes to focus only on genes of\n",
    "interest."
   ]
  },
  {
   "cell_type": "code",
   "execution_count": null,
   "id": "cell-190",
   "metadata": {
    "tags": []
   },
   "outputs": [],
   "source": [
    "MT_RP = [('MT-' not in i)and(re.match('^RP[A-Za-z]', i) is None) for i in merged.var_names] #a vector with True and False to find mitocondrial/ribosomal genes\n",
    "merged = merged[:, MT_RP].copy()"
   ]
  },
  {
   "cell_type": "markdown",
   "id": "0f463a89-2ab7-46d0-b8ee-6f1fb5d80d56",
   "metadata": {},
   "source": [
    "We select the raw count matrix for the analysis, and subset the dataset\n",
    "into a new one including the cluster of interest. First, let’s also look\n",
    "at how many cells there are in each cluster of the healthy and\n",
    "azoospermic sample:"
   ]
  },
  {
   "cell_type": "code",
   "execution_count": null,
   "id": "cell-192",
   "metadata": {
    "tags": []
   },
   "outputs": [],
   "source": [
    "merged.X = merged.layers['raw_counts'].copy()"
   ]
  },
  {
   "cell_type": "code",
   "execution_count": null,
   "id": "cell-193",
   "metadata": {
    "tags": []
   },
   "outputs": [],
   "source": [
    "merged[merged.obs['condition']=='Healthy'].obs['spermatogenesis_types'].value_counts() #healthy sample"
   ]
  },
  {
   "cell_type": "markdown",
   "id": "af45f9be-754d-4b10-81c6-ba08c6f49139",
   "metadata": {},
   "source": [
    "We can see there are many cells in each cell type, but we must also\n",
    "check that each condition has enough. Note that the azoospermia sample\n",
    "is quite little and have few cells in some clusters:"
   ]
  },
  {
   "cell_type": "code",
   "execution_count": null,
   "id": "cell-195",
   "metadata": {
    "tags": []
   },
   "outputs": [],
   "source": [
    "merged[merged.obs['condition']=='Crypto'].obs['spermatogenesis_types'].value_counts()"
   ]
  },
  {
   "cell_type": "markdown",
   "id": "7155bfaf-f14a-40d4-8006-a4385d8b6bd8",
   "metadata": {},
   "source": [
    "We renormalize the data and take some significant genes. Less variable\n",
    "genes will not be useful for differential expression analysis."
   ]
  },
  {
   "cell_type": "code",
   "execution_count": null,
   "id": "cell-197",
   "metadata": {
    "tags": []
   },
   "outputs": [],
   "source": [
    "sc.pp.log1p(merged)\n",
    "sc.pp.normalize_per_cell(merged)\n",
    "sc.pp.highly_variable_genes(merged, n_top_genes=5000)"
   ]
  },
  {
   "cell_type": "markdown",
   "id": "0e8410e0-e739-46e3-8ee0-c441ca3d247f",
   "metadata": {},
   "source": [
    "Now we subset by most significant genes. Afterwards, we use a script to\n",
    "generate the bulk matrix for both conditions. This script always uses\n",
    "the raw counts matrix even if we normalized the data above to find the\n",
    "most variable genes."
   ]
  },
  {
   "cell_type": "code",
   "execution_count": null,
   "id": "cell-199",
   "metadata": {
    "tags": []
   },
   "outputs": [],
   "source": [
    "matrix = merged[:,merged.var['highly_variable']].X.copy()"
   ]
  },
  {
   "cell_type": "code",
   "execution_count": null,
   "id": "cell-200",
   "metadata": {
    "scrolled": true,
    "tags": []
   },
   "outputs": [],
   "source": [
    "matrix_bulk, clusters, conditions = pseudobulk_matrix(adata=merged, \n",
    "                                          batch_key='batch', \n",
    "                                          condition_key='condition', \n",
    "                                          cluster_key='spermatogenesis_types')"
   ]
  },
  {
   "cell_type": "markdown",
   "id": "b08a3238-75ea-4447-bb93-e8e18bbb9240",
   "metadata": {},
   "source": [
    "The bulk matrix looks like this. It shows the total expression of each\n",
    "gene in every cluster, sample and condition. Those are represented in\n",
    "the bulk sample name, together with a number. Our script actually\n",
    "creates 10 pseudobulk samples per each group of cells, by randomly\n",
    "subsampling them. In this way we still keep some of the single cell\n",
    "variability. This is why each pseudobulk sample has a number. For\n",
    "example: `Healthy_Guo1_Elong_Spermatids_2` is the pseudobulk sample\n",
    "number 2 from cells in the healthy condition, sample name Guo1 and\n",
    "cluster Elongated spermatids."
   ]
  },
  {
   "cell_type": "code",
   "execution_count": null,
   "id": "cell-202",
   "metadata": {
    "tags": []
   },
   "outputs": [],
   "source": [
    "matrix_bulk.head()"
   ]
  },
  {
   "cell_type": "markdown",
   "id": "8a24202a-4c18-4503-9911-e34824ae78c5",
   "metadata": {},
   "source": [
    "For practical purpose we exchange rows and columns by rotating the\n",
    "matrix."
   ]
  },
  {
   "cell_type": "code",
   "execution_count": null,
   "id": "cell-204",
   "metadata": {
    "tags": []
   },
   "outputs": [],
   "source": [
    "matrix_bulk = matrix_bulk.T\n",
    "matrix_bulk.head()"
   ]
  },
  {
   "cell_type": "markdown",
   "id": "4b9b9b0a-01a8-4de7-9a1f-d341b067f1ac",
   "metadata": {},
   "source": [
    "We create a scanpy object to be able to do statistical testing."
   ]
  },
  {
   "cell_type": "code",
   "execution_count": null,
   "id": "cell-206",
   "metadata": {
    "tags": []
   },
   "outputs": [],
   "source": [
    "import anndata as ad"
   ]
  },
  {
   "cell_type": "code",
   "execution_count": null,
   "id": "cell-207",
   "metadata": {
    "tags": []
   },
   "outputs": [],
   "source": [
    "pbulk = ad.AnnData(matrix_bulk)"
   ]
  },
  {
   "cell_type": "code",
   "execution_count": null,
   "id": "cell-208",
   "metadata": {
    "tags": []
   },
   "outputs": [],
   "source": [
    "pbulk"
   ]
  },
  {
   "cell_type": "markdown",
   "id": "f062ad7f-6b6f-4970-bf6b-d75bc96f265a",
   "metadata": {},
   "source": [
    "We just remove those genes never expressed in the pseudobulk data"
   ]
  },
  {
   "cell_type": "code",
   "execution_count": null,
   "id": "cell-210",
   "metadata": {
    "tags": []
   },
   "outputs": [],
   "source": [
    "sc.pp.filter_genes(pbulk, min_cells=1)"
   ]
  },
  {
   "cell_type": "markdown",
   "id": "e971d92d-9cc8-4b10-b266-5e3de140030d",
   "metadata": {},
   "source": [
    "We create some metadata"
   ]
  },
  {
   "cell_type": "code",
   "execution_count": null,
   "id": "cell-212",
   "metadata": {
    "tags": []
   },
   "outputs": [],
   "source": [
    "pbulk.obs['condition'] = conditions\n",
    "pbulk.obs['spermatogenesis_types'] = clusters "
   ]
  },
  {
   "cell_type": "markdown",
   "id": "4576f30c-b0e0-403c-aba8-f50fb19a5a9b",
   "metadata": {},
   "source": [
    "and normalize depth of each pseudobulk replicate and logarithmize,\n",
    "similarly to what was done in Notebook 3 of the course"
   ]
  },
  {
   "cell_type": "code",
   "execution_count": null,
   "id": "cell-214",
   "metadata": {
    "tags": []
   },
   "outputs": [],
   "source": [
    "sc.pp.normalize_per_cell(pbulk)\n",
    "sc.pp.log1p(pbulk)"
   ]
  },
  {
   "cell_type": "markdown",
   "id": "ce70d62c-1aa2-44a7-9591-4d37495dbd5e",
   "metadata": {},
   "source": [
    "Out of curiosity, why not plotting a PCA of the pseudobulk data? We can\n",
    "see how it looks similar to the single cell data, with a decent\n",
    "overlapping of the conditions, meaning the pseudobulk process kept the\n",
    "differences between types, and also the data structure overall."
   ]
  },
  {
   "cell_type": "code",
   "execution_count": null,
   "id": "cell-216",
   "metadata": {
    "tags": []
   },
   "outputs": [],
   "source": [
    "sc.pp.pca(pbulk)"
   ]
  },
  {
   "cell_type": "code",
   "execution_count": null,
   "id": "cell-217",
   "metadata": {
    "tags": []
   },
   "outputs": [],
   "source": [
    "sc.pl.pca(pbulk, color=['condition','spermatogenesis_types'], s=50)"
   ]
  },
  {
   "cell_type": "markdown",
   "id": "ca429b19-e0bb-45ee-9e24-9755789082b2",
   "metadata": {},
   "source": [
    "We can finally run the statistical test by condition. We will do a list\n",
    "with ALL genes, so we can explore it at any time afterwards. We will use\n",
    "the condition `Healthy` as reference, so the results will give how\n",
    "changes are in `Crypto` against `Healthy`"
   ]
  },
  {
   "cell_type": "code",
   "execution_count": null,
   "id": "cell-219",
   "metadata": {
    "tags": []
   },
   "outputs": [],
   "source": [
    "sc.tl.rank_genes_groups(pbulk, groupby=\"condition\", reference='Healthy', n_genes=pbulk.shape[1])"
   ]
  },
  {
   "cell_type": "markdown",
   "id": "2cde57a5-918e-4baf-ab17-146c32d14a0f",
   "metadata": {},
   "source": [
    "We use a script to extract the results in a matrix. We will also\n",
    "calculate some other values under the hood and add them in the table."
   ]
  },
  {
   "cell_type": "code",
   "execution_count": null,
   "id": "cell-221",
   "metadata": {
    "tags": []
   },
   "outputs": [],
   "source": [
    "DEG_matrix = pseudobulk_extract_DEG(pbulk=pbulk, adata=merged)"
   ]
  },
  {
   "cell_type": "markdown",
   "id": "1862ac12-7ea5-4843-8cb7-16411c95623d",
   "metadata": {},
   "source": [
    "What does the resulting matrix contain? Apart from genes names, we can\n",
    "see in how many bulk samples those are expressed (in percentage for\n",
    "healthy and crypto cells), the fold-change and log-fold-change, the\n",
    "pvalues and adjusted pvalues. Note: those results are for Crypto vs\n",
    "Healthy. For values with Healthy as a reference, just change the sign to\n",
    "all fold-changes and log-fold-changes, and you have changed your\n",
    "reference!"
   ]
  },
  {
   "cell_type": "code",
   "execution_count": null,
   "id": "cell-223",
   "metadata": {
    "tags": []
   },
   "outputs": [],
   "source": [
    "DEG_matrix.head()"
   ]
  },
  {
   "cell_type": "markdown",
   "id": "0a95bcdd-eacd-44be-9682-92f37183b746",
   "metadata": {},
   "source": [
    "We just want to make a volcano plot of the result table. We consider as\n",
    "significant genes with p-value below 0.001 (log p-value of 3) and a\n",
    "log-fold-change below -2 and above 2 for this plot. The dot size is the\n",
    "percentege of cells expressing each gene.\n",
    "\n",
    "As underexpressed genes we find amongst others CXCL2 (upregulated only\n",
    "[when azoospermia is together with\n",
    "inflamation](https://www.ncbi.nlm.nih.gov/pmc/articles/PMC10218437/))\n",
    "and ZNRF3 ([involved in disorder of sex\n",
    "development](https://www.ncbi.nlm.nih.gov/pmc/articles/PMC9990451/)).\n",
    "Upregulated are for example CMTM1 (involved in fertility, [whose\n",
    "knockout has no effect on\n",
    "it](https://www.ncbi.nlm.nih.gov/pmc/articles/PMC6553932/)), SPATS1\n",
    "([involved in sperm\n",
    "development](https://journals.plos.org/plosone/article?id=10.1371/journal.pone.0251028))\n",
    "and DLGAP2 ([associated to male\n",
    "infertility](https://www.ncbi.nlm.nih.gov/pmc/articles/PMC8339558/))"
   ]
  },
  {
   "cell_type": "code",
   "execution_count": null,
   "id": "cell-225",
   "metadata": {
    "tags": []
   },
   "outputs": [],
   "source": [
    "pseudobulk_volcano(DEG_matrix, logfold_threshold=2, logpval_threshold=3, plot_size=(800,800))"
   ]
  },
  {
   "cell_type": "markdown",
   "id": "63c4f6eb-1d94-4e6a-958a-350d5bd4ecd0",
   "metadata": {},
   "source": [
    "Finally, you can save the table and download it, to view very easily in\n",
    "Excel."
   ]
  },
  {
   "cell_type": "code",
   "execution_count": null,
   "id": "cell-227",
   "metadata": {
    "tags": []
   },
   "outputs": [],
   "source": [
    "DEG_matrix.to_csv('./pseudobulk_markers.csv', sep='\\t', index=None)"
   ]
  },
  {
   "cell_type": "markdown",
   "id": "c9263fe4-4bae-4d03-9f93-5d9a36c1e50f",
   "metadata": {},
   "source": [
    ":::{.callout-note title=\"Wrapping up\"}\n",
    "\n",
    "You executed the whole analysis to the very end of this notebook!\n",
    "\n",
    "It has been a pretty long one, but I hope you learnt new things and you will benefit from them in your future scRNA-seq analysis. Remember that the [scanpy webpage](https://scanpy.readthedocs.io/en/stable/) has a lot of tutorials and very good documentation for all the functions implemented. The universe of available tools for single cell RNA data is growing constantly and is difficult to navigate - I suggest you to try tools that seem interesting, are usable without too many dificulties, and then stick only to those that are really relevant. Fortunately the community revolving around scRNA-seq data analysis is huge and rather helpful and open-source. It is mostly a matter of googling yourself to relevant forums and github repositories to find useful answers to doubts, available tools, and guides.\n",
    "\n",
    "Do you want to look for more advanced analysis? We have an introduction to single cell RNA sequencing also in R and advanced topics in scRNA-seq analysis. You can find those in our **Transcriptomics Sandbox** on uCloud (for danish users of uCloud), otherwise the tutorials are all documented in web format at their respective webpages:\n",
    "\n",
    "&nbsp;\n",
    "\n",
    " <p align=\"center\">\n",
    "  <a href=\"https://cloud.sdu.dk/app/jobs/create?app=transcriptomics\" style=\"background-color: #4266A1; color: #FFFFFF; padding: 20px 20px; text-decoration: none; border-radius: 5px;\">\n",
    "    Transcriptomics Sandbox\n",
    "  </a>\n",
    "</p>\n",
    "  <br>\n",
    "  <br>\n",
    "\n",
    " <p align=\"center\">\n",
    "\n",
    "  <a href=\"https://hds-sandbox.github.io/AdvancedSingleCell/\" style=\"background-color: #4266A1; color: #FFFFFF; padding: 20px 20px; text-decoration: none; border-radius: 5px;\">\n",
    "    Advanced Single Cell Analysis\n",
    "  </a>\n",
    "</p>\n",
    "  <br>\n",
    "  <br>\n",
    "\n",
    "<p align=\"center\">\n",
    "  <a href=\"https://hds-sandbox.github.io/scRNAseq_course/\" style=\"background-color: #4266A1; color: #FFFFFF; padding: 20px 20px; text-decoration: none; border-radius: 5px;\">\n",
    "    Intro to scRNA-seq in R\n",
    "  </a>\n",
    "</p>\n",
    "\n",
    "  <br>\n",
    "  <br>\n",
    "\n",
    ":::"
   ]
  }
 ],
 "metadata": {
  "colab": {
   "collapsed_sections": [],
   "name": "Single_cell_day_Notebook_students.ipynb",
   "provenance": [],
   "toc_visible": true
  },
  "kernelspec": {
   "display_name": "NGS (python)",
   "language": "python",
   "name": "ngs_python"
  },
  "language_info": {
   "codemirror_mode": {
    "name": "ipython",
    "version": 3
   },
   "file_extension": ".py",
   "mimetype": "text/x-python",
   "name": "python",
   "nbconvert_exporter": "python",
   "pygments_lexer": "ipython3",
   "version": "3.10.2"
  },
  "toc-autonumbering": true,
  "toc-showmarkdowntxt": false,
  "vscode": {
   "interpreter": {
    "hash": "aee8b7b246df8f9039afb4144a1f6fd8d2ca17a180786b69acc140d282b71a49"
   }
  },
  "widgets": {
   "application/vnd.jupyter.widget-state+json": {
    "state": {},
    "version_major": 2,
    "version_minor": 0
   }
  }
 },
 "nbformat": 4,
 "nbformat_minor": 5
}
