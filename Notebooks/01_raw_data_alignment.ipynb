{
 "cells": [
  {
   "cell_type": "code",
   "execution_count": 1,
   "id": "4f8145a0-0063-416c-9dee-f43ca7291d13",
   "metadata": {
    "execution": {
     "iopub.execute_input": "2022-08-02T09:00:17.399291Z",
     "iopub.status.busy": "2022-08-02T09:00:17.398830Z",
     "iopub.status.idle": "2022-08-02T09:00:18.863887Z",
     "shell.execute_reply": "2022-08-02T09:00:18.862714Z",
     "shell.execute_reply.started": "2022-08-02T09:00:17.399239Z"
    },
    "tags": []
   },
   "outputs": [],
   "source": [
    "%%bash\n",
    "ln -sf /work/59896/NGS_align/opt/fastqc-0.11.9/fastqc fastqc \n",
    "ln -sf /work/59896/NGS_align/bin/multiqc multiqc \n",
    "ln -sf /work/59896/NGS_align/bin/minimap2 minimap2\n",
    "ln -sf /work/59896/NGS_align/bin/qualimap qualimap\n",
    "ln -sf /work/59896/NGS_align/bin/samtools samtools\n",
    "ln -sf /work/59896/NGS_align/bin/STAR STAR"
   ]
  },
  {
   "cell_type": "code",
   "execution_count": 9,
   "id": "7e90bad4-a49f-4fba-8e5a-a8d5428cd136",
   "metadata": {
    "execution": {
     "iopub.execute_input": "2022-08-02T13:42:20.218408Z",
     "iopub.status.busy": "2022-08-02T13:42:20.217908Z",
     "iopub.status.idle": "2022-08-02T13:42:20.239331Z",
     "shell.execute_reply": "2022-08-02T13:42:20.237986Z",
     "shell.execute_reply.started": "2022-08-02T13:42:20.218337Z"
    },
    "tags": []
   },
   "outputs": [
    {
     "name": "stdout",
     "output_type": "stream",
     "text": [
      "==================================\n",
      "Datasets folder already exists\n",
      "==================================\n"
     ]
    }
   ],
   "source": [
    "%%bash\n",
    "sh ../Scripts/dataDownloadScript.sh"
   ]
  },
  {
   "cell_type": "code",
   "execution_count": 5,
   "id": "8e870118-3af0-4e12-80bd-381786b58833",
   "metadata": {
    "execution": {
     "iopub.execute_input": "2022-08-02T09:13:25.095147Z",
     "iopub.status.busy": "2022-08-02T09:13:25.094266Z",
     "iopub.status.idle": "2022-08-02T09:14:40.457485Z",
     "shell.execute_reply": "2022-08-02T09:14:40.456717Z",
     "shell.execute_reply.started": "2022-08-02T09:13:25.095087Z"
    },
    "tags": []
   },
   "outputs": [],
   "source": [
    "%%bash\n",
    "mkdir -p results/fastqc_output\n",
    "./fastqc -q -o results/fastqc_output ../Data/Clover_Data/*.fastq"
   ]
  },
  {
   "cell_type": "code",
   "execution_count": 6,
   "id": "bb569b9f-9700-4edf-a785-ee4b5c632432",
   "metadata": {
    "execution": {
     "iopub.execute_input": "2022-08-02T09:15:23.038577Z",
     "iopub.status.busy": "2022-08-02T09:15:23.038142Z",
     "iopub.status.idle": "2022-08-02T09:15:57.877479Z",
     "shell.execute_reply": "2022-08-02T09:15:57.876444Z",
     "shell.execute_reply.started": "2022-08-02T09:15:23.038527Z"
    },
    "tags": []
   },
   "outputs": [
    {
     "name": "stderr",
     "output_type": "stream",
     "text": [
      "\n",
      "  /// MultiQC 🔍 | v1.13.dev0\n",
      "\n",
      "|           multiqc | Search path : /work/59896/FINAL_DEVELOPMENT_GITHUB/NGS_summer_2022/Notebooks/results/fastqc_output\n",
      "|         searching | ━━━━━━━━━━━━━━━━━━━━━━━━━━━━━━━━━━━━━━━━ 100% 54/54  \n",
      "|            fastqc | Found 27 reports\n",
      "|           multiqc | Compressing plot data\n",
      "|           multiqc | Report      : results/multiqc_output/fastqc_data/multiqc_report.html\n",
      "|           multiqc | Data        : results/multiqc_output/fastqc_data/multiqc_data\n",
      "|           multiqc | MultiQC complete\n"
     ]
    }
   ],
   "source": [
    "%%bash\n",
    "./multiqc --outdir results/multiqc_output/fastqc_data results/fastqc_output"
   ]
  },
  {
   "cell_type": "code",
   "execution_count": 7,
   "id": "eb4991a3-7c54-4a83-bfe8-76cf1e77acf8",
   "metadata": {
    "execution": {
     "iopub.execute_input": "2022-08-02T09:16:36.139455Z",
     "iopub.status.busy": "2022-08-02T09:16:36.138880Z",
     "iopub.status.idle": "2022-08-02T09:16:36.227620Z",
     "shell.execute_reply": "2022-08-02T09:16:36.226670Z",
     "shell.execute_reply.started": "2022-08-02T09:16:36.139403Z"
    },
    "tags": []
   },
   "outputs": [
    {
     "name": "stdout",
     "output_type": "stream",
     "text": [
      "Usage: minimap2 [options] <target.fa>|<target.idx> [query.fa] [...]\n",
      "Options:\n",
      "  Indexing:\n",
      "    -H           use homopolymer-compressed k-mer (preferrable for PacBio)\n",
      "    -k INT       k-mer size (no larger than 28) [15]\n",
      "    -w INT       minimizer window size [10]\n",
      "    -I NUM       split index for every ~NUM input bases [4G]\n",
      "    -d FILE      dump index to FILE []\n",
      "  Mapping:\n",
      "    -f FLOAT     filter out top FLOAT fraction of repetitive minimizers [0.0002]\n",
      "    -g NUM       stop chain enlongation if there are no minimizers in INT-bp [5000]\n",
      "    -G NUM       max intron length (effective with -xsplice; changing -r) [200k]\n",
      "    -F NUM       max fragment length (effective with -xsr or in the fragment mode) [800]\n",
      "    -r NUM[,NUM] chaining/alignment bandwidth and long-join bandwidth [500,20000]\n",
      "    -n INT       minimal number of minimizers on a chain [3]\n",
      "    -m INT       minimal chaining score (matching bases minus log gap penalty) [40]\n",
      "    -X           skip self and dual mappings (for the all-vs-all mode)\n",
      "    -p FLOAT     min secondary-to-primary score ratio [0.8]\n",
      "    -N INT       retain at most INT secondary alignments [5]\n",
      "  Alignment:\n",
      "    -A INT       matching score [2]\n",
      "    -B INT       mismatch penalty (larger value for lower divergence) [4]\n",
      "    -O INT[,INT] gap open penalty [4,24]\n",
      "    -E INT[,INT] gap extension penalty; a k-long gap costs min{O1+k*E1,O2+k*E2} [2,1]\n",
      "    -z INT[,INT] Z-drop score and inversion Z-drop score [400,200]\n",
      "    -s INT       minimal peak DP alignment score [80]\n",
      "    -u CHAR      how to find GT-AG. f:transcript strand, b:both strands, n:don't match GT-AG [n]\n",
      "  Input/Output:\n",
      "    -a           output in the SAM format (PAF by default)\n",
      "    -o FILE      output alignments to FILE [stdout]\n",
      "    -L           write CIGAR with >65535 ops at the CG tag\n",
      "    -R STR       SAM read group line in a format like '@RG\\tID:foo\\tSM:bar' []\n",
      "    -c           output CIGAR in PAF\n",
      "    --cs[=STR]   output the cs tag; STR is 'short' (if absent) or 'long' [none]\n",
      "    --MD         output the MD tag\n",
      "    --eqx        write =/X CIGAR operators\n",
      "    -Y           use soft clipping for supplementary alignments\n",
      "    -t INT       number of threads [3]\n",
      "    -K NUM       minibatch size for mapping [500M]\n",
      "    --version    show version number\n",
      "  Preset:\n",
      "    -x STR       preset (always applied before other options; see minimap2.1 for details) []\n",
      "                 - map-pb/map-ont - PacBio CLR/Nanopore vs reference mapping\n",
      "                 - map-hifi - PacBio HiFi reads vs reference mapping\n",
      "                 - ava-pb/ava-ont - PacBio/Nanopore read overlap\n",
      "                 - asm5/asm10/asm20 - asm-to-ref mapping, for ~0.1/1/5% sequence divergence\n",
      "                 - splice/splice:hq - long-read/Pacbio-CCS spliced alignment\n",
      "                 - sr - genomic short-read mapping\n",
      "\n",
      "See `man ./minimap2.1' for detailed description of these and other advanced command-line options.\n"
     ]
    }
   ],
   "source": [
    "%%bash\n",
    "./minimap2 --help"
   ]
  },
  {
   "cell_type": "code",
   "execution_count": 8,
   "id": "7164eaeb-b66c-4ebc-b834-b2788f3430ac",
   "metadata": {
    "execution": {
     "iopub.execute_input": "2022-08-02T09:16:49.278434Z",
     "iopub.status.busy": "2022-08-02T09:16:49.277965Z",
     "iopub.status.idle": "2022-08-02T09:16:49.767900Z",
     "shell.execute_reply": "2022-08-02T09:16:49.766581Z",
     "shell.execute_reply.started": "2022-08-02T09:16:49.278382Z"
    },
    "tags": []
   },
   "outputs": [],
   "source": [
    "%%bash\n",
    "./samtools faidx ../Data/Clover_Data/DNA_Contig1_2.fasta\n",
    "./samtools faidx ../Data/Clover_Data/DNA_Contig1.fasta\n",
    "./samtools faidx ../Data/Clover_Data/DNA_Contig2.fasta"
   ]
  },
  {
   "cell_type": "code",
   "execution_count": 10,
   "id": "78f8d72a-ea2a-4540-916b-a3dee7b9df1e",
   "metadata": {
    "execution": {
     "iopub.execute_input": "2022-08-02T09:18:17.951058Z",
     "iopub.status.busy": "2022-08-02T09:18:17.950429Z",
     "iopub.status.idle": "2022-08-02T09:18:29.344714Z",
     "shell.execute_reply": "2022-08-02T09:18:29.343394Z",
     "shell.execute_reply.started": "2022-08-02T09:18:17.950999Z"
    },
    "tags": []
   },
   "outputs": [
    {
     "name": "stderr",
     "output_type": "stream",
     "text": [
      "[M::mm_idx_gen::0.074*1.05] collected minimizers\n",
      "[M::mm_idx_gen::0.110*1.63] sorted minimizers\n",
      "[M::main::0.110*1.62] loaded/built the index for 2 target sequence(s)\n",
      "[M::mm_mapopt_update::0.122*1.56] mid_occ = 11\n",
      "[M::mm_idx_stat] kmer size: 19; skip: 10; is_hpc: 1; #seq: 2\n",
      "[M::mm_idx_stat::0.128*1.54] distinct minimizers: 203943 (79.05% are singletons); average occurrences: 1.273; average spacing: 8.047; total length: 2089554\n",
      "[M::worker_pipeline::11.349*2.86] mapped 4395 sequences\n",
      "[M::main] Version: 2.24-r1122\n",
      "[M::main] CMD: ./minimap2 -a -x map-pb -o results/HIFI_alignment/PacBio_clover_alignment_1_2.sam rawData/DNA_Contig1_2.fasta rawData/Hifi_reads_white_clover.fastq\n",
      "[M::main] Real time: 11.362 sec; CPU: 32.477 sec; Peak RSS: 1.185 GB\n"
     ]
    }
   ],
   "source": [
    "%%bash \n",
    "mkdir -p results/HIFI_alignment/\n",
    "./minimap2 -a -x map-pb -o results/HIFI_alignment/PacBio_clover_alignment_1_2.sam \\\n",
    "                            ../Data/Clover_Data/DNA_Contig1_2.fasta \\\n",
    "                            ../Data/Clover_Data/Hifi_reads_white_clover.fastq"
   ]
  },
  {
   "cell_type": "code",
   "execution_count": 11,
   "id": "aa14c53f-56ea-4216-929d-1678eea2eaf5",
   "metadata": {
    "execution": {
     "iopub.execute_input": "2022-08-02T09:18:57.520134Z",
     "iopub.status.busy": "2022-08-02T09:18:57.519470Z",
     "iopub.status.idle": "2022-08-02T09:19:21.783729Z",
     "shell.execute_reply": "2022-08-02T09:19:21.782250Z",
     "shell.execute_reply.started": "2022-08-02T09:18:57.520075Z"
    },
    "tags": []
   },
   "outputs": [
    {
     "name": "stderr",
     "output_type": "stream",
     "text": [
      "[M::mm_idx_gen::0.044*1.08] collected minimizers\n",
      "[M::mm_idx_gen::0.065*1.69] sorted minimizers\n",
      "[M::main::0.065*1.68] loaded/built the index for 1 target sequence(s)\n",
      "[M::mm_mapopt_update::0.073*1.61] mid_occ = 10\n",
      "[M::mm_idx_stat] kmer size: 19; skip: 10; is_hpc: 1; #seq: 1\n",
      "[M::mm_idx_stat::0.078*1.57] distinct minimizers: 112547 (91.45% are singletons); average occurrences: 1.141; average spacing: 8.031; total length: 1031631\n",
      "[M::worker_pipeline::24.209*2.95] mapped 4395 sequences\n",
      "[M::main] Version: 2.24-r1122\n",
      "[M::main] CMD: ./minimap2 -a -x map-pb -o results/HIFI_alignment/PacBio_clover_alignment_1.sam rawData/DNA_Contig1.fasta rawData/Hifi_reads_white_clover.fastq\n",
      "[M::main] Real time: 24.224 sec; CPU: 71.322 sec; Peak RSS: 2.256 GB\n"
     ]
    }
   ],
   "source": [
    "%%bash \n",
    "./minimap2 -a -x map-pb -o results/HIFI_alignment/PacBio_clover_alignment_1.sam \\\n",
    "                            ../Data/Clover_Data/DNA_Contig1.fasta \\\n",
    "                            ../Data/Clover_Data/Hifi_reads_white_clover.fastq"
   ]
  },
  {
   "cell_type": "code",
   "execution_count": 12,
   "id": "bf1882ee-41e5-4413-9c48-b35a5821bc34",
   "metadata": {
    "execution": {
     "iopub.execute_input": "2022-08-02T09:19:21.796500Z",
     "iopub.status.busy": "2022-08-02T09:19:21.796193Z",
     "iopub.status.idle": "2022-08-02T09:19:47.609551Z",
     "shell.execute_reply": "2022-08-02T09:19:47.608509Z",
     "shell.execute_reply.started": "2022-08-02T09:19:21.796471Z"
    },
    "tags": []
   },
   "outputs": [
    {
     "name": "stderr",
     "output_type": "stream",
     "text": [
      "[M::mm_idx_gen::0.045*1.04] collected minimizers\n",
      "[M::mm_idx_gen::0.068*1.67] sorted minimizers\n",
      "[M::main::0.068*1.67] loaded/built the index for 1 target sequence(s)\n",
      "[M::mm_mapopt_update::0.076*1.60] mid_occ = 10\n",
      "[M::mm_idx_stat] kmer size: 19; skip: 10; is_hpc: 1; #seq: 1\n",
      "[M::mm_idx_stat::0.080*1.57] distinct minimizers: 120722 (93.18% are singletons); average occurrences: 1.087; average spacing: 8.062; total length: 1057923\n",
      "[M::worker_pipeline::25.772*2.86] mapped 4395 sequences\n",
      "[M::main] Version: 2.24-r1122\n",
      "[M::main] CMD: ./minimap2 -a -x map-pb -o results/HIFI_alignment/PacBio_clover_alignment_2.sam rawData/DNA_Contig2.fasta rawData/Hifi_reads_white_clover.fastq\n",
      "[M::main] Real time: 25.785 sec; CPU: 73.761 sec; Peak RSS: 2.055 GB\n"
     ]
    }
   ],
   "source": [
    "%%bash \n",
    "./minimap2 -a -x map-pb -o results/HIFI_alignment/PacBio_clover_alignment_2.sam \\\n",
    "                            ../Data/Clover_Data/DNA_Contig2.fasta \\\n",
    "                            ../Data/Clover_Data/Hifi_reads_white_clover.fastq"
   ]
  },
  {
   "cell_type": "code",
   "execution_count": 13,
   "id": "123965ae-5548-41a5-b115-82d8a4cff9ef",
   "metadata": {
    "execution": {
     "iopub.execute_input": "2022-08-02T09:19:47.621587Z",
     "iopub.status.busy": "2022-08-02T09:19:47.621232Z",
     "iopub.status.idle": "2022-08-02T09:19:55.165359Z",
     "shell.execute_reply": "2022-08-02T09:19:55.162366Z",
     "shell.execute_reply.started": "2022-08-02T09:19:47.621557Z"
    },
    "tags": []
   },
   "outputs": [],
   "source": [
    "%%bash\n",
    "./samtools sort results/HIFI_alignment/PacBio_clover_alignment_1_2.sam > results/HIFI_alignment/PacBio_clover_alignment_1_2.sort.sam\n",
    "./samtools sort results/HIFI_alignment/PacBio_clover_alignment_1.sam > results/HIFI_alignment/PacBio_clover_alignment_1.sort.sam\n",
    "./samtools sort results/HIFI_alignment/PacBio_clover_alignment_2.sam > results/HIFI_alignment/PacBio_clover_alignment_2.sort.sam"
   ]
  },
  {
   "cell_type": "code",
   "execution_count": 14,
   "id": "5fc4abe2-f4b9-474e-9cbb-c83afa67a79a",
   "metadata": {
    "execution": {
     "iopub.execute_input": "2022-08-02T09:23:57.081750Z",
     "iopub.status.busy": "2022-08-02T09:23:57.081298Z",
     "iopub.status.idle": "2022-08-02T09:24:13.318751Z",
     "shell.execute_reply": "2022-08-02T09:24:13.317808Z",
     "shell.execute_reply.started": "2022-08-02T09:23:57.081696Z"
    },
    "tags": []
   },
   "outputs": [
    {
     "name": "stdout",
     "output_type": "stream",
     "text": [
      "Java memory size is set to 1200M\n",
      "Launching application...\n",
      "\n",
      "QualiMap v.2.2.2-dev\n",
      "Built on 2019-11-11 14:05\n",
      "\n",
      "Selected tool: bamqc\n",
      "Available memory (Mb): 35\n",
      "Max memory (Mb): 1258\n",
      "Starting bam qc....\n",
      "Loading sam header...\n",
      "Loading locator...\n",
      "Loading reference...\n",
      "Number of windows: 400, effective number of windows: 400\n",
      "Chunk of reads size: 1000\n",
      "Number of threads: 8\n",
      "Processed 50 out of 400 windows...\n",
      "Processed 100 out of 400 windows...\n",
      "Processed 150 out of 400 windows...\n",
      "Processed 200 out of 400 windows...\n",
      "Processed 250 out of 400 windows...\n",
      "Processed 300 out of 400 windows...\n",
      "Processed 350 out of 400 windows...\n",
      "Processed 400 out of 400 windows...\n",
      "Total processed windows:400\n",
      "Number of reads: 4395\n",
      "Number of valid reads: 9070\n",
      "Number of correct strand reads:0\n",
      "\n",
      "Inside of regions...\n",
      "Num mapped reads: 4356\n",
      "Num mapped first of pair: 0\n",
      "Num mapped second of pair: 0\n",
      "Num singletons: 0\n",
      "Time taken to analyze reads: 11\n",
      "Computing descriptors...\n",
      "numberOfMappedBases: 59058058\n",
      "referenceSize: 1031631\n",
      "numberOfSequencedBases: 54917933\n",
      "numberOfAs: 18508479\n",
      "Computing per chromosome statistics...\n",
      "Computing histograms...\n",
      "Overall analysis time: 11\n",
      "end of bam qc\n",
      "Computing report...\n",
      "Writing HTML report...\n",
      "HTML report created successfully\n",
      "\n",
      "Finished\n"
     ]
    }
   ],
   "source": [
    "%%bash\n",
    "mkdir -p results/qualimap_output\n",
    "./qualimap bamqc -bam results/HIFI_alignment/PacBio_clover_alignment_1.sort.sam -outdir results/qualimap_output/PacBio_clover_alignment_1"
   ]
  },
  {
   "cell_type": "code",
   "execution_count": 15,
   "id": "37e138ff-099e-4706-9db6-3bf93d0cac07",
   "metadata": {
    "execution": {
     "iopub.execute_input": "2022-08-02T09:24:54.237023Z",
     "iopub.status.busy": "2022-08-02T09:24:54.236401Z",
     "iopub.status.idle": "2022-08-02T09:25:08.051459Z",
     "shell.execute_reply": "2022-08-02T09:25:08.050858Z",
     "shell.execute_reply.started": "2022-08-02T09:24:54.236969Z"
    },
    "tags": []
   },
   "outputs": [
    {
     "name": "stdout",
     "output_type": "stream",
     "text": [
      "Java memory size is set to 1200M\n",
      "Launching application...\n",
      "\n",
      "QualiMap v.2.2.2-dev\n",
      "Built on 2019-11-11 14:05\n",
      "\n",
      "Selected tool: bamqc\n",
      "Available memory (Mb): 35\n",
      "Max memory (Mb): 1258\n",
      "Starting bam qc....\n",
      "Loading sam header...\n",
      "Loading locator...\n",
      "Loading reference...\n",
      "Number of windows: 400, effective number of windows: 400\n",
      "Chunk of reads size: 1000\n",
      "Number of threads: 8\n",
      "Processed 50 out of 400 windows...\n",
      "Processed 100 out of 400 windows...\n",
      "Processed 150 out of 400 windows...\n",
      "Processed 200 out of 400 windows...\n",
      "Processed 250 out of 400 windows...\n",
      "Processed 300 out of 400 windows...\n",
      "Processed 350 out of 400 windows...\n",
      "Processed 400 out of 400 windows...\n",
      "Total processed windows:400\n",
      "Number of reads: 4395\n",
      "Number of valid reads: 9462\n",
      "Number of correct strand reads:0\n",
      "\n",
      "Inside of regions...\n",
      "Num mapped reads: 4394\n",
      "Num mapped first of pair: 0\n",
      "Num mapped second of pair: 0\n",
      "Num singletons: 0\n",
      "Time taken to analyze reads: 12\n",
      "Computing descriptors...\n",
      "numberOfMappedBases: 59388453\n",
      "referenceSize: 1057923\n",
      "numberOfSequencedBases: 55867300\n",
      "numberOfAs: 18822184\n",
      "Computing per chromosome statistics...\n",
      "Computing histograms...\n",
      "Overall analysis time: 12\n",
      "end of bam qc\n",
      "Computing report...\n",
      "Writing HTML report...\n",
      "HTML report created successfully\n",
      "\n",
      "Finished\n"
     ]
    }
   ],
   "source": [
    "%%bash\n",
    "./qualimap bamqc -bam results/HIFI_alignment/PacBio_clover_alignment_2.sort.sam -outdir results/qualimap_output/PacBio_clover_alignment_2"
   ]
  },
  {
   "cell_type": "code",
   "execution_count": 16,
   "id": "d79eb864-4fd3-43f9-8ce0-c71dacc2503e",
   "metadata": {
    "execution": {
     "iopub.execute_input": "2022-08-02T09:25:21.554772Z",
     "iopub.status.busy": "2022-08-02T09:25:21.554313Z",
     "iopub.status.idle": "2022-08-02T09:25:36.237341Z",
     "shell.execute_reply": "2022-08-02T09:25:36.236306Z",
     "shell.execute_reply.started": "2022-08-02T09:25:21.554707Z"
    },
    "tags": []
   },
   "outputs": [
    {
     "name": "stdout",
     "output_type": "stream",
     "text": [
      "Java memory size is set to 1200M\n",
      "Launching application...\n",
      "\n",
      "QualiMap v.2.2.2-dev\n",
      "Built on 2019-11-11 14:05\n",
      "\n",
      "Selected tool: bamqc\n",
      "Available memory (Mb): 35\n",
      "Max memory (Mb): 1258\n",
      "Starting bam qc....\n",
      "Loading sam header...\n",
      "Loading locator...\n",
      "Loading reference...\n",
      "Number of windows: 400, effective number of windows: 401\n",
      "Chunk of reads size: 1000\n",
      "Number of threads: 8\n",
      "Processed 50 out of 401 windows...\n",
      "Processed 100 out of 401 windows...\n",
      "Processed 150 out of 401 windows...\n",
      "Processed 200 out of 401 windows...\n",
      "Processed 250 out of 401 windows...\n",
      "Processed 300 out of 401 windows...\n",
      "Processed 350 out of 401 windows...\n",
      "Processed 400 out of 401 windows...\n",
      "Total processed windows:401\n",
      "Number of reads: 4395\n",
      "Number of valid reads: 4696\n",
      "Number of correct strand reads:0\n",
      "\n",
      "Inside of regions...\n",
      "Num mapped reads: 4395\n",
      "Num mapped first of pair: 0\n",
      "Num mapped second of pair: 0\n",
      "Num singletons: 0\n",
      "Time taken to analyze reads: 12\n",
      "Computing descriptors...\n",
      "numberOfMappedBases: 70274383\n",
      "referenceSize: 2089554\n",
      "numberOfSequencedBases: 70039397\n",
      "numberOfAs: 23621784\n",
      "Computing per chromosome statistics...\n",
      "Computing histograms...\n",
      "Overall analysis time: 12\n",
      "end of bam qc\n",
      "Computing report...\n",
      "Writing HTML report...\n",
      "HTML report created successfully\n",
      "\n",
      "Finished\n"
     ]
    }
   ],
   "source": [
    " %%bash\n",
    "./qualimap bamqc -bam HIFI_alignment/PacBio_clover_alignment_1_2.sort.sam -outdir results/qualimap_output/PacBio_clover_alignment_1_2"
   ]
  },
  {
   "cell_type": "code",
   "execution_count": 31,
   "id": "c142e4d3-d361-48c9-bca6-1ee10f8e83a4",
   "metadata": {
    "execution": {
     "iopub.execute_input": "2022-08-02T10:17:28.227238Z",
     "iopub.status.busy": "2022-08-02T10:17:28.226329Z",
     "iopub.status.idle": "2022-08-02T10:17:35.833585Z",
     "shell.execute_reply": "2022-08-02T10:17:35.832243Z",
     "shell.execute_reply.started": "2022-08-02T10:17:28.227184Z"
    },
    "tags": []
   },
   "outputs": [],
   "source": [
    "%%bash\n",
    "./samtools view -S -b results/HIFI_alignment/PacBio_clover_alignment_1.sort.sam > results/HIFI_alignment/PacBio_clover_alignment_1.bam\n",
    "./samtools view -S -b results/HIFI_alignment/PacBio_clover_alignment_2.sort.sam > results/HIFI_alignment/PacBio_clover_alignment_2.bam\n",
    "./samtools view -S -b results/HIFI_alignment/PacBio_clover_alignment_1_2.sort.sam > results/HIFI_alignment/PacBio_clover_alignment_1_2.bam"
   ]
  },
  {
   "cell_type": "markdown",
   "id": "b2393c6b-a5ff-4c1e-8e37-5cfd1c341ee9",
   "metadata": {
    "execution": {
     "iopub.execute_input": "2022-08-01T10:51:07.496212Z",
     "iopub.status.busy": "2022-08-01T10:51:07.495586Z",
     "iopub.status.idle": "2022-08-01T10:51:07.502111Z",
     "shell.execute_reply": "2022-08-01T10:51:07.501137Z",
     "shell.execute_reply.started": "2022-08-01T10:51:07.496156Z"
    }
   },
   "source": [
    "# RNA"
   ]
  },
  {
   "cell_type": "code",
   "execution_count": null,
   "id": "468e6500-fcfd-4901-93fd-987d41b8073b",
   "metadata": {
    "execution": {
     "iopub.execute_input": "2022-08-01T11:40:22.167498Z",
     "iopub.status.busy": "2022-08-01T11:40:22.166955Z",
     "iopub.status.idle": "2022-08-01T11:40:26.948541Z",
     "shell.execute_reply": "2022-08-01T11:40:26.947346Z",
     "shell.execute_reply.started": "2022-08-01T11:40:22.167445Z"
    },
    "tags": []
   },
   "outputs": [
    {
     "name": "stdout",
     "output_type": "stream",
     "text": [
      "\t./STAR --runThreadN 8 --runMode genomeGenerate --genomeDir results/STAR_output/indexing_contigs_1_2 --genomeFastaFiles rawData/DNA_Contig1_2.fasta --sjdbGTFfile rawData/white_clover_genes.gff --quantMode GeneCounts\n",
      "\tSTAR version: 2.7.10a   compiled: 2022-01-14T18:50:00-05:00 :/home/dobin/data/STAR/STARcode/STAR.master/source\n",
      "Aug 02 11:35:07 ..... started STAR run\n",
      "Aug 02 11:35:07 ... starting to generate Genome files\n",
      "Aug 02 11:35:07 ..... processing annotations GTF\n"
     ]
    },
    {
     "name": "stderr",
     "output_type": "stream",
     "text": [
      "!!!!! WARNING: --genomeSAindexNbases 14 is too large for the genome size=2089554, which may cause seg-fault at the mapping step. Re-run genome generation with recommended --genomeSAindexNbases 9\n"
     ]
    },
    {
     "name": "stdout",
     "output_type": "stream",
     "text": [
      "Aug 02 11:35:07 ... starting to sort Suffix Array. This may take a long time...\n",
      "Aug 02 11:35:08 ... sorting Suffix Array chunks and saving them to disk...\n",
      "Aug 02 11:35:08 ... loading chunks from disk, packing SA...\n",
      "Aug 02 11:35:08 ... finished generating suffix array\n",
      "Aug 02 11:35:08 ... generating Suffix Array index\n",
      "Aug 02 11:35:11 ... completed Suffix Array index\n",
      "Aug 02 11:35:11 ... writing Genome to disk ...\n",
      "Aug 02 11:35:11 ... writing Suffix Array to disk ...\n",
      "Aug 02 11:35:11 ... writing SAindex to disk\n",
      "Aug 02 11:35:12 ..... finished successfully\n"
     ]
    }
   ],
   "source": [
    "%%bash\n",
    "./STAR --runThreadN 8 \\\n",
    "--runMode genomeGenerate \\\n",
    "--genomeDir results/STAR_output/indexing_contigs_1_2 \\\n",
    "--genomeFastaFiles ../Data/Clover_Data/DNA_Contig1_2.fasta \\\n",
    "--sjdbGTFfile ../Data/Clover_Data/white_clover_genes.gff \\\n",
    "--quantMode GeneCounts"
   ]
  },
  {
   "cell_type": "code",
   "execution_count": 18,
   "id": "655aa9f2-aa9b-4515-b6cd-72464bcc9dfc",
   "metadata": {
    "execution": {
     "iopub.execute_input": "2022-08-02T09:35:45.453284Z",
     "iopub.status.busy": "2022-08-02T09:35:45.452697Z",
     "iopub.status.idle": "2022-08-02T09:35:46.152375Z",
     "shell.execute_reply": "2022-08-02T09:35:46.150808Z",
     "shell.execute_reply.started": "2022-08-02T09:35:45.453231Z"
    },
    "tags": []
   },
   "outputs": [
    {
     "name": "stdout",
     "output_type": "stream",
     "text": [
      "\t./STAR --runThreadN 8 --runMode genomeGenerate --genomeDir results/STAR_output/indexing_contigs_1_2 --genomeFastaFiles rawData/DNA_Contig1_2.fasta --sjdbGTFfile rawData/white_clover_genes.gff --quantMode GeneCounts --genomeSAindexNbases 9\n",
      "\tSTAR version: 2.7.10a   compiled: 2022-01-14T18:50:00-05:00 :/home/dobin/data/STAR/STARcode/STAR.master/source\n",
      "Aug 02 11:35:45 ..... started STAR run\n",
      "Aug 02 11:35:45 ... starting to generate Genome files\n",
      "Aug 02 11:35:45 ..... processing annotations GTF\n",
      "Aug 02 11:35:45 ... starting to sort Suffix Array. This may take a long time...\n",
      "Aug 02 11:35:45 ... sorting Suffix Array chunks and saving them to disk...\n",
      "Aug 02 11:35:45 ... loading chunks from disk, packing SA...\n",
      "Aug 02 11:35:45 ... finished generating suffix array\n",
      "Aug 02 11:35:45 ... generating Suffix Array index\n",
      "Aug 02 11:35:45 ... completed Suffix Array index\n",
      "Aug 02 11:35:45 ... writing Genome to disk ...\n",
      "Aug 02 11:35:45 ... writing Suffix Array to disk ...\n",
      "Aug 02 11:35:46 ... writing SAindex to disk\n",
      "Aug 02 11:35:46 ..... finished successfully\n"
     ]
    }
   ],
   "source": [
    "%%bash\n",
    "./STAR --runThreadN 8 \\\n",
    "--runMode genomeGenerate \\\n",
    "--genomeDir results/STAR_output/indexing_contigs_1_2 \\\n",
    "--genomeFastaFiles ../Data/Clover_Data/DNA_Contig1_2.fasta \\\n",
    "--sjdbGTFfile ../Data/Clover_Data/white_clover_genes.gff \\\n",
    "--quantMode GeneCounts \\\n",
    "--genomeSAindexNbases 9 \\"
   ]
  },
  {
   "cell_type": "code",
   "execution_count": 19,
   "id": "e5f384d0-125b-4a1d-91ac-ee90a5797fae",
   "metadata": {
    "execution": {
     "iopub.execute_input": "2022-08-02T09:36:50.319332Z",
     "iopub.status.busy": "2022-08-02T09:36:50.318137Z",
     "iopub.status.idle": "2022-08-02T09:38:47.867473Z",
     "shell.execute_reply": "2022-08-02T09:38:47.865354Z",
     "shell.execute_reply.started": "2022-08-02T09:36:50.319253Z"
    },
    "tags": []
   },
   "outputs": [
    {
     "name": "stdout",
     "output_type": "stream",
     "text": [
      "###############################################\n",
      "##### ALIGNING PAIRED-END READS S10_1_1\n",
      "###############################################\n",
      "\t./STAR --genomeDir results/STAR_output/indexing_contigs_1_2/ --runThreadN 8 --readFilesIn rawData/S10_1_1.R1.fastq rawData/S10_1_1.R2.fastq --outFileNamePrefix results/STAR_output/S10_align_contigs_1_2/S10_1_1 --outSAMtype BAM SortedByCoordinate --outSAMattributes Standard --sjdbGTFfile rawData/white_clover_genes.gff --quantMode GeneCounts\n",
      "\tSTAR version: 2.7.10a   compiled: 2022-01-14T18:50:00-05:00 :/home/dobin/data/STAR/STARcode/STAR.master/source\n",
      "Aug 02 11:36:50 ..... started STAR run\n",
      "Aug 02 11:36:50 ..... loading genome\n",
      "Aug 02 11:36:50 ..... processing annotations GTF\n",
      "Aug 02 11:36:50 ..... started mapping\n",
      "Aug 02 11:37:07 ..... finished mapping\n",
      "Aug 02 11:37:07 ..... started sorting BAM\n",
      "Aug 02 11:37:09 ..... finished successfully\n",
      "###############################################\n",
      "##### ALIGNING PAIRED-END READS S10_1_2\n",
      "###############################################\n",
      "\t./STAR --genomeDir results/STAR_output/indexing_contigs_1_2/ --runThreadN 8 --readFilesIn rawData/S10_1_2.R1.fastq rawData/S10_1_2.R2.fastq --outFileNamePrefix results/STAR_output/S10_align_contigs_1_2/S10_1_2 --outSAMtype BAM SortedByCoordinate --outSAMattributes Standard --sjdbGTFfile rawData/white_clover_genes.gff --quantMode GeneCounts\n",
      "\tSTAR version: 2.7.10a   compiled: 2022-01-14T18:50:00-05:00 :/home/dobin/data/STAR/STARcode/STAR.master/source\n",
      "Aug 02 11:37:14 ..... started STAR run\n",
      "Aug 02 11:37:14 ..... loading genome\n",
      "Aug 02 11:37:14 ..... processing annotations GTF\n",
      "Aug 02 11:37:14 ..... started mapping\n",
      "Aug 02 11:37:32 ..... finished mapping\n",
      "Aug 02 11:37:32 ..... started sorting BAM\n",
      "Aug 02 11:37:34 ..... finished successfully\n",
      "###############################################\n",
      "##### ALIGNING PAIRED-END READS S10_1_3\n",
      "###############################################\n",
      "\t./STAR --genomeDir results/STAR_output/indexing_contigs_1_2/ --runThreadN 8 --readFilesIn rawData/S10_1_3.R1.fastq rawData/S10_1_3.R2.fastq --outFileNamePrefix results/STAR_output/S10_align_contigs_1_2/S10_1_3 --outSAMtype BAM SortedByCoordinate --outSAMattributes Standard --sjdbGTFfile rawData/white_clover_genes.gff --quantMode GeneCounts\n",
      "\tSTAR version: 2.7.10a   compiled: 2022-01-14T18:50:00-05:00 :/home/dobin/data/STAR/STARcode/STAR.master/source\n",
      "Aug 02 11:37:36 ..... started STAR run\n",
      "Aug 02 11:37:36 ..... loading genome\n",
      "Aug 02 11:37:36 ..... processing annotations GTF\n",
      "Aug 02 11:37:36 ..... started mapping\n",
      "Aug 02 11:37:57 ..... finished mapping\n",
      "Aug 02 11:37:57 ..... started sorting BAM\n",
      "Aug 02 11:37:58 ..... finished successfully\n",
      "###############################################\n",
      "##### ALIGNING PAIRED-END READS S10_2_1\n",
      "###############################################\n",
      "\t./STAR --genomeDir results/STAR_output/indexing_contigs_1_2/ --runThreadN 8 --readFilesIn rawData/S10_2_1.R1.fastq rawData/S10_2_1.R2.fastq --outFileNamePrefix results/STAR_output/S10_align_contigs_1_2/S10_2_1 --outSAMtype BAM SortedByCoordinate --outSAMattributes Standard --sjdbGTFfile rawData/white_clover_genes.gff --quantMode GeneCounts\n",
      "\tSTAR version: 2.7.10a   compiled: 2022-01-14T18:50:00-05:00 :/home/dobin/data/STAR/STARcode/STAR.master/source\n",
      "Aug 02 11:37:58 ..... started STAR run\n",
      "Aug 02 11:37:58 ..... loading genome\n",
      "Aug 02 11:37:58 ..... processing annotations GTF\n",
      "Aug 02 11:37:58 ..... started mapping\n",
      "Aug 02 11:38:12 ..... finished mapping\n",
      "Aug 02 11:38:12 ..... started sorting BAM\n",
      "Aug 02 11:38:13 ..... finished successfully\n",
      "###############################################\n",
      "##### ALIGNING PAIRED-END READS S10_2_2\n",
      "###############################################\n",
      "\t./STAR --genomeDir results/STAR_output/indexing_contigs_1_2/ --runThreadN 8 --readFilesIn rawData/S10_2_2.R1.fastq rawData/S10_2_2.R2.fastq --outFileNamePrefix results/STAR_output/S10_align_contigs_1_2/S10_2_2 --outSAMtype BAM SortedByCoordinate --outSAMattributes Standard --sjdbGTFfile rawData/white_clover_genes.gff --quantMode GeneCounts\n",
      "\tSTAR version: 2.7.10a   compiled: 2022-01-14T18:50:00-05:00 :/home/dobin/data/STAR/STARcode/STAR.master/source\n",
      "Aug 02 11:38:13 ..... started STAR run\n",
      "Aug 02 11:38:13 ..... loading genome\n",
      "Aug 02 11:38:13 ..... processing annotations GTF\n",
      "Aug 02 11:38:13 ..... started mapping\n",
      "Aug 02 11:38:26 ..... finished mapping\n",
      "Aug 02 11:38:26 ..... started sorting BAM\n",
      "Aug 02 11:38:27 ..... finished successfully\n",
      "###############################################\n",
      "##### ALIGNING PAIRED-END READS S10_2_3\n",
      "###############################################\n",
      "\t./STAR --genomeDir results/STAR_output/indexing_contigs_1_2/ --runThreadN 8 --readFilesIn rawData/S10_2_3.R1.fastq rawData/S10_2_3.R2.fastq --outFileNamePrefix results/STAR_output/S10_align_contigs_1_2/S10_2_3 --outSAMtype BAM SortedByCoordinate --outSAMattributes Standard --sjdbGTFfile rawData/white_clover_genes.gff --quantMode GeneCounts\n",
      "\tSTAR version: 2.7.10a   compiled: 2022-01-14T18:50:00-05:00 :/home/dobin/data/STAR/STARcode/STAR.master/source\n",
      "Aug 02 11:38:27 ..... started STAR run\n",
      "Aug 02 11:38:27 ..... loading genome\n",
      "Aug 02 11:38:27 ..... processing annotations GTF\n",
      "Aug 02 11:38:27 ..... started mapping\n",
      "Aug 02 11:38:43 ..... finished mapping\n",
      "Aug 02 11:38:43 ..... started sorting BAM\n",
      "Aug 02 11:38:45 ..... finished successfully\n"
     ]
    }
   ],
   "source": [
    "%%bash\n",
    "for i in `ls ../Data/Clover_Data/S10*.R1.fastq`\n",
    "do\n",
    "\n",
    "PREFIXNAME=`basename $i .R1.fastq`\n",
    "echo \"###############################################\"\n",
    "echo \"##### ALIGNING PAIRED-END READS \"$PREFIXNAME\n",
    "echo \"###############################################\"\n",
    "./STAR --genomeDir results/STAR_output/indexing_contigs_1_2/ \\\n",
    "--runThreadN 8 \\\n",
    "--readFilesIn ../Data/Clover_Data/$PREFIXNAME.R1.fastq ../Data/Clover_Data/$PREFIXNAME.R2.fastq \\\n",
    "--outFileNamePrefix results/STAR_output/S10_align_contigs_1_2/$PREFIXNAME \\\n",
    "--outSAMtype BAM SortedByCoordinate \\\n",
    "--outSAMattributes Standard \\\n",
    "--sjdbGTFfile ../Data/Clover_Data/white_clover_genes.gff \\\n",
    "--quantMode GeneCounts\n",
    "\n",
    "done"
   ]
  },
  {
   "cell_type": "code",
   "execution_count": 20,
   "id": "74b1d9c2-a7f2-490b-88a3-a7ba2a23f383",
   "metadata": {
    "execution": {
     "iopub.execute_input": "2022-08-02T09:38:47.880245Z",
     "iopub.status.busy": "2022-08-02T09:38:47.879883Z",
     "iopub.status.idle": "2022-08-02T09:42:03.333418Z",
     "shell.execute_reply": "2022-08-02T09:42:03.332166Z",
     "shell.execute_reply.started": "2022-08-02T09:38:47.880217Z"
    },
    "tags": []
   },
   "outputs": [
    {
     "name": "stdout",
     "output_type": "stream",
     "text": [
      "###############################################\n",
      "##### ALIGNING PAIRED-END READS TI_1_1\n",
      "###############################################\n",
      "\t./STAR --genomeDir results/STAR_output/indexing_contigs_1_2/ --runThreadN 8 --readFilesIn rawData/TI_1_1.R1.fastq rawData/TI_1_1.R2.fastq --outFileNamePrefix results/STAR_output/TI_align_contigs_1_2/TI_1_1 --outSAMtype BAM SortedByCoordinate --outSAMattributes Standard --sjdbGTFfile rawData/white_clover_genes.gff --quantMode GeneCounts\n",
      "\tSTAR version: 2.7.10a   compiled: 2022-01-14T18:50:00-05:00 :/home/dobin/data/STAR/STARcode/STAR.master/source\n",
      "Aug 02 11:38:47 ..... started STAR run\n",
      "Aug 02 11:38:47 ..... loading genome\n",
      "Aug 02 11:38:47 ..... processing annotations GTF\n",
      "Aug 02 11:38:47 ..... started mapping\n",
      "Aug 02 11:39:14 ..... finished mapping\n",
      "Aug 02 11:39:14 ..... started sorting BAM\n",
      "Aug 02 11:39:15 ..... finished successfully\n",
      "###############################################\n",
      "##### ALIGNING PAIRED-END READS TI_1_2\n",
      "###############################################\n",
      "\t./STAR --genomeDir results/STAR_output/indexing_contigs_1_2/ --runThreadN 8 --readFilesIn rawData/TI_1_2.R1.fastq rawData/TI_1_2.R2.fastq --outFileNamePrefix results/STAR_output/TI_align_contigs_1_2/TI_1_2 --outSAMtype BAM SortedByCoordinate --outSAMattributes Standard --sjdbGTFfile rawData/white_clover_genes.gff --quantMode GeneCounts\n",
      "\tSTAR version: 2.7.10a   compiled: 2022-01-14T18:50:00-05:00 :/home/dobin/data/STAR/STARcode/STAR.master/source\n",
      "Aug 02 11:39:15 ..... started STAR run\n",
      "Aug 02 11:39:15 ..... loading genome\n",
      "Aug 02 11:39:15 ..... processing annotations GTF\n",
      "Aug 02 11:39:15 ..... started mapping\n",
      "Aug 02 11:39:39 ..... finished mapping\n",
      "Aug 02 11:39:40 ..... started sorting BAM\n",
      "Aug 02 11:39:43 ..... finished successfully\n",
      "###############################################\n",
      "##### ALIGNING PAIRED-END READS TI_1_3\n",
      "###############################################\n",
      "\t./STAR --genomeDir results/STAR_output/indexing_contigs_1_2/ --runThreadN 8 --readFilesIn rawData/TI_1_3.R1.fastq rawData/TI_1_3.R2.fastq --outFileNamePrefix results/STAR_output/TI_align_contigs_1_2/TI_1_3 --outSAMtype BAM SortedByCoordinate --outSAMattributes Standard --sjdbGTFfile rawData/white_clover_genes.gff --quantMode GeneCounts\n",
      "\tSTAR version: 2.7.10a   compiled: 2022-01-14T18:50:00-05:00 :/home/dobin/data/STAR/STARcode/STAR.master/source\n",
      "Aug 02 11:39:44 ..... started STAR run\n",
      "Aug 02 11:39:44 ..... loading genome\n",
      "Aug 02 11:39:44 ..... processing annotations GTF\n",
      "Aug 02 11:39:44 ..... started mapping\n",
      "Aug 02 11:40:16 ..... finished mapping\n",
      "Aug 02 11:40:16 ..... started sorting BAM\n",
      "Aug 02 11:40:16 ..... finished successfully\n",
      "###############################################\n",
      "##### ALIGNING PAIRED-END READS TI_2_1\n",
      "###############################################\n",
      "\t./STAR --genomeDir results/STAR_output/indexing_contigs_1_2/ --runThreadN 8 --readFilesIn rawData/TI_2_1.R1.fastq rawData/TI_2_1.R2.fastq --outFileNamePrefix results/STAR_output/TI_align_contigs_1_2/TI_2_1 --outSAMtype BAM SortedByCoordinate --outSAMattributes Standard --sjdbGTFfile rawData/white_clover_genes.gff --quantMode GeneCounts\n",
      "\tSTAR version: 2.7.10a   compiled: 2022-01-14T18:50:00-05:00 :/home/dobin/data/STAR/STARcode/STAR.master/source\n",
      "Aug 02 11:40:17 ..... started STAR run\n",
      "Aug 02 11:40:17 ..... loading genome\n",
      "Aug 02 11:40:17 ..... processing annotations GTF\n",
      "Aug 02 11:40:17 ..... started mapping\n",
      "Aug 02 11:40:46 ..... finished mapping\n",
      "Aug 02 11:40:46 ..... started sorting BAM\n",
      "Aug 02 11:40:47 ..... finished successfully\n",
      "###############################################\n",
      "##### ALIGNING PAIRED-END READS TI_2_2\n",
      "###############################################\n",
      "\t./STAR --genomeDir results/STAR_output/indexing_contigs_1_2/ --runThreadN 8 --readFilesIn rawData/TI_2_2.R1.fastq rawData/TI_2_2.R2.fastq --outFileNamePrefix results/STAR_output/TI_align_contigs_1_2/TI_2_2 --outSAMtype BAM SortedByCoordinate --outSAMattributes Standard --sjdbGTFfile rawData/white_clover_genes.gff --quantMode GeneCounts\n",
      "\tSTAR version: 2.7.10a   compiled: 2022-01-14T18:50:00-05:00 :/home/dobin/data/STAR/STARcode/STAR.master/source\n",
      "Aug 02 11:40:49 ..... started STAR run\n",
      "Aug 02 11:40:49 ..... loading genome\n",
      "Aug 02 11:40:49 ..... processing annotations GTF\n",
      "Aug 02 11:40:49 ..... started mapping\n",
      "Aug 02 11:41:22 ..... finished mapping\n",
      "Aug 02 11:41:22 ..... started sorting BAM\n",
      "Aug 02 11:41:22 ..... finished successfully\n",
      "###############################################\n",
      "##### ALIGNING PAIRED-END READS TI_2_3\n",
      "###############################################\n",
      "\t./STAR --genomeDir results/STAR_output/indexing_contigs_1_2/ --runThreadN 8 --readFilesIn rawData/TI_2_3.R1.fastq rawData/TI_2_3.R2.fastq --outFileNamePrefix results/STAR_output/TI_align_contigs_1_2/TI_2_3 --outSAMtype BAM SortedByCoordinate --outSAMattributes Standard --sjdbGTFfile rawData/white_clover_genes.gff --quantMode GeneCounts\n",
      "\tSTAR version: 2.7.10a   compiled: 2022-01-14T18:50:00-05:00 :/home/dobin/data/STAR/STARcode/STAR.master/source\n",
      "Aug 02 11:41:22 ..... started STAR run\n",
      "Aug 02 11:41:22 ..... loading genome\n",
      "Aug 02 11:41:22 ..... processing annotations GTF\n",
      "Aug 02 11:41:22 ..... started mapping\n",
      "Aug 02 11:41:54 ..... finished mapping\n",
      "Aug 02 11:41:54 ..... started sorting BAM\n",
      "Aug 02 11:42:00 ..... finished successfully\n"
     ]
    }
   ],
   "source": [
    "%%bash\n",
    "for i in `ls ../Data/Clover_Data/TI*.R1.fastq`\n",
    "do\n",
    "\n",
    "PREFIXNAME=`basename $i .R1.fastq`\n",
    "echo \"###############################################\"\n",
    "echo \"##### ALIGNING PAIRED-END READS \"$PREFIXNAME\n",
    "echo \"###############################################\"\n",
    "./STAR --genomeDir results/STAR_output/indexing_contigs_1_2/ \\\n",
    "--runThreadN 8 \\\n",
    "--readFilesIn ../Data/Clover_Data/$PREFIXNAME.R1.fastq ../Data/Clover_Data/$PREFIXNAME.R2.fastq \\\n",
    "--outFileNamePrefix results/STAR_output/TI_align_contigs_1_2/$PREFIXNAME \\\n",
    "--outSAMtype BAM SortedByCoordinate \\\n",
    "--outSAMattributes Standard \\\n",
    "--sjdbGTFfile ../Data/Clover_Data/white_clover_genes.gff \\\n",
    "--quantMode GeneCounts\n",
    "\n",
    "done"
   ]
  },
  {
   "cell_type": "code",
   "execution_count": 21,
   "id": "4d0ede5e-f8c4-4d79-8f13-246102b92b53",
   "metadata": {
    "execution": {
     "iopub.execute_input": "2022-08-02T09:42:49.516245Z",
     "iopub.status.busy": "2022-08-02T09:42:49.515780Z",
     "iopub.status.idle": "2022-08-02T09:42:53.348969Z",
     "shell.execute_reply": "2022-08-02T09:42:53.348178Z",
     "shell.execute_reply.started": "2022-08-02T09:42:49.516193Z"
    },
    "tags": []
   },
   "outputs": [
    {
     "name": "stderr",
     "output_type": "stream",
     "text": [
      "\n",
      "  /// MultiQC 🔍 | v1.13.dev0\n",
      "\n",
      "|           multiqc | Search path : /work/59896/FINAL_DEVELOPMENT_GITHUB/NGS_summer_2022/Notebooks/results/STAR_output/TI_align_contigs_1_2\n",
      "|         searching | ━━━━━━━━━━━━━━━━━━━━━━━━━━━━━━━━━━━━━━━━ 100% 78/78  \n",
      "|              star | Found 6 reports and 6 gene count files\n",
      "|           multiqc | Compressing plot data\n",
      "|           multiqc | Report      : results/multiqc_output/TI_STAR_align_1_2/multiqc_report.html\n",
      "|           multiqc | Data        : results/multiqc_output/TI_STAR_align_1_2/multiqc_data\n",
      "|           multiqc | MultiQC complete\n"
     ]
    }
   ],
   "source": [
    "%%bash\n",
    "./multiqc --outdir results/multiqc_output/TI_STAR_align_1_2 \\\n",
    "            results/STAR_output/TI_align_contigs_1_2/"
   ]
  },
  {
   "cell_type": "code",
   "execution_count": 22,
   "id": "3e9b79a9-1973-45ee-b127-febdbce6e691",
   "metadata": {
    "execution": {
     "iopub.execute_input": "2022-08-02T09:43:12.491365Z",
     "iopub.status.busy": "2022-08-02T09:43:12.490779Z",
     "iopub.status.idle": "2022-08-02T09:43:16.224459Z",
     "shell.execute_reply": "2022-08-02T09:43:16.223327Z",
     "shell.execute_reply.started": "2022-08-02T09:43:12.491310Z"
    },
    "tags": []
   },
   "outputs": [
    {
     "name": "stderr",
     "output_type": "stream",
     "text": [
      "\n",
      "  /// MultiQC 🔍 | v1.13.dev0\n",
      "\n",
      "|           multiqc | Search path : /work/59896/FINAL_DEVELOPMENT_GITHUB/NGS_summer_2022/Notebooks/results/STAR_output/S10_align_contigs_1_2\n",
      "|         searching | ━━━━━━━━━━━━━━━━━━━━━━━━━━━━━━━━━━━━━━━━ 100% 78/78  \n",
      "|              star | Found 6 reports and 6 gene count files\n",
      "|           multiqc | Compressing plot data\n",
      "|           multiqc | Report      : results/multiqc_output/S10_STAR_align_1_2/multiqc_report.html\n",
      "|           multiqc | Data        : results/multiqc_output/S10_STAR_align_1_2/multiqc_data\n",
      "|           multiqc | MultiQC complete\n"
     ]
    }
   ],
   "source": [
    "%%bash\n",
    "./multiqc --outdir results/multiqc_output/S10_STAR_align_1_2 \\\n",
    "            results/STAR_output/S10_align_contigs_1_2/"
   ]
  },
  {
   "cell_type": "code",
   "execution_count": 23,
   "id": "d1845552-4eb8-4b19-b7d6-0b62febfb85f",
   "metadata": {
    "execution": {
     "iopub.execute_input": "2022-08-02T09:43:34.849715Z",
     "iopub.status.busy": "2022-08-02T09:43:34.849050Z",
     "iopub.status.idle": "2022-08-02T09:43:36.210552Z",
     "shell.execute_reply": "2022-08-02T09:43:36.209591Z",
     "shell.execute_reply.started": "2022-08-02T09:43:34.849659Z"
    },
    "tags": []
   },
   "outputs": [
    {
     "name": "stdout",
     "output_type": "stream",
     "text": [
      "Usage: samtools merge [options] -o <out.bam> [options] <in1.bam> ... <inN.bam>\n",
      "   or: samtools merge [options] <out.bam> <in1.bam> ... <inN.bam>\n",
      "\n",
      "Options:\n",
      "  -n         Input files are sorted by read name\n",
      "  -t TAG     Input files are sorted by TAG value\n",
      "  -r         Attach RG tag (inferred from file names)\n",
      "  -u         Uncompressed BAM output\n",
      "  -f         Overwrite the output BAM if exist\n",
      "  -o FILE    Specify output file via option instead of <out.bam> argument\n",
      "  -1         Compress level 1\n",
      "  -l INT     Compression level, from 0 to 9 [-1]\n",
      "  -R STR     Merge file in the specified region STR [all]\n",
      "  -h FILE    Copy the header in FILE to <out.bam> [in1.bam]\n",
      "  -c         Combine @RG headers with colliding IDs [alter IDs to be distinct]\n",
      "  -p         Combine @PG headers with colliding IDs [alter IDs to be distinct]\n",
      "  -s VALUE   Override random seed\n",
      "  -b FILE    List of input BAM filenames, one per line [null]\n",
      "  -X         Use customized index files\n",
      "  -L FILE    Specify a BED file for multiple region filtering [null]\n",
      "  --no-PG    do not add a PG line\n",
      "      --input-fmt-option OPT[=VAL]\n",
      "               Specify a single input file format option in the form\n",
      "               of OPTION or OPTION=VALUE\n",
      "  -O, --output-fmt FORMAT[,OPT[=VAL]]...\n",
      "               Specify output format (SAM, BAM, CRAM)\n",
      "      --output-fmt-option OPT[=VAL]\n",
      "               Specify a single output file format option in the form\n",
      "               of OPTION or OPTION=VALUE\n",
      "      --reference FILE\n",
      "               Reference sequence FASTA FILE [null]\n",
      "  -@, --threads INT\n",
      "               Number of additional threads to use [0]\n",
      "      --write-index\n",
      "               Automatically index the output files [off]\n",
      "      --verbosity INT\n",
      "               Set level of verbosity\n"
     ]
    }
   ],
   "source": [
    "!./samtools merge"
   ]
  },
  {
   "cell_type": "code",
   "execution_count": 33,
   "id": "fe8a7519-0700-47cd-98b1-39c2ae72488b",
   "metadata": {
    "execution": {
     "iopub.execute_input": "2022-08-02T11:25:54.619922Z",
     "iopub.status.busy": "2022-08-02T11:25:54.619473Z",
     "iopub.status.idle": "2022-08-02T11:25:55.981437Z",
     "shell.execute_reply": "2022-08-02T11:25:55.979599Z",
     "shell.execute_reply.started": "2022-08-02T11:25:54.619849Z"
    },
    "tags": []
   },
   "outputs": [
    {
     "name": "stdout",
     "output_type": "stream",
     "text": [
      "-rw-r--r--. 1 ucloud users 6.8M Aug  2 11:39 results/STAR_output/TI_align_contigs_1_2/TI_1_1Aligned.sortedByCoord.out.bam\n",
      "-rw-r--r--. 1 ucloud users 6.2M Aug  2 11:39 results/STAR_output/TI_align_contigs_1_2/TI_1_2Aligned.sortedByCoord.out.bam\n",
      "-rw-r--r--. 1 ucloud users 7.3M Aug  2 11:40 results/STAR_output/TI_align_contigs_1_2/TI_1_3Aligned.sortedByCoord.out.bam\n",
      "-rw-r--r--. 1 ucloud users 9.8M Aug  2 11:40 results/STAR_output/TI_align_contigs_1_2/TI_2_1Aligned.sortedByCoord.out.bam\n",
      "-rw-r--r--. 1 ucloud users 7.3M Aug  2 11:41 results/STAR_output/TI_align_contigs_1_2/TI_2_2Aligned.sortedByCoord.out.bam\n",
      "-rw-r--r--. 1 ucloud users 8.4M Aug  2 11:41 results/STAR_output/TI_align_contigs_1_2/TI_2_3Aligned.sortedByCoord.out.bam\n"
     ]
    }
   ],
   "source": [
    "!ls -lh  results/STAR_output/TI_align_contigs_1_2/TI_*.sortedByCoord.out.bam "
   ]
  },
  {
   "cell_type": "code",
   "execution_count": 34,
   "id": "07296157-f886-494a-97cc-6b65329c0a82",
   "metadata": {
    "execution": {
     "iopub.execute_input": "2022-08-02T11:26:05.526061Z",
     "iopub.status.busy": "2022-08-02T11:26:05.525573Z",
     "iopub.status.idle": "2022-08-02T11:26:09.403557Z",
     "shell.execute_reply": "2022-08-02T11:26:09.402052Z",
     "shell.execute_reply.started": "2022-08-02T11:26:05.526006Z"
    },
    "tags": []
   },
   "outputs": [],
   "source": [
    "%%bash\n",
    "mkdir -p results/STAR_output/TI_align_contigs_1_2_merge/\n",
    "./samtools merge -fo results/STAR_output/TI_align_contigs_1_2_merge/TI.sorted.bam results/STAR_output/TI_align_contigs_1_2/TI_*.sortedByCoord.out.bam "
   ]
  },
  {
   "cell_type": "code",
   "execution_count": 26,
   "id": "55384ddb-d3c7-4fac-bfea-f9cc430c3475",
   "metadata": {
    "execution": {
     "iopub.execute_input": "2022-08-02T09:46:40.261827Z",
     "iopub.status.busy": "2022-08-02T09:46:40.261394Z",
     "iopub.status.idle": "2022-08-02T09:46:44.542334Z",
     "shell.execute_reply": "2022-08-02T09:46:44.541001Z",
     "shell.execute_reply.started": "2022-08-02T09:46:40.261776Z"
    },
    "tags": []
   },
   "outputs": [],
   "source": [
    "%%bash\n",
    "mkdir -p results/STAR_output/S10_align_contigs_1_2_merge/\n",
    "./samtools merge -fo results/STAR_output/S10_align_contigs_1_2_merge/S10.sorted.bam results/STAR_output/S10_align_contigs_1_2/S10_*.sortedByCoord.out.bam "
   ]
  },
  {
   "cell_type": "code",
   "execution_count": 27,
   "id": "f987b7a4-fd16-43be-b475-6855322049b9",
   "metadata": {
    "execution": {
     "iopub.execute_input": "2022-08-02T09:47:18.545779Z",
     "iopub.status.busy": "2022-08-02T09:47:18.545220Z",
     "iopub.status.idle": "2022-08-02T09:47:19.096411Z",
     "shell.execute_reply": "2022-08-02T09:47:19.095164Z",
     "shell.execute_reply.started": "2022-08-02T09:47:18.545725Z"
    },
    "tags": []
   },
   "outputs": [],
   "source": [
    "%%bash\n",
    "./samtools index results/STAR_output/S10_align_contigs_1_2_merge/S10.sorted.bam results/STAR_output/TI_align_contigs_1_2_merge/TI.sorted.bam"
   ]
  }
 ],
 "metadata": {
  "kernelspec": {
   "display_name": "NGS (Python)",
   "language": "python",
   "name": "scrnaseq"
  },
  "language_info": {
   "codemirror_mode": {
    "name": "ipython",
    "version": 3
   },
   "file_extension": ".py",
   "mimetype": "text/x-python",
   "name": "python",
   "nbconvert_exporter": "python",
   "pygments_lexer": "ipython3",
   "version": "3.10.4"
  }
 },
 "nbformat": 4,
 "nbformat_minor": 5
}
