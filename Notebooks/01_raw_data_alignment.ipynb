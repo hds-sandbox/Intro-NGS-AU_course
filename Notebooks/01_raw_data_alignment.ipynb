{
 "cells": [
  {
   "cell_type": "markdown",
   "id": "2387beac-f5bf-4e61-9c79-ff6c12684b17",
   "metadata": {},
   "source": [
    "<div class=\"alert-warning\">\n",
    " <font size=\"+2\"> <b> Raw data alignment </b> </font>\n",
    "</div>\n",
    "\n",
    "This tutorial will cover the steps for performing the alignment of raw RNA- and HiFi-sequencing data. You will need to use [the software IGV](https://software.broadinstitute.org/software/igv/download) on your computer to visualize some of the output files, which can be easily downloaded once they are produced. At the end of this tutorial you will be able to:\n",
    "- perform and discuss quality control on raw data in `fastq` format using `FastQC` and `MultiQC`\n",
    "- align HiFi and RNA sequencing data with dedicated tools such as `MiniMap2` and `STAR`\n",
    "- analyze the quality the alignment with `qualimap` \n",
    "The output of this notebook will be used for the Variant calling analysis and the bulk RNA-sequencing analysis. If you do not want to run this notebook, you can alternatively use [the free interactive tool Galaxy](https://usegalaxy.org/) to perform the alignment steps. We have uploaded the data on Galaxy, and the manual to perform the exercise is found at the course webpage !!!!!!!!!!!!!!!.\n",
    "\n",
    "The present tutorial, like the rest of the course material, is available at our [open-source github repository](https://github.com/hds-sandbox/NGS_summer_course_Aarhus.\n",
    "\n",
    "\n",
    "A few introductory points to run this notebook:\n",
    "\n",
    "* To use this notebook, use the `NGS (python)` kernel that contains the packages. Choose it by selecting `Kernel -> Change Kernel` in the menu on top of the window.\n",
    "\n",
    "<figure>\n",
    "<img src=\"images/kernelchoice.png\" width=\"700\" alt=\"Kernel Choice\" class=\"center\">\n",
    "</figure>\n",
    "\n",
    "* In this notebook you will use only bash commands as you would do in the command line (this is why you read `%%bash` at the beginning of each piece of code). Those commands can be replicated in the command line, but we thought of integrating them in a notebook to make the tutorial understandable. The bash commands can also be marked with an `!` sign at the beginning of the line\n",
    "* On some computers, you might see the result of the commands once they are done running. This means you will wait some time while the computer is crunching, and only afterwards you will see the result of the command you have executed\n",
    "*  You can run the code in each cell by clicking on the run cell button, or by pressing <kbd> Shift </kbd> + <kbd> Enter </kbd>.  When the code is done running, a small green check sign will appear on the left side\n",
    "*   You need to run the cells in sequential order, please do not run a cell until the one above finished running and do not skip any cells\n",
    "*   Each cell contains a short description of the code and the output you should get. Please try not to focus on understanding the code for each command in too much detail, but rather try to focus on the output \n",
    "*   You can create new code cells by pressing <kbd> + </kbd> in the Menu bar above. \n",
    "\n",
    "\n",
    "# Biological background\n",
    "\n",
    "White clover (Trifolium repens) is an allotetraploid.  It is a relatively young, outcrossing species, which originated during the most recent glaciation around 20,000 years ago by hybridisation of two diploid species, T. occidentale and T. pallescens (see figure below). \n",
    "\n",
    "<figure>\n",
    "<img src=\"images/white_clover.png\" width=\"700\" alt=\"Kernel Choice\" class=\"center\">\n",
    "</figure>\n",
    "\n",
    "This means that it contains genomes originating from two different species within the same nucleus. Normally, white clover is an outbreeding species, but a self-compatible line was used for sequencing the white clover genome [(Griffiths et al, 2019)](https://academic.oup.com/plcell/article/31/7/1466/5985684). This line will be \n",
    "designated as `S10` in the data, indicating that this is the 10th self-fertilized generation. In addition, we have data from a wild clover accession (ecotype) called Tienshan (`Ti`), which is collected from the Chinese mountains and is adapted to alpine conditions.\n",
    "\n",
    "We will perform alignment of the data to the white clover's reference genome containing both T. occidentale and T. pallescens (called `contig 1` and `contig 2` in the data). We will also perform alignment to each subgenome, and see which are the differences with the quality control tools."
   ]
  },
  {
   "cell_type": "markdown",
   "id": "557e7314-ea28-49d0-98da-bcc2415f8318",
   "metadata": {},
   "source": [
    "Check if the data folder is there"
   ]
  },
  {
   "cell_type": "code",
   "execution_count": 1,
   "id": "7e90bad4-a49f-4fba-8e5a-a8d5428cd136",
   "metadata": {
    "tags": []
   },
   "outputs": [
    {
     "name": "stdout",
     "output_type": "stream",
     "text": [
      "==============================================================\n",
      "Copying datasets from https://zenodo.org/record/6952995\n",
      "==============================================================\n"
     ]
    },
    {
     "name": "stderr",
     "output_type": "stream",
     "text": [
      "  % Total    % Received % Xferd  Average Speed   Time    Time     Time  Current\n",
      "                                 Dload  Upload   Total   Spent    Left  Speed\n",
      "100  145M  100  145M    0     0   216k      0  0:11:27  0:11:27 --:--:--  355k\n"
     ]
    },
    {
     "name": "stdout",
     "output_type": "stream",
     "text": [
      "Clover_Data/\n",
      "Clover_Data/S10_1_1.R1.fastq\n",
      "Clover_Data/Hifi_reads_white_clover.fastq\n",
      "Clover_Data/DNA_Contig1.fasta\n",
      "Clover_Data/TI_1_2.R1.fastq\n",
      "Clover_Data/TI_1_1.R2.fastq\n",
      "Clover_Data/DNA_Contig1_2.fasta.fai\n",
      "Clover_Data/S10_2_2.R1.fastq\n",
      "Clover_Data/S10_2_3.R2.fastq\n",
      "Clover_Data/Functional_Annotations.txt\n",
      "Clover_Data/white_clover_genes.gff\n",
      "Clover_Data/TI_2_1.R2.fastq\n",
      "Clover_Data/TI_1_3.R2.fastq\n",
      "Clover_Data/S10_2_1.R1.fastq\n",
      "Clover_Data/DNA_Contig2.fasta\n",
      "Clover_Data/DNA_Contig2.fasta.fai\n",
      "Clover_Data/TI_2_3.R2.fastq\n",
      "Clover_Data/S10_1_2.R2.fastq\n",
      "Clover_Data/S10_1_3.R2.fastq\n",
      "Clover_Data/TI_2_2.R2.fastq\n",
      "Clover_Data/TI_1_1.R1.fastq\n",
      "Clover_Data/TI_2_2.R1.fastq\n",
      "Clover_Data/metadata.csv\n",
      "Clover_Data/TI_2_3.R1.fastq\n",
      "Clover_Data/TI_2_1.R1.fastq\n",
      "Clover_Data/TI_1_2.R2.fastq\n",
      "Clover_Data/S10_2_2.R2.fastq\n",
      "Clover_Data/S10_2_1.R2.fastq\n",
      "Clover_Data/DNA_Contig1.fasta.fai\n",
      "Clover_Data/S10_1_3.R1.fastq\n",
      "Clover_Data/S10_2_3.R1.fastq\n",
      "Clover_Data/S10_1_1.R2.fastq\n",
      "Clover_Data/TI_1_3.R1.fastq\n",
      "Clover_Data/DNA_Contig1_2.fasta\n",
      "Clover_Data/S10_1_2.R1.fastq\n"
     ]
    },
    {
     "name": "stderr",
     "output_type": "stream",
     "text": [
      "  % Total    % Received % Xferd  Average Speed   Time    Time     Time  Current\n",
      "                                 Dload  Upload   Total   Spent    Left  Speed\n"
     ]
    },
    {
     "name": "stdout",
     "output_type": "stream",
     "text": [
      "scrna_data/\n",
      "scrna_data/crypto_azoospermia.h5ad\n",
      "scrna_data/rawDataScanpy.h5ad\n"
     ]
    },
    {
     "name": "stderr",
     "output_type": "stream",
     "text": [
      "Task exception was never retrieved\n",
      "future: <Task finished name='Task-8' coro=<ScriptMagics.shebang.<locals>._handle_stream() done, defined at /opt/conda/envs/NGS_aarhus/lib/python3.10/site-packages/IPython/core/magics/script.py:211> exception=ValueError('Separator is not found, and chunk exceed the limit')>\n",
      "Traceback (most recent call last):\n",
      "  File \"/opt/conda/envs/NGS_aarhus/lib/python3.10/asyncio/streams.py\", line 525, in readline\n",
      "    line = await self.readuntil(sep)\n",
      "  File \"/opt/conda/envs/NGS_aarhus/lib/python3.10/asyncio/streams.py\", line 603, in readuntil\n",
      "    raise exceptions.LimitOverrunError(\n",
      "asyncio.exceptions.LimitOverrunError: Separator is not found, and chunk exceed the limit\n",
      "\n",
      "During handling of the above exception, another exception occurred:\n",
      "\n",
      "Traceback (most recent call last):\n",
      "  File \"/opt/conda/envs/NGS_aarhus/lib/python3.10/site-packages/IPython/core/magics/script.py\", line 213, in _handle_stream\n",
      "    line = (await stream.readline()).decode(\"utf8\")\n",
      "  File \"/opt/conda/envs/NGS_aarhus/lib/python3.10/asyncio/streams.py\", line 534, in readline\n",
      "    raise ValueError(e.args[0])\n",
      "ValueError: Separator is not found, and chunk exceed the limit\n"
     ]
    }
   ],
   "source": [
    "%%bash\n",
    "sh ../Scripts/dataDownloadScript.sh"
   ]
  },
  {
   "cell_type": "markdown",
   "id": "e9fa554d-1968-4d6c-a980-a799d40da2a6",
   "metadata": {},
   "source": [
    "# Quality control and mapping\n",
    "\n",
    "## Quality Control\n",
    "\n",
    "We run `FastQC` on the PacBio Hifi reads and on two of the Illumina RNA-seq libraries. `FastQC` does quality control of the raw sequence data, providing an overview of the data which can help identify if there are any problems that should be addressed before further analysis. You can find the report for each file into the folder `results/fastqc_output/`. The output is in HTML format and can be opened in any browser or in `jupyterlab`. It is however not easy to compare the various libraries by opening separate reports. To aggregate all the results, we apply the `MultiQC` software to the reports' folder. The output of MultiQC is in the directory `results/multiqc_output/fastqc_data`."
   ]
  },
  {
   "cell_type": "code",
   "execution_count": 2,
   "id": "8e870118-3af0-4e12-80bd-381786b58833",
   "metadata": {
    "tags": []
   },
   "outputs": [],
   "source": [
    "%%bash\n",
    "#run fast\n",
    "mkdir -p results/fastqc_output\n",
    "fastqc -q -o results/fastqc_output ../Data/Clover_Data/*.fastq"
   ]
  },
  {
   "cell_type": "code",
   "execution_count": 3,
   "id": "bb569b9f-9700-4edf-a785-ee4b5c632432",
   "metadata": {
    "tags": []
   },
   "outputs": [
    {
     "name": "stderr",
     "output_type": "stream",
     "text": [
      "\n",
      "  /// MultiQC 🔍 | v1.13.dev0\n",
      "\n",
      "|           multiqc | Search path : /usr/Material/Notebooks/results/fastqc_output\n",
      "|         searching | ━━━━━━━━━━━━━━━━━━━━━━━━━━━━━━━━━━━━━━━━ 100% 50/50  \n",
      "|            fastqc | Found 25 reports\n",
      "|           multiqc | Compressing plot data\n",
      "|           multiqc | Report      : results/multiqc_output/fastqc_data/multiqc_report.html\n",
      "|           multiqc | Data        : results/multiqc_output/fastqc_data/multiqc_data\n",
      "|           multiqc | MultiQC complete\n"
     ]
    }
   ],
   "source": [
    "%%bash\n",
    "multiqc --outdir results/multiqc_output/fastqc_data results/fastqc_output"
   ]
  },
  {
   "cell_type": "markdown",
   "id": "37bcc081-4568-40ea-a487-a0567afb0648",
   "metadata": {},
   "source": [
    "<div class=\"alert-success\"> <font size=\"+2\"> <b> Questions </b> </font> </div>\n",
    "\n",
    "Visualize the Webpage generated by MultiQC.\n",
    "\n",
    "Hint: You can find a `Help` button that offers additional information about the plots for each panel. Focus on the following panels: “Per base sequence quality”, “Per sequence quality scores”.... (“Per base sequence content” always gives a `FAIL` for RNA-seq data).\n",
    "\n",
    "* What do you notice with respect to the sequence quality scores? \n",
    "* Are there any other quality issues worth noting?"
   ]
  },
  {
   "cell_type": "markdown",
   "id": "fe4ff3dc-e725-439a-af06-9cc9e8df7369",
   "metadata": {
    "tags": []
   },
   "source": [
    "## Hifi data mapping\n",
    "\n",
    "We map the PacBio Hifi reads (`Hifi_reads_white_clover.fastq`) to the white clover reference sequence (Contig1&2) using `minimap2`. We run two mapping rounds, using two different preset options (`-x` in the command) for the technology:\n",
    "* PacBio/Oxford Nanopore read to reference mapping: `map-pb`\n",
    "* Long assembly to reference mapping. Divergence is far below 5%” settings `asm5`.\n",
    "Next, we create reports of the mapping results by running `QualiMap` on the two obtained SAM files."
   ]
  },
  {
   "cell_type": "markdown",
   "id": "38aa9ec7-e1d0-4dae-9595-39b9626744a3",
   "metadata": {},
   "source": [
    "We first need to index the reference fasta files using `samtools faidx`. This produces files in `.fai` format containing informations about length of the reference sequence, offset for the quality scores, name of the reference sequence. [Click here](http://www.htslib.org/doc/faidx.html) for a detailed overview. "
   ]
  },
  {
   "cell_type": "code",
   "execution_count": 4,
   "id": "7164eaeb-b66c-4ebc-b834-b2788f3430ac",
   "metadata": {
    "tags": []
   },
   "outputs": [],
   "source": [
    "%%bash\n",
    "samtools faidx ../Data/Clover_Data/DNA_Contig1_2.fasta\n",
    "samtools faidx ../Data/Clover_Data/DNA_Contig1.fasta\n",
    "samtools faidx ../Data/Clover_Data/DNA_Contig2.fasta"
   ]
  },
  {
   "cell_type": "markdown",
   "id": "d2f9adf3-80ad-4cfe-bd47-85675a0d1817",
   "metadata": {},
   "source": [
    "we create an output folder for the HIFI alignment, and run `minimap2` with the settings explained before."
   ]
  },
  {
   "cell_type": "code",
   "execution_count": 5,
   "id": "78f8d72a-ea2a-4540-916b-a3dee7b9df1e",
   "metadata": {
    "tags": []
   },
   "outputs": [
    {
     "name": "stderr",
     "output_type": "stream",
     "text": [
      "[M::mm_idx_gen::0.071*1.04] collected minimizers\n",
      "[M::mm_idx_gen::0.278*0.42] sorted minimizers\n",
      "[M::main::0.278*0.42] loaded/built the index for 2 target sequence(s)\n",
      "[M::mm_mapopt_update::0.288*0.44] mid_occ = 11\n",
      "[M::mm_idx_stat] kmer size: 19; skip: 10; is_hpc: 1; #seq: 2\n",
      "[M::mm_idx_stat::0.295*0.45] distinct minimizers: 203943 (79.05% are singletons); average occurrences: 1.273; average spacing: 8.047; total length: 2089554\n",
      "[M::worker_pipeline::33.583*2.72] mapped 4395 sequences\n",
      "[M::main] Version: 2.24-r1122\n",
      "[M::main] CMD: minimap2 -a -x map-pb -o results/HIFI_alignment/PacBio_clover_alignment_1_2_mappb.sam ../Data/Clover_Data/DNA_Contig1_2.fasta ../Data/Clover_Data/Hifi_reads_white_clover.fastq\n",
      "[M::main] Real time: 33.680 sec; CPU: 91.409 sec; Peak RSS: 1.152 GB\n",
      "[M::mm_idx_gen::0.062*1.08] collected minimizers\n",
      "[M::mm_idx_gen::0.089*1.37] sorted minimizers\n",
      "[M::main::0.089*1.37] loaded/built the index for 2 target sequence(s)\n",
      "[M::mm_mapopt_update::0.096*1.34] mid_occ = 50\n",
      "[M::mm_idx_stat] kmer size: 19; skip: 19; is_hpc: 0; #seq: 2\n",
      "[M::mm_idx_stat::0.102*1.32] distinct minimizers: 165056 (78.87% are singletons); average occurrences: 1.271; average spacing: 9.959; total length: 2089554\n",
      "[M::worker_pipeline::39.541*2.88] mapped 4395 sequences\n",
      "[M::main] Version: 2.24-r1122\n",
      "[M::main] CMD: minimap2 -a -x asm5 -o results/HIFI_alignment/PacBio_clover_alignment_1_2_asm5.sam ../Data/Clover_Data/DNA_Contig1_2.fasta ../Data/Clover_Data/Hifi_reads_white_clover.fastq\n",
      "[M::main] Real time: 39.616 sec; CPU: 114.048 sec; Peak RSS: 1.601 GB\n"
     ]
    }
   ],
   "source": [
    "%%bash \n",
    "mkdir -p results/HIFI_alignment/\n",
    "minimap2 -a -x map-pb -o results/HIFI_alignment/PacBio_clover_alignment_1_2_mappb.sam \\\n",
    "                            ../Data/Clover_Data/DNA_Contig1_2.fasta \\\n",
    "                            ../Data/Clover_Data/Hifi_reads_white_clover.fastq \n",
    "\n",
    "minimap2 -a -x asm5 -o results/HIFI_alignment/PacBio_clover_alignment_1_2_asm5.sam \\\n",
    "                            ../Data/Clover_Data/DNA_Contig1_2.fasta \\\n",
    "                            ../Data/Clover_Data/Hifi_reads_white_clover.fastq"
   ]
  },
  {
   "cell_type": "markdown",
   "id": "4127acd6-0c46-47df-9399-4e9eb9136878",
   "metadata": {},
   "source": [
    "`samtools sort` is used to sort the alignment with left-to-right coordinates. The output is in `.bam` format, with `.sam` files in input (Note that you could have gotten `.bam` files from `minimap2` with a specific option)."
   ]
  },
  {
   "cell_type": "code",
   "execution_count": 6,
   "id": "04fed3e0-2e63-42d3-8a93-4d0dcf99433b",
   "metadata": {
    "tags": []
   },
   "outputs": [],
   "source": [
    "%%bash\n",
    "samtools sort results/HIFI_alignment/PacBio_clover_alignment_1_2_mappb.sam \\\n",
    "                -o results/HIFI_alignment/PacBio_clover_alignment_1_2_mappb.sort.bam\n",
    "\n",
    "samtools sort results/HIFI_alignment/PacBio_clover_alignment_1_2_asm5.sam \\\n",
    "                -o results/HIFI_alignment/PacBio_clover_alignment_1_2_asm5.sort.bam"
   ]
  },
  {
   "cell_type": "markdown",
   "id": "080e7d40-f4a4-4245-a8df-63b93cb92de5",
   "metadata": {},
   "source": [
    "`samtools index` creates the index for the `bam` file, stored in `.bai` format. The index file lets programs access any position into the aligned data without reading the whole file, which would take too much time."
   ]
  },
  {
   "cell_type": "code",
   "execution_count": 7,
   "id": "283ca1e5-b973-40c0-9170-552e50a6c73c",
   "metadata": {},
   "outputs": [],
   "source": [
    "%%bash\n",
    "samtools index results/HIFI_alignment/PacBio_clover_alignment_1_2_mappb.sort.bam\n",
    "samtools index results/HIFI_alignment/PacBio_clover_alignment_1_2_asm5.sort.bam"
   ]
  },
  {
   "cell_type": "markdown",
   "id": "1bc10dae-549f-405b-8a84-8137b766dcff",
   "metadata": {},
   "source": [
    "Run quality control on both files"
   ]
  },
  {
   "cell_type": "code",
   "execution_count": 8,
   "id": "a715b1d4-91e6-479e-a6db-f63f0494eaeb",
   "metadata": {
    "tags": []
   },
   "outputs": [
    {
     "name": "stdout",
     "output_type": "stream",
     "text": [
      "Java memory size is set to 1200M\n",
      "Launching application...\n",
      "\n",
      "QualiMap v.2.2.2-dev\n",
      "Built on 2019-11-11 14:05\n",
      "\n",
      "Selected tool: bamqc\n",
      "Available memory (Mb): 33\n",
      "Max memory (Mb): 1258\n",
      "Starting bam qc....\n",
      "Loading sam header...\n",
      "Loading locator...\n",
      "Loading reference...\n",
      "Number of windows: 400, effective number of windows: 401\n",
      "Chunk of reads size: 1000\n",
      "Number of threads: 4\n",
      "Processed 50 out of 401 windows...\n",
      "Processed 100 out of 401 windows...\n",
      "Processed 150 out of 401 windows...\n",
      "Processed 200 out of 401 windows...\n",
      "Processed 250 out of 401 windows...\n",
      "Processed 300 out of 401 windows...\n",
      "Processed 350 out of 401 windows...\n",
      "Processed 400 out of 401 windows...\n",
      "Total processed windows:401\n",
      "Number of reads: 4395\n",
      "Number of valid reads: 4696\n",
      "Number of correct strand reads:0\n",
      "\n",
      "Inside of regions...\n",
      "Num mapped reads: 4395\n",
      "Num mapped first of pair: 0\n",
      "Num mapped second of pair: 0\n",
      "Num singletons: 0\n",
      "Time taken to analyze reads: 7\n",
      "Computing descriptors...\n",
      "numberOfMappedBases: 70274383\n",
      "referenceSize: 2089554\n",
      "numberOfSequencedBases: 70039397\n",
      "numberOfAs: 23621784\n",
      "Computing per chromosome statistics...\n",
      "Computing histograms...\n",
      "Overall analysis time: 7\n",
      "end of bam qc\n",
      "Computing report...\n",
      "Writing HTML report...\n",
      "HTML report created successfully\n",
      "\n",
      "Finished\n",
      "Java memory size is set to 1200M\n",
      "Launching application...\n",
      "\n",
      "QualiMap v.2.2.2-dev\n",
      "Built on 2019-11-11 14:05\n",
      "\n",
      "Selected tool: bamqc\n",
      "Available memory (Mb): 33\n",
      "Max memory (Mb): 1258\n",
      "Starting bam qc....\n",
      "Loading sam header...\n",
      "Loading locator...\n",
      "Loading reference...\n",
      "Number of windows: 400, effective number of windows: 401\n",
      "Chunk of reads size: 1000\n",
      "Number of threads: 4\n",
      "Processed 50 out of 401 windows...\n",
      "Processed 100 out of 401 windows...\n",
      "Processed 150 out of 401 windows...\n",
      "Processed 200 out of 401 windows...\n",
      "Processed 250 out of 401 windows...\n",
      "Processed 300 out of 401 windows...\n",
      "Processed 350 out of 401 windows...\n",
      "Processed 400 out of 401 windows...\n",
      "Total processed windows:401\n",
      "Number of reads: 4395\n",
      "Number of valid reads: 4864\n",
      "Number of correct strand reads:0\n",
      "\n",
      "Inside of regions...\n",
      "Num mapped reads: 4395\n",
      "Num mapped first of pair: 0\n",
      "Num mapped second of pair: 0\n",
      "Num singletons: 0\n",
      "Time taken to analyze reads: 7\n",
      "Computing descriptors...\n",
      "numberOfMappedBases: 69529898\n",
      "referenceSize: 2089554\n",
      "numberOfSequencedBases: 69465134\n",
      "numberOfAs: 23430516\n",
      "Computing per chromosome statistics...\n",
      "Computing histograms...\n",
      "Overall analysis time: 7\n",
      "end of bam qc\n",
      "Computing report...\n",
      "Writing HTML report...\n",
      "HTML report created successfully\n",
      "\n",
      "Finished\n"
     ]
    }
   ],
   "source": [
    "%%bash\n",
    "qualimap bamqc -bam results/HIFI_alignment/PacBio_clover_alignment_1_2_mappb.sort.bam \\\n",
    "                 -outdir results/qualimap_output/PacBio_clover_alignment_1_2_mappb\n",
    "\n",
    "qualimap bamqc -bam results/HIFI_alignment/PacBio_clover_alignment_1_2_asm5.sort.bam \\\n",
    "                 -outdir results/qualimap_output/PacBio_clover_alignment_1_2_asm5"
   ]
  },
  {
   "cell_type": "markdown",
   "id": "8ddf2f6b-42d2-4454-b25c-0f6537a6b6c8",
   "metadata": {},
   "source": [
    "<div class=\"alert-success\"> <font size=\"+2\"> <b> Questions </b> </font> </div>\n",
    "\n",
    "Visualize the reports generated by QualiMap. If you want, you can also inspect the alignment files in `IGV`. First, you will need to download the reference fasta sequence in `../Data/Clover_Data/DNA_Contig1_2.fasta` and import it into IGV. Go to IGV and use the `Genomes --> Load Genome from file` menu and select the relevant fasta file. Afterwards, to view the alignments directly in IGV click on the Visualize button on the selected dataset (marked in red) and choose the `1. display with IGV (local)` option. You need to have IGV opened locally on your computer. \n",
    "\n",
    "* What do you observe when comparing the two BAM files? \n",
    "* Which setting do you think is the more appropriate to use, and why?\n",
    "* Have a look at the polymorphic regions in IGV and think about if they are true polymorphisms."
   ]
  },
  {
   "cell_type": "markdown",
   "id": "f84d8e45-8851-437c-8f3b-0c22fb0bd6b9",
   "metadata": {},
   "source": [
    "Next, we map the white clover PacBio Hifi reads to contig1 and contig2 separately, using the setting you selected at the previous step (let's say `map-pb` was chosen, but you are free to change this setting in the commands). As the two contigs represent the two white clover subgenomes, this mapping will allow you to see the two subgenome haplotypes and call subgenome SNPs.\n"
   ]
  },
  {
   "cell_type": "code",
   "execution_count": 9,
   "id": "aa14c53f-56ea-4216-929d-1678eea2eaf5",
   "metadata": {
    "tags": []
   },
   "outputs": [
    {
     "name": "stderr",
     "output_type": "stream",
     "text": [
      "[M::mm_idx_gen::0.052*1.12] collected minimizers\n",
      "[M::mm_idx_gen::0.068*1.37] sorted minimizers\n",
      "[M::main::0.068*1.37] loaded/built the index for 1 target sequence(s)\n",
      "[M::mm_mapopt_update::0.072*1.35] mid_occ = 10\n",
      "[M::mm_idx_stat] kmer size: 19; skip: 10; is_hpc: 1; #seq: 1\n",
      "[M::mm_idx_stat::0.077*1.32] distinct minimizers: 112547 (91.45% are singletons); average occurrences: 1.141; average spacing: 8.031; total length: 1031631\n",
      "[M::worker_pipeline::49.182*2.83] mapped 4395 sequences\n",
      "[M::main] Version: 2.24-r1122\n",
      "[M::main] CMD: minimap2 -a -x map-pb -o results/HIFI_alignment/PacBio_clover_alignment_1.sam ../Data/Clover_Data/DNA_Contig1.fasta ../Data/Clover_Data/Hifi_reads_white_clover.fastq\n",
      "[M::main] Real time: 49.205 sec; CPU: 139.289 sec; Peak RSS: 2.212 GB\n"
     ]
    }
   ],
   "source": [
    "%%bash \n",
    "minimap2 -a -x map-pb -o results/HIFI_alignment/PacBio_clover_alignment_1.sam \\\n",
    "                            ../Data/Clover_Data/DNA_Contig1.fasta \\\n",
    "                            ../Data/Clover_Data/Hifi_reads_white_clover.fastq"
   ]
  },
  {
   "cell_type": "code",
   "execution_count": 10,
   "id": "bf1882ee-41e5-4413-9c48-b35a5821bc34",
   "metadata": {
    "tags": []
   },
   "outputs": [
    {
     "name": "stderr",
     "output_type": "stream",
     "text": [
      "[M::mm_idx_gen::0.075*1.06] collected minimizers\n",
      "[M::mm_idx_gen::0.114*1.38] sorted minimizers\n",
      "[M::main::0.114*1.38] loaded/built the index for 1 target sequence(s)\n",
      "[M::mm_mapopt_update::0.117*1.37] mid_occ = 10\n",
      "[M::mm_idx_stat] kmer size: 19; skip: 10; is_hpc: 1; #seq: 1\n",
      "[M::mm_idx_stat::0.122*1.35] distinct minimizers: 120722 (93.18% are singletons); average occurrences: 1.087; average spacing: 8.062; total length: 1057923\n",
      "[M::worker_pipeline::40.863*2.92] mapped 4395 sequences\n",
      "[M::main] Version: 2.24-r1122\n",
      "[M::main] CMD: minimap2 -a -x map-pb -o results/HIFI_alignment/PacBio_clover_alignment_2.sam ../Data/Clover_Data/DNA_Contig2.fasta ../Data/Clover_Data/Hifi_reads_white_clover.fastq\n",
      "[M::main] Real time: 40.912 sec; CPU: 119.274 sec; Peak RSS: 2.016 GB\n"
     ]
    }
   ],
   "source": [
    "%%bash \n",
    "minimap2 -a -x map-pb -o results/HIFI_alignment/PacBio_clover_alignment_2.sam \\\n",
    "                            ../Data/Clover_Data/DNA_Contig2.fasta \\\n",
    "                            ../Data/Clover_Data/Hifi_reads_white_clover.fastq"
   ]
  },
  {
   "cell_type": "markdown",
   "id": "b1618001-a5cf-46c6-bde4-e00a9e66b14f",
   "metadata": {},
   "source": [
    "Sort the bam files and create their index using `samtools`"
   ]
  },
  {
   "cell_type": "code",
   "execution_count": 11,
   "id": "123965ae-5548-41a5-b115-82d8a4cff9ef",
   "metadata": {
    "tags": []
   },
   "outputs": [],
   "source": [
    "%%bash\n",
    "samtools sort results/HIFI_alignment/PacBio_clover_alignment_1.sam -o results/HIFI_alignment/PacBio_clover_alignment_1.sort.bam\n",
    "samtools sort results/HIFI_alignment/PacBio_clover_alignment_2.sam -o results/HIFI_alignment/PacBio_clover_alignment_2.sort.bam"
   ]
  },
  {
   "cell_type": "code",
   "execution_count": 12,
   "id": "644c4f48-c07e-4a3e-8a5f-ab563ff47638",
   "metadata": {
    "tags": []
   },
   "outputs": [],
   "source": [
    "%%bash\n",
    "samtools index results/HIFI_alignment/PacBio_clover_alignment_1.sort.bam\n",
    "samtools index results/HIFI_alignment/PacBio_clover_alignment_2.sort.bam"
   ]
  },
  {
   "cell_type": "markdown",
   "id": "c819c707-6fb6-43cd-9dab-39f14030d118",
   "metadata": {},
   "source": [
    "Perform quality control"
   ]
  },
  {
   "cell_type": "code",
   "execution_count": 13,
   "id": "5fc4abe2-f4b9-474e-9cbb-c83afa67a79a",
   "metadata": {
    "tags": []
   },
   "outputs": [
    {
     "name": "stdout",
     "output_type": "stream",
     "text": [
      "Java memory size is set to 1200M\n",
      "Launching application...\n",
      "\n",
      "QualiMap v.2.2.2-dev\n",
      "Built on 2019-11-11 14:05\n",
      "\n",
      "Selected tool: bamqc\n",
      "Available memory (Mb): 33\n",
      "Max memory (Mb): 1258\n",
      "Starting bam qc....\n",
      "Loading sam header...\n",
      "Loading locator...\n",
      "Loading reference...\n",
      "Number of windows: 400, effective number of windows: 400\n",
      "Chunk of reads size: 1000\n",
      "Number of threads: 4\n",
      "Processed 50 out of 400 windows...\n",
      "Processed 100 out of 400 windows...\n",
      "Processed 150 out of 400 windows...\n",
      "Processed 200 out of 400 windows...\n",
      "Processed 250 out of 400 windows...\n",
      "Processed 300 out of 400 windows...\n",
      "Processed 350 out of 400 windows...\n",
      "Processed 400 out of 400 windows...\n",
      "Total processed windows:400\n",
      "Number of reads: 4395\n",
      "Number of valid reads: 9070\n",
      "Number of correct strand reads:0\n",
      "\n",
      "Inside of regions...\n",
      "Num mapped reads: 4356\n",
      "Num mapped first of pair: 0\n",
      "Num mapped second of pair: 0\n",
      "Num singletons: 0\n",
      "Time taken to analyze reads: 9\n",
      "Computing descriptors...\n",
      "numberOfMappedBases: 59058058\n",
      "referenceSize: 1031631\n",
      "numberOfSequencedBases: 54917933\n",
      "numberOfAs: 18508479\n",
      "Computing per chromosome statistics...\n",
      "Computing histograms...\n",
      "Overall analysis time: 9\n",
      "end of bam qc\n",
      "Computing report...\n",
      "Writing HTML report...\n",
      "HTML report created successfully\n",
      "\n",
      "Finished\n"
     ]
    }
   ],
   "source": [
    "%%bash\n",
    "mkdir -p results/qualimap_output\n",
    "qualimap bamqc -bam results/HIFI_alignment/PacBio_clover_alignment_1.sort.bam -outdir results/qualimap_output/PacBio_clover_alignment_1"
   ]
  },
  {
   "cell_type": "code",
   "execution_count": 14,
   "id": "37e138ff-099e-4706-9db6-3bf93d0cac07",
   "metadata": {
    "tags": []
   },
   "outputs": [
    {
     "name": "stdout",
     "output_type": "stream",
     "text": [
      "Java memory size is set to 1200M\n",
      "Launching application...\n",
      "\n",
      "QualiMap v.2.2.2-dev\n",
      "Built on 2019-11-11 14:05\n",
      "\n",
      "Selected tool: bamqc\n",
      "Available memory (Mb): 33\n",
      "Max memory (Mb): 1258\n",
      "Starting bam qc....\n",
      "Loading sam header...\n",
      "Loading locator...\n",
      "Loading reference...\n",
      "Number of windows: 400, effective number of windows: 400\n",
      "Chunk of reads size: 1000\n",
      "Number of threads: 4\n",
      "Processed 50 out of 400 windows...\n",
      "Processed 100 out of 400 windows...\n",
      "Processed 150 out of 400 windows...\n",
      "Processed 200 out of 400 windows...\n",
      "Processed 250 out of 400 windows...\n",
      "Processed 300 out of 400 windows...\n",
      "Processed 350 out of 400 windows...\n",
      "Processed 400 out of 400 windows...\n",
      "Total processed windows:400\n",
      "Number of reads: 4395\n",
      "Number of valid reads: 9462\n",
      "Number of correct strand reads:0\n",
      "\n",
      "Inside of regions...\n",
      "Num mapped reads: 4394\n",
      "Num mapped first of pair: 0\n",
      "Num mapped second of pair: 0\n",
      "Num singletons: 0\n",
      "Time taken to analyze reads: 9\n",
      "Computing descriptors...\n",
      "numberOfMappedBases: 59388453\n",
      "referenceSize: 1057923\n",
      "numberOfSequencedBases: 55867300\n",
      "numberOfAs: 18822184\n",
      "Computing per chromosome statistics...\n",
      "Computing histograms...\n",
      "Overall analysis time: 9\n",
      "end of bam qc\n",
      "Computing report...\n",
      "Writing HTML report...\n",
      "HTML report created successfully\n",
      "\n",
      "Finished\n"
     ]
    }
   ],
   "source": [
    "%%bash\n",
    "qualimap bamqc -bam results/HIFI_alignment/PacBio_clover_alignment_2.sort.bam -outdir results/qualimap_output/PacBio_clover_alignment_2"
   ]
  },
  {
   "cell_type": "markdown",
   "id": "cee13752-8663-46c4-8b99-25832f514f95",
   "metadata": {},
   "source": [
    "<div class=\"alert-success\"> <font size=\"+2\"> <b> Questions </b> </font> </div>\n",
    "\n",
    "Visualize all three alignments (HiFi reads mapped to Contigs1_2, contig1 and contig2) in IGV. If you want to load BAM files in IGV directly from your computer, you will also need to index the\n",
    "files.\n",
    "\n",
    "* Why do you see fluctuations in coverage and large regions without any apparent subgenome SNPs?\n",
    "* What are the major differences between the stats for the reads mapped to Contigs1&2 versus contig1 and contig2? What is your interpretation of the differences?"
   ]
  },
  {
   "cell_type": "markdown",
   "id": "b2393c6b-a5ff-4c1e-8e37-5cfd1c341ee9",
   "metadata": {
    "execution": {
     "iopub.execute_input": "2022-08-01T10:51:07.496212Z",
     "iopub.status.busy": "2022-08-01T10:51:07.495586Z",
     "iopub.status.idle": "2022-08-01T10:51:07.502111Z",
     "shell.execute_reply": "2022-08-01T10:51:07.501137Z",
     "shell.execute_reply.started": "2022-08-01T10:51:07.496156Z"
    }
   },
   "source": [
    "# RNA-seq mapping\n",
    "\n",
    "In the `../Data` folder you will find 24 RNA-seq libraries, 12 `S10` libraries and 12  `Tienshan` libraries. Each library is paired-end, which is denoted by `R1` and `R2` at the end of two files having the same name, such as `S10_1_1.R1.fastq` and `S10_1_1.R2.fastq`. We will align each library separately and then merge the alignments to create two final samples for `S10` and `Tienshan`.\n",
    "\n",
    "First, we need to create a genome file for the reference fasta file of contigs `1` and `2`. This is done with `STAR`, using the option `--runMode genomeGenerate`. Look at the code for reading what other option are for. `STAR` is a very complex tool with many options, so it is always useful to [have a reference manual](https://physiology.med.cornell.edu/faculty/skrabanek/lab/angsd/lecture_notes/STARmanual.pdf)."
   ]
  },
  {
   "cell_type": "code",
   "execution_count": 15,
   "id": "468e6500-fcfd-4901-93fd-987d41b8073b",
   "metadata": {
    "tags": []
   },
   "outputs": [
    {
     "name": "stdout",
     "output_type": "stream",
     "text": [
      "\tSTAR --runThreadN 8 --runMode genomeGenerate --genomeDir results/STAR_output/indexing_contigs_1_2 --genomeFastaFiles ../Data/Clover_Data/DNA_Contig1_2.fasta --sjdbGTFfile ../Data/Clover_Data/white_clover_genes.gff --quantMode GeneCounts\n",
      "\tSTAR version: 2.7.10a   compiled: 2022-01-14T18:50:00-05:00 :/home/dobin/data/STAR/STARcode/STAR.master/source\n",
      "Aug 15 11:56:29 ..... started STAR run\n",
      "Aug 15 11:56:29 ... starting to generate Genome files\n",
      "Aug 15 11:56:29 ..... processing annotations GTF\n"
     ]
    },
    {
     "name": "stderr",
     "output_type": "stream",
     "text": [
      "!!!!! WARNING: --genomeSAindexNbases 14 is too large for the genome size=2089554, which may cause seg-fault at the mapping step. Re-run genome generation with recommended --genomeSAindexNbases 9\n"
     ]
    },
    {
     "name": "stdout",
     "output_type": "stream",
     "text": [
      "Aug 15 11:56:29 ... starting to sort Suffix Array. This may take a long time...\n",
      "Aug 15 11:56:29 ... sorting Suffix Array chunks and saving them to disk...\n",
      "Aug 15 11:56:30 ... loading chunks from disk, packing SA...\n",
      "Aug 15 11:56:30 ... finished generating suffix array\n",
      "Aug 15 11:56:30 ... generating Suffix Array index\n",
      "Aug 15 11:56:34 ... completed Suffix Array index\n",
      "Aug 15 11:56:34 ... writing Genome to disk ...\n",
      "Aug 15 11:56:34 ... writing Suffix Array to disk ...\n",
      "Aug 15 11:56:34 ... writing SAindex to disk\n",
      "Aug 15 11:56:49 ..... finished successfully\n"
     ]
    }
   ],
   "source": [
    "%%bash\n",
    "STAR --runThreadN 8 \\\n",
    "--runMode genomeGenerate \\\n",
    "--genomeDir results/STAR_output/indexing_contigs_1_2 \\\n",
    "--genomeFastaFiles ../Data/Clover_Data/DNA_Contig1_2.fasta \\\n",
    "--sjdbGTFfile ../Data/Clover_Data/white_clover_genes.gtf \\"
   ]
  },
  {
   "cell_type": "markdown",
   "id": "92564ef9-a4bf-4960-90f7-929a18e2c66a",
   "metadata": {},
   "source": [
    "We got a warning saying\n",
    "```\n",
    "!!!!! WARNING: --genomeSAindexNbases 14 is too large for the genome size=2089554, which may cause seg-fault at the mapping step. Re-run genome generation with recommended --genomeSAindexNbases 9\n",
    "```\n",
    "so we rerun the command with the suggested option."
   ]
  },
  {
   "cell_type": "code",
   "execution_count": 18,
   "id": "76a519a4-0f9f-4e32-8b3e-bbcff57d0ce6",
   "metadata": {},
   "outputs": [],
   "source": [
    "!rm -rf results/STAR_output/indexing_contigs_1_2"
   ]
  },
  {
   "cell_type": "code",
   "execution_count": 1,
   "id": "34559317-9aa0-40a8-8c72-3049aadc5365",
   "metadata": {},
   "outputs": [],
   "source": [
    "!gffread ../Data/Clover_Data/white_clover_genes.gff -T -o ../Data/Clover_Data/white_clover_genes.gtf"
   ]
  },
  {
   "cell_type": "code",
   "execution_count": 19,
   "id": "655aa9f2-aa9b-4515-b6cd-72464bcc9dfc",
   "metadata": {
    "tags": []
   },
   "outputs": [
    {
     "name": "stdout",
     "output_type": "stream",
     "text": [
      "\tSTAR --runThreadN 8 --runMode genomeGenerate --genomeDir results/STAR_output/indexing_contigs_1_2 --genomeFastaFiles ../Data/Clover_Data/DNA_Contig1_2.fasta --sjdbGTFfile ../Data/Clover_Data/white_clover_genes.gtf --genomeSAindexNbases 9\n",
      "\tSTAR version: 2.7.10a   compiled: 2022-01-14T18:50:00-05:00 :/home/dobin/data/STAR/STARcode/STAR.master/source\n",
      "Aug 15 15:06:32 ..... started STAR run\n",
      "Aug 15 15:06:32 ... starting to generate Genome files\n",
      "Aug 15 15:06:32 ..... processing annotations GTF\n",
      "Aug 15 15:06:32 ... starting to sort Suffix Array. This may take a long time...\n",
      "Aug 15 15:06:32 ... sorting Suffix Array chunks and saving them to disk...\n",
      "Aug 15 15:06:33 ... loading chunks from disk, packing SA...\n",
      "Aug 15 15:06:33 ... finished generating suffix array\n",
      "Aug 15 15:06:33 ... generating Suffix Array index\n",
      "Aug 15 15:06:33 ... completed Suffix Array index\n",
      "Aug 15 15:06:33 ..... inserting junctions into the genome indices\n",
      "Aug 15 15:06:33 ... writing Genome to disk ...\n",
      "Aug 15 15:06:33 ... writing Suffix Array to disk ...\n",
      "Aug 15 15:06:33 ... writing SAindex to disk\n",
      "Aug 15 15:06:33 ..... finished successfully\n"
     ]
    }
   ],
   "source": [
    "%%bash\n",
    "STAR --runThreadN 8 \\\n",
    "--runMode genomeGenerate \\\n",
    "--genomeDir results/STAR_output/indexing_contigs_1_2 \\\n",
    "--genomeFastaFiles ../Data/Clover_Data/DNA_Contig1_2.fasta \\\n",
    "--sjdbGTFfile ../Data/Clover_Data/white_clover_genes.gtf \\\n",
    "--genomeSAindexNbases 9"
   ]
  },
  {
   "cell_type": "markdown",
   "id": "8ba3b14f-9823-4eb0-865e-ec9416446c54",
   "metadata": {},
   "source": [
    "We use again `STAR` to align every single library for `S10`. We extract the library name of each file and run STAR through each pair of files. Note that plant introns are very rarely more than `5000 bp` and that you are mapping to two homoeologous contigs that show high similarity, especially in genic regions. We set the maximum size to 5000 using `--alignIntronMax 5000`."
   ]
  },
  {
   "cell_type": "code",
   "execution_count": 37,
   "id": "b6ba4215-3806-47af-85d1-0c08a7fde511",
   "metadata": {
    "tags": []
   },
   "outputs": [
    {
     "name": "stdout",
     "output_type": "stream",
     "text": [
      "-rw-r--r-- 1 ucloud users 18M Aug  2 14:05 ../Data/Clover_Data/S10_1_1.R1.fastq\n",
      "-rw-r--r-- 1 ucloud users 25M Aug  2 14:05 ../Data/Clover_Data/S10_1_2.R1.fastq\n",
      "-rw-r--r-- 1 ucloud users 26M Aug  2 14:05 ../Data/Clover_Data/S10_1_3.R1.fastq\n",
      "-rw-r--r-- 1 ucloud users 26M Aug  2 14:05 ../Data/Clover_Data/S10_2_1.R1.fastq\n",
      "-rw-r--r-- 1 ucloud users 24M Aug  2 14:05 ../Data/Clover_Data/S10_2_2.R1.fastq\n",
      "-rw-r--r-- 1 ucloud users 27M Aug  2 14:06 ../Data/Clover_Data/S10_2_3.R1.fastq\n"
     ]
    }
   ],
   "source": [
    "!ls -lh ../Data/Clover_Data/S10*.R1.fastq"
   ]
  },
  {
   "cell_type": "code",
   "execution_count": 20,
   "id": "01b602e0-672a-4628-adf3-71524004f581",
   "metadata": {},
   "outputs": [],
   "source": [
    "!rm -rf results/STAR_output/S10_align_contigs_1_2"
   ]
  },
  {
   "cell_type": "code",
   "execution_count": 21,
   "id": "e5f384d0-125b-4a1d-91ac-ee90a5797fae",
   "metadata": {
    "tags": []
   },
   "outputs": [
    {
     "name": "stdout",
     "output_type": "stream",
     "text": [
      "###############################################\n",
      "##### ALIGNING PAIRED-END READS S10_1_1\n",
      "###############################################\n",
      "\tSTAR --genomeDir results/STAR_output/indexing_contigs_1_2/ --runThreadN 8 --runMode alignReads --readFilesIn ../Data/Clover_Data/S10_1_1.R1.fastq ../Data/Clover_Data/S10_1_1.R2.fastq --outFileNamePrefix results/STAR_output/S10_align_contigs_1_2/S10_1_1 --outSAMtype BAM SortedByCoordinate --outSAMattributes Standard --quantMode GeneCounts --alignIntronMax 5000 --genomeSAindexNbases 9\n",
      "\tSTAR version: 2.7.10a   compiled: 2022-01-14T18:50:00-05:00 :/home/dobin/data/STAR/STARcode/STAR.master/source\n",
      "Aug 15 15:06:42 ..... started STAR run\n",
      "Aug 15 15:06:42 ..... loading genome\n",
      "Aug 15 15:06:42 ..... started mapping\n",
      "Aug 15 15:06:52 ..... finished mapping\n",
      "Aug 15 15:06:52 ..... started sorting BAM\n",
      "Aug 15 15:06:52 ..... finished successfully\n",
      "###############################################\n",
      "##### ALIGNING PAIRED-END READS S10_1_2\n",
      "###############################################\n",
      "\tSTAR --genomeDir results/STAR_output/indexing_contigs_1_2/ --runThreadN 8 --runMode alignReads --readFilesIn ../Data/Clover_Data/S10_1_2.R1.fastq ../Data/Clover_Data/S10_1_2.R2.fastq --outFileNamePrefix results/STAR_output/S10_align_contigs_1_2/S10_1_2 --outSAMtype BAM SortedByCoordinate --outSAMattributes Standard --quantMode GeneCounts --alignIntronMax 5000 --genomeSAindexNbases 9\n",
      "\tSTAR version: 2.7.10a   compiled: 2022-01-14T18:50:00-05:00 :/home/dobin/data/STAR/STARcode/STAR.master/source\n",
      "Aug 15 15:06:52 ..... started STAR run\n",
      "Aug 15 15:06:52 ..... loading genome\n",
      "Aug 15 15:06:52 ..... started mapping\n",
      "Aug 15 15:07:02 ..... finished mapping\n",
      "Aug 15 15:07:02 ..... started sorting BAM\n",
      "Aug 15 15:07:03 ..... finished successfully\n",
      "###############################################\n",
      "##### ALIGNING PAIRED-END READS S10_1_3\n",
      "###############################################\n",
      "\tSTAR --genomeDir results/STAR_output/indexing_contigs_1_2/ --runThreadN 8 --runMode alignReads --readFilesIn ../Data/Clover_Data/S10_1_3.R1.fastq ../Data/Clover_Data/S10_1_3.R2.fastq --outFileNamePrefix results/STAR_output/S10_align_contigs_1_2/S10_1_3 --outSAMtype BAM SortedByCoordinate --outSAMattributes Standard --quantMode GeneCounts --alignIntronMax 5000 --genomeSAindexNbases 9\n",
      "\tSTAR version: 2.7.10a   compiled: 2022-01-14T18:50:00-05:00 :/home/dobin/data/STAR/STARcode/STAR.master/source\n",
      "Aug 15 15:07:03 ..... started STAR run\n",
      "Aug 15 15:07:03 ..... loading genome\n",
      "Aug 15 15:07:03 ..... started mapping\n",
      "Aug 15 15:07:13 ..... finished mapping\n",
      "Aug 15 15:07:13 ..... started sorting BAM\n",
      "Aug 15 15:07:14 ..... finished successfully\n",
      "###############################################\n",
      "##### ALIGNING PAIRED-END READS S10_2_1\n",
      "###############################################\n",
      "\tSTAR --genomeDir results/STAR_output/indexing_contigs_1_2/ --runThreadN 8 --runMode alignReads --readFilesIn ../Data/Clover_Data/S10_2_1.R1.fastq ../Data/Clover_Data/S10_2_1.R2.fastq --outFileNamePrefix results/STAR_output/S10_align_contigs_1_2/S10_2_1 --outSAMtype BAM SortedByCoordinate --outSAMattributes Standard --quantMode GeneCounts --alignIntronMax 5000 --genomeSAindexNbases 9\n",
      "\tSTAR version: 2.7.10a   compiled: 2022-01-14T18:50:00-05:00 :/home/dobin/data/STAR/STARcode/STAR.master/source\n",
      "Aug 15 15:07:14 ..... started STAR run\n",
      "Aug 15 15:07:14 ..... loading genome\n",
      "Aug 15 15:07:14 ..... started mapping\n",
      "Aug 15 15:07:23 ..... finished mapping\n",
      "Aug 15 15:07:23 ..... started sorting BAM\n",
      "Aug 15 15:07:23 ..... finished successfully\n",
      "###############################################\n",
      "##### ALIGNING PAIRED-END READS S10_2_2\n",
      "###############################################\n",
      "\tSTAR --genomeDir results/STAR_output/indexing_contigs_1_2/ --runThreadN 8 --runMode alignReads --readFilesIn ../Data/Clover_Data/S10_2_2.R1.fastq ../Data/Clover_Data/S10_2_2.R2.fastq --outFileNamePrefix results/STAR_output/S10_align_contigs_1_2/S10_2_2 --outSAMtype BAM SortedByCoordinate --outSAMattributes Standard --quantMode GeneCounts --alignIntronMax 5000 --genomeSAindexNbases 9\n",
      "\tSTAR version: 2.7.10a   compiled: 2022-01-14T18:50:00-05:00 :/home/dobin/data/STAR/STARcode/STAR.master/source\n",
      "Aug 15 15:07:24 ..... started STAR run\n",
      "Aug 15 15:07:24 ..... loading genome\n",
      "Aug 15 15:07:24 ..... started mapping\n",
      "Aug 15 15:07:32 ..... finished mapping\n",
      "Aug 15 15:07:32 ..... started sorting BAM\n",
      "Aug 15 15:07:32 ..... finished successfully\n",
      "###############################################\n",
      "##### ALIGNING PAIRED-END READS S10_2_3\n",
      "###############################################\n",
      "\tSTAR --genomeDir results/STAR_output/indexing_contigs_1_2/ --runThreadN 8 --runMode alignReads --readFilesIn ../Data/Clover_Data/S10_2_3.R1.fastq ../Data/Clover_Data/S10_2_3.R2.fastq --outFileNamePrefix results/STAR_output/S10_align_contigs_1_2/S10_2_3 --outSAMtype BAM SortedByCoordinate --outSAMattributes Standard --quantMode GeneCounts --alignIntronMax 5000 --genomeSAindexNbases 9\n",
      "\tSTAR version: 2.7.10a   compiled: 2022-01-14T18:50:00-05:00 :/home/dobin/data/STAR/STARcode/STAR.master/source\n",
      "Aug 15 15:07:32 ..... started STAR run\n",
      "Aug 15 15:07:32 ..... loading genome\n",
      "Aug 15 15:07:32 ..... started mapping\n",
      "Aug 15 15:07:41 ..... finished mapping\n",
      "Aug 15 15:07:41 ..... started sorting BAM\n",
      "Aug 15 15:07:42 ..... finished successfully\n"
     ]
    }
   ],
   "source": [
    "%%bash\n",
    "for i in `ls ../Data/Clover_Data/S10*.R1.fastq`\n",
    "do\n",
    "\n",
    "PREFIXNAME=`basename $i .R1.fastq`\n",
    "echo \"###############################################\"\n",
    "echo \"##### ALIGNING PAIRED-END READS \"$PREFIXNAME\n",
    "echo \"###############################################\"\n",
    "STAR --genomeDir results/STAR_output/indexing_contigs_1_2/ \\\n",
    "--runThreadN 8 \\\n",
    "--runMode alignReads \\\n",
    "--readFilesIn ../Data/Clover_Data/$PREFIXNAME.R1.fastq ../Data/Clover_Data/$PREFIXNAME.R2.fastq \\\n",
    "--outFileNamePrefix results/STAR_output/S10_align_contigs_1_2/$PREFIXNAME \\\n",
    "--outSAMtype BAM SortedByCoordinate \\\n",
    "--outSAMattributes Standard \\\n",
    "--quantMode GeneCounts \\\n",
    "--alignIntronMax 5000 \\\n",
    "--genomeSAindexNbases 9 \n",
    "\n",
    "done"
   ]
  },
  {
   "cell_type": "markdown",
   "id": "0951bbdc-aba9-4b3d-acf2-7c601459dbb4",
   "metadata": {},
   "source": [
    "Do the same alignment for `Tienshan` libraries"
   ]
  },
  {
   "cell_type": "code",
   "execution_count": 16,
   "id": "2796b3fb-0401-4fe8-a3cb-15c5cc00fbdd",
   "metadata": {},
   "outputs": [],
   "source": [
    "!rm -rf results/STAR_output/TI_align_contigs_1_2"
   ]
  },
  {
   "cell_type": "code",
   "execution_count": 17,
   "id": "74b1d9c2-a7f2-490b-88a3-a7ba2a23f383",
   "metadata": {
    "tags": []
   },
   "outputs": [
    {
     "name": "stdout",
     "output_type": "stream",
     "text": [
      "###############################################\n",
      "##### ALIGNING PAIRED-END READS TI_1_1\n",
      "###############################################\n",
      "\tSTAR --genomeDir results/STAR_output/indexing_contigs_1_2/ --runThreadN 8 --readFilesIn ../Data/Clover_Data/TI_1_1.R1.fastq ../Data/Clover_Data/TI_1_1.R2.fastq --outFileNamePrefix results/STAR_output/TI_align_contigs_1_2/TI_1_1 --outSAMtype BAM SortedByCoordinate --outSAMattributes Standard --quantMode GeneCounts --alignIntronMax 5000 --genomeSAindexNbases 9\n",
      "\tSTAR version: 2.7.10a   compiled: 2022-01-14T18:50:00-05:00 :/home/dobin/data/STAR/STARcode/STAR.master/source\n",
      "Aug 15 14:46:42 ..... started STAR run\n",
      "Aug 15 14:46:42 ..... loading genome\n",
      "Aug 15 14:46:42 ..... started mapping\n",
      "Aug 15 14:46:53 ..... finished mapping\n",
      "Aug 15 14:46:53 ..... started sorting BAM\n",
      "Aug 15 14:46:53 ..... finished successfully\n",
      "###############################################\n",
      "##### ALIGNING PAIRED-END READS TI_1_2\n",
      "###############################################\n",
      "\tSTAR --genomeDir results/STAR_output/indexing_contigs_1_2/ --runThreadN 8 --readFilesIn ../Data/Clover_Data/TI_1_2.R1.fastq ../Data/Clover_Data/TI_1_2.R2.fastq --outFileNamePrefix results/STAR_output/TI_align_contigs_1_2/TI_1_2 --outSAMtype BAM SortedByCoordinate --outSAMattributes Standard --quantMode GeneCounts --alignIntronMax 5000 --genomeSAindexNbases 9\n",
      "\tSTAR version: 2.7.10a   compiled: 2022-01-14T18:50:00-05:00 :/home/dobin/data/STAR/STARcode/STAR.master/source\n",
      "Aug 15 14:46:54 ..... started STAR run\n",
      "Aug 15 14:46:54 ..... loading genome\n",
      "Aug 15 14:46:54 ..... started mapping\n",
      "Aug 15 14:47:05 ..... finished mapping\n",
      "Aug 15 14:47:05 ..... started sorting BAM\n",
      "Aug 15 14:47:06 ..... finished successfully\n",
      "###############################################\n",
      "##### ALIGNING PAIRED-END READS TI_1_3\n",
      "###############################################\n",
      "\tSTAR --genomeDir results/STAR_output/indexing_contigs_1_2/ --runThreadN 8 --readFilesIn ../Data/Clover_Data/TI_1_3.R1.fastq ../Data/Clover_Data/TI_1_3.R2.fastq --outFileNamePrefix results/STAR_output/TI_align_contigs_1_2/TI_1_3 --outSAMtype BAM SortedByCoordinate --outSAMattributes Standard --quantMode GeneCounts --alignIntronMax 5000 --genomeSAindexNbases 9\n",
      "\tSTAR version: 2.7.10a   compiled: 2022-01-14T18:50:00-05:00 :/home/dobin/data/STAR/STARcode/STAR.master/source\n",
      "Aug 15 14:47:06 ..... started STAR run\n",
      "Aug 15 14:47:06 ..... loading genome\n",
      "Aug 15 14:47:06 ..... started mapping\n",
      "Aug 15 14:47:17 ..... finished mapping\n",
      "Aug 15 14:47:17 ..... started sorting BAM\n",
      "Aug 15 14:47:17 ..... finished successfully\n",
      "###############################################\n",
      "##### ALIGNING PAIRED-END READS TI_2_1\n",
      "###############################################\n",
      "\tSTAR --genomeDir results/STAR_output/indexing_contigs_1_2/ --runThreadN 8 --readFilesIn ../Data/Clover_Data/TI_2_1.R1.fastq ../Data/Clover_Data/TI_2_1.R2.fastq --outFileNamePrefix results/STAR_output/TI_align_contigs_1_2/TI_2_1 --outSAMtype BAM SortedByCoordinate --outSAMattributes Standard --quantMode GeneCounts --alignIntronMax 5000 --genomeSAindexNbases 9\n",
      "\tSTAR version: 2.7.10a   compiled: 2022-01-14T18:50:00-05:00 :/home/dobin/data/STAR/STARcode/STAR.master/source\n",
      "Aug 15 14:47:17 ..... started STAR run\n",
      "Aug 15 14:47:17 ..... loading genome\n",
      "Aug 15 14:47:17 ..... started mapping\n",
      "Aug 15 14:47:28 ..... finished mapping\n",
      "Aug 15 14:47:29 ..... started sorting BAM\n",
      "Aug 15 14:47:29 ..... finished successfully\n",
      "###############################################\n",
      "##### ALIGNING PAIRED-END READS TI_2_2\n",
      "###############################################\n",
      "\tSTAR --genomeDir results/STAR_output/indexing_contigs_1_2/ --runThreadN 8 --readFilesIn ../Data/Clover_Data/TI_2_2.R1.fastq ../Data/Clover_Data/TI_2_2.R2.fastq --outFileNamePrefix results/STAR_output/TI_align_contigs_1_2/TI_2_2 --outSAMtype BAM SortedByCoordinate --outSAMattributes Standard --quantMode GeneCounts --alignIntronMax 5000 --genomeSAindexNbases 9\n",
      "\tSTAR version: 2.7.10a   compiled: 2022-01-14T18:50:00-05:00 :/home/dobin/data/STAR/STARcode/STAR.master/source\n",
      "Aug 15 14:47:29 ..... started STAR run\n",
      "Aug 15 14:47:29 ..... loading genome\n",
      "Aug 15 14:47:29 ..... started mapping\n",
      "Aug 15 14:47:40 ..... finished mapping\n",
      "Aug 15 14:47:40 ..... started sorting BAM\n",
      "Aug 15 14:47:40 ..... finished successfully\n",
      "###############################################\n",
      "##### ALIGNING PAIRED-END READS TI_2_3\n",
      "###############################################\n",
      "\tSTAR --genomeDir results/STAR_output/indexing_contigs_1_2/ --runThreadN 8 --readFilesIn ../Data/Clover_Data/TI_2_3.R1.fastq ../Data/Clover_Data/TI_2_3.R2.fastq --outFileNamePrefix results/STAR_output/TI_align_contigs_1_2/TI_2_3 --outSAMtype BAM SortedByCoordinate --outSAMattributes Standard --quantMode GeneCounts --alignIntronMax 5000 --genomeSAindexNbases 9\n",
      "\tSTAR version: 2.7.10a   compiled: 2022-01-14T18:50:00-05:00 :/home/dobin/data/STAR/STARcode/STAR.master/source\n",
      "Aug 15 14:47:41 ..... started STAR run\n",
      "Aug 15 14:47:41 ..... loading genome\n",
      "Aug 15 14:47:41 ..... started mapping\n",
      "Aug 15 14:47:54 ..... finished mapping\n",
      "Aug 15 14:47:54 ..... started sorting BAM\n",
      "Aug 15 14:47:55 ..... finished successfully\n"
     ]
    }
   ],
   "source": [
    "%%bash\n",
    "for i in `ls ../Data/Clover_Data/TI*.R1.fastq`\n",
    "do\n",
    "\n",
    "PREFIXNAME=`basename $i .R1.fastq`\n",
    "echo \"###############################################\"\n",
    "echo \"##### ALIGNING PAIRED-END READS \"$PREFIXNAME\n",
    "echo \"###############################################\"\n",
    "STAR --genomeDir results/STAR_output/indexing_contigs_1_2/ \\\n",
    "--runThreadN 8 \\\n",
    "--readFilesIn ../Data/Clover_Data/$PREFIXNAME.R1.fastq ../Data/Clover_Data/$PREFIXNAME.R2.fastq \\\n",
    "--outFileNamePrefix results/STAR_output/TI_align_contigs_1_2/$PREFIXNAME \\\n",
    "--outSAMtype BAM SortedByCoordinate \\\n",
    "--outSAMattributes Standard \\\n",
    "--quantMode GeneCounts \\\n",
    "--alignIntronMax 5000 \\\n",
    "--genomeSAindexNbases 9 \n",
    "\n",
    "done"
   ]
  },
  {
   "cell_type": "markdown",
   "id": "73255c0c-b2f0-480f-89f3-b4cd46f9e87c",
   "metadata": {},
   "source": [
    "Run quality control on each aligned library with `MultiQC`. In this way there will be a whole report to compare `S10` files and `Tienshan` files."
   ]
  },
  {
   "cell_type": "code",
   "execution_count": 20,
   "id": "4d0ede5e-f8c4-4d79-8f13-246102b92b53",
   "metadata": {
    "tags": []
   },
   "outputs": [
    {
     "name": "stderr",
     "output_type": "stream",
     "text": [
      "\n",
      "  /// MultiQC 🔍 | v1.13.dev0\n",
      "\n",
      "|           multiqc | Search path : /usr/Material/Notebooks/results/STAR_output/TI_align_contigs_1_2\n",
      "|         searching | ━━━━━━━━━━━━━━━━━━━━━━━━━━━━━━━━━━━━━━━━ 100% 78/78  \n",
      "|              star | Found 6 reports and 6 gene count files\n",
      "|           multiqc | Compressing plot data\n",
      "|           multiqc | Report      : results/multiqc_output/TI_STAR_align_1_2/multiqc_report.html\n",
      "|           multiqc | Data        : results/multiqc_output/TI_STAR_align_1_2/multiqc_data\n",
      "|           multiqc | MultiQC complete\n"
     ]
    }
   ],
   "source": [
    "%%bash\n",
    "multiqc --outdir results/multiqc_output/TI_STAR_align_1_2 \\\n",
    "            results/STAR_output/TI_align_contigs_1_2/"
   ]
  },
  {
   "cell_type": "code",
   "execution_count": 21,
   "id": "3e9b79a9-1973-45ee-b127-febdbce6e691",
   "metadata": {
    "tags": []
   },
   "outputs": [
    {
     "name": "stderr",
     "output_type": "stream",
     "text": [
      "\n",
      "  /// MultiQC 🔍 | v1.13.dev0\n",
      "\n",
      "|           multiqc | Search path : /usr/Material/Notebooks/results/STAR_output/S10_align_contigs_1_2\n",
      "|         searching | ━━━━━━━━━━━━━━━━━━━━━━━━━━━━━━━━━━━━━━━━ 100% 78/78  \n",
      "|              star | Found 6 reports and 6 gene count files\n",
      "|           multiqc | Compressing plot data\n",
      "|           multiqc | Report      : results/multiqc_output/S10_STAR_align_1_2/multiqc_report.html\n",
      "|           multiqc | Data        : results/multiqc_output/S10_STAR_align_1_2/multiqc_data\n",
      "|           multiqc | MultiQC complete\n"
     ]
    }
   ],
   "source": [
    "%%bash\n",
    "multiqc --outdir results/multiqc_output/S10_STAR_align_1_2 \\\n",
    "            results/STAR_output/S10_align_contigs_1_2/"
   ]
  },
  {
   "cell_type": "markdown",
   "id": "197b87c1-692d-4a1e-9a2b-cc07c834ef26",
   "metadata": {},
   "source": [
    "We merge the outputs of each group of aligned libraries. Here is how the files look like for the `Tienshan`."
   ]
  },
  {
   "cell_type": "code",
   "execution_count": 22,
   "id": "fe8a7519-0700-47cd-98b1-39c2ae72488b",
   "metadata": {
    "tags": []
   },
   "outputs": [
    {
     "name": "stdout",
     "output_type": "stream",
     "text": [
      "-rw-r--r-- 1 ucloud users 6.6M Aug 15 11:57 results/STAR_output/TI_align_contigs_1_2/TI_1_1Aligned.sortedByCoord.out.bam\n",
      "-rw-r--r-- 1 ucloud users 6.0M Aug 15 11:57 results/STAR_output/TI_align_contigs_1_2/TI_1_2Aligned.sortedByCoord.out.bam\n",
      "-rw-r--r-- 1 ucloud users 7.1M Aug 15 11:57 results/STAR_output/TI_align_contigs_1_2/TI_1_3Aligned.sortedByCoord.out.bam\n",
      "-rw-r--r-- 1 ucloud users 9.6M Aug 15 11:57 results/STAR_output/TI_align_contigs_1_2/TI_2_1Aligned.sortedByCoord.out.bam\n",
      "-rw-r--r-- 1 ucloud users 7.2M Aug 15 11:58 results/STAR_output/TI_align_contigs_1_2/TI_2_2Aligned.sortedByCoord.out.bam\n",
      "-rw-r--r-- 1 ucloud users 8.2M Aug 15 11:58 results/STAR_output/TI_align_contigs_1_2/TI_2_3Aligned.sortedByCoord.out.bam\n"
     ]
    }
   ],
   "source": [
    "!ls -lh  results/STAR_output/TI_align_contigs_1_2/TI_*.sortedByCoord.out.bam "
   ]
  },
  {
   "cell_type": "markdown",
   "id": "77ccf4ac-c16e-4855-8e62-c9028f7d7710",
   "metadata": {},
   "source": [
    "Apply `samtools merge`"
   ]
  },
  {
   "cell_type": "code",
   "execution_count": 26,
   "id": "07296157-f886-494a-97cc-6b65329c0a82",
   "metadata": {
    "tags": []
   },
   "outputs": [],
   "source": [
    "%%bash\n",
    "mkdir -p results/STAR_output/TI_align_contigs_1_2_merge/\n",
    "samtools merge -fo results/STAR_output/TI_align_contigs_1_2_merge/TI.sorted.bam results/STAR_output/TI_align_contigs_1_2/TI_*.sortedByCoord.out.bam "
   ]
  },
  {
   "cell_type": "code",
   "execution_count": 24,
   "id": "55384ddb-d3c7-4fac-bfea-f9cc430c3475",
   "metadata": {
    "tags": []
   },
   "outputs": [],
   "source": [
    "%%bash\n",
    "mkdir -p results/STAR_output/S10_align_contigs_1_2_merge/\n",
    "samtools merge -fo results/STAR_output/S10_align_contigs_1_2_merge/S10.sorted.bam results/STAR_output/S10_align_contigs_1_2/S10_*.sortedByCoord.out.bam "
   ]
  },
  {
   "cell_type": "markdown",
   "id": "7999dc37-50b2-4b67-ab31-2967a050d2b9",
   "metadata": {},
   "source": [
    "Index both merging outputs"
   ]
  },
  {
   "cell_type": "code",
   "execution_count": 25,
   "id": "f987b7a4-fd16-43be-b475-6855322049b9",
   "metadata": {
    "tags": []
   },
   "outputs": [],
   "source": [
    "%%bash\n",
    "samtools index results/STAR_output/S10_align_contigs_1_2_merge/S10.sorted.bam results/STAR_output/TI_align_contigs_1_2_merge/TI.sorted.bam"
   ]
  },
  {
   "cell_type": "markdown",
   "id": "fc6b237c-8477-48d0-89d5-bd869794aca8",
   "metadata": {},
   "source": [
    "# Wrapping up  🎉 🎉 🎉\n",
    "\n",
    "In this exercise, you learnt to align various types of data after performing quality control for raw data. We looked at some of the options for the aligners and at how to use some of the basic samtools manipulation programs. The outputs from the RNA alignments will be used for the VCF file analysis in the next notebook, and the RNA alignments will be use for the bulk RNA data analysis.\n",
    "\n"
   ]
  },
  {
   "cell_type": "code",
   "execution_count": null,
   "id": "629efc29-fd06-405d-a326-2e5b9a848fa0",
   "metadata": {},
   "outputs": [],
   "source": []
  }
 ],
 "metadata": {
  "kernelspec": {
   "display_name": "NGS (python)",
   "language": "python",
   "name": "ngs_python"
  },
  "language_info": {
   "codemirror_mode": {
    "name": "ipython",
    "version": 3
   },
   "file_extension": ".py",
   "mimetype": "text/x-python",
   "name": "python",
   "nbconvert_exporter": "python",
   "pygments_lexer": "ipython3",
   "version": "3.10.5"
  }
 },
 "nbformat": 4,
 "nbformat_minor": 5
}
