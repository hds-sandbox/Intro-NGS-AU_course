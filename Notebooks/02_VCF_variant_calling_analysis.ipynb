{
 "cells": [
  {
   "cell_type": "markdown",
   "metadata": {
    "id": "Yyu6m9rgGf6C"
   },
   "source": [
    "<div class=\"alert-warning\">\n",
    " <font size=\"+2\"> <b> Variant calling and VCF processing </b> </font>\n",
    "</div>"
   ]
  },
  {
   "cell_type": "markdown",
   "metadata": {
    "id": "u5eXmsaExmlU"
   },
   "source": [
    "This tutorial will cover the steps for performing Variant calling and working on the resulting VCF file format. We will be using the Hifi and RNA-seq mapping data obtained from Galaxy. At the end of this tutorial you will be able to:\n",
    "- call variants using alignment files\n",
    "- extract data from VCF files using Python\n",
    "- filter and count variants \n",
    "\n",
    "The present tutorial, like the rest of the course material, is available at our [open-source github repository](https://github.com/hds-sandbox/NGS_summer_course_Aarhus). \n",
    "\n",
    "\n",
    "\n",
    "A few introductory points to run this notebook:\n",
    "\n",
    "* To use this notebook, use the `NGS (python)` kernel that contains the packages. Choose it by selecting `Kernel -> Change Kernel` in the menu on top of the window.\n",
    "\n",
    "<figure>\n",
    "<img src=\"images/kernelchoice.png\" width=\"700\" alt=\"Kernel Choice\" class=\"center\">\n",
    "</figure>\n",
    "\n",
    "* In this notebook you will use both bash and python commands, the bash commands are marked with an \"!\" sign at the beginning of the line\n",
    "*  You can run the code in each cell by clicking on the run cell sign, or by pressing <kbd> Shift </kbd> +<kbd> Enter </kbd>.  When the code is done running, a small green check sign will appear on the left side\n",
    "*   You need to run the cells in sequential order, please do not run a cell until the one above finished running and do not skip any cells\n",
    "*   Each cell contains a short description of the code and the output you should get. Please try not to focus on understanding the code for each command in too much detail, but rather try to focus on the output \n",
    "*   You can create new code cells by pressing <kbd> + </kbd> in the Menu bar above. \n",
    "\n"
   ]
  },
  {
   "cell_type": "markdown",
   "metadata": {},
   "source": [
    "Import the necessary Python libraries:"
   ]
  },
  {
   "cell_type": "code",
   "execution_count": 1,
   "metadata": {
    "id": "lHdcLrVgB2jS",
    "tags": []
   },
   "outputs": [],
   "source": [
    "import pandas\n",
    "import allel\n",
    "import numpy as np\n",
    "import matplotlib as mpl\n",
    "import matplotlib.pyplot as plt\n",
    "import seaborn as sns"
   ]
  },
  {
   "cell_type": "code",
   "execution_count": 21,
   "metadata": {},
   "outputs": [],
   "source": [
    "%run ../Scripts/pythonScripts.py"
   ]
  },
  {
   "cell_type": "markdown",
   "metadata": {},
   "source": [
    "Check if the data folder is there"
   ]
  },
  {
   "cell_type": "code",
   "execution_count": 3,
   "metadata": {},
   "outputs": [
    {
     "name": "stdout",
     "output_type": "stream",
     "text": [
      "========================================================\n",
      "Datasets folder already exists, no need to download it\n",
      "========================================================\n"
     ]
    }
   ],
   "source": [
    "%%bash\n",
    "sh ../Scripts/dataDownloadScript.sh"
   ]
  },
  {
   "cell_type": "markdown",
   "metadata": {},
   "source": [
    "Create a folder for the data necessary to VCF data analysis"
   ]
  },
  {
   "cell_type": "code",
   "execution_count": 4,
   "metadata": {
    "tags": []
   },
   "outputs": [],
   "source": [
    "%%bash\n",
    "mkdir -p Data_for_VCF_analysis"
   ]
  },
  {
   "cell_type": "markdown",
   "metadata": {},
   "source": [
    "# Use the `bam` files generated from the alignment of raw reads"
   ]
  },
  {
   "cell_type": "markdown",
   "metadata": {},
   "source": [
    "We will use the data created during the alignment session of the course. You had two possibilities:\n",
    "\n",
    "\n",
    "- using the interactive `Galaxy` platform as explained in !!!!!!!!!!!!!!!. In this case you will need to upload the some of the created data into the folder `Data_for_VCF_analysis`, renaming the files as follows:\n",
    "\n",
    "    *  Hifi reads mapped to Contig1: `HIFI_contig_1.bam`\n",
    "    *  Hifi reads mapped to Contig2: `HIFI_contig_2.bam`\n",
    "    *  Hifi reads mapped to Contig 1 and 2: `HIFI_contig_1_2_asm5.bam` (you can of course choose the one with the `map-pb` alignment option from the alignment notebook)\n",
    "    *  S10 RNAseq reads mapped to  Contig 1 and 2 (After merging the bam files): `RNA_S10_merged.bam`\n",
    "    *  Ti RNAseq reads mapped to  Contig 1 and 2 (After merging the bam files): `RNA_TI_merged.bam`\n",
    "\n",
    "- using the notebook `01_align.ipynb`. In that case, you just need to run the command below, linking the data in the `results` folder into the folder `Data_for_VCF_analysis`."
   ]
  },
  {
   "cell_type": "code",
   "execution_count": 14,
   "metadata": {
    "tags": []
   },
   "outputs": [],
   "source": [
    "%%bash\n",
    "ln -fs `realpath results/HIFI_alignment/PacBio_clover_alignment_1.sort.bam` Data_for_VCF_analysis/HIFI_contig_1.bam\n",
    "ln -fs `realpath results/HIFI_alignment/PacBio_clover_alignment_2.sort.bam` Data_for_VCF_analysis/HIFI_contig_2.bam\n",
    "ln -fs `realpath results/HIFI_alignment/PacBio_clover_alignment_1_2_asm5.sort.bam` Data_for_VCF_analysis/HIFI_contig_1_2.bam\n",
    "ln -fs `realpath results/STAR_output/S10_align_contigs_1_2_merge/S10.sorted.bam` Data_for_VCF_analysis/RNA_S10_merged.bam\n",
    "ln -fs `realpath results/STAR_output/TI_align_contigs_1_2_merge/TI.sorted.bam` Data_for_VCF_analysis/RNA_TI_merged.bam"
   ]
  },
  {
   "cell_type": "markdown",
   "metadata": {
    "id": "0IMtUOFmyDy1",
    "tags": []
   },
   "source": [
    "# Variant calling"
   ]
  },
  {
   "cell_type": "markdown",
   "metadata": {
    "id": "ChM9nfHYbISt"
   },
   "source": [
    "We will use a tool named `bcftools` to find variants in the alignment files (.bam) relative to the reference genome, in this case, the file DNA_Contig1_2.fasta. In this way we can identify positions in the genome where the sequence of the aligned reads differ from the reference genome they were mapped to. There are multiple types of genetic variation, for example, SNPs (single nucleotide polymorphism), indels (insertions or deletions) and structural variations, for example chromosomal rearrangements. \n",
    "Here we will only be working with SNPs, thus we will use the terms variants and SNPs interchangeably. The called variants will be stored in a specific format file, named Variant Call Format (VCF).\n",
    "<br>\n",
    "When looking at an alignment file in IGV you should easily recognize the SNP positions. You can see that at the marked positions all the mapped reads have a mismatch compared to the reference. \n",
    "\n",
    "<figure>\n",
    "<img src=\"images/alignment.png\" width=\"400\" alt=\"Alignment on IGV\" class=\"center\">\n",
    "</figure>"
   ]
  },
  {
   "cell_type": "markdown",
   "metadata": {},
   "source": [
    "You will be calling **two types of SNPs** in this notebook.\n",
    "First, we will find subgenome SNPs using the Hifi reads mapped to white clover Contig1 and Contig2. These are positions in the contigs that are different between the two subgenomes of white clover.\n",
    "\n",
    "Secondly, we will find SNPs that differentiate between the sequenced white clover S10 (the reference genome) and Ti genotype, using RNA-seq read mapping. "
   ]
  },
  {
   "cell_type": "markdown",
   "metadata": {},
   "source": [
    "Create a folder that will store all the files generated in this notebook."
   ]
  },
  {
   "cell_type": "code",
   "execution_count": 8,
   "metadata": {
    "tags": []
   },
   "outputs": [],
   "source": [
    "!mkdir -p results/VCF_Files"
   ]
  },
  {
   "cell_type": "markdown",
   "metadata": {
    "id": "qEb-xcghqiXY",
    "tags": []
   },
   "source": [
    "## Call subgenome SNPs using the Hifi alignments and the reference genome\n",
    "As previously mention we will use the `bcftools` software to call SNPs from alignment files. `bcftools` is a toolkit for variant calling and manipulating VCF files. If you are interested you can find all the functionalities here http://samtools.github.io/bcftools/bcftools.html#call. \n",
    "\n",
    "We mainly need two commands for this step, first the `bcftools mpileup`  which takes as input the alignment and the genome reference files followed by `bcftools call` to produce VCF files.\n",
    "\n",
    "The cell below  will generate 3 VCF files stored in the folder VCF_Files using the Hifi alignment files uploaded from Galaxy."
   ]
  },
  {
   "cell_type": "code",
   "execution_count": 15,
   "metadata": {
    "colab": {
     "base_uri": "https://localhost:8080/"
    },
    "id": "JTELk2fDB8gl",
    "outputId": "67df6a82-cfd8-4741-e48c-2942c440b615",
    "tags": []
   },
   "outputs": [
    {
     "name": "stdout",
     "output_type": "stream",
     "text": [
      "[mpileup] 1 samples in 1 input files\n",
      "Note: none of --samples-file, --ploidy or --ploidy-file given, assuming all sites are diploid\n",
      "[mpileup] maximum number of reads per input file set to -d 250\n",
      "Note: none of --samples-file, --ploidy or --ploidy-file given, assuming all sites are diploid\n",
      "[mpileup] 1 samples in 1 input files\n",
      "[mpileup] maximum number of reads per input file set to -d 250\n",
      "Note: none of --samples-file, --ploidy or --ploidy-file given, assuming all sites are diploid\n",
      "[mpileup] 1 samples in 1 input files\n",
      "[mpileup] maximum number of reads per input file set to -d 250\n"
     ]
    }
   ],
   "source": [
    "!bcftools mpileup --threads 4 -Ou --skip-indels -f ../Data/Clover_Data/DNA_Contig1_2.fasta Data_for_VCF_analysis/HIFI_contig_1.bam | bcftools call -mv -Ov -o results/VCF_Files/HIFI_Contig_1.vcf\n",
    "!bcftools mpileup --threads 4 -Ou --skip-indels -f ../Data/Clover_Data/DNA_Contig1_2.fasta Data_for_VCF_analysis/HIFI_contig_2.bam | bcftools call -mv -Ov -o results/VCF_Files/HIFI_Contig_2.vcf\n",
    "!bcftools mpileup --threads 4 -Ou --skip-indels -f ../Data/Clover_Data/DNA_Contig1_2.fasta Data_for_VCF_analysis/HIFI_contig_1_2.bam | bcftools call -mv -Ov -o results/VCF_Files/HIFI_Contig_1_2.vcf"
   ]
  },
  {
   "cell_type": "markdown",
   "metadata": {
    "id": "ZdZ0Q9_er7-9"
   },
   "source": [
    "<div class=\"alert-success\"> <font size=\"+2\"> <b> TASK </b> </font> </div>\n",
    "\n",
    "\n",
    "* Inspect the VCF files using IGV, comparing them to the specific alignment BAM files. (You can download the VCF files to your computer from the VCF_Files folder)\n",
    "* Are there any problematic positions that may not represent true SNPs?\n",
    "* How can you use the\n",
    "HiFi reads aligned to Contigs1+2 identify potential problems? Hint: Try scrolling to the ends of the\n",
    "contigs."
   ]
  },
  {
   "cell_type": "markdown",
   "metadata": {
    "id": "p28b_0bvqeyY"
   },
   "source": [
    "## Call SNPs using the two RNA-seq genotypes, S10 and Ti\n",
    "\n",
    "We will repeat the same step as above this time using the RNA-seq alignment files for the two white clover genotypes (S10 and Ti). These commands will produce another two VCF files, stored in the same folder."
   ]
  },
  {
   "cell_type": "code",
   "execution_count": 33,
   "metadata": {
    "colab": {
     "base_uri": "https://localhost:8080/"
    },
    "id": "F7xrcvlk_89T",
    "outputId": "6b3396ba-7ab2-4101-f0a9-c1624d053135",
    "tags": []
   },
   "outputs": [
    {
     "name": "stdout",
     "output_type": "stream",
     "text": [
      "Note: none of --samples-file, --ploidy or --ploidy-file given, assuming all sites are diploid\n",
      "[mpileup] 1 samples in 1 input files\n",
      "[mpileup] maximum number of reads per input file set to -d 250\n",
      "Note: none of --samples-file, --ploidy or --ploidy-file given, assuming all sites are diploid\n",
      "[mpileup] 1 samples in 1 input files\n",
      "[mpileup] maximum number of reads per input file set to -d 250\n"
     ]
    }
   ],
   "source": [
    "!bcftools mpileup --threads 4 -Ou --skip-indels -f ../Data/Clover_Data/DNA_Contig1_2.fasta Data_for_VCF_analysis/RNA_S10_merged.bam | bcftools call -mv -Ov -o results/VCF_Files/RNA_S10_merged.vcf\n",
    "!bcftools mpileup --threads 4 -Ou --skip-indels -f ../Data/Clover_Data/DNA_Contig1_2.fasta Data_for_VCF_analysis/RNA_TI_merged.bam | bcftools call -mv -Ov -o results/VCF_Files/RNA_TI_merged.vcf"
   ]
  },
  {
   "cell_type": "markdown",
   "metadata": {
    "id": "yTegl2eUMzoE"
   },
   "source": [
    "<div class=\"alert-success\"> <font size=\"+2\"> <b> TASK </b> </font> </div>\n",
    "\n",
    "* Inspect one of the VCFs and the corresponding alignment files in IGV.\n",
    "* Is it relevant to filter for false positives in this case, and what parameters would you look\n",
    "further into?"
   ]
  },
  {
   "cell_type": "markdown",
   "metadata": {
    "id": "d2WQKMLFbAi2"
   },
   "source": [
    "# VCF files processing and filtering"
   ]
  },
  {
   "cell_type": "markdown",
   "metadata": {
    "id": "fn_-oG22EKQU"
   },
   "source": [
    "Take a look at what one of the previously generated VCF files contains by running the cell below.\n",
    "\n",
    "A VCF file begins with the meta-information lines starting with '##' followed by one header line, starting with '#'. Next, there are the data lines, each describing a genetic variant for a certain position in the genome. Each data line contains multiple tab-delimited columns with information about the variant. There are 9 fixed columns, labelled “CHROM”, “POS”, “ID”, “REF”, “ALT”, “QUAL”, “FILTER”, “INFO” and “FORMAT”. Find more about the content of those columns [in this wikipedia page](https://en.wikipedia.org/wiki/Variant_Call_Format)."
   ]
  },
  {
   "cell_type": "markdown",
   "metadata": {},
   "source": [
    "In the sample column you can find the most likely genotype of the sample. For diploid organisms, there will be a 0 value for reference allele and 1 for the alternate allele. "
   ]
  },
  {
   "cell_type": "markdown",
   "metadata": {},
   "source": [
    "<figure>\n",
    "<img src=\"images/vcf_genotype.png\" width=\"700\" alt=\"Possible genotypes in the data\" class=\"center\">\n",
    "<figcaption> Figure: possible genotypes in the data. </figcaption>\n",
    "</figure>"
   ]
  },
  {
   "cell_type": "markdown",
   "metadata": {},
   "source": [
    "For example, here we read the first 50 rows from the RNAseq_S10_merged.vcf. You can see that the file format follows the same pattern as explained above."
   ]
  },
  {
   "cell_type": "code",
   "execution_count": 17,
   "metadata": {
    "colab": {
     "base_uri": "https://localhost:8080/"
    },
    "id": "Q2QWg7UPCJ6B",
    "outputId": "81f3b2e2-2795-4130-febe-54180d0577e9",
    "tags": []
   },
   "outputs": [
    {
     "name": "stdout",
     "output_type": "stream",
     "text": [
      "##fileformat=VCFv4.2\n",
      "##FILTER=<ID=PASS,Description=\"All filters passed\">\n",
      "##bcftoolsVersion=1.15.1+htslib-1.15.1\n",
      "##bcftoolsCommand=mpileup --threads 4 -Ou --skip-indels -f ../Data/Clover_Data/DNA_Contig1_2.fasta Data_for_VCF_analysis/RNA_S10_merged.bam\n",
      "##reference=file://../Data/Clover_Data/DNA_Contig1_2.fasta\n",
      "##contig=<ID=1,length=1031631>\n",
      "##contig=<ID=2,length=1057923>\n",
      "##ALT=<ID=*,Description=\"Represents allele(s) other than observed.\">\n",
      "##INFO=<ID=INDEL,Number=0,Type=Flag,Description=\"Indicates that the variant is an INDEL.\">\n",
      "##INFO=<ID=IDV,Number=1,Type=Integer,Description=\"Maximum number of raw reads supporting an indel\">\n",
      "##INFO=<ID=IMF,Number=1,Type=Float,Description=\"Maximum fraction of raw reads supporting an indel\">\n",
      "##INFO=<ID=DP,Number=1,Type=Integer,Description=\"Raw read depth\">\n",
      "##INFO=<ID=VDB,Number=1,Type=Float,Description=\"Variant Distance Bias for filtering splice-site artefacts in RNA-seq data (bigger is better)\",Version=\"3\">\n",
      "##INFO=<ID=RPBZ,Number=1,Type=Float,Description=\"Mann-Whitney U-z test of Read Position Bias (closer to 0 is better)\">\n",
      "##INFO=<ID=MQBZ,Number=1,Type=Float,Description=\"Mann-Whitney U-z test of Mapping Quality Bias (closer to 0 is better)\">\n",
      "##INFO=<ID=BQBZ,Number=1,Type=Float,Description=\"Mann-Whitney U-z test of Base Quality Bias (closer to 0 is better)\">\n",
      "##INFO=<ID=MQSBZ,Number=1,Type=Float,Description=\"Mann-Whitney U-z test of Mapping Quality vs Strand Bias (closer to 0 is better)\">\n",
      "##INFO=<ID=SCBZ,Number=1,Type=Float,Description=\"Mann-Whitney U-z test of Soft-Clip Length Bias (closer to 0 is better)\">\n",
      "##INFO=<ID=FS,Number=1,Type=Float,Description=\"Phred-scaled p-value using Fisher's exact test to detect strand bias\">\n",
      "##INFO=<ID=SGB,Number=1,Type=Float,Description=\"Segregation based metric.\">\n",
      "##INFO=<ID=MQ0F,Number=1,Type=Float,Description=\"Fraction of MQ0 reads (smaller is better)\">\n",
      "##FORMAT=<ID=PL,Number=G,Type=Integer,Description=\"List of Phred-scaled genotype likelihoods\">\n",
      "##FORMAT=<ID=GT,Number=1,Type=String,Description=\"Genotype\">\n",
      "##INFO=<ID=AC,Number=A,Type=Integer,Description=\"Allele count in genotypes for each ALT allele, in the same order as listed\">\n",
      "##INFO=<ID=AN,Number=1,Type=Integer,Description=\"Total number of alleles in called genotypes\">\n",
      "##INFO=<ID=DP4,Number=4,Type=Integer,Description=\"Number of high-quality ref-forward , ref-reverse, alt-forward and alt-reverse bases\">\n",
      "##INFO=<ID=MQ,Number=1,Type=Integer,Description=\"Average mapping quality\">\n",
      "##bcftools_callVersion=1.15.1+htslib-1.15.1\n",
      "##bcftools_callCommand=call -mv -Ov -o results/VCF_Files/RNA_S10_merged.vcf; Date=Mon Aug 15 12:18:28 2022\n",
      "#CHROM\tPOS\tID\tREF\tALT\tQUAL\tFILTER\tINFO\tFORMAT\tData_for_VCF_analysis/RNA_S10_merged.bam\n",
      "1\t5971\t.\tG\tT\t38.415\t.\tDP=5;VDB=0.00187095;SGB=-0.590765;FS=0;MQ0F=0;AC=2;AN=2;DP4=0,0,5,0;MQ=20\tGT:PL\t1/1:68,15,0\n",
      "1\t6478\t.\tA\tG\t3.77163\t.\tDP=6;VDB=0.0249187;SGB=-0.511536;RPBZ=-2.12132;MQBZ=0;MQSBZ=0;BQBZ=1;SCBZ=1.54919;FS=0;MQ0F=0;AC=1;AN=2;DP4=0,3,3,0;MQ=20\tGT:PL\t0/1:34,0,34\n",
      "1\t7121\t.\tC\tG\t30.4183\t.\tDP=4;VDB=0.0058656;SGB=-0.556411;FS=0;MQ0F=0;AC=2;AN=2;DP4=0,0,0,4;MQ=20\tGT:PL\t1/1:60,12,0\n",
      "1\t33218\t.\tG\tA\t102.668\t.\tDP=121;VDB=1.08128e-10;SGB=-0.693147;RPBZ=3.53225;MQBZ=-0.642416;MQSBZ=-0.731083;BQBZ=-1.37444;SCBZ=4.34047;FS=0;MQ0F=0;AC=1;AN=2;DP4=15,11,16,47;MQ=19\tGT:PL\t0/1:136,0,67\n",
      "1\t33222\t.\tC\tG\t113.918\t.\tDP=91;VDB=8.49758e-20;SGB=-0.693147;RPBZ=3.7717;MQBZ=-0.719195;MQSBZ=-0.737468;BQBZ=-1.01317;SCBZ=4.21834;FS=0;MQ0F=0;AC=1;AN=2;DP4=18,12,13,45;MQ=19\tGT:PL\t0/1:147,0,86\n",
      "1\t33223\t.\tT\tG\t112.842\t.\tDP=91;VDB=3.46241e-20;SGB=-0.693147;RPBZ=3.75036;MQBZ=-0.701089;MQSBZ=-0.737468;BQBZ=1.3998;SCBZ=4.59941;FS=0;MQ0F=0;AC=1;AN=2;DP4=18,11,13,46;MQ=19\tGT:PL\t0/1:146,0,77\n",
      "1\t33224\t.\tT\tG\t112.991\t.\tDP=93;VDB=4.85193e-20;SGB=-0.693147;RPBZ=4.08942;MQBZ=-0.724861;MQSBZ=-0.724861;BQBZ=-2.11295;SCBZ=4.76229;FS=0;MQ0F=0;AC=1;AN=2;DP4=18,13,13,46;MQ=19\tGT:PL\t0/1:146,0,92\n",
      "1\t33225\t.\tG\tT\t112.991\t.\tDP=93;VDB=3.45139e-20;SGB=-0.693147;RPBZ=4.08862;MQBZ=-0.724861;MQSBZ=-0.724861;BQBZ=-2.56287;SCBZ=4.76229;FS=0;MQ0F=0;AC=1;AN=2;DP4=18,13,13,46;MQ=19\tGT:PL\t0/1:146,0,92\n",
      "1\t33227\t.\tT\tA\t113.032\t.\tDP=94;VDB=1.72823e-20;SGB=-0.693147;RPBZ=4.73926;MQBZ=-0.73646;MQSBZ=-0.73646;BQBZ=-1.85315;SCBZ=4.84464;FS=0;MQ0F=0;AC=1;AN=2;DP4=19,13,13,46;MQ=19\tGT:PL\t0/1:146,0,94\n",
      "1\t46015\t.\tG\tA\t68.4148\t.\tDP=6;VDB=0.000411984;SGB=-0.616816;MQSBZ=0;FS=0;MQ0F=0;AC=2;AN=2;DP4=0,0,2,4;MQ=20\tGT:PL\t1/1:98,18,0\n",
      "1\t49149\t.\tC\tT\t30.4183\t.\tDP=4;VDB=0.0058656;SGB=-0.556411;FS=0;MQ0F=0;AC=2;AN=2;DP4=0,0,0,4;MQ=20\tGT:PL\t1/1:60,12,0\n",
      "1\t54652\t.\tA\tG\t7.26048\t.\tDP=4;VDB=0.0221621;SGB=-0.511536;RPBZ=-1.73205;MQBZ=0;BQBZ=-0.57735;SCBZ=0;FS=0;MQ0F=0;AC=1;AN=2;DP4=0,1,0,3;MQ=20\tGT:PL\t0/1:38,0,8\n",
      "1\t54654\t.\tT\tA\t7.26048\t.\tDP=4;VDB=0.0221621;SGB=-0.511536;RPBZ=-1.73205;MQBZ=0;BQBZ=-0.57735;SCBZ=0;FS=0;MQ0F=0;AC=1;AN=2;DP4=0,1,0,3;MQ=20\tGT:PL\t0/1:38,0,8\n",
      "1\t74528\t.\tT\tC\t86.718\t.\tDP=30;VDB=1.98063e-15;SGB=-0.692914;RPBZ=-4.97717;MQBZ=0;MQSBZ=0;BQBZ=-0.447214;SCBZ=3.82971;FS=0;MQ0F=0;AC=2;AN=2;DP4=4,1,5,20;MQ=20\tGT:PL\t1/1:115,0,2\n",
      "1\t74752\t.\tG\tC\t10.7923\t.\tDP=2;VDB=0.02;SGB=-0.453602;MQSBZ=0;FS=0;MQ0F=0;AC=2;AN=2;DP4=0,0,1,1;MQ=20\tGT:PL\t1/1:40,6,0\n",
      "1\t83968\t.\tC\tG\t88.0729\t.\tDP=12;VDB=2.26006e-08;SGB=-0.676189;RPBZ=-3.31662;MQBZ=0;MQSBZ=0;BQBZ=-0.301511;SCBZ=1.90051;FS=0;MQ0F=0;AC=2;AN=2;DP4=1,0,2,9;MQ=20\tGT:PL\t1/1:115,16,0\n",
      "1\t83970\t.\tT\tC\t88.0729\t.\tDP=12;VDB=3.87165e-08;SGB=-0.676189;RPBZ=-1.91485;MQBZ=0;MQSBZ=0;BQBZ=-0.301511;SCBZ=1.70753;FS=0;MQ0F=0;AC=2;AN=2;DP4=1,0,2,9;MQ=20\tGT:PL\t1/1:115,16,0\n",
      "1\t83972\t.\tG\tT\t88.0729\t.\tDP=12;VDB=4.42314e-08;SGB=-0.676189;RPBZ=-1.77281;MQBZ=0;MQSBZ=0;BQBZ=0;SCBZ=1.60168;FS=0;MQ0F=0;AC=2;AN=2;DP4=1,0,2,9;MQ=20\tGT:PL\t1/1:115,16,0\n",
      "1\t83975\t.\tG\tA\t88.0729\t.\tDP=12;VDB=6.57308e-08;SGB=-0.676189;RPBZ=-1.71791;MQBZ=0;MQSBZ=0;BQBZ=0;SCBZ=1.60168;FS=0;MQ0F=0;AC=2;AN=2;DP4=1,0,2,9;MQ=20\tGT:PL\t1/1:115,16,0\n",
      "1\t174956\t.\tC\tT\t55.4146\t.\tDP=5;VDB=0.00596054;SGB=-0.590765;MQSBZ=0;FS=0;MQ0F=0;AC=2;AN=2;DP4=0,0,3,2;MQ=20\tGT:PL\t1/1:85,15,0\n"
     ]
    }
   ],
   "source": [
    "!cat results/VCF_Files/RNA_S10_merged.vcf | head -50"
   ]
  },
  {
   "cell_type": "markdown",
   "metadata": {
    "id": "ycj5WksTqPnY"
   },
   "source": [
    "Next, in order to generate plots of the metrics stored in the VCF files, we will first import the VCF files in Python using the `scikit-allel` package. This package contains a series of function helpful for processing variant calling files.\n",
    "<br>\n",
    "For now, we will import only the VCF files generated using the Hifi data alignments. You can ignore the warning.\n"
   ]
  },
  {
   "cell_type": "code",
   "execution_count": 18,
   "metadata": {
    "colab": {
     "base_uri": "https://localhost:8080/"
    },
    "id": "n2q1YvC4EhRe",
    "outputId": "bfe98aaa-e71a-407e-8c7e-3f38090f8574",
    "tags": []
   },
   "outputs": [
    {
     "name": "stderr",
     "output_type": "stream",
     "text": [
      "/opt/conda/envs/NGS_aarhus/lib/python3.10/site-packages/allel/io/vcf_read.py:1732: UserWarning: invalid INFO header: '##INFO=<ID=VDB,Number=1,Type=Float,Description=\"Variant Distance Bias for filtering splice-site artefacts in RNA-seq data (bigger is better)\",Version=\"3\">\\n'\n",
      "  warnings.warn('invalid INFO header: %r' % header)\n"
     ]
    }
   ],
   "source": [
    "#Import the VCF files\n",
    "Hifi_Contig_1_vcf = allel.read_vcf('results/VCF_Files/HIFI_Contig_1.vcf', fields='*')\n",
    "Hifi_Contig_2_vcf = allel.read_vcf('results/VCF_Files/HIFI_Contig_2.vcf', fields='*')\n",
    "Hifi_Contig_1_2_vcf = allel.read_vcf('results/VCF_Files/HIFI_Contig_1_2.vcf', fields='*')"
   ]
  },
  {
   "cell_type": "markdown",
   "metadata": {
    "id": "eG-opng_2glu"
   },
   "source": [
    "Let's check the number of SNPs in each of the three VCF files.\n",
    "\n",
    "The first two VCF files contain subgenome SNPs. You can see that we identified a have a high number of polymorphisms between the two subgenomes. On the other hand the Hifi_Contig1_2_vcf file contains what we would call false positives, as we called SNPs using the same Hifi reads that were used for assembling the reference genome. As expected the number of SNPs in this file is much smaller."
   ]
  },
  {
   "cell_type": "code",
   "execution_count": 19,
   "metadata": {
    "colab": {
     "base_uri": "https://localhost:8080/"
    },
    "id": "RMvY_lXP2gDo",
    "outputId": "9addd257-5ec9-472d-a609-95a6fed658fc",
    "tags": []
   },
   "outputs": [
    {
     "name": "stdout",
     "output_type": "stream",
     "text": [
      "Number of SNPs in Hifi Contig 1 vcf file: 31981\n",
      "Number of SNPs in Hifi Contig 2 vcf file: 30823\n",
      "Number of SNPs in Hifi Contig 1 and 2 vcf file: 472\n"
     ]
    }
   ],
   "source": [
    "print(\"Number of SNPs in Hifi Contig 1 vcf file:\", Hifi_Contig_1_vcf['variants/POS'].size)\n",
    "print(\"Number of SNPs in Hifi Contig 2 vcf file:\", Hifi_Contig_2_vcf['variants/POS'].size)\n",
    "print(\"Number of SNPs in Hifi Contig 1 and 2 vcf file:\", Hifi_Contig_1_2_vcf['variants/POS'].size)"
   ]
  },
  {
   "cell_type": "markdown",
   "metadata": {
    "id": "jSvkf91e1Y4d"
   },
   "source": [
    "As an overview of the distribution of SNPs, we can plot the density of SNPs across the contigs. We have defined a function called `plot_variant_density` in the file `../Scripts/pythonScripts.sh` that does exactly that. We use that to plot the SNP density across the contigs in the three VCF files in bins of 5000 bp.\n",
    "\n",
    "We can approximate that a SNP density of 0.1 SNPs/bp repesents one polymorphic site at every ten nucleotides. You can see that for the two contigs there are regions more conserved between the two subgenomes, which show a low density of SNPs and more variable regions, which have a higher SNP density.\n",
    "\n",
    "In the third plot we can mainly observe SNPs at the beging of the contigs, as you have probably also oberved when inspecting the files in IGV. Taking a look at the scale of the y-axis you can oberve that the SNP density for 'Hifi_Contig1_2_vcf' is much smaller compared to the other two files.\n",
    "\n",
    "Note: For easier plotting of the files that contain SNPs from both Contig 1 and 2, the SNP density is plotted as an overlay of both contigs."
   ]
  },
  {
   "cell_type": "code",
   "execution_count": 22,
   "metadata": {
    "colab": {
     "base_uri": "https://localhost:8080/",
     "height": 719
    },
    "id": "q9-UQ1gyy3RJ",
    "outputId": "c1cd00a6-c009-49be-c435-49122ed8b9b5",
    "tags": []
   },
   "outputs": [
    {
     "data": {
      "image/png": "[encoded data removed]",
      "text/plain": [
       "<Figure size 792x216 with 1 Axes>"
      ]
     },
     "metadata": {
      "needs_background": "light"
     },
     "output_type": "display_data"
    },
    {
     "data": {
      "image/png": "[encoded data removed]",
      "text/plain": [
       "<Figure size 792x216 with 1 Axes>"
      ]
     },
     "metadata": {
      "needs_background": "light"
     },
     "output_type": "display_data"
    },
    {
     "data": {
      "image/png": "[encoded data removed]",
      "text/plain": [
       "<Figure size 792x216 with 1 Axes>"
      ]
     },
     "metadata": {
      "needs_background": "light"
     },
     "output_type": "display_data"
    }
   ],
   "source": [
    "#Plot SNP density\n",
    "plot_variant_density(Hifi_Contig_1_vcf, window_size=5000, title='Contig 1 Raw SNP density')\n",
    "plot_variant_density(Hifi_Contig_2_vcf, window_size=5000, title='Contig 2 Raw SNP density')\n",
    "plot_variant_density(Hifi_Contig_1_2_vcf, window_size=5000, title='Contig 1 and 2 Raw SNP density')"
   ]
  },
  {
   "cell_type": "markdown",
   "metadata": {
    "id": "q6oHZPljqkU6"
   },
   "source": [
    "We can also plot some of the most relevant parameters from the VCF files, such as the read depth and the quality, to have an overview of the quality of the SNPs in these samples. We defined for that the function `plot_variant_hist` in the file `../Scripts/pythonScripts.sh`."
   ]
  },
  {
   "cell_type": "markdown",
   "metadata": {
    "id": "-dJBkmfTqz_R"
   },
   "source": [
    "We can plot the metrics \"DP\" (Read depth),  \"QUAL\" (Quality score), and \"MQ\" (Mapping quality for `Hifi_Contig1_vcf`. \n",
    "The x-axis represents the chosen metric, while the y-axis represents the number of SNPs. You can observe that the majority of the SNPs from this file have a high quality."
   ]
  },
  {
   "cell_type": "code",
   "execution_count": 23,
   "metadata": {
    "colab": {
     "base_uri": "https://localhost:8080/",
     "height": 881
    },
    "id": "cl4fr0Vak5wV",
    "outputId": "0d82a668-e8da-45f8-fc02-4cc404e75d79",
    "tags": []
   },
   "outputs": [
    {
     "data": {
      "image/png": "[encoded data removed]",
      "text/plain": [
       "<Figure size 648x288 with 1 Axes>"
      ]
     },
     "metadata": {
      "needs_background": "light"
     },
     "output_type": "display_data"
    },
    {
     "data": {
      "image/png": "[encoded data removed]",
      "text/plain": [
       "<Figure size 648x288 with 1 Axes>"
      ]
     },
     "metadata": {
      "needs_background": "light"
     },
     "output_type": "display_data"
    },
    {
     "data": {
      "image/png": "[encoded data removed]",
      "text/plain": [
       "<Figure size 648x288 with 1 Axes>"
      ]
     },
     "metadata": {
      "needs_background": "light"
     },
     "output_type": "display_data"
    }
   ],
   "source": [
    "plot_variant_hist(Hifi_Contig_1_vcf,'DP', \"mediumblue\")\n",
    "plot_variant_hist(Hifi_Contig_1_vcf, 'QUAL', \"forestgreen\")\n",
    "plot_variant_hist(Hifi_Contig_1_vcf, 'MQ', \"darkred\")"
   ]
  },
  {
   "cell_type": "markdown",
   "metadata": {
    "id": "11wmFFi02NzM"
   },
   "source": [
    "<div class=\"alert-success\"> <font size=\"+2\"> <b> TASK </b> </font> </div>\n",
    "\n",
    "* In the two cells below generate the same three plots as above using the VCF files for Contig 2 and Contig 1+2.\n",
    "\n",
    "* You will just need to copy the three command lines from the cell above and replace the name of the VCF files."
   ]
  },
  {
   "cell_type": "code",
   "execution_count": null,
   "metadata": {
    "id": "ovo5EmPu4VWH"
   },
   "outputs": [],
   "source": [
    "#Plot the metrics for Contig 2"
   ]
  },
  {
   "cell_type": "code",
   "execution_count": null,
   "metadata": {
    "id": "SQi3wFQA4XPt",
    "tags": []
   },
   "outputs": [],
   "source": [
    "#Plot the metrics for Contig 1 + 2"
   ]
  },
  {
   "cell_type": "markdown",
   "metadata": {
    "id": "ViTHFP3PsbI8"
   },
   "source": [
    "As you can observe in the plots above, there are some positions with very low read depth and low quality. Those might represent false-positive variants. Thus, we will filter the VCF files in order to eliminate those positions.\n",
    "<br>\n",
    "For this purpose, we will use another `bcftools` function `bcftools filter`. We can pass thresholds for all the info metrics to this function using the \"-i\" flag. Below is just an example of the thresholds, you can change the values to suit your files.\n",
    "<br>\n",
    "Note that this command will generate a new filtered VCF file in the \"VCF_Files\" Folder.\n"
   ]
  },
  {
   "cell_type": "code",
   "execution_count": 24,
   "metadata": {
    "id": "rn5lO6xScY2V",
    "tags": []
   },
   "outputs": [],
   "source": [
    "!bcftools filter -i '(QUAL>150) & (DP > 20) & (MQ > 40)' results/VCF_Files/HIFI_Contig_1.vcf -O v > results/VCF_Files/HIFI_Contig_1_filtered.vcf"
   ]
  },
  {
   "cell_type": "code",
   "execution_count": 25,
   "metadata": {
    "id": "oemMs3fp52g0",
    "tags": []
   },
   "outputs": [],
   "source": [
    "!bcftools filter -i '(QUAL>150) & (DP > 20) & (MQ > 40)' results/VCF_Files/HIFI_Contig_2.vcf -O v > results/VCF_Files/HIFI_Contig_2_filtered.vcf"
   ]
  },
  {
   "cell_type": "code",
   "execution_count": 26,
   "metadata": {
    "id": "xWJ3weW153EJ",
    "tags": []
   },
   "outputs": [],
   "source": [
    "!bcftools filter -i '(QUAL>150) & (DP > 20) & (MQ > 40)' results/VCF_Files/HIFI_Contig_1_2.vcf -O v > results/VCF_Files/HIFI_Contig_1_2_filtered.vcf"
   ]
  },
  {
   "cell_type": "markdown",
   "metadata": {},
   "source": [
    "Read the filtered VCF files in python and generate the same plots as above. We can read the VCF file and gnerate all the plots in one cell this time.\n",
    "\n",
    "Check how many positions have been eliminated by the filter and compare the plots with the ones for the unfiltered VCFs.\n",
    "\n",
    "If you consider that there are still positions with with low quality you can change the filter and repeat the process."
   ]
  },
  {
   "cell_type": "code",
   "execution_count": 27,
   "metadata": {
    "colab": {
     "base_uri": "https://localhost:8080/",
     "height": 1000
    },
    "id": "vKoegzHqlWLu",
    "outputId": "a51726b7-4a4a-4527-cf90-b0b722a5ec05",
    "tags": []
   },
   "outputs": [
    {
     "name": "stderr",
     "output_type": "stream",
     "text": [
      "/opt/conda/envs/NGS_aarhus/lib/python3.10/site-packages/allel/io/vcf_read.py:1732: UserWarning: invalid INFO header: '##INFO=<ID=VDB,Number=1,Type=Float,Description=\"Variant Distance Bias for filtering splice-site artefacts in RNA-seq data (bigger is better)\",Version=\"3\">\\n'\n",
      "  warnings.warn('invalid INFO header: %r' % header)\n"
     ]
    },
    {
     "name": "stdout",
     "output_type": "stream",
     "text": [
      "Number of SNPs in Contig 1 VCF filtered file: 29195\n"
     ]
    },
    {
     "data": {
      "image/png": "[encoded data removed]",
      "text/plain": [
       "<Figure size 792x216 with 1 Axes>"
      ]
     },
     "metadata": {
      "needs_background": "light"
     },
     "output_type": "display_data"
    },
    {
     "data": {
      "image/png": "[encoded data removed]",
      "text/plain": [
       "<Figure size 648x288 with 1 Axes>"
      ]
     },
     "metadata": {
      "needs_background": "light"
     },
     "output_type": "display_data"
    },
    {
     "data": {
      "image/png": "[encoded data removed]",
      "text/plain": [
       "<Figure size 648x288 with 1 Axes>"
      ]
     },
     "metadata": {
      "needs_background": "light"
     },
     "output_type": "display_data"
    },
    {
     "data": {
      "image/png": "[encoded data removed]",
      "text/plain": [
       "<Figure size 648x288 with 1 Axes>"
      ]
     },
     "metadata": {
      "needs_background": "light"
     },
     "output_type": "display_data"
    }
   ],
   "source": [
    "Hifi_Contig1_filtered = allel.read_vcf('results/VCF_Files/HIFI_Contig_1_filtered.vcf', fields='*')\n",
    "\n",
    "print(\"Number of SNPs in Contig 1 VCF filtered file:\", Hifi_Contig1_filtered['variants/POS'].size)\n",
    "\n",
    "#Plot SNP density\n",
    "plot_variant_density(Hifi_Contig1_filtered, window_size=5000, title='Contig 1 Filtered variant density')\n",
    "#Plot metrics\n",
    "plot_variant_hist(Hifi_Contig1_filtered,'DP',  \"mediumblue\")\n",
    "plot_variant_hist(Hifi_Contig1_filtered, 'QUAL',  \"forestgreen\")\n",
    "plot_variant_hist(Hifi_Contig1_filtered, 'MQ', \"darkred\")"
   ]
  },
  {
   "cell_type": "markdown",
   "metadata": {
    "id": "I4uRCuzD549G",
    "tags": []
   },
   "source": [
    "<div class=\"alert-success\"> <font size=\"+2\"> <b> TASK </b> </font> </div>\n",
    "\n",
    "* Compare the VCF files before and after filtering in IGV. "
   ]
  },
  {
   "cell_type": "markdown",
   "metadata": {
    "id": "NhjQ3j3t6STZ"
   },
   "source": [
    "<div class=\"alert-success\"> <font size=\"+2\"> <b> TASK </b> </font> </div>\n",
    "\n",
    "* In the two cells below generate the same plots as above using the filtered VCF files for Contig 2 and Contig 1 + 2.  You will just need to copy the three command lines from the cell above and replace the name of the VCF files."
   ]
  },
  {
   "cell_type": "code",
   "execution_count": null,
   "metadata": {
    "id": "X3Kfy48-6SDI",
    "tags": []
   },
   "outputs": [],
   "source": [
    "#Figures for Contig 2 Filtered VCF\n"
   ]
  },
  {
   "cell_type": "code",
   "execution_count": null,
   "metadata": {
    "id": "dfg_oXJl6pIB",
    "tags": []
   },
   "outputs": [],
   "source": [
    "#Figures for Contig 1 + 2 Filtered VCF\n",
    "\n"
   ]
  },
  {
   "cell_type": "markdown",
   "metadata": {
    "id": "w4f432vS7h61"
   },
   "source": [
    "<div class=\"alert-success\"> <font size=\"+2\"> <b> TASK </b> </font> </div>\n",
    "\n",
    "\n",
    "* Repeat the quality check and filtering as described above for the two RNA-seq VCF files:\n",
    "<br>\n",
    "You will need to fill the empty cells with the appropriate commands."
   ]
  },
  {
   "cell_type": "markdown",
   "metadata": {
    "id": "2CXMaP268jPQ"
   },
   "source": [
    "Read the VCF files in Python:"
   ]
  },
  {
   "cell_type": "code",
   "execution_count": 34,
   "metadata": {
    "colab": {
     "base_uri": "https://localhost:8080/"
    },
    "id": "CmqJIuTI78-Y",
    "outputId": "e9d2ea81-5fc4-4157-be80-7a667d4517f1",
    "tags": []
   },
   "outputs": [
    {
     "name": "stderr",
     "output_type": "stream",
     "text": [
      "/opt/conda/envs/NGS_aarhus/lib/python3.10/site-packages/allel/io/vcf_read.py:1732: UserWarning: invalid INFO header: '##INFO=<ID=VDB,Number=1,Type=Float,Description=\"Variant Distance Bias for filtering splice-site artefacts in RNA-seq data (bigger is better)\",Version=\"3\">\\n'\n",
      "  warnings.warn('invalid INFO header: %r' % header)\n"
     ]
    }
   ],
   "source": [
    "vcf_S10_RNA = allel.read_vcf('results/VCF_Files/RNA_S10_merged.vcf', fields='*')\n",
    "vcf_Ti_RNA = allel.read_vcf('results/VCF_Files/RNA_TI_merged.vcf', fields='*')"
   ]
  },
  {
   "cell_type": "markdown",
   "metadata": {},
   "source": [
    "Print the number of SNPs in the two RNA-seq VCF files. Note that the number of SNPs is much smaller than for the Hifi VCF files. Also, there is a difference in the number of SNPs for the two genotypes. As S10 RNA-seq data originates from the same genotype as the referece genome, one would expect a small number of SNPs to be identified in this case. "
   ]
  },
  {
   "cell_type": "code",
   "execution_count": 35,
   "metadata": {
    "tags": []
   },
   "outputs": [
    {
     "name": "stdout",
     "output_type": "stream",
     "text": [
      "Number of SNPs in S10 RNA-seq VCF file: 161\n",
      "Number of SNPs in Ti RNA-seq VCF file: 3684\n"
     ]
    }
   ],
   "source": [
    "print(\"Number of SNPs in S10 RNA-seq VCF file:\", vcf_S10_RNA['variants/POS'].size)\n",
    "print(\"Number of SNPs in Ti RNA-seq VCF file:\", vcf_Ti_RNA['variants/POS'].size)"
   ]
  },
  {
   "cell_type": "markdown",
   "metadata": {
    "id": "HfL6_N-38p7i"
   },
   "source": [
    "Generate SNP density plots using the plot_variant_density() function:"
   ]
  },
  {
   "cell_type": "code",
   "execution_count": null,
   "metadata": {
    "id": "Ij-rcFVb8o2V"
   },
   "outputs": [],
   "source": []
  },
  {
   "cell_type": "code",
   "execution_count": null,
   "metadata": {},
   "outputs": [],
   "source": []
  },
  {
   "cell_type": "markdown",
   "metadata": {
    "id": "5CEvnF-b8ybA"
   },
   "source": [
    "Generate info histograms using the plot_variant_hist() function for the same fields. \n",
    "You should observe that the metrics for the RNA-seq vcf files are quite different from the ones using Hifi reads."
   ]
  },
  {
   "cell_type": "code",
   "execution_count": null,
   "metadata": {
    "id": "iOnkWJft8yob"
   },
   "outputs": [],
   "source": []
  },
  {
   "cell_type": "code",
   "execution_count": null,
   "metadata": {},
   "outputs": [],
   "source": []
  },
  {
   "cell_type": "markdown",
   "metadata": {
    "id": "vP6X4xrY9dHX"
   },
   "source": [
    "Filter the VCF files using `bcftools` and your selected tresholds after inspecting the VCF files.\n",
    "Add the filter thresholds before running the command."
   ]
  },
  {
   "cell_type": "code",
   "execution_count": null,
   "metadata": {
    "id": "ETYhzUDZ9osW",
    "tags": []
   },
   "outputs": [],
   "source": [
    "!bcftools view -i 'add filter thresholds here' results/VCF_Files/RNA_S10_merged.vcf -O v > results/VCF_Files/RNA_S10_merged_filtered.vcf\n",
    "!bcftools view -i 'add filter thresholds here' results/VCF_Files/RNA_TI_merged.vcf -O v > results/VCF_Files/RNA_TI_merged_filtered.vcf"
   ]
  },
  {
   "cell_type": "markdown",
   "metadata": {
    "id": "WklRcZVB9pPM"
   },
   "source": [
    "Read the filtered VCFs in python:"
   ]
  },
  {
   "cell_type": "code",
   "execution_count": null,
   "metadata": {
    "id": "V_v8bfvc939e",
    "tags": []
   },
   "outputs": [],
   "source": [
    "vcf_S10_RNA_filtered = allel.read_vcf('results/VCF_Files/RNA_S10_merged_filtered.vcf', fields='*')\n",
    "vcf_Ti_RNA_filtered = allel.read_vcf('results/VCF_Files/RNA_TI_merged_filtered.vcf', fields='*')"
   ]
  },
  {
   "cell_type": "markdown",
   "metadata": {
    "id": "zt6PzA-R_Kjq"
   },
   "source": [
    "Check the number of SNPs in the filtered VCF files:"
   ]
  },
  {
   "cell_type": "code",
   "execution_count": null,
   "metadata": {
    "id": "D4IiHka4_I63",
    "tags": []
   },
   "outputs": [],
   "source": [
    "print(\"Number of SNPs in the filtered S10 RNA-seq VCF file:\", vcf_S10_RNA_filtered['variants/POS'].size)\n",
    "print(\"Number of SNPs in the filtered Ti RNA-seq VCF file:\", vcf_Ti_RNA_filtered['variants/POS'].size)"
   ]
  },
  {
   "cell_type": "markdown",
   "metadata": {},
   "source": [
    "Plot same histograms for the filtered VCF files."
   ]
  },
  {
   "cell_type": "code",
   "execution_count": null,
   "metadata": {},
   "outputs": [],
   "source": []
  },
  {
   "cell_type": "code",
   "execution_count": null,
   "metadata": {},
   "outputs": [],
   "source": []
  },
  {
   "cell_type": "markdown",
   "metadata": {
    "id": "iu-AKFreO6bX"
   },
   "source": [
    "<div class=\"alert-success\"> <font size=\"+2\"> <b> TASK </b> </font> </div>\n",
    "\n",
    "* Is it relevant to filter for false positives in this case, and what parameters  would you look further into?"
   ]
  },
  {
   "cell_type": "markdown",
   "metadata": {
    "id": "urAhMJFs6scD",
    "tags": []
   },
   "source": [
    "# Genotypes counting"
   ]
  },
  {
   "cell_type": "markdown",
   "metadata": {
    "id": "u9H0oBYV6wkL"
   },
   "source": [
    "We want to count the different genotypes in each of the five filtered VCF files generated previously. To make this task easier we can take advantage of the counting functions in the `scikit-allel`  package. We have used those to implement a little function called `position_count` in the file `../Scripts/pythonScripts.sh`."
   ]
  },
  {
   "cell_type": "markdown",
   "metadata": {
    "id": "CTE0Bsro-WfD"
   },
   "source": [
    "<div class=\"alert-success\"> <font size=\"+2\"> <b> TASK </b> </font> </div>\n",
    "\n",
    "You can then use the function with each of the 5 filtered VCF files to count the number of positions. You need to fill the names of the VCF files imported in Python."
   ]
  },
  {
   "cell_type": "code",
   "execution_count": null,
   "metadata": {
    "colab": {
     "base_uri": "https://localhost:8080/"
    },
    "id": "Goqqx2-jl1CW",
    "outputId": "03c3e06a-8dd3-432f-eb19-95e53d91e167",
    "tags": []
   },
   "outputs": [],
   "source": [
    "#Contig 1 filtered VCF\n",
    "position_count(Hifi_Contig1_filtered)"
   ]
  },
  {
   "cell_type": "code",
   "execution_count": null,
   "metadata": {
    "colab": {
     "base_uri": "https://localhost:8080/",
     "height": 187
    },
    "id": "K-SP09a44586",
    "outputId": "844c863e-8e3e-4986-e000-70d2e58d52ad"
   },
   "outputs": [],
   "source": [
    "#Contig 2 filtered VCF\n",
    "position_count()"
   ]
  },
  {
   "cell_type": "code",
   "execution_count": null,
   "metadata": {
    "id": "bvS-b0gVABaR"
   },
   "outputs": [],
   "source": [
    "#Contig 1 and 2 filtered VCF\n",
    "position_count()"
   ]
  },
  {
   "cell_type": "code",
   "execution_count": null,
   "metadata": {
    "id": "HaVY5TjyADi5"
   },
   "outputs": [],
   "source": [
    "#RNAseq S10 filtered VCF\n",
    "position_count()"
   ]
  },
  {
   "cell_type": "code",
   "execution_count": null,
   "metadata": {
    "id": "Bd8r7ffHALAf"
   },
   "outputs": [],
   "source": [
    "#RNAseq Ti filtered VCF\n",
    "position_count()"
   ]
  },
  {
   "cell_type": "markdown",
   "metadata": {
    "id": "Ag-AJ-97BLtw"
   },
   "source": [
    "# Comparison of VCF files \n",
    "\n",
    "Compare the VCF files with subgenome variants and the VCF files with S10/Tienshan genotype specific variants obtained from RNA-seq mapping"
   ]
  },
  {
   "cell_type": "markdown",
   "metadata": {
    "id": "D-EGl_AzAXFf"
   },
   "source": [
    "We want now to find overlapping position between the Contig 1 and Contig 2 Hifi VCF files and the Ti RNAseq VCF file. "
   ]
  },
  {
   "cell_type": "markdown",
   "metadata": {
    "id": "Q6IRZOT2AseI"
   },
   "source": [
    "To ease this task we will first create two merged VCF files containing:\n",
    "\n",
    "\n",
    "*   Hifi Contig 1 VCF + Ti RNAseq VCF\n",
    "*   Hifi Contig 2 VCF + Ti RNAseq VCF\n",
    "\n",
    "Once again, we will use `bcftools` for this task, using the merge function. However, the `bcftools merge`  function works only with compressed and indexed VCF files, so first we will do this. \n"
   ]
  },
  {
   "cell_type": "code",
   "execution_count": null,
   "metadata": {
    "colab": {
     "base_uri": "https://localhost:8080/"
    },
    "id": "-pGeQ0LWGgkT",
    "outputId": "2397816a-53ea-47fb-8aaa-c199a5ee919d",
    "tags": []
   },
   "outputs": [],
   "source": [
    "!bcftools view results/VCF_Files/HIFI_Contig_1_filtered.vcf -Oz -o results/VCF_Files/HIFI_Contig_1_filtered.vcf.gz\n",
    "!bcftools index results/VCF_Files/HIFI_Contig_1_filtered.vcf.gz -f -o results/VCF_Files/HIFI_Contig_1_filtered.vcf.gz.csi\n",
    "\n",
    "!bcftools view results/VCF_Files/HIFI_Contig_2_filtered.vcf -Oz -o results/VCF_Files/HIFI_Contig_2_filtered.vcf.gz\n",
    "!bcftools index results/VCF_Files/HIFI_Contig_2_filtered.vcf.gz -f -o results/VCF_Files/HIFI_Contig_2_filtered.vcf.gz.csi\n",
    "\n",
    "!bcftools view results/VCF_Files/RNA_TI_merged_filtered.vcf -Oz -o results/VCF_Files/RNA_TI_merged_filtered.vcf.gz\n",
    "!bcftools index results/VCF_Files/RNA_TI_merged_filtered.vcf.gz -f -o results/VCF_Files/RNA_TI_merged_filtered.vcf.gz.csi"
   ]
  },
  {
   "cell_type": "markdown",
   "metadata": {
    "id": "mdLFgbuVDTji"
   },
   "source": [
    "Now we can merge Contig 1 VCF with the Ti RNA VCF and keep only positions that match between the two files by filtering out any positions with missing genotypes."
   ]
  },
  {
   "cell_type": "code",
   "execution_count": null,
   "metadata": {
    "id": "2cxjOU2Y5eGI",
    "tags": []
   },
   "outputs": [],
   "source": [
    "!bcftools merge results/VCF_Files/HIFI_Contig_1_filtered.vcf.gz results/VCF_Files/RNA_TI_merged_filtered.vcf.gz | bcftools filter -e 'GT=\"./.\"' > results/VCF_Files/TI_Contig_1_merged.vcf"
   ]
  },
  {
   "cell_type": "markdown",
   "metadata": {
    "id": "4y64NuCrDj2K"
   },
   "source": [
    "Merge Contig 2 VCF with the Ti RNA VCF and keep only positions that match between the two files."
   ]
  },
  {
   "cell_type": "code",
   "execution_count": null,
   "metadata": {
    "id": "wL4paCSFDhsr",
    "tags": []
   },
   "outputs": [],
   "source": [
    "!bcftools merge results/VCF_Files/HIFI_Contig_2_filtered.vcf.gz results/VCF_Files/RNA_TI_merged_filtered.vcf.gz | bcftools filter -e 'GT=\"./.\"' > results/VCF_Files/TI_Contig_2_merged.vcf"
   ]
  },
  {
   "cell_type": "markdown",
   "metadata": {
    "id": "bwFCirFBDsyK"
   },
   "source": [
    "Take a look at the merged VCF file.\n",
    "<br>\n",
    "You can see that compared with the VCF files for just one sample, there is now a new column in the file, with the corresponding genotype for the second sample that we merged."
   ]
  },
  {
   "cell_type": "code",
   "execution_count": null,
   "metadata": {
    "colab": {
     "base_uri": "https://localhost:8080/"
    },
    "id": "3LUZvx-6XPdv",
    "outputId": "0f084879-0d21-43ec-a691-596fd40c4952",
    "tags": []
   },
   "outputs": [],
   "source": [
    "!cat results/VCF_Files/TI_Contig_1_merged.vcf | head -50"
   ]
  },
  {
   "cell_type": "markdown",
   "metadata": {
    "id": "cWX6CL1-EFUu"
   },
   "source": [
    "In order to count the genotypes for the matching positions we can use once again `bcftools filter`  command. Only that this time we will filter based on the genotype columns for the two samples (GT[0] and GT[1]). GT[0] repesents the genotype for the first sample in the merge command and GT[1] is the genotype for the second sample in the merge command.  \n",
    "\n",
    "*   AR - heterozygous\n",
    "*   AA - heterozygous alternate\n",
    "\n",
    "For example, the filter `GT[0]=\"AR\" && GT[1]=\"AR\"` will keep only position in which both samples have a heterozygous genotype.\n",
    "A quick way to count how many positions are in the VCF file is by suing the simple bash command `grep`. This will count all the lines in the VCF files that do not start with a `#`, thus all the data lines. "
   ]
  },
  {
   "cell_type": "code",
   "execution_count": null,
   "metadata": {
    "colab": {
     "base_uri": "https://localhost:8080/"
    },
    "id": "c_3XTIKpWWW3",
    "outputId": "0e6347cc-1def-4de1-f2d3-e87e54e40277",
    "tags": []
   },
   "outputs": [],
   "source": [
    "!./bcftools filter  -i 'GT[0]=\"AR\" && GT[1]=\"AR\"' results/VCF_Files/TI_Contig_1_merged.vcf | grep -c -v \"^#\"\n",
    "!./bcftools filter  -i 'GT[0]=\"AR\" && GT[1]=\"AA\"' results/VCF_Files/TI_Contig_1_merged.vcf | grep -c -v \"^#\"\n",
    "!./bcftools filter  -i 'GT[0]=\"AA\" && GT[1]=\"AR\"' results/VCF_Files/TI_Contig_1_merged.vcf | grep -c -v \"^#\"\n",
    "!./bcftools filter  -i 'GT[0]=\"AA\" && GT[1]=\"AA\"' results/VCF_Files/TI_Contig_1_merged.vcf | grep -c -v \"^#\""
   ]
  },
  {
   "cell_type": "markdown",
   "metadata": {
    "id": "-ArkPzpxFugw"
   },
   "source": [
    "<div class=\"alert-success\"> <font size=\"+2\"> <b> TASK </b> </font> </div>\n",
    "\n",
    "* Use the same commands as above to count the positions marching the filters in the  Contig2_Ti_merged.vcf."
   ]
  },
  {
   "cell_type": "code",
   "execution_count": null,
   "metadata": {},
   "outputs": [],
   "source": []
  },
  {
   "cell_type": "markdown",
   "metadata": {},
   "source": [
    "# Wrapping up  🎉 🎉 🎉\n",
    "\n",
    "In this exercise, you identified polymorphisms between the two white clover subgenomes using Hifi reads alignment files and SNPs specific for the white clover Tienshan genotype using RNA-seq alignment files. You learned how to import VCF files in Python to extract data and created plots. You also filtered low-quality variants from the VCF files and counted genotypes. \n",
    "\n"
   ]
  }
 ],
 "metadata": {
  "colab": {
   "collapsed_sections": [],
   "name": "VCF.version3.ipynb",
   "provenance": []
  },
  "kernelspec": {
   "display_name": "NGS (python)",
   "language": "python",
   "name": "ngs_python"
  },
  "language_info": {
   "codemirror_mode": {
    "name": "ipython",
    "version": 3
   },
   "file_extension": ".py",
   "mimetype": "text/x-python",
   "name": "python",
   "nbconvert_exporter": "python",
   "pygments_lexer": "ipython3",
   "version": "3.10.5"
  }
 },
 "nbformat": 4,
 "nbformat_minor": 4
}
