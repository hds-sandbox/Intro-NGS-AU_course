{
 "cells": [
  {
   "cell_type": "markdown",
   "metadata": {
    "id": "R6kBCqN6TEoj"
   },
   "source": [
    "<div class=\"alert-warning\">\n",
    " <font size=\"+2\"> <b> RNA-seq differential gene expression </b> </font>\n",
    "</div>\n",
    "\n"
   ]
  },
  {
   "cell_type": "markdown",
   "metadata": {
    "id": "0jp4jvtHS2LW"
   },
   "source": [
    "This tutorial will cover the steps for performing Differential Gene Expression on the RNA-seq data obtained from Galaxy. At the end of this tutorial you will be able to use `R` to\n",
    "\n",
    "<div style=\"background-color:rgba(0, 128, 0, 0.3); text-align:left; vertical-align: left; padding:40px 0;\">\n",
    "    \n",
    "- Perform preliminary analyses of the RNA-seq results\n",
    "- Find differentially expressed genes between two conditions using `edgeR`\n",
    "\n",
    "</div>\n",
    "<br> </br>\n",
    "\n",
    "The present tutorial, like the rest of the course material, is available at our [open-source github repository](https://github.com/hds-sandbox/NGS_summer_course_Aarhus). \n",
    "\n",
    "To use this notebook, use the `NGS (R)` kernel that contains the packages. Choose it by selecting `Kernel -> Change Kernel` in the menu on top of the window.\n",
    "\n",
    "<details>\n",
    "  <summary><b>A few introductory points to run this notebook (click to show):</b></summary>\n",
    "  \n",
    "* To use this notebook, use the `NGS (R)` kernel that contains the packages. Choose it by selecting `Kernel -> Change Kernel` in the menu on top of the window.\n",
    "\n",
    "<figure>\n",
    "<img src=\"images/kernelchoice.png\" width=\"500\" alt=\"Kernel Choice\" class=\"center\">\n",
    "</figure>\n",
    "\n",
    "* In this notebook you will use only R commands\n",
    "* On some computers, you might see the result of the commands once they are done running. This means you will wait some time while the computer is crunching, and only afterwards you will see the result of the command you have executed\n",
    "*  You can run the code in each cell by clicking on the run cell button, or by pressing <kbd> Shift </kbd> + <kbd> Enter </kbd>.  When the code is done running, a small green check sign will appear on the left side\n",
    "*   You need to run the cells in sequential order, please do not run a cell until the one above finished running and do not skip any cells\n",
    "*   Each cell contains a short description of the code and the output you should get. Please try not to focus on understanding the code for each command in too much detail, but rather try to focus on the output \n",
    "*   You can create new code cells by pressing <kbd> + </kbd> in the Menu bar above. \n",
    "    \n",
    "</details>\n",
    "<br> </br>\n",
    "    \n",
    "   \n",
    "\n"
   ]
  },
  {
   "cell_type": "markdown",
   "metadata": {
    "id": "ByrhPfLnV6v5"
   },
   "source": [
    "**Load the necessary R libraries**"
   ]
  },
  {
   "cell_type": "code",
   "execution_count": 1,
   "metadata": {
    "executionInfo": {
     "elapsed": 9,
     "status": "ok",
     "timestamp": 1654592586765,
     "user": {
      "displayName": "Lavinia Fechete",
      "userId": "03683080993527566677"
     },
     "user_tz": -120
    },
    "id": "wqF_8OxWtx3M",
    "tags": [],
    "vscode": {
     "languageId": "r"
    }
   },
   "outputs": [
    {
     "name": "stderr",
     "output_type": "stream",
     "text": [
      "Warning message:\n",
      "“package ‘VennDiagram’ was built under R version 4.1.3”\n",
      "Loading required package: grid\n",
      "\n",
      "Loading required package: futile.logger\n",
      "\n",
      "Warning message:\n",
      "“package ‘futile.logger’ was built under R version 4.1.3”\n",
      "Warning message:\n",
      "“package ‘dplyr’ was built under R version 4.1.3”\n",
      "\n",
      "Attaching package: ‘dplyr’\n",
      "\n",
      "\n",
      "The following objects are masked from ‘package:stats’:\n",
      "\n",
      "    filter, lag\n",
      "\n",
      "\n",
      "The following objects are masked from ‘package:base’:\n",
      "\n",
      "    intersect, setdiff, setequal, union\n",
      "\n",
      "\n",
      "Warning message:\n",
      "“package ‘tibble’ was built under R version 4.1.3”\n",
      "Warning message:\n",
      "“package ‘formattable’ was built under R version 4.1.3”\n",
      "Loading required package: MASS\n",
      "\n",
      "Warning message:\n",
      "“package ‘MASS’ was built under R version 4.1.3”\n",
      "\n",
      "Attaching package: ‘MASS’\n",
      "\n",
      "\n",
      "The following object is masked from ‘package:formattable’:\n",
      "\n",
      "    area\n",
      "\n",
      "\n",
      "The following object is masked from ‘package:dplyr’:\n",
      "\n",
      "    select\n",
      "\n",
      "\n",
      "Loading required package: lattice\n",
      "\n",
      "Warning message:\n",
      "“package ‘lattice’ was built under R version 4.1.3”\n",
      "Loading required package: ggplot2\n",
      "\n",
      "Warning message:\n",
      "“package ‘ggplot2’ was built under R version 4.1.3”\n",
      "\n",
      "Loaded mixOmics 6.17.26\n",
      "Thank you for using mixOmics!\n",
      "Tutorials: http://mixomics.org\n",
      "Bookdown vignette: https://mixomicsteam.github.io/Bookdown\n",
      "Questions, issues: Follow the prompts at http://mixomics.org/contact-us\n",
      "Cite us:  citation('mixOmics')\n",
      "\n",
      "\n",
      "Warning message:\n",
      "“package ‘pheatmap’ was built under R version 4.1.3”\n",
      "Warning message:\n",
      "“package ‘edgeR’ was built under R version 4.1.3”\n",
      "Loading required package: limma\n",
      "\n",
      "Warning message:\n",
      "“package ‘limma’ was built under R version 4.1.3”\n"
     ]
    }
   ],
   "source": [
    "library(VennDiagram)\n",
    "library(dplyr)\n",
    "library(tibble)\n",
    "library(formattable)\n",
    "library(mixOmics)\n",
    "library(pheatmap)\n",
    "library(edgeR)"
   ]
  },
  {
   "cell_type": "markdown",
   "metadata": {
    "id": "VfiGz1s3mljb",
    "tags": []
   },
   "source": [
    "# EdgeR - Data filtering and Normalization \n",
    "\n",
    "We will use the `edgeR` package to test for differentially expressed genes between our Control and Treatment Samples. You can read more about the edgeR package and its functionalities [here](https://www.bioconductor.org/packages/release/bioc/vignettes/edgeR/inst/doc/edgeRUsersGuide.pdf). This exercise largely follows their user manual. \n"
   ]
  },
  {
   "cell_type": "markdown",
   "metadata": {
    "execution": {
     "iopub.execute_input": "2022-06-07T14:12:04.188869Z",
     "iopub.status.busy": "2022-06-07T14:12:04.185495Z",
     "iopub.status.idle": "2022-06-07T14:12:04.203702Z",
     "shell.execute_reply": "2022-06-07T14:12:04.201977Z"
    }
   },
   "source": [
    "## File processing"
   ]
  },
  {
   "cell_type": "markdown",
   "metadata": {
    "id": "GI0DcWp7uoE6"
   },
   "source": [
    "The data for this exercise comes from the 12 tabular files with Reads per Gene counts generated by STAR Mapping in the `raw-data alignment` part of this course.\n",
    "We want to create a table where each column is a sample, and the content of the table are the read counts from STAR. We must merge the 12 files with Reads per Gene information into a single file.\n",
    "\n",
    "* If you aligned datasets in the first notebook with jupyterlab, then you will find the files using the following command:"
   ]
  },
  {
   "cell_type": "code",
   "execution_count": 2,
   "metadata": {
    "tags": [],
    "vscode": {
     "languageId": "r"
    }
   },
   "outputs": [
    {
     "name": "stdout",
     "output_type": "stream",
     "text": [
      " [1] \"results/STAR_output/S10_align_contigs_1_2/S10_1_1ReadsPerGene.out.tab\"\n",
      " [2] \"results/STAR_output/S10_align_contigs_1_2/S10_1_2ReadsPerGene.out.tab\"\n",
      " [3] \"results/STAR_output/S10_align_contigs_1_2/S10_1_3ReadsPerGene.out.tab\"\n",
      " [4] \"results/STAR_output/S10_align_contigs_1_2/S10_2_1ReadsPerGene.out.tab\"\n",
      " [5] \"results/STAR_output/S10_align_contigs_1_2/S10_2_2ReadsPerGene.out.tab\"\n",
      " [6] \"results/STAR_output/S10_align_contigs_1_2/S10_2_3ReadsPerGene.out.tab\"\n",
      " [7] \"results/STAR_output/TI_align_contigs_1_2/TI_1_1ReadsPerGene.out.tab\"  \n",
      " [8] \"results/STAR_output/TI_align_contigs_1_2/TI_1_2ReadsPerGene.out.tab\"  \n",
      " [9] \"results/STAR_output/TI_align_contigs_1_2/TI_1_3ReadsPerGene.out.tab\"  \n",
      "[10] \"results/STAR_output/TI_align_contigs_1_2/TI_2_1ReadsPerGene.out.tab\"  \n",
      "[11] \"results/STAR_output/TI_align_contigs_1_2/TI_2_2ReadsPerGene.out.tab\"  \n",
      "[12] \"results/STAR_output/TI_align_contigs_1_2/TI_2_3ReadsPerGene.out.tab\"  \n"
     ]
    }
   ],
   "source": [
    "samples <- sort(system(\"find results/STAR_output/*_align_contigs_1_2 -name \\\"*ReadsPerGene.out.tab\\\"\", intern=TRUE))\n",
    "print(samples)\n",
    "Read_counts <- do.call(cbind, lapply(samples, function(x) read.delim(file=x, header = FALSE)))"
   ]
  },
  {
   "cell_type": "markdown",
   "metadata": {},
   "source": [
    "* If you aligned datasets interactively with `Galaxy`, then you will need to\n",
    "    - create the folder `tabular_files` into the `results` folder\n",
    "    - copy the `tabular` files from `STAR` into the created folder. Each file must have the sample name and end by `ReadsPerGene.out.tab`. For example `S10_1_1ReadsPerGene.out.tab`\n",
    "    - run the following commands removing the `#` symbol"
   ]
  },
  {
   "cell_type": "code",
   "execution_count": null,
   "metadata": {
    "vscode": {
     "languageId": "r"
    }
   },
   "outputs": [],
   "source": [
    "#samples <- sort(system(\"find results/tabular_files/ -name \\\"*ReadsPerGene.out.tab\\\"\", intern=TRUE))\n",
    "#print(samples)\n",
    "#Read_counts <- do.call(cbind, lapply(samples, function(x) read.delim(file=x, header = FALSE)))"
   ]
  },
  {
   "cell_type": "markdown",
   "metadata": {},
   "source": [
    "The data frame has genes as rows and samples as columns and stores the gene expression counts (value representing the total number of sequence reads that originated from a particular gene in a sample) for each of the 12 samples. This data frame should have 12 columns and 366 rows."
   ]
  },
  {
   "cell_type": "code",
   "execution_count": 3,
   "metadata": {
    "colab": {
     "base_uri": "https://localhost:8080/"
    },
    "executionInfo": {
     "elapsed": 728,
     "status": "ok",
     "timestamp": 1654592226501,
     "user": {
      "displayName": "Lavinia Fechete",
      "userId": "03683080993527566677"
     },
     "user_tz": -120
    },
    "id": "EnaYAZR6t6pG",
    "outputId": "695957c4-1210-4c5c-c576-5addfe921892",
    "tags": [],
    "vscode": {
     "languageId": "r"
    }
   },
   "outputs": [
    {
     "data": {
      "text/html": [
       "<table class=\"dataframe\">\n",
       "<caption>A data.frame: 10 × 12</caption>\n",
       "<thead>\n",
       "\t<tr><th></th><th scope=col>S10_1_1</th><th scope=col>S10_1_2</th><th scope=col>S10_1_3</th><th scope=col>S10_2_1</th><th scope=col>S10_2_2</th><th scope=col>S10_2_3</th><th scope=col>TI_1_1</th><th scope=col>TI_1_2</th><th scope=col>TI_1_3</th><th scope=col>TI_2_1</th><th scope=col>TI_2_2</th><th scope=col>TI_2_3</th></tr>\n",
       "\t<tr><th></th><th scope=col>&lt;int&gt;</th><th scope=col>&lt;int&gt;</th><th scope=col>&lt;int&gt;</th><th scope=col>&lt;int&gt;</th><th scope=col>&lt;int&gt;</th><th scope=col>&lt;int&gt;</th><th scope=col>&lt;int&gt;</th><th scope=col>&lt;int&gt;</th><th scope=col>&lt;int&gt;</th><th scope=col>&lt;int&gt;</th><th scope=col>&lt;int&gt;</th><th scope=col>&lt;int&gt;</th></tr>\n",
       "</thead>\n",
       "<tbody>\n",
       "\t<tr><th scope=row>g175</th><td> 143</td><td> 226</td><td> 227</td><td> 217</td><td> 206</td><td> 193</td><td> 234</td><td> 205</td><td>198</td><td> 221</td><td> 206</td><td> 165</td></tr>\n",
       "\t<tr><th scope=row>g176</th><td>  17</td><td>  12</td><td>  15</td><td>   8</td><td>  14</td><td>  18</td><td>  29</td><td>  19</td><td> 30</td><td>   6</td><td>  11</td><td>  23</td></tr>\n",
       "\t<tr><th scope=row>g177</th><td>   0</td><td>   0</td><td>   0</td><td>   0</td><td>   0</td><td>   0</td><td>   0</td><td>   0</td><td>  0</td><td>   0</td><td>   0</td><td>   0</td></tr>\n",
       "\t<tr><th scope=row>g178</th><td>   0</td><td>   0</td><td>   0</td><td>   0</td><td>   0</td><td>   0</td><td>   0</td><td>   0</td><td>  2</td><td>   2</td><td>   1</td><td>   2</td></tr>\n",
       "\t<tr><th scope=row>g179</th><td>   0</td><td>   0</td><td>   0</td><td>   0</td><td>   0</td><td>   0</td><td>   0</td><td>   0</td><td>  0</td><td>   0</td><td>   0</td><td>   0</td></tr>\n",
       "\t<tr><th scope=row>g180</th><td>2773</td><td>5223</td><td>4350</td><td>4139</td><td>3209</td><td>4644</td><td>1015</td><td>1313</td><td>889</td><td>2675</td><td>1023</td><td>2565</td></tr>\n",
       "\t<tr><th scope=row>g181</th><td> 473</td><td> 679</td><td> 583</td><td> 437</td><td> 390</td><td> 450</td><td> 642</td><td> 700</td><td>697</td><td> 650</td><td> 459</td><td> 410</td></tr>\n",
       "\t<tr><th scope=row>g182</th><td>  19</td><td>  15</td><td>  20</td><td>   9</td><td>   8</td><td>   4</td><td>  13</td><td>   7</td><td>  8</td><td>   6</td><td>   5</td><td>   4</td></tr>\n",
       "\t<tr><th scope=row>g183</th><td>   0</td><td>   0</td><td>   0</td><td>   0</td><td>   0</td><td>   0</td><td>   0</td><td>   0</td><td>  0</td><td>   0</td><td>   0</td><td>   0</td></tr>\n",
       "\t<tr><th scope=row>g184</th><td>  30</td><td>  22</td><td>  50</td><td>  57</td><td> 103</td><td>  83</td><td>  36</td><td>  29</td><td> 18</td><td> 107</td><td>  69</td><td>  89</td></tr>\n",
       "</tbody>\n",
       "</table>\n"
      ],
      "text/latex": [
       "A data.frame: 10 × 12\n",
       "\\begin{tabular}{r|llllllllllll}\n",
       "  & S10\\_1\\_1 & S10\\_1\\_2 & S10\\_1\\_3 & S10\\_2\\_1 & S10\\_2\\_2 & S10\\_2\\_3 & TI\\_1\\_1 & TI\\_1\\_2 & TI\\_1\\_3 & TI\\_2\\_1 & TI\\_2\\_2 & TI\\_2\\_3\\\\\n",
       "  & <int> & <int> & <int> & <int> & <int> & <int> & <int> & <int> & <int> & <int> & <int> & <int>\\\\\n",
       "\\hline\n",
       "\tg175 &  143 &  226 &  227 &  217 &  206 &  193 &  234 &  205 & 198 &  221 &  206 &  165\\\\\n",
       "\tg176 &   17 &   12 &   15 &    8 &   14 &   18 &   29 &   19 &  30 &    6 &   11 &   23\\\\\n",
       "\tg177 &    0 &    0 &    0 &    0 &    0 &    0 &    0 &    0 &   0 &    0 &    0 &    0\\\\\n",
       "\tg178 &    0 &    0 &    0 &    0 &    0 &    0 &    0 &    0 &   2 &    2 &    1 &    2\\\\\n",
       "\tg179 &    0 &    0 &    0 &    0 &    0 &    0 &    0 &    0 &   0 &    0 &    0 &    0\\\\\n",
       "\tg180 & 2773 & 5223 & 4350 & 4139 & 3209 & 4644 & 1015 & 1313 & 889 & 2675 & 1023 & 2565\\\\\n",
       "\tg181 &  473 &  679 &  583 &  437 &  390 &  450 &  642 &  700 & 697 &  650 &  459 &  410\\\\\n",
       "\tg182 &   19 &   15 &   20 &    9 &    8 &    4 &   13 &    7 &   8 &    6 &    5 &    4\\\\\n",
       "\tg183 &    0 &    0 &    0 &    0 &    0 &    0 &    0 &    0 &   0 &    0 &    0 &    0\\\\\n",
       "\tg184 &   30 &   22 &   50 &   57 &  103 &   83 &   36 &   29 &  18 &  107 &   69 &   89\\\\\n",
       "\\end{tabular}\n"
      ],
      "text/markdown": [
       "\n",
       "A data.frame: 10 × 12\n",
       "\n",
       "| <!--/--> | S10_1_1 &lt;int&gt; | S10_1_2 &lt;int&gt; | S10_1_3 &lt;int&gt; | S10_2_1 &lt;int&gt; | S10_2_2 &lt;int&gt; | S10_2_3 &lt;int&gt; | TI_1_1 &lt;int&gt; | TI_1_2 &lt;int&gt; | TI_1_3 &lt;int&gt; | TI_2_1 &lt;int&gt; | TI_2_2 &lt;int&gt; | TI_2_3 &lt;int&gt; |\n",
       "|---|---|---|---|---|---|---|---|---|---|---|---|---|\n",
       "| g175 |  143 |  226 |  227 |  217 |  206 |  193 |  234 |  205 | 198 |  221 |  206 |  165 |\n",
       "| g176 |   17 |   12 |   15 |    8 |   14 |   18 |   29 |   19 |  30 |    6 |   11 |   23 |\n",
       "| g177 |    0 |    0 |    0 |    0 |    0 |    0 |    0 |    0 |   0 |    0 |    0 |    0 |\n",
       "| g178 |    0 |    0 |    0 |    0 |    0 |    0 |    0 |    0 |   2 |    2 |    1 |    2 |\n",
       "| g179 |    0 |    0 |    0 |    0 |    0 |    0 |    0 |    0 |   0 |    0 |    0 |    0 |\n",
       "| g180 | 2773 | 5223 | 4350 | 4139 | 3209 | 4644 | 1015 | 1313 | 889 | 2675 | 1023 | 2565 |\n",
       "| g181 |  473 |  679 |  583 |  437 |  390 |  450 |  642 |  700 | 697 |  650 |  459 |  410 |\n",
       "| g182 |   19 |   15 |   20 |    9 |    8 |    4 |   13 |    7 |   8 |    6 |    5 |    4 |\n",
       "| g183 |    0 |    0 |    0 |    0 |    0 |    0 |    0 |    0 |   0 |    0 |    0 |    0 |\n",
       "| g184 |   30 |   22 |   50 |   57 |  103 |   83 |   36 |   29 |  18 |  107 |   69 |   89 |\n",
       "\n"
      ],
      "text/plain": [
       "     S10_1_1 S10_1_2 S10_1_3 S10_2_1 S10_2_2 S10_2_3 TI_1_1 TI_1_2 TI_1_3\n",
       "g175  143     226     227     217     206     193     234    205   198   \n",
       "g176   17      12      15       8      14      18      29     19    30   \n",
       "g177    0       0       0       0       0       0       0      0     0   \n",
       "g178    0       0       0       0       0       0       0      0     2   \n",
       "g179    0       0       0       0       0       0       0      0     0   \n",
       "g180 2773    5223    4350    4139    3209    4644    1015   1313   889   \n",
       "g181  473     679     583     437     390     450     642    700   697   \n",
       "g182   19      15      20       9       8       4      13      7     8   \n",
       "g183    0       0       0       0       0       0       0      0     0   \n",
       "g184   30      22      50      57     103      83      36     29    18   \n",
       "     TI_2_1 TI_2_2 TI_2_3\n",
       "g175  221    206    165  \n",
       "g176    6     11     23  \n",
       "g177    0      0      0  \n",
       "g178    2      1      2  \n",
       "g179    0      0      0  \n",
       "g180 2675   1023   2565  \n",
       "g181  650    459    410  \n",
       "g182    6      5      4  \n",
       "g183    0      0      0  \n",
       "g184  107     69     89  "
      ]
     },
     "metadata": {},
     "output_type": "display_data"
    },
    {
     "data": {
      "text/html": [
       "<style>\n",
       ".list-inline {list-style: none; margin:0; padding: 0}\n",
       ".list-inline>li {display: inline-block}\n",
       ".list-inline>li:not(:last-child)::after {content: \"\\00b7\"; padding: 0 .5ex}\n",
       "</style>\n",
       "<ol class=list-inline><li>366</li><li>12</li></ol>\n"
      ],
      "text/latex": [
       "\\begin{enumerate*}\n",
       "\\item 366\n",
       "\\item 12\n",
       "\\end{enumerate*}\n"
      ],
      "text/markdown": [
       "1. 366\n",
       "2. 12\n",
       "\n",
       "\n"
      ],
      "text/plain": [
       "[1] 366  12"
      ]
     },
     "metadata": {},
     "output_type": "display_data"
    }
   ],
   "source": [
    "rownames(Read_counts) <- Read_counts[,1]\n",
    "Read_counts <- Read_counts[c(5:nrow(Read_counts)), c(seq(2, 46, by=4))]\n",
    "colnames(Read_counts) <- c(\"S10_1_1\", \"S10_1_2\", \"S10_1_3\", \"S10_2_1\", \"S10_2_2\", \"S10_2_3\", \n",
    "                       \"TI_1_1\", \"TI_1_2\", \"TI_1_3\", \"TI_2_1\", \"TI_2_2\", \"TI_2_3\")\n",
    "head(Read_counts, n=10)\n",
    "dim(Read_counts) # dimensions of the data frame"
   ]
  },
  {
   "cell_type": "markdown",
   "metadata": {
    "id": "i_abVRLburz7"
   },
   "source": [
    "Import the Metadata table. This file, as its name suggests, contains information about each of the 12 RNA-seq samples, such as the treatment (Condition), genotype and replicate.\n",
    "\n",
    "Note that the order of the rows in the Metadata table should be the same as the columns in the Read_counts file generated above. "
   ]
  },
  {
   "cell_type": "code",
   "execution_count": 4,
   "metadata": {
    "colab": {
     "base_uri": "https://localhost:8080/"
    },
    "executionInfo": {
     "elapsed": 799,
     "status": "ok",
     "timestamp": 1654592230356,
     "user": {
      "displayName": "Lavinia Fechete",
      "userId": "03683080993527566677"
     },
     "user_tz": -120
    },
    "id": "Lkl15eGwn9aq",
    "outputId": "98c192c7-46f3-4662-819b-81cddaafb3b7",
    "tags": [],
    "vscode": {
     "languageId": "r"
    }
   },
   "outputs": [
    {
     "data": {
      "text/html": [
       "<table class=\"dataframe\">\n",
       "<caption>A data.frame: 12 × 3</caption>\n",
       "<thead>\n",
       "\t<tr><th></th><th scope=col>Condition</th><th scope=col>Genotype</th><th scope=col>Replicate</th></tr>\n",
       "\t<tr><th></th><th scope=col>&lt;fct&gt;</th><th scope=col>&lt;fct&gt;</th><th scope=col>&lt;int&gt;</th></tr>\n",
       "</thead>\n",
       "<tbody>\n",
       "\t<tr><th scope=row>S10_1_1</th><td>Control  </td><td>S10     </td><td>1</td></tr>\n",
       "\t<tr><th scope=row>S10_1_2</th><td>Control  </td><td>S10     </td><td>2</td></tr>\n",
       "\t<tr><th scope=row>S10_1_3</th><td>Control  </td><td>S10     </td><td>3</td></tr>\n",
       "\t<tr><th scope=row>S10_2_1</th><td>Treatment</td><td>S10     </td><td>1</td></tr>\n",
       "\t<tr><th scope=row>S10_2_2</th><td>Treatment</td><td>S10     </td><td>2</td></tr>\n",
       "\t<tr><th scope=row>S10_2_3</th><td>Treatment</td><td>S10     </td><td>3</td></tr>\n",
       "\t<tr><th scope=row>TI_1_1</th><td>Control  </td><td>Tienshan</td><td>1</td></tr>\n",
       "\t<tr><th scope=row>TI_1_2</th><td>Control  </td><td>Tienshan</td><td>2</td></tr>\n",
       "\t<tr><th scope=row>TI_1_3</th><td>Control  </td><td>Tienshan</td><td>3</td></tr>\n",
       "\t<tr><th scope=row>TI_2_1</th><td>Treatment</td><td>Tienshan</td><td>1</td></tr>\n",
       "\t<tr><th scope=row>TI_2_2</th><td>Treatment</td><td>Tienshan</td><td>2</td></tr>\n",
       "\t<tr><th scope=row>TI_2_3</th><td>Treatment</td><td>Tienshan</td><td>3</td></tr>\n",
       "</tbody>\n",
       "</table>\n"
      ],
      "text/latex": [
       "A data.frame: 12 × 3\n",
       "\\begin{tabular}{r|lll}\n",
       "  & Condition & Genotype & Replicate\\\\\n",
       "  & <fct> & <fct> & <int>\\\\\n",
       "\\hline\n",
       "\tS10\\_1\\_1 & Control   & S10      & 1\\\\\n",
       "\tS10\\_1\\_2 & Control   & S10      & 2\\\\\n",
       "\tS10\\_1\\_3 & Control   & S10      & 3\\\\\n",
       "\tS10\\_2\\_1 & Treatment & S10      & 1\\\\\n",
       "\tS10\\_2\\_2 & Treatment & S10      & 2\\\\\n",
       "\tS10\\_2\\_3 & Treatment & S10      & 3\\\\\n",
       "\tTI\\_1\\_1 & Control   & Tienshan & 1\\\\\n",
       "\tTI\\_1\\_2 & Control   & Tienshan & 2\\\\\n",
       "\tTI\\_1\\_3 & Control   & Tienshan & 3\\\\\n",
       "\tTI\\_2\\_1 & Treatment & Tienshan & 1\\\\\n",
       "\tTI\\_2\\_2 & Treatment & Tienshan & 2\\\\\n",
       "\tTI\\_2\\_3 & Treatment & Tienshan & 3\\\\\n",
       "\\end{tabular}\n"
      ],
      "text/markdown": [
       "\n",
       "A data.frame: 12 × 3\n",
       "\n",
       "| <!--/--> | Condition &lt;fct&gt; | Genotype &lt;fct&gt; | Replicate &lt;int&gt; |\n",
       "|---|---|---|---|\n",
       "| S10_1_1 | Control   | S10      | 1 |\n",
       "| S10_1_2 | Control   | S10      | 2 |\n",
       "| S10_1_3 | Control   | S10      | 3 |\n",
       "| S10_2_1 | Treatment | S10      | 1 |\n",
       "| S10_2_2 | Treatment | S10      | 2 |\n",
       "| S10_2_3 | Treatment | S10      | 3 |\n",
       "| TI_1_1 | Control   | Tienshan | 1 |\n",
       "| TI_1_2 | Control   | Tienshan | 2 |\n",
       "| TI_1_3 | Control   | Tienshan | 3 |\n",
       "| TI_2_1 | Treatment | Tienshan | 1 |\n",
       "| TI_2_2 | Treatment | Tienshan | 2 |\n",
       "| TI_2_3 | Treatment | Tienshan | 3 |\n",
       "\n"
      ],
      "text/plain": [
       "        Condition Genotype Replicate\n",
       "S10_1_1 Control   S10      1        \n",
       "S10_1_2 Control   S10      2        \n",
       "S10_1_3 Control   S10      3        \n",
       "S10_2_1 Treatment S10      1        \n",
       "S10_2_2 Treatment S10      2        \n",
       "S10_2_3 Treatment S10      3        \n",
       "TI_1_1  Control   Tienshan 1        \n",
       "TI_1_2  Control   Tienshan 2        \n",
       "TI_1_3  Control   Tienshan 3        \n",
       "TI_2_1  Treatment Tienshan 1        \n",
       "TI_2_2  Treatment Tienshan 2        \n",
       "TI_2_3  Treatment Tienshan 3        "
      ]
     },
     "metadata": {},
     "output_type": "display_data"
    }
   ],
   "source": [
    "metadata <- read.csv(\"../Data/Clover_Data/metadata.csv\", sep =\";\", row.names=1, stringsAsFactors=TRUE)\n",
    "metadata"
   ]
  },
  {
   "cell_type": "markdown",
   "metadata": {
    "id": "GGSMFInHhBur"
   },
   "source": [
    "In order to aid the following steps, we will create a Group for each sample (a new column in the metadata) based on the Genotype&Condition of each sample and assign the three replicates to this group."
   ]
  },
  {
   "cell_type": "code",
   "execution_count": 5,
   "metadata": {
    "colab": {
     "base_uri": "https://localhost:8080/"
    },
    "executionInfo": {
     "elapsed": 440,
     "status": "ok",
     "timestamp": 1654592249297,
     "user": {
      "displayName": "Lavinia Fechete",
      "userId": "03683080993527566677"
     },
     "user_tz": -120
    },
    "id": "TTrXR2d8FgTK",
    "outputId": "7b78e7c3-a246-4638-9e56-68605e85ad52",
    "tags": [],
    "vscode": {
     "languageId": "r"
    }
   },
   "outputs": [
    {
     "data": {
      "text/html": [
       "<table class=\"dataframe\">\n",
       "<caption>A data.frame: 12 × 4</caption>\n",
       "<thead>\n",
       "\t<tr><th></th><th scope=col>Condition</th><th scope=col>Genotype</th><th scope=col>Replicate</th><th scope=col>Group</th></tr>\n",
       "\t<tr><th></th><th scope=col>&lt;fct&gt;</th><th scope=col>&lt;fct&gt;</th><th scope=col>&lt;int&gt;</th><th scope=col>&lt;fct&gt;</th></tr>\n",
       "</thead>\n",
       "<tbody>\n",
       "\t<tr><th scope=row>S10_1_1</th><td>Control  </td><td>S10     </td><td>1</td><td>S10_Control       </td></tr>\n",
       "\t<tr><th scope=row>S10_1_2</th><td>Control  </td><td>S10     </td><td>2</td><td>S10_Control       </td></tr>\n",
       "\t<tr><th scope=row>S10_1_3</th><td>Control  </td><td>S10     </td><td>3</td><td>S10_Control       </td></tr>\n",
       "\t<tr><th scope=row>S10_2_1</th><td>Treatment</td><td>S10     </td><td>1</td><td>S10_Treatment     </td></tr>\n",
       "\t<tr><th scope=row>S10_2_2</th><td>Treatment</td><td>S10     </td><td>2</td><td>S10_Treatment     </td></tr>\n",
       "\t<tr><th scope=row>S10_2_3</th><td>Treatment</td><td>S10     </td><td>3</td><td>S10_Treatment     </td></tr>\n",
       "\t<tr><th scope=row>TI_1_1</th><td>Control  </td><td>Tienshan</td><td>1</td><td>Tienshan_Control  </td></tr>\n",
       "\t<tr><th scope=row>TI_1_2</th><td>Control  </td><td>Tienshan</td><td>2</td><td>Tienshan_Control  </td></tr>\n",
       "\t<tr><th scope=row>TI_1_3</th><td>Control  </td><td>Tienshan</td><td>3</td><td>Tienshan_Control  </td></tr>\n",
       "\t<tr><th scope=row>TI_2_1</th><td>Treatment</td><td>Tienshan</td><td>1</td><td>Tienshan_Treatment</td></tr>\n",
       "\t<tr><th scope=row>TI_2_2</th><td>Treatment</td><td>Tienshan</td><td>2</td><td>Tienshan_Treatment</td></tr>\n",
       "\t<tr><th scope=row>TI_2_3</th><td>Treatment</td><td>Tienshan</td><td>3</td><td>Tienshan_Treatment</td></tr>\n",
       "</tbody>\n",
       "</table>\n"
      ],
      "text/latex": [
       "A data.frame: 12 × 4\n",
       "\\begin{tabular}{r|llll}\n",
       "  & Condition & Genotype & Replicate & Group\\\\\n",
       "  & <fct> & <fct> & <int> & <fct>\\\\\n",
       "\\hline\n",
       "\tS10\\_1\\_1 & Control   & S10      & 1 & S10\\_Control       \\\\\n",
       "\tS10\\_1\\_2 & Control   & S10      & 2 & S10\\_Control       \\\\\n",
       "\tS10\\_1\\_3 & Control   & S10      & 3 & S10\\_Control       \\\\\n",
       "\tS10\\_2\\_1 & Treatment & S10      & 1 & S10\\_Treatment     \\\\\n",
       "\tS10\\_2\\_2 & Treatment & S10      & 2 & S10\\_Treatment     \\\\\n",
       "\tS10\\_2\\_3 & Treatment & S10      & 3 & S10\\_Treatment     \\\\\n",
       "\tTI\\_1\\_1 & Control   & Tienshan & 1 & Tienshan\\_Control  \\\\\n",
       "\tTI\\_1\\_2 & Control   & Tienshan & 2 & Tienshan\\_Control  \\\\\n",
       "\tTI\\_1\\_3 & Control   & Tienshan & 3 & Tienshan\\_Control  \\\\\n",
       "\tTI\\_2\\_1 & Treatment & Tienshan & 1 & Tienshan\\_Treatment\\\\\n",
       "\tTI\\_2\\_2 & Treatment & Tienshan & 2 & Tienshan\\_Treatment\\\\\n",
       "\tTI\\_2\\_3 & Treatment & Tienshan & 3 & Tienshan\\_Treatment\\\\\n",
       "\\end{tabular}\n"
      ],
      "text/markdown": [
       "\n",
       "A data.frame: 12 × 4\n",
       "\n",
       "| <!--/--> | Condition &lt;fct&gt; | Genotype &lt;fct&gt; | Replicate &lt;int&gt; | Group &lt;fct&gt; |\n",
       "|---|---|---|---|---|\n",
       "| S10_1_1 | Control   | S10      | 1 | S10_Control        |\n",
       "| S10_1_2 | Control   | S10      | 2 | S10_Control        |\n",
       "| S10_1_3 | Control   | S10      | 3 | S10_Control        |\n",
       "| S10_2_1 | Treatment | S10      | 1 | S10_Treatment      |\n",
       "| S10_2_2 | Treatment | S10      | 2 | S10_Treatment      |\n",
       "| S10_2_3 | Treatment | S10      | 3 | S10_Treatment      |\n",
       "| TI_1_1 | Control   | Tienshan | 1 | Tienshan_Control   |\n",
       "| TI_1_2 | Control   | Tienshan | 2 | Tienshan_Control   |\n",
       "| TI_1_3 | Control   | Tienshan | 3 | Tienshan_Control   |\n",
       "| TI_2_1 | Treatment | Tienshan | 1 | Tienshan_Treatment |\n",
       "| TI_2_2 | Treatment | Tienshan | 2 | Tienshan_Treatment |\n",
       "| TI_2_3 | Treatment | Tienshan | 3 | Tienshan_Treatment |\n",
       "\n"
      ],
      "text/plain": [
       "        Condition Genotype Replicate Group             \n",
       "S10_1_1 Control   S10      1         S10_Control       \n",
       "S10_1_2 Control   S10      2         S10_Control       \n",
       "S10_1_3 Control   S10      3         S10_Control       \n",
       "S10_2_1 Treatment S10      1         S10_Treatment     \n",
       "S10_2_2 Treatment S10      2         S10_Treatment     \n",
       "S10_2_3 Treatment S10      3         S10_Treatment     \n",
       "TI_1_1  Control   Tienshan 1         Tienshan_Control  \n",
       "TI_1_2  Control   Tienshan 2         Tienshan_Control  \n",
       "TI_1_3  Control   Tienshan 3         Tienshan_Control  \n",
       "TI_2_1  Treatment Tienshan 1         Tienshan_Treatment\n",
       "TI_2_2  Treatment Tienshan 2         Tienshan_Treatment\n",
       "TI_2_3  Treatment Tienshan 3         Tienshan_Treatment"
      ]
     },
     "metadata": {},
     "output_type": "display_data"
    }
   ],
   "source": [
    "Group <- factor(paste(metadata$Genotype, metadata$Condition, sep=\"_\"))\n",
    "metadata <- cbind(metadata,Group=Group)\n",
    "metadata"
   ]
  },
  {
   "cell_type": "markdown",
   "metadata": {
    "id": "IBNXxE0PLHCz"
   },
   "source": [
    "## Create the DGEList object\n",
    "We will merge the read counts and the metadata into a list-based data object named DGEList, which can be manipulated as any list object in R.\n",
    "\n",
    "The main components of the DGEList object are the matrix \"counts\" containing our read per gene counts and a data.frame \"samples\" containing the metadata. \n",
    "\n",
    "Note that all the genes with zero counts across all samples were eliminated."
   ]
  },
  {
   "cell_type": "code",
   "execution_count": 6,
   "metadata": {
    "colab": {
     "base_uri": "https://localhost:8080/"
    },
    "executionInfo": {
     "elapsed": 896,
     "status": "ok",
     "timestamp": 1654592267233,
     "user": {
      "displayName": "Lavinia Fechete",
      "userId": "03683080993527566677"
     },
     "user_tz": -120
    },
    "id": "97YnGnzeoFAu",
    "outputId": "64d6fedd-0394-4edc-ca79-519e5d30de63",
    "tags": [],
    "vscode": {
     "languageId": "r"
    }
   },
   "outputs": [
    {
     "name": "stderr",
     "output_type": "stream",
     "text": [
      "Removing 99 rows with all zero counts\n",
      "\n"
     ]
    },
    {
     "data": {
      "text/html": [
       "<dl>\n",
       "\t<dt>$counts</dt>\n",
       "\t\t<dd><table class=\"dataframe\">\n",
       "<caption>A matrix: 267 × 12 of type int</caption>\n",
       "<thead>\n",
       "\t<tr><th></th><th scope=col>S10_1_1</th><th scope=col>S10_1_2</th><th scope=col>S10_1_3</th><th scope=col>S10_2_1</th><th scope=col>S10_2_2</th><th scope=col>S10_2_3</th><th scope=col>TI_1_1</th><th scope=col>TI_1_2</th><th scope=col>TI_1_3</th><th scope=col>TI_2_1</th><th scope=col>TI_2_2</th><th scope=col>TI_2_3</th></tr>\n",
       "</thead>\n",
       "<tbody>\n",
       "\t<tr><th scope=row>g175</th><td> 143</td><td> 226</td><td> 227</td><td> 217</td><td> 206</td><td> 193</td><td> 234</td><td> 205</td><td> 198</td><td> 221</td><td> 206</td><td> 165</td></tr>\n",
       "\t<tr><th scope=row>g176</th><td>  17</td><td>  12</td><td>  15</td><td>   8</td><td>  14</td><td>  18</td><td>  29</td><td>  19</td><td>  30</td><td>   6</td><td>  11</td><td>  23</td></tr>\n",
       "\t<tr><th scope=row>g178</th><td>   0</td><td>   0</td><td>   0</td><td>   0</td><td>   0</td><td>   0</td><td>   0</td><td>   0</td><td>   2</td><td>   2</td><td>   1</td><td>   2</td></tr>\n",
       "\t<tr><th scope=row>g180</th><td>2773</td><td>5223</td><td>4350</td><td>4139</td><td>3209</td><td>4644</td><td>1015</td><td>1313</td><td> 889</td><td>2675</td><td>1023</td><td>2565</td></tr>\n",
       "\t<tr><th scope=row>g181</th><td> 473</td><td> 679</td><td> 583</td><td> 437</td><td> 390</td><td> 450</td><td> 642</td><td> 700</td><td> 697</td><td> 650</td><td> 459</td><td> 410</td></tr>\n",
       "\t<tr><th scope=row>g182</th><td>  19</td><td>  15</td><td>  20</td><td>   9</td><td>   8</td><td>   4</td><td>  13</td><td>   7</td><td>   8</td><td>   6</td><td>   5</td><td>   4</td></tr>\n",
       "\t<tr><th scope=row>g184</th><td>  30</td><td>  22</td><td>  50</td><td>  57</td><td> 103</td><td>  83</td><td>  36</td><td>  29</td><td>  18</td><td> 107</td><td>  69</td><td>  89</td></tr>\n",
       "\t<tr><th scope=row>g185</th><td>   0</td><td>   2</td><td>   0</td><td>   0</td><td>   0</td><td>   0</td><td>   0</td><td>   1</td><td>   0</td><td>   0</td><td>   0</td><td>   1</td></tr>\n",
       "\t<tr><th scope=row>g186</th><td>   1</td><td>   0</td><td>   0</td><td>   0</td><td>   0</td><td>   0</td><td>   0</td><td>   0</td><td>   0</td><td>   0</td><td>   0</td><td>   0</td></tr>\n",
       "\t<tr><th scope=row>g187</th><td>   1</td><td>   1</td><td>   2</td><td>   0</td><td>   1</td><td>   1</td><td>  58</td><td>  49</td><td>  57</td><td>  28</td><td>  32</td><td>  29</td></tr>\n",
       "\t<tr><th scope=row>g188</th><td> 316</td><td> 285</td><td> 417</td><td> 200</td><td> 184</td><td> 322</td><td>1276</td><td> 855</td><td>1341</td><td> 402</td><td> 809</td><td> 547</td></tr>\n",
       "\t<tr><th scope=row>g190</th><td>  14</td><td>  18</td><td>  29</td><td>  25</td><td>  17</td><td>  31</td><td>   7</td><td>   6</td><td>  12</td><td>  20</td><td>   7</td><td>   6</td></tr>\n",
       "\t<tr><th scope=row>g191</th><td>   2</td><td>   2</td><td>   1</td><td>   1</td><td>   0</td><td>   0</td><td>   0</td><td>   0</td><td>   0</td><td>   0</td><td>   0</td><td>   0</td></tr>\n",
       "\t<tr><th scope=row>g192</th><td>   1</td><td>   1</td><td>   1</td><td>   1</td><td>   1</td><td>   0</td><td>   6</td><td>  10</td><td>   2</td><td>   3</td><td>   8</td><td>   2</td></tr>\n",
       "\t<tr><th scope=row>g193</th><td> 208</td><td> 231</td><td> 301</td><td> 289</td><td> 161</td><td> 279</td><td>  70</td><td>  61</td><td>  60</td><td> 128</td><td> 160</td><td>  91</td></tr>\n",
       "\t<tr><th scope=row>g194</th><td>  40</td><td>  41</td><td>  37</td><td>  44</td><td>  17</td><td>  43</td><td>   8</td><td>  10</td><td>   7</td><td>   8</td><td> 105</td><td>  25</td></tr>\n",
       "\t<tr><th scope=row>g195</th><td>  54</td><td>  85</td><td>  85</td><td>  71</td><td>  54</td><td>  43</td><td>  56</td><td>  54</td><td>  42</td><td>  67</td><td>  68</td><td>  56</td></tr>\n",
       "\t<tr><th scope=row>g196</th><td>  77</td><td> 120</td><td> 118</td><td> 186</td><td> 152</td><td> 177</td><td>   5</td><td>   9</td><td>   5</td><td>  42</td><td>  20</td><td>  34</td></tr>\n",
       "\t<tr><th scope=row>g197</th><td>   1</td><td>   6</td><td>   5</td><td>  18</td><td>  14</td><td>  21</td><td>  15</td><td>  44</td><td>  12</td><td>  32</td><td>  16</td><td>  17</td></tr>\n",
       "\t<tr><th scope=row>g198</th><td>  14</td><td>  27</td><td>  10</td><td>  11</td><td>   2</td><td>   2</td><td>   6</td><td>   6</td><td>   1</td><td>   2</td><td>   2</td><td>   0</td></tr>\n",
       "\t<tr><th scope=row>g199</th><td>   0</td><td>   0</td><td>   0</td><td>   0</td><td>   0</td><td>   0</td><td>   0</td><td>   0</td><td>   0</td><td>   0</td><td>   1</td><td>   0</td></tr>\n",
       "\t<tr><th scope=row>g200</th><td>  57</td><td>  80</td><td>  94</td><td>  11</td><td>   8</td><td>  23</td><td>  89</td><td>  47</td><td>  67</td><td>   5</td><td>  47</td><td>   5</td></tr>\n",
       "\t<tr><th scope=row>g203</th><td> 815</td><td>1188</td><td>1412</td><td>1139</td><td>1034</td><td>1127</td><td> 911</td><td> 852</td><td> 662</td><td> 892</td><td> 781</td><td> 784</td></tr>\n",
       "\t<tr><th scope=row>g204</th><td> 250</td><td> 312</td><td> 348</td><td> 277</td><td> 275</td><td> 264</td><td> 125</td><td> 104</td><td> 133</td><td> 119</td><td>  91</td><td> 130</td></tr>\n",
       "\t<tr><th scope=row>g205</th><td> 109</td><td> 132</td><td> 181</td><td> 140</td><td> 114</td><td> 151</td><td>  89</td><td>  73</td><td>  66</td><td>  78</td><td>  46</td><td>  50</td></tr>\n",
       "\t<tr><th scope=row>g206</th><td>   0</td><td>   1</td><td>   2</td><td>   7</td><td>   4</td><td>   9</td><td>   4</td><td>   0</td><td>   7</td><td>   0</td><td>   1</td><td>   2</td></tr>\n",
       "\t<tr><th scope=row>g207</th><td>   0</td><td>   1</td><td>   0</td><td>   0</td><td>   4</td><td>   3</td><td>   1</td><td>   3</td><td>   4</td><td>   4</td><td>   3</td><td>   3</td></tr>\n",
       "\t<tr><th scope=row>g208</th><td>   0</td><td>   1</td><td>   0</td><td>   0</td><td>   0</td><td>   0</td><td>   0</td><td>   1</td><td>   0</td><td>   1</td><td>   0</td><td>   0</td></tr>\n",
       "\t<tr><th scope=row>g209</th><td>   0</td><td>   0</td><td>   0</td><td>   0</td><td>   0</td><td>   0</td><td>   0</td><td>   0</td><td>   1</td><td>   0</td><td>   0</td><td>   0</td></tr>\n",
       "\t<tr><th scope=row>g210</th><td>  52</td><td>  76</td><td>  60</td><td>  12</td><td>  12</td><td>  13</td><td>  61</td><td>  73</td><td>  94</td><td>  54</td><td>  45</td><td>  21</td></tr>\n",
       "\t<tr><th scope=row>⋮</th><td>⋮</td><td>⋮</td><td>⋮</td><td>⋮</td><td>⋮</td><td>⋮</td><td>⋮</td><td>⋮</td><td>⋮</td><td>⋮</td><td>⋮</td><td>⋮</td></tr>\n",
       "\t<tr><th scope=row>g135</th><td>   0</td><td>   0</td><td>   0</td><td>   1</td><td>   0</td><td>   0</td><td>   5</td><td>   1</td><td>   0</td><td>   2</td><td>   0</td><td>   0</td></tr>\n",
       "\t<tr><th scope=row>g139</th><td>   0</td><td>   1</td><td>   1</td><td>   0</td><td>   0</td><td>   0</td><td>  12</td><td>  13</td><td>  11</td><td>   4</td><td>   3</td><td>   3</td></tr>\n",
       "\t<tr><th scope=row>g140</th><td>   0</td><td>   5</td><td>   1</td><td>   0</td><td>   0</td><td>   2</td><td>   5</td><td>   4</td><td>   0</td><td>   0</td><td>   2</td><td>   0</td></tr>\n",
       "\t<tr><th scope=row>g141</th><td> 177</td><td> 217</td><td> 224</td><td> 131</td><td> 117</td><td> 166</td><td> 117</td><td>  85</td><td>  67</td><td>  80</td><td>  79</td><td>  77</td></tr>\n",
       "\t<tr><th scope=row>g142</th><td> 488</td><td> 713</td><td> 557</td><td> 241</td><td> 154</td><td> 228</td><td> 983</td><td>1057</td><td>1023</td><td>1075</td><td> 794</td><td> 933</td></tr>\n",
       "\t<tr><th scope=row>g144</th><td>3319</td><td>3987</td><td>4763</td><td>2249</td><td>1996</td><td>2260</td><td>4405</td><td>3880</td><td>4585</td><td>5072</td><td>3618</td><td>3590</td></tr>\n",
       "\t<tr><th scope=row>g146</th><td> 293</td><td> 330</td><td> 350</td><td> 913</td><td> 775</td><td> 731</td><td> 108</td><td>  92</td><td> 115</td><td> 431</td><td> 151</td><td> 226</td></tr>\n",
       "\t<tr><th scope=row>g147</th><td>   6</td><td>   3</td><td>   3</td><td>   0</td><td>   8</td><td>  10</td><td>   1</td><td>   1</td><td>   1</td><td>   0</td><td>   1</td><td>   0</td></tr>\n",
       "\t<tr><th scope=row>g148</th><td>  19</td><td>  30</td><td>  24</td><td>  15</td><td>   4</td><td>  12</td><td>  23</td><td>  19</td><td>  25</td><td>  10</td><td>  19</td><td>   8</td></tr>\n",
       "\t<tr><th scope=row>g149</th><td>  35</td><td>  62</td><td>  65</td><td>  57</td><td>  58</td><td>  53</td><td> 114</td><td> 103</td><td>  91</td><td>  92</td><td>  79</td><td>  93</td></tr>\n",
       "\t<tr><th scope=row>g150</th><td> 263</td><td> 411</td><td> 278</td><td> 752</td><td>1378</td><td>1300</td><td> 106</td><td> 112</td><td>  70</td><td> 516</td><td> 200</td><td> 508</td></tr>\n",
       "\t<tr><th scope=row>g151</th><td>  44</td><td>  44</td><td>  50</td><td>  92</td><td>  92</td><td>  84</td><td>  23</td><td>  26</td><td>  25</td><td>  56</td><td>  43</td><td>  31</td></tr>\n",
       "\t<tr><th scope=row>g152</th><td> 242</td><td> 258</td><td> 294</td><td> 425</td><td> 381</td><td> 521</td><td>  15</td><td>   8</td><td>   8</td><td>  16</td><td>  21</td><td>  15</td></tr>\n",
       "\t<tr><th scope=row>g153</th><td> 142</td><td> 144</td><td> 181</td><td> 233</td><td> 177</td><td> 233</td><td>  31</td><td>  49</td><td>  50</td><td>  50</td><td>  45</td><td>  57</td></tr>\n",
       "\t<tr><th scope=row>g155</th><td>   0</td><td>   4</td><td>   2</td><td>   1</td><td>   0</td><td>   0</td><td>   1</td><td>   0</td><td>   3</td><td>   0</td><td>   0</td><td>   1</td></tr>\n",
       "\t<tr><th scope=row>g156</th><td>   0</td><td>   0</td><td>   0</td><td>   0</td><td>   0</td><td>   0</td><td>   0</td><td>   3</td><td>   2</td><td>   0</td><td>   0</td><td>   1</td></tr>\n",
       "\t<tr><th scope=row>g157</th><td>   6</td><td>   1</td><td>   3</td><td> 223</td><td>  52</td><td> 152</td><td>   4</td><td>   7</td><td>   4</td><td> 153</td><td>  47</td><td> 155</td></tr>\n",
       "\t<tr><th scope=row>g158</th><td>   0</td><td>   0</td><td>   0</td><td>   7</td><td>   1</td><td>   3</td><td>   0</td><td>   0</td><td>   1</td><td>   1</td><td>   0</td><td>   0</td></tr>\n",
       "\t<tr><th scope=row>g161</th><td>  25</td><td>  38</td><td>  18</td><td>   1</td><td>   9</td><td>   2</td><td>  63</td><td>  23</td><td>  43</td><td>   0</td><td>  24</td><td>   6</td></tr>\n",
       "\t<tr><th scope=row>g162</th><td>  31</td><td>  43</td><td>  38</td><td>  43</td><td>  25</td><td>  28</td><td>   0</td><td>   0</td><td>   0</td><td>   0</td><td>   0</td><td>   0</td></tr>\n",
       "\t<tr><th scope=row>g163</th><td>   1</td><td>   0</td><td>  12</td><td>  37</td><td>   8</td><td>  18</td><td>   9</td><td>   4</td><td>   8</td><td>  16</td><td>  13</td><td>  15</td></tr>\n",
       "\t<tr><th scope=row>g164</th><td>  69</td><td>  58</td><td>  97</td><td> 294</td><td> 123</td><td> 168</td><td>  56</td><td>  58</td><td>  60</td><td> 146</td><td> 101</td><td> 135</td></tr>\n",
       "\t<tr><th scope=row>g165</th><td> 203</td><td> 376</td><td> 594</td><td>1343</td><td>2062</td><td>1610</td><td> 265</td><td> 229</td><td> 214</td><td> 488</td><td> 270</td><td> 490</td></tr>\n",
       "\t<tr><th scope=row>g167</th><td>   2</td><td>   0</td><td>   0</td><td>   2</td><td>   0</td><td>   0</td><td>   0</td><td>   0</td><td>   0</td><td>   0</td><td>   0</td><td>   0</td></tr>\n",
       "\t<tr><th scope=row>g168</th><td>   2</td><td>  14</td><td>   6</td><td>   0</td><td>   0</td><td>   5</td><td>  31</td><td>  26</td><td>  38</td><td>   3</td><td>  27</td><td>  10</td></tr>\n",
       "\t<tr><th scope=row>g169</th><td>   0</td><td>   0</td><td>   1</td><td>   0</td><td>   1</td><td>   1</td><td>   0</td><td>   0</td><td>   0</td><td>   0</td><td>   0</td><td>   0</td></tr>\n",
       "\t<tr><th scope=row>g170</th><td>   0</td><td>   0</td><td>   0</td><td>   0</td><td>   0</td><td>   0</td><td>   0</td><td>   1</td><td>   0</td><td>   0</td><td>   0</td><td>   0</td></tr>\n",
       "\t<tr><th scope=row>g171</th><td>   0</td><td>   5</td><td>   0</td><td>   0</td><td>   0</td><td>   5</td><td>   0</td><td>   0</td><td>   0</td><td>   1</td><td>   0</td><td>   0</td></tr>\n",
       "\t<tr><th scope=row>g172</th><td>   1</td><td>   2</td><td>   2</td><td>   6</td><td>   4</td><td>   3</td><td>   3</td><td>   1</td><td>   2</td><td>   3</td><td>   3</td><td>   0</td></tr>\n",
       "\t<tr><th scope=row>g173</th><td>  80</td><td> 107</td><td> 120</td><td>  78</td><td> 138</td><td> 121</td><td>  67</td><td>  86</td><td>  69</td><td>  96</td><td> 105</td><td> 105</td></tr>\n",
       "</tbody>\n",
       "</table>\n",
       "</dd>\n",
       "\t<dt>$samples</dt>\n",
       "\t\t<dd><table class=\"dataframe\">\n",
       "<caption>A data.frame: 12 × 5</caption>\n",
       "<thead>\n",
       "\t<tr><th></th><th scope=col>group</th><th scope=col>lib.size</th><th scope=col>norm.factors</th><th scope=col>Condition</th><th scope=col>Genotype</th></tr>\n",
       "\t<tr><th></th><th scope=col>&lt;fct&gt;</th><th scope=col>&lt;dbl&gt;</th><th scope=col>&lt;dbl&gt;</th><th scope=col>&lt;fct&gt;</th><th scope=col>&lt;fct&gt;</th></tr>\n",
       "</thead>\n",
       "<tbody>\n",
       "\t<tr><th scope=row>S10_1_1</th><td>S10_Control       </td><td>43614</td><td>1</td><td>Control  </td><td>S10     </td></tr>\n",
       "\t<tr><th scope=row>S10_1_2</th><td>S10_Control       </td><td>58803</td><td>1</td><td>Control  </td><td>S10     </td></tr>\n",
       "\t<tr><th scope=row>S10_1_3</th><td>S10_Control       </td><td>62654</td><td>1</td><td>Control  </td><td>S10     </td></tr>\n",
       "\t<tr><th scope=row>S10_2_1</th><td>S10_Treatment     </td><td>59909</td><td>1</td><td>Treatment</td><td>S10     </td></tr>\n",
       "\t<tr><th scope=row>S10_2_2</th><td>S10_Treatment     </td><td>56761</td><td>1</td><td>Treatment</td><td>S10     </td></tr>\n",
       "\t<tr><th scope=row>S10_2_3</th><td>S10_Treatment     </td><td>63152</td><td>1</td><td>Treatment</td><td>S10     </td></tr>\n",
       "\t<tr><th scope=row>TI_1_1</th><td>Tienshan_Control  </td><td>43387</td><td>1</td><td>Control  </td><td>Tienshan</td></tr>\n",
       "\t<tr><th scope=row>TI_1_2</th><td>Tienshan_Control  </td><td>38355</td><td>1</td><td>Control  </td><td>Tienshan</td></tr>\n",
       "\t<tr><th scope=row>TI_1_3</th><td>Tienshan_Control  </td><td>40304</td><td>1</td><td>Control  </td><td>Tienshan</td></tr>\n",
       "\t<tr><th scope=row>TI_2_1</th><td>Tienshan_Treatment</td><td>55509</td><td>1</td><td>Treatment</td><td>Tienshan</td></tr>\n",
       "\t<tr><th scope=row>TI_2_2</th><td>Tienshan_Treatment</td><td>39909</td><td>1</td><td>Treatment</td><td>Tienshan</td></tr>\n",
       "\t<tr><th scope=row>TI_2_3</th><td>Tienshan_Treatment</td><td>45008</td><td>1</td><td>Treatment</td><td>Tienshan</td></tr>\n",
       "</tbody>\n",
       "</table>\n",
       "</dd>\n",
       "</dl>\n"
      ],
      "text/latex": [
       "\\begin{description}\n",
       "\\item[\\$counts] A matrix: 267 × 12 of type int\n",
       "\\begin{tabular}{r|llllllllllll}\n",
       "  & S10\\_1\\_1 & S10\\_1\\_2 & S10\\_1\\_3 & S10\\_2\\_1 & S10\\_2\\_2 & S10\\_2\\_3 & TI\\_1\\_1 & TI\\_1\\_2 & TI\\_1\\_3 & TI\\_2\\_1 & TI\\_2\\_2 & TI\\_2\\_3\\\\\n",
       "\\hline\n",
       "\tg175 &  143 &  226 &  227 &  217 &  206 &  193 &  234 &  205 &  198 &  221 &  206 &  165\\\\\n",
       "\tg176 &   17 &   12 &   15 &    8 &   14 &   18 &   29 &   19 &   30 &    6 &   11 &   23\\\\\n",
       "\tg178 &    0 &    0 &    0 &    0 &    0 &    0 &    0 &    0 &    2 &    2 &    1 &    2\\\\\n",
       "\tg180 & 2773 & 5223 & 4350 & 4139 & 3209 & 4644 & 1015 & 1313 &  889 & 2675 & 1023 & 2565\\\\\n",
       "\tg181 &  473 &  679 &  583 &  437 &  390 &  450 &  642 &  700 &  697 &  650 &  459 &  410\\\\\n",
       "\tg182 &   19 &   15 &   20 &    9 &    8 &    4 &   13 &    7 &    8 &    6 &    5 &    4\\\\\n",
       "\tg184 &   30 &   22 &   50 &   57 &  103 &   83 &   36 &   29 &   18 &  107 &   69 &   89\\\\\n",
       "\tg185 &    0 &    2 &    0 &    0 &    0 &    0 &    0 &    1 &    0 &    0 &    0 &    1\\\\\n",
       "\tg186 &    1 &    0 &    0 &    0 &    0 &    0 &    0 &    0 &    0 &    0 &    0 &    0\\\\\n",
       "\tg187 &    1 &    1 &    2 &    0 &    1 &    1 &   58 &   49 &   57 &   28 &   32 &   29\\\\\n",
       "\tg188 &  316 &  285 &  417 &  200 &  184 &  322 & 1276 &  855 & 1341 &  402 &  809 &  547\\\\\n",
       "\tg190 &   14 &   18 &   29 &   25 &   17 &   31 &    7 &    6 &   12 &   20 &    7 &    6\\\\\n",
       "\tg191 &    2 &    2 &    1 &    1 &    0 &    0 &    0 &    0 &    0 &    0 &    0 &    0\\\\\n",
       "\tg192 &    1 &    1 &    1 &    1 &    1 &    0 &    6 &   10 &    2 &    3 &    8 &    2\\\\\n",
       "\tg193 &  208 &  231 &  301 &  289 &  161 &  279 &   70 &   61 &   60 &  128 &  160 &   91\\\\\n",
       "\tg194 &   40 &   41 &   37 &   44 &   17 &   43 &    8 &   10 &    7 &    8 &  105 &   25\\\\\n",
       "\tg195 &   54 &   85 &   85 &   71 &   54 &   43 &   56 &   54 &   42 &   67 &   68 &   56\\\\\n",
       "\tg196 &   77 &  120 &  118 &  186 &  152 &  177 &    5 &    9 &    5 &   42 &   20 &   34\\\\\n",
       "\tg197 &    1 &    6 &    5 &   18 &   14 &   21 &   15 &   44 &   12 &   32 &   16 &   17\\\\\n",
       "\tg198 &   14 &   27 &   10 &   11 &    2 &    2 &    6 &    6 &    1 &    2 &    2 &    0\\\\\n",
       "\tg199 &    0 &    0 &    0 &    0 &    0 &    0 &    0 &    0 &    0 &    0 &    1 &    0\\\\\n",
       "\tg200 &   57 &   80 &   94 &   11 &    8 &   23 &   89 &   47 &   67 &    5 &   47 &    5\\\\\n",
       "\tg203 &  815 & 1188 & 1412 & 1139 & 1034 & 1127 &  911 &  852 &  662 &  892 &  781 &  784\\\\\n",
       "\tg204 &  250 &  312 &  348 &  277 &  275 &  264 &  125 &  104 &  133 &  119 &   91 &  130\\\\\n",
       "\tg205 &  109 &  132 &  181 &  140 &  114 &  151 &   89 &   73 &   66 &   78 &   46 &   50\\\\\n",
       "\tg206 &    0 &    1 &    2 &    7 &    4 &    9 &    4 &    0 &    7 &    0 &    1 &    2\\\\\n",
       "\tg207 &    0 &    1 &    0 &    0 &    4 &    3 &    1 &    3 &    4 &    4 &    3 &    3\\\\\n",
       "\tg208 &    0 &    1 &    0 &    0 &    0 &    0 &    0 &    1 &    0 &    1 &    0 &    0\\\\\n",
       "\tg209 &    0 &    0 &    0 &    0 &    0 &    0 &    0 &    0 &    1 &    0 &    0 &    0\\\\\n",
       "\tg210 &   52 &   76 &   60 &   12 &   12 &   13 &   61 &   73 &   94 &   54 &   45 &   21\\\\\n",
       "\t⋮ & ⋮ & ⋮ & ⋮ & ⋮ & ⋮ & ⋮ & ⋮ & ⋮ & ⋮ & ⋮ & ⋮ & ⋮\\\\\n",
       "\tg135 &    0 &    0 &    0 &    1 &    0 &    0 &    5 &    1 &    0 &    2 &    0 &    0\\\\\n",
       "\tg139 &    0 &    1 &    1 &    0 &    0 &    0 &   12 &   13 &   11 &    4 &    3 &    3\\\\\n",
       "\tg140 &    0 &    5 &    1 &    0 &    0 &    2 &    5 &    4 &    0 &    0 &    2 &    0\\\\\n",
       "\tg141 &  177 &  217 &  224 &  131 &  117 &  166 &  117 &   85 &   67 &   80 &   79 &   77\\\\\n",
       "\tg142 &  488 &  713 &  557 &  241 &  154 &  228 &  983 & 1057 & 1023 & 1075 &  794 &  933\\\\\n",
       "\tg144 & 3319 & 3987 & 4763 & 2249 & 1996 & 2260 & 4405 & 3880 & 4585 & 5072 & 3618 & 3590\\\\\n",
       "\tg146 &  293 &  330 &  350 &  913 &  775 &  731 &  108 &   92 &  115 &  431 &  151 &  226\\\\\n",
       "\tg147 &    6 &    3 &    3 &    0 &    8 &   10 &    1 &    1 &    1 &    0 &    1 &    0\\\\\n",
       "\tg148 &   19 &   30 &   24 &   15 &    4 &   12 &   23 &   19 &   25 &   10 &   19 &    8\\\\\n",
       "\tg149 &   35 &   62 &   65 &   57 &   58 &   53 &  114 &  103 &   91 &   92 &   79 &   93\\\\\n",
       "\tg150 &  263 &  411 &  278 &  752 & 1378 & 1300 &  106 &  112 &   70 &  516 &  200 &  508\\\\\n",
       "\tg151 &   44 &   44 &   50 &   92 &   92 &   84 &   23 &   26 &   25 &   56 &   43 &   31\\\\\n",
       "\tg152 &  242 &  258 &  294 &  425 &  381 &  521 &   15 &    8 &    8 &   16 &   21 &   15\\\\\n",
       "\tg153 &  142 &  144 &  181 &  233 &  177 &  233 &   31 &   49 &   50 &   50 &   45 &   57\\\\\n",
       "\tg155 &    0 &    4 &    2 &    1 &    0 &    0 &    1 &    0 &    3 &    0 &    0 &    1\\\\\n",
       "\tg156 &    0 &    0 &    0 &    0 &    0 &    0 &    0 &    3 &    2 &    0 &    0 &    1\\\\\n",
       "\tg157 &    6 &    1 &    3 &  223 &   52 &  152 &    4 &    7 &    4 &  153 &   47 &  155\\\\\n",
       "\tg158 &    0 &    0 &    0 &    7 &    1 &    3 &    0 &    0 &    1 &    1 &    0 &    0\\\\\n",
       "\tg161 &   25 &   38 &   18 &    1 &    9 &    2 &   63 &   23 &   43 &    0 &   24 &    6\\\\\n",
       "\tg162 &   31 &   43 &   38 &   43 &   25 &   28 &    0 &    0 &    0 &    0 &    0 &    0\\\\\n",
       "\tg163 &    1 &    0 &   12 &   37 &    8 &   18 &    9 &    4 &    8 &   16 &   13 &   15\\\\\n",
       "\tg164 &   69 &   58 &   97 &  294 &  123 &  168 &   56 &   58 &   60 &  146 &  101 &  135\\\\\n",
       "\tg165 &  203 &  376 &  594 & 1343 & 2062 & 1610 &  265 &  229 &  214 &  488 &  270 &  490\\\\\n",
       "\tg167 &    2 &    0 &    0 &    2 &    0 &    0 &    0 &    0 &    0 &    0 &    0 &    0\\\\\n",
       "\tg168 &    2 &   14 &    6 &    0 &    0 &    5 &   31 &   26 &   38 &    3 &   27 &   10\\\\\n",
       "\tg169 &    0 &    0 &    1 &    0 &    1 &    1 &    0 &    0 &    0 &    0 &    0 &    0\\\\\n",
       "\tg170 &    0 &    0 &    0 &    0 &    0 &    0 &    0 &    1 &    0 &    0 &    0 &    0\\\\\n",
       "\tg171 &    0 &    5 &    0 &    0 &    0 &    5 &    0 &    0 &    0 &    1 &    0 &    0\\\\\n",
       "\tg172 &    1 &    2 &    2 &    6 &    4 &    3 &    3 &    1 &    2 &    3 &    3 &    0\\\\\n",
       "\tg173 &   80 &  107 &  120 &   78 &  138 &  121 &   67 &   86 &   69 &   96 &  105 &  105\\\\\n",
       "\\end{tabular}\n",
       "\n",
       "\\item[\\$samples] A data.frame: 12 × 5\n",
       "\\begin{tabular}{r|lllll}\n",
       "  & group & lib.size & norm.factors & Condition & Genotype\\\\\n",
       "  & <fct> & <dbl> & <dbl> & <fct> & <fct>\\\\\n",
       "\\hline\n",
       "\tS10\\_1\\_1 & S10\\_Control        & 43614 & 1 & Control   & S10     \\\\\n",
       "\tS10\\_1\\_2 & S10\\_Control        & 58803 & 1 & Control   & S10     \\\\\n",
       "\tS10\\_1\\_3 & S10\\_Control        & 62654 & 1 & Control   & S10     \\\\\n",
       "\tS10\\_2\\_1 & S10\\_Treatment      & 59909 & 1 & Treatment & S10     \\\\\n",
       "\tS10\\_2\\_2 & S10\\_Treatment      & 56761 & 1 & Treatment & S10     \\\\\n",
       "\tS10\\_2\\_3 & S10\\_Treatment      & 63152 & 1 & Treatment & S10     \\\\\n",
       "\tTI\\_1\\_1 & Tienshan\\_Control   & 43387 & 1 & Control   & Tienshan\\\\\n",
       "\tTI\\_1\\_2 & Tienshan\\_Control   & 38355 & 1 & Control   & Tienshan\\\\\n",
       "\tTI\\_1\\_3 & Tienshan\\_Control   & 40304 & 1 & Control   & Tienshan\\\\\n",
       "\tTI\\_2\\_1 & Tienshan\\_Treatment & 55509 & 1 & Treatment & Tienshan\\\\\n",
       "\tTI\\_2\\_2 & Tienshan\\_Treatment & 39909 & 1 & Treatment & Tienshan\\\\\n",
       "\tTI\\_2\\_3 & Tienshan\\_Treatment & 45008 & 1 & Treatment & Tienshan\\\\\n",
       "\\end{tabular}\n",
       "\n",
       "\\end{description}\n"
      ],
      "text/markdown": [
       "$counts\n",
       ":   \n",
       "A matrix: 267 × 12 of type int\n",
       "\n",
       "| <!--/--> | S10_1_1 | S10_1_2 | S10_1_3 | S10_2_1 | S10_2_2 | S10_2_3 | TI_1_1 | TI_1_2 | TI_1_3 | TI_2_1 | TI_2_2 | TI_2_3 |\n",
       "|---|---|---|---|---|---|---|---|---|---|---|---|---|\n",
       "| g175 |  143 |  226 |  227 |  217 |  206 |  193 |  234 |  205 |  198 |  221 |  206 |  165 |\n",
       "| g176 |   17 |   12 |   15 |    8 |   14 |   18 |   29 |   19 |   30 |    6 |   11 |   23 |\n",
       "| g178 |    0 |    0 |    0 |    0 |    0 |    0 |    0 |    0 |    2 |    2 |    1 |    2 |\n",
       "| g180 | 2773 | 5223 | 4350 | 4139 | 3209 | 4644 | 1015 | 1313 |  889 | 2675 | 1023 | 2565 |\n",
       "| g181 |  473 |  679 |  583 |  437 |  390 |  450 |  642 |  700 |  697 |  650 |  459 |  410 |\n",
       "| g182 |   19 |   15 |   20 |    9 |    8 |    4 |   13 |    7 |    8 |    6 |    5 |    4 |\n",
       "| g184 |   30 |   22 |   50 |   57 |  103 |   83 |   36 |   29 |   18 |  107 |   69 |   89 |\n",
       "| g185 |    0 |    2 |    0 |    0 |    0 |    0 |    0 |    1 |    0 |    0 |    0 |    1 |\n",
       "| g186 |    1 |    0 |    0 |    0 |    0 |    0 |    0 |    0 |    0 |    0 |    0 |    0 |\n",
       "| g187 |    1 |    1 |    2 |    0 |    1 |    1 |   58 |   49 |   57 |   28 |   32 |   29 |\n",
       "| g188 |  316 |  285 |  417 |  200 |  184 |  322 | 1276 |  855 | 1341 |  402 |  809 |  547 |\n",
       "| g190 |   14 |   18 |   29 |   25 |   17 |   31 |    7 |    6 |   12 |   20 |    7 |    6 |\n",
       "| g191 |    2 |    2 |    1 |    1 |    0 |    0 |    0 |    0 |    0 |    0 |    0 |    0 |\n",
       "| g192 |    1 |    1 |    1 |    1 |    1 |    0 |    6 |   10 |    2 |    3 |    8 |    2 |\n",
       "| g193 |  208 |  231 |  301 |  289 |  161 |  279 |   70 |   61 |   60 |  128 |  160 |   91 |\n",
       "| g194 |   40 |   41 |   37 |   44 |   17 |   43 |    8 |   10 |    7 |    8 |  105 |   25 |\n",
       "| g195 |   54 |   85 |   85 |   71 |   54 |   43 |   56 |   54 |   42 |   67 |   68 |   56 |\n",
       "| g196 |   77 |  120 |  118 |  186 |  152 |  177 |    5 |    9 |    5 |   42 |   20 |   34 |\n",
       "| g197 |    1 |    6 |    5 |   18 |   14 |   21 |   15 |   44 |   12 |   32 |   16 |   17 |\n",
       "| g198 |   14 |   27 |   10 |   11 |    2 |    2 |    6 |    6 |    1 |    2 |    2 |    0 |\n",
       "| g199 |    0 |    0 |    0 |    0 |    0 |    0 |    0 |    0 |    0 |    0 |    1 |    0 |\n",
       "| g200 |   57 |   80 |   94 |   11 |    8 |   23 |   89 |   47 |   67 |    5 |   47 |    5 |\n",
       "| g203 |  815 | 1188 | 1412 | 1139 | 1034 | 1127 |  911 |  852 |  662 |  892 |  781 |  784 |\n",
       "| g204 |  250 |  312 |  348 |  277 |  275 |  264 |  125 |  104 |  133 |  119 |   91 |  130 |\n",
       "| g205 |  109 |  132 |  181 |  140 |  114 |  151 |   89 |   73 |   66 |   78 |   46 |   50 |\n",
       "| g206 |    0 |    1 |    2 |    7 |    4 |    9 |    4 |    0 |    7 |    0 |    1 |    2 |\n",
       "| g207 |    0 |    1 |    0 |    0 |    4 |    3 |    1 |    3 |    4 |    4 |    3 |    3 |\n",
       "| g208 |    0 |    1 |    0 |    0 |    0 |    0 |    0 |    1 |    0 |    1 |    0 |    0 |\n",
       "| g209 |    0 |    0 |    0 |    0 |    0 |    0 |    0 |    0 |    1 |    0 |    0 |    0 |\n",
       "| g210 |   52 |   76 |   60 |   12 |   12 |   13 |   61 |   73 |   94 |   54 |   45 |   21 |\n",
       "| ⋮ | ⋮ | ⋮ | ⋮ | ⋮ | ⋮ | ⋮ | ⋮ | ⋮ | ⋮ | ⋮ | ⋮ | ⋮ |\n",
       "| g135 |    0 |    0 |    0 |    1 |    0 |    0 |    5 |    1 |    0 |    2 |    0 |    0 |\n",
       "| g139 |    0 |    1 |    1 |    0 |    0 |    0 |   12 |   13 |   11 |    4 |    3 |    3 |\n",
       "| g140 |    0 |    5 |    1 |    0 |    0 |    2 |    5 |    4 |    0 |    0 |    2 |    0 |\n",
       "| g141 |  177 |  217 |  224 |  131 |  117 |  166 |  117 |   85 |   67 |   80 |   79 |   77 |\n",
       "| g142 |  488 |  713 |  557 |  241 |  154 |  228 |  983 | 1057 | 1023 | 1075 |  794 |  933 |\n",
       "| g144 | 3319 | 3987 | 4763 | 2249 | 1996 | 2260 | 4405 | 3880 | 4585 | 5072 | 3618 | 3590 |\n",
       "| g146 |  293 |  330 |  350 |  913 |  775 |  731 |  108 |   92 |  115 |  431 |  151 |  226 |\n",
       "| g147 |    6 |    3 |    3 |    0 |    8 |   10 |    1 |    1 |    1 |    0 |    1 |    0 |\n",
       "| g148 |   19 |   30 |   24 |   15 |    4 |   12 |   23 |   19 |   25 |   10 |   19 |    8 |\n",
       "| g149 |   35 |   62 |   65 |   57 |   58 |   53 |  114 |  103 |   91 |   92 |   79 |   93 |\n",
       "| g150 |  263 |  411 |  278 |  752 | 1378 | 1300 |  106 |  112 |   70 |  516 |  200 |  508 |\n",
       "| g151 |   44 |   44 |   50 |   92 |   92 |   84 |   23 |   26 |   25 |   56 |   43 |   31 |\n",
       "| g152 |  242 |  258 |  294 |  425 |  381 |  521 |   15 |    8 |    8 |   16 |   21 |   15 |\n",
       "| g153 |  142 |  144 |  181 |  233 |  177 |  233 |   31 |   49 |   50 |   50 |   45 |   57 |\n",
       "| g155 |    0 |    4 |    2 |    1 |    0 |    0 |    1 |    0 |    3 |    0 |    0 |    1 |\n",
       "| g156 |    0 |    0 |    0 |    0 |    0 |    0 |    0 |    3 |    2 |    0 |    0 |    1 |\n",
       "| g157 |    6 |    1 |    3 |  223 |   52 |  152 |    4 |    7 |    4 |  153 |   47 |  155 |\n",
       "| g158 |    0 |    0 |    0 |    7 |    1 |    3 |    0 |    0 |    1 |    1 |    0 |    0 |\n",
       "| g161 |   25 |   38 |   18 |    1 |    9 |    2 |   63 |   23 |   43 |    0 |   24 |    6 |\n",
       "| g162 |   31 |   43 |   38 |   43 |   25 |   28 |    0 |    0 |    0 |    0 |    0 |    0 |\n",
       "| g163 |    1 |    0 |   12 |   37 |    8 |   18 |    9 |    4 |    8 |   16 |   13 |   15 |\n",
       "| g164 |   69 |   58 |   97 |  294 |  123 |  168 |   56 |   58 |   60 |  146 |  101 |  135 |\n",
       "| g165 |  203 |  376 |  594 | 1343 | 2062 | 1610 |  265 |  229 |  214 |  488 |  270 |  490 |\n",
       "| g167 |    2 |    0 |    0 |    2 |    0 |    0 |    0 |    0 |    0 |    0 |    0 |    0 |\n",
       "| g168 |    2 |   14 |    6 |    0 |    0 |    5 |   31 |   26 |   38 |    3 |   27 |   10 |\n",
       "| g169 |    0 |    0 |    1 |    0 |    1 |    1 |    0 |    0 |    0 |    0 |    0 |    0 |\n",
       "| g170 |    0 |    0 |    0 |    0 |    0 |    0 |    0 |    1 |    0 |    0 |    0 |    0 |\n",
       "| g171 |    0 |    5 |    0 |    0 |    0 |    5 |    0 |    0 |    0 |    1 |    0 |    0 |\n",
       "| g172 |    1 |    2 |    2 |    6 |    4 |    3 |    3 |    1 |    2 |    3 |    3 |    0 |\n",
       "| g173 |   80 |  107 |  120 |   78 |  138 |  121 |   67 |   86 |   69 |   96 |  105 |  105 |\n",
       "\n",
       "\n",
       "$samples\n",
       ":   \n",
       "A data.frame: 12 × 5\n",
       "\n",
       "| <!--/--> | group &lt;fct&gt; | lib.size &lt;dbl&gt; | norm.factors &lt;dbl&gt; | Condition &lt;fct&gt; | Genotype &lt;fct&gt; |\n",
       "|---|---|---|---|---|---|\n",
       "| S10_1_1 | S10_Control        | 43614 | 1 | Control   | S10      |\n",
       "| S10_1_2 | S10_Control        | 58803 | 1 | Control   | S10      |\n",
       "| S10_1_3 | S10_Control        | 62654 | 1 | Control   | S10      |\n",
       "| S10_2_1 | S10_Treatment      | 59909 | 1 | Treatment | S10      |\n",
       "| S10_2_2 | S10_Treatment      | 56761 | 1 | Treatment | S10      |\n",
       "| S10_2_3 | S10_Treatment      | 63152 | 1 | Treatment | S10      |\n",
       "| TI_1_1 | Tienshan_Control   | 43387 | 1 | Control   | Tienshan |\n",
       "| TI_1_2 | Tienshan_Control   | 38355 | 1 | Control   | Tienshan |\n",
       "| TI_1_3 | Tienshan_Control   | 40304 | 1 | Control   | Tienshan |\n",
       "| TI_2_1 | Tienshan_Treatment | 55509 | 1 | Treatment | Tienshan |\n",
       "| TI_2_2 | Tienshan_Treatment | 39909 | 1 | Treatment | Tienshan |\n",
       "| TI_2_3 | Tienshan_Treatment | 45008 | 1 | Treatment | Tienshan |\n",
       "\n",
       "\n",
       "\n",
       "\n"
      ],
      "text/plain": [
       "An object of class \"DGEList\"\n",
       "$counts\n",
       "     S10_1_1 S10_1_2 S10_1_3 S10_2_1 S10_2_2 S10_2_3 TI_1_1 TI_1_2 TI_1_3\n",
       "g175     143     226     227     217     206     193    234    205    198\n",
       "g176      17      12      15       8      14      18     29     19     30\n",
       "g178       0       0       0       0       0       0      0      0      2\n",
       "g180    2773    5223    4350    4139    3209    4644   1015   1313    889\n",
       "g181     473     679     583     437     390     450    642    700    697\n",
       "     TI_2_1 TI_2_2 TI_2_3\n",
       "g175    221    206    165\n",
       "g176      6     11     23\n",
       "g178      2      1      2\n",
       "g180   2675   1023   2565\n",
       "g181    650    459    410\n",
       "262 more rows ...\n",
       "\n",
       "$samples\n",
       "                group lib.size norm.factors Condition Genotype\n",
       "S10_1_1   S10_Control    43614            1   Control      S10\n",
       "S10_1_2   S10_Control    58803            1   Control      S10\n",
       "S10_1_3   S10_Control    62654            1   Control      S10\n",
       "S10_2_1 S10_Treatment    59909            1 Treatment      S10\n",
       "S10_2_2 S10_Treatment    56761            1 Treatment      S10\n",
       "7 more rows ...\n"
      ]
     },
     "metadata": {},
     "output_type": "display_data"
    }
   ],
   "source": [
    "DGEList <- DGEList(Read_counts, remove.zeros = TRUE)\n",
    "DGEList$samples$Condition <- relevel(metadata$Condition, ref = \"Control\")\n",
    "DGEList$samples$Genotype <- metadata$Genotype\n",
    "DGEList$samples$group <- metadata$Group\n",
    "DGEList"
   ]
  },
  {
   "cell_type": "markdown",
   "metadata": {
    "id": "5ZCIbthBuzBI"
   },
   "source": [
    "## Preliminary data analysis\n",
    "First, we will calculate the \"pseudoCounts\" as log2 of the reads per gene counts. \n",
    "<br>\n",
    "This is not part of the actual differential gene expression analysis but is helpful for data exploration and quality assessment. We will look at a histogram of one of the samples and a boxplot representation of the log2 counts for all the 12 samples.\n",
    "<br>\n",
    "Note that there are many genes with a low number of mapped reads and that there are differences between the average read counts for each library. "
   ]
  },
  {
   "cell_type": "code",
   "execution_count": 7,
   "metadata": {
    "colab": {
     "base_uri": "https://localhost:8080/",
     "height": 1000
    },
    "executionInfo": {
     "elapsed": 853,
     "status": "ok",
     "timestamp": 1654592276616,
     "user": {
      "displayName": "Lavinia Fechete",
      "userId": "03683080993527566677"
     },
     "user_tz": -120
    },
    "id": "uEiv2JpKqDiz",
    "outputId": "b0938de1-e0c6-44cc-a721-2f6fb5298908",
    "tags": [],
    "vscode": {
     "languageId": "r"
    }
   },
   "outputs": [
    {
     "data": {
      "text/html": [
       "<table class=\"dataframe\">\n",
       "<caption>A matrix: 6 × 12 of type dbl</caption>\n",
       "<thead>\n",
       "\t<tr><th></th><th scope=col>S10_1_1</th><th scope=col>S10_1_2</th><th scope=col>S10_1_3</th><th scope=col>S10_2_1</th><th scope=col>S10_2_2</th><th scope=col>S10_2_3</th><th scope=col>TI_1_1</th><th scope=col>TI_1_2</th><th scope=col>TI_1_3</th><th scope=col>TI_2_1</th><th scope=col>TI_2_2</th><th scope=col>TI_2_3</th></tr>\n",
       "</thead>\n",
       "<tbody>\n",
       "\t<tr><th scope=row>g175</th><td> 7.169925</td><td> 7.826548</td><td> 7.832890</td><td> 7.768184</td><td> 7.693487</td><td> 7.599913</td><td>7.876517</td><td> 7.686501</td><td>7.636625</td><td> 7.794416</td><td> 7.693487</td><td> 7.375039</td></tr>\n",
       "\t<tr><th scope=row>g176</th><td> 4.169925</td><td> 3.700440</td><td> 4.000000</td><td> 3.169925</td><td> 3.906891</td><td> 4.247928</td><td>4.906891</td><td> 4.321928</td><td>4.954196</td><td> 2.807355</td><td> 3.584963</td><td> 4.584963</td></tr>\n",
       "\t<tr><th scope=row>g178</th><td> 0.000000</td><td> 0.000000</td><td> 0.000000</td><td> 0.000000</td><td> 0.000000</td><td> 0.000000</td><td>0.000000</td><td> 0.000000</td><td>1.584963</td><td> 1.584963</td><td> 1.000000</td><td> 1.584963</td></tr>\n",
       "\t<tr><th scope=row>g180</th><td>11.437752</td><td>12.350939</td><td>12.087131</td><td>12.015415</td><td>11.648358</td><td>12.181463</td><td>9.988685</td><td>10.359750</td><td>9.797662</td><td>11.385862</td><td>10.000000</td><td>11.325305</td></tr>\n",
       "\t<tr><th scope=row>g181</th><td> 8.888743</td><td> 9.409391</td><td> 9.189825</td><td> 8.774787</td><td> 8.611025</td><td> 8.816984</td><td>9.328675</td><td> 9.453271</td><td>9.447083</td><td> 9.346514</td><td> 8.845490</td><td> 8.682995</td></tr>\n",
       "\t<tr><th scope=row>g182</th><td> 4.321928</td><td> 4.000000</td><td> 4.392317</td><td> 3.321928</td><td> 3.169925</td><td> 2.321928</td><td>3.807355</td><td> 3.000000</td><td>3.169925</td><td> 2.807355</td><td> 2.584963</td><td> 2.321928</td></tr>\n",
       "</tbody>\n",
       "</table>\n"
      ],
      "text/latex": [
       "A matrix: 6 × 12 of type dbl\n",
       "\\begin{tabular}{r|llllllllllll}\n",
       "  & S10\\_1\\_1 & S10\\_1\\_2 & S10\\_1\\_3 & S10\\_2\\_1 & S10\\_2\\_2 & S10\\_2\\_3 & TI\\_1\\_1 & TI\\_1\\_2 & TI\\_1\\_3 & TI\\_2\\_1 & TI\\_2\\_2 & TI\\_2\\_3\\\\\n",
       "\\hline\n",
       "\tg175 &  7.169925 &  7.826548 &  7.832890 &  7.768184 &  7.693487 &  7.599913 & 7.876517 &  7.686501 & 7.636625 &  7.794416 &  7.693487 &  7.375039\\\\\n",
       "\tg176 &  4.169925 &  3.700440 &  4.000000 &  3.169925 &  3.906891 &  4.247928 & 4.906891 &  4.321928 & 4.954196 &  2.807355 &  3.584963 &  4.584963\\\\\n",
       "\tg178 &  0.000000 &  0.000000 &  0.000000 &  0.000000 &  0.000000 &  0.000000 & 0.000000 &  0.000000 & 1.584963 &  1.584963 &  1.000000 &  1.584963\\\\\n",
       "\tg180 & 11.437752 & 12.350939 & 12.087131 & 12.015415 & 11.648358 & 12.181463 & 9.988685 & 10.359750 & 9.797662 & 11.385862 & 10.000000 & 11.325305\\\\\n",
       "\tg181 &  8.888743 &  9.409391 &  9.189825 &  8.774787 &  8.611025 &  8.816984 & 9.328675 &  9.453271 & 9.447083 &  9.346514 &  8.845490 &  8.682995\\\\\n",
       "\tg182 &  4.321928 &  4.000000 &  4.392317 &  3.321928 &  3.169925 &  2.321928 & 3.807355 &  3.000000 & 3.169925 &  2.807355 &  2.584963 &  2.321928\\\\\n",
       "\\end{tabular}\n"
      ],
      "text/markdown": [
       "\n",
       "A matrix: 6 × 12 of type dbl\n",
       "\n",
       "| <!--/--> | S10_1_1 | S10_1_2 | S10_1_3 | S10_2_1 | S10_2_2 | S10_2_3 | TI_1_1 | TI_1_2 | TI_1_3 | TI_2_1 | TI_2_2 | TI_2_3 |\n",
       "|---|---|---|---|---|---|---|---|---|---|---|---|---|\n",
       "| g175 |  7.169925 |  7.826548 |  7.832890 |  7.768184 |  7.693487 |  7.599913 | 7.876517 |  7.686501 | 7.636625 |  7.794416 |  7.693487 |  7.375039 |\n",
       "| g176 |  4.169925 |  3.700440 |  4.000000 |  3.169925 |  3.906891 |  4.247928 | 4.906891 |  4.321928 | 4.954196 |  2.807355 |  3.584963 |  4.584963 |\n",
       "| g178 |  0.000000 |  0.000000 |  0.000000 |  0.000000 |  0.000000 |  0.000000 | 0.000000 |  0.000000 | 1.584963 |  1.584963 |  1.000000 |  1.584963 |\n",
       "| g180 | 11.437752 | 12.350939 | 12.087131 | 12.015415 | 11.648358 | 12.181463 | 9.988685 | 10.359750 | 9.797662 | 11.385862 | 10.000000 | 11.325305 |\n",
       "| g181 |  8.888743 |  9.409391 |  9.189825 |  8.774787 |  8.611025 |  8.816984 | 9.328675 |  9.453271 | 9.447083 |  9.346514 |  8.845490 |  8.682995 |\n",
       "| g182 |  4.321928 |  4.000000 |  4.392317 |  3.321928 |  3.169925 |  2.321928 | 3.807355 |  3.000000 | 3.169925 |  2.807355 |  2.584963 |  2.321928 |\n",
       "\n"
      ],
      "text/plain": [
       "     S10_1_1   S10_1_2   S10_1_3   S10_2_1   S10_2_2   S10_2_3   TI_1_1  \n",
       "g175  7.169925  7.826548  7.832890  7.768184  7.693487  7.599913 7.876517\n",
       "g176  4.169925  3.700440  4.000000  3.169925  3.906891  4.247928 4.906891\n",
       "g178  0.000000  0.000000  0.000000  0.000000  0.000000  0.000000 0.000000\n",
       "g180 11.437752 12.350939 12.087131 12.015415 11.648358 12.181463 9.988685\n",
       "g181  8.888743  9.409391  9.189825  8.774787  8.611025  8.816984 9.328675\n",
       "g182  4.321928  4.000000  4.392317  3.321928  3.169925  2.321928 3.807355\n",
       "     TI_1_2    TI_1_3   TI_2_1    TI_2_2    TI_2_3   \n",
       "g175  7.686501 7.636625  7.794416  7.693487  7.375039\n",
       "g176  4.321928 4.954196  2.807355  3.584963  4.584963\n",
       "g178  0.000000 1.584963  1.584963  1.000000  1.584963\n",
       "g180 10.359750 9.797662 11.385862 10.000000 11.325305\n",
       "g181  9.453271 9.447083  9.346514  8.845490  8.682995\n",
       "g182  3.000000 3.169925  2.807355  2.584963  2.321928"
      ]
     },
     "metadata": {},
     "output_type": "display_data"
    },
    {
     "data": {
      "image/png": "[encoded data removed]",
      "text/plain": [
       "Plot with title “”"
      ]
     },
     "metadata": {
      "image/png": {
       "height": 420,
       "width": 420
      }
     },
     "output_type": "display_data"
    },
    {
     "data": {
      "image/png": "[encoded data removed]",
      "text/plain": [
       "plot without title"
      ]
     },
     "metadata": {
      "image/png": {
       "height": 420,
       "width": 420
      }
     },
     "output_type": "display_data"
    }
   ],
   "source": [
    "pseudoCounts <- log2(DGEList$counts + 1)\n",
    "head(pseudoCounts)\n",
    "hist(pseudoCounts[ ,\"S10_1_1\"], main = \"\", xlab = \"Read counts\")\n",
    "boxplot(pseudoCounts, col = \"gray\", las = 3, cex.names = 1)"
   ]
  },
  {
   "cell_type": "markdown",
   "metadata": {
    "id": "KQjh9mrC86_M"
   },
   "source": [
    "We can also create a PCA plot of the samples in order to assess the differences between the Genotypes and Conditions, but also between the replicates. In this plot the samples that are similar cluster together, while samples that are different are further apart.\n",
    "<br>\n",
    "In this type of plot, we would expect samples from the same group (the three replicates for each sample) to exhibit a similar gene expression profile thus clustering together while being separated from the other samples."
   ]
  },
  {
   "cell_type": "code",
   "execution_count": 8,
   "metadata": {
    "colab": {
     "base_uri": "https://localhost:8080/",
     "height": 497
    },
    "executionInfo": {
     "elapsed": 892,
     "status": "ok",
     "timestamp": 1654592287896,
     "user": {
      "displayName": "Lavinia Fechete",
      "userId": "03683080993527566677"
     },
     "user_tz": -120
    },
    "id": "b_zFi1eSSi8v",
    "outputId": "9e9c75ec-eaff-4de8-df49-e710d7723f6f",
    "tags": [],
    "vscode": {
     "languageId": "r"
    }
   },
   "outputs": [
    {
     "data": {
      "image/png": "[encoded data removed]",
      "text/plain": [
       "plot without title"
      ]
     },
     "metadata": {
      "image/png": {
       "height": 420,
       "width": 420
      }
     },
     "output_type": "display_data"
    }
   ],
   "source": [
    "resPCA <- pca(t(pseudoCounts), ncomp = 6)\n",
    "plotIndiv(resPCA, group = metadata$Genotype, pch=metadata$Condition,\n",
    "                  legend = T, legend.title = 'Genotype', legend.title.pch = 'Condition',\n",
    "                  title = 'PCA plot raw counts', style = 'ggplot2', size.xlabel = 10, size.ylabel = 10)"
   ]
  },
  {
   "cell_type": "markdown",
   "metadata": {
    "id": "hrEmdocWHieJ"
   },
   "source": [
    "## Filtering the lowly expressed genes\n",
    "As seen previously, many genes have a low number of read counts in our samples. The genes with very low counts across all libraries provide little evidence for differential expression, thus we should eliminate these genes before the analysis. \n",
    "<br>\n",
    "One of the filtering methods we can use is the \"filterByExpr\" function provided by the edgeR package. By default, this function keeps only the genes that have at least 10 reads per group, but other cutoffs can also be applied."
   ]
  },
  {
   "cell_type": "code",
   "execution_count": 9,
   "metadata": {
    "colab": {
     "base_uri": "https://localhost:8080/"
    },
    "executionInfo": {
     "elapsed": 302,
     "status": "ok",
     "timestamp": 1654592373252,
     "user": {
      "displayName": "Lavinia Fechete",
      "userId": "03683080993527566677"
     },
     "user_tz": -120
    },
    "id": "cefMmTaPuSLn",
    "outputId": "6aaf80e9-b0b5-493d-d217-a6233ffda53f",
    "tags": [],
    "vscode": {
     "languageId": "r"
    }
   },
   "outputs": [
    {
     "data": {
      "text/plain": [
       "keep\n",
       "FALSE  TRUE \n",
       "  104   163 "
      ]
     },
     "metadata": {},
     "output_type": "display_data"
    }
   ],
   "source": [
    "keep <- filterByExpr(DGEList, group=metadata$Group) #create the filter\n",
    "DGEList <- DGEList[keep, , keep.lib.sizes=FALSE] #apply the filter to on the DGEList object\n",
    "table(keep) #Check the number of genes that passed the filter"
   ]
  },
  {
   "cell_type": "markdown",
   "metadata": {
    "id": "fRhZxuchv8d_"
   },
   "source": [
    "## Normalization\n",
    "As we are working with multiple samples we need to normalize the read counts per gene in order to account for compositional and technical differences between the 12 RNA-seq libraries. For this, we will calculate normalization factors using the trimmed mean of M-values (TMM) method. You can read more about different normalization methods in the user manual.  \n",
    "<br>\n",
    "Note that running \"calcNormFactors\" does not change the actual reads per gene counts, it just fills the \"norm.factors\" column in `DGEList$samples`. \n",
    "\n",
    "These factors will be used to scale the read counts for each library.\n",
    "From the user guide: \"A normalization factor below one indicates that a small number of high count genes\n",
    "are monopolizing the sequencing, causing the counts for other genes to be lower than would\n",
    "be usual given the library size.\""
   ]
  },
  {
   "cell_type": "code",
   "execution_count": 10,
   "metadata": {
    "colab": {
     "base_uri": "https://localhost:8080/"
    },
    "executionInfo": {
     "elapsed": 706,
     "status": "ok",
     "timestamp": 1654592376753,
     "user": {
      "displayName": "Lavinia Fechete",
      "userId": "03683080993527566677"
     },
     "user_tz": -120
    },
    "id": "R9W-K1DYraK_",
    "outputId": "380c972e-581e-46e0-aba4-f79032597c21",
    "tags": [],
    "vscode": {
     "languageId": "r"
    }
   },
   "outputs": [
    {
     "data": {
      "text/html": [
       "<table class=\"dataframe\">\n",
       "<caption>A data.frame: 12 × 5</caption>\n",
       "<thead>\n",
       "\t<tr><th></th><th scope=col>group</th><th scope=col>lib.size</th><th scope=col>norm.factors</th><th scope=col>Condition</th><th scope=col>Genotype</th></tr>\n",
       "\t<tr><th></th><th scope=col>&lt;fct&gt;</th><th scope=col>&lt;dbl&gt;</th><th scope=col>&lt;dbl&gt;</th><th scope=col>&lt;fct&gt;</th><th scope=col>&lt;fct&gt;</th></tr>\n",
       "</thead>\n",
       "<tbody>\n",
       "\t<tr><th scope=row>S10_1_1</th><td>S10_Control       </td><td>43506</td><td>1.0897129</td><td>Control  </td><td>S10     </td></tr>\n",
       "\t<tr><th scope=row>S10_1_2</th><td>S10_Control       </td><td>58660</td><td>1.0385093</td><td>Control  </td><td>S10     </td></tr>\n",
       "\t<tr><th scope=row>S10_1_3</th><td>S10_Control       </td><td>62512</td><td>1.0362962</td><td>Control  </td><td>S10     </td></tr>\n",
       "\t<tr><th scope=row>S10_2_1</th><td>S10_Treatment     </td><td>59741</td><td>0.9802860</td><td>Treatment</td><td>S10     </td></tr>\n",
       "\t<tr><th scope=row>S10_2_2</th><td>S10_Treatment     </td><td>56653</td><td>0.8418644</td><td>Treatment</td><td>S10     </td></tr>\n",
       "\t<tr><th scope=row>S10_2_3</th><td>S10_Treatment     </td><td>63008</td><td>0.8949144</td><td>Treatment</td><td>S10     </td></tr>\n",
       "\t<tr><th scope=row>TI_1_1</th><td>Tienshan_Control  </td><td>43174</td><td>1.0618440</td><td>Control  </td><td>Tienshan</td></tr>\n",
       "\t<tr><th scope=row>TI_1_2</th><td>Tienshan_Control  </td><td>38203</td><td>1.0431678</td><td>Control  </td><td>Tienshan</td></tr>\n",
       "\t<tr><th scope=row>TI_1_3</th><td>Tienshan_Control  </td><td>40178</td><td>1.0676351</td><td>Control  </td><td>Tienshan</td></tr>\n",
       "\t<tr><th scope=row>TI_2_1</th><td>Tienshan_Treatment</td><td>55391</td><td>0.9048196</td><td>Treatment</td><td>Tienshan</td></tr>\n",
       "\t<tr><th scope=row>TI_2_2</th><td>Tienshan_Treatment</td><td>39810</td><td>1.1235077</td><td>Treatment</td><td>Tienshan</td></tr>\n",
       "\t<tr><th scope=row>TI_2_3</th><td>Tienshan_Treatment</td><td>44910</td><td>0.9603761</td><td>Treatment</td><td>Tienshan</td></tr>\n",
       "</tbody>\n",
       "</table>\n"
      ],
      "text/latex": [
       "A data.frame: 12 × 5\n",
       "\\begin{tabular}{r|lllll}\n",
       "  & group & lib.size & norm.factors & Condition & Genotype\\\\\n",
       "  & <fct> & <dbl> & <dbl> & <fct> & <fct>\\\\\n",
       "\\hline\n",
       "\tS10\\_1\\_1 & S10\\_Control        & 43506 & 1.0897129 & Control   & S10     \\\\\n",
       "\tS10\\_1\\_2 & S10\\_Control        & 58660 & 1.0385093 & Control   & S10     \\\\\n",
       "\tS10\\_1\\_3 & S10\\_Control        & 62512 & 1.0362962 & Control   & S10     \\\\\n",
       "\tS10\\_2\\_1 & S10\\_Treatment      & 59741 & 0.9802860 & Treatment & S10     \\\\\n",
       "\tS10\\_2\\_2 & S10\\_Treatment      & 56653 & 0.8418644 & Treatment & S10     \\\\\n",
       "\tS10\\_2\\_3 & S10\\_Treatment      & 63008 & 0.8949144 & Treatment & S10     \\\\\n",
       "\tTI\\_1\\_1 & Tienshan\\_Control   & 43174 & 1.0618440 & Control   & Tienshan\\\\\n",
       "\tTI\\_1\\_2 & Tienshan\\_Control   & 38203 & 1.0431678 & Control   & Tienshan\\\\\n",
       "\tTI\\_1\\_3 & Tienshan\\_Control   & 40178 & 1.0676351 & Control   & Tienshan\\\\\n",
       "\tTI\\_2\\_1 & Tienshan\\_Treatment & 55391 & 0.9048196 & Treatment & Tienshan\\\\\n",
       "\tTI\\_2\\_2 & Tienshan\\_Treatment & 39810 & 1.1235077 & Treatment & Tienshan\\\\\n",
       "\tTI\\_2\\_3 & Tienshan\\_Treatment & 44910 & 0.9603761 & Treatment & Tienshan\\\\\n",
       "\\end{tabular}\n"
      ],
      "text/markdown": [
       "\n",
       "A data.frame: 12 × 5\n",
       "\n",
       "| <!--/--> | group &lt;fct&gt; | lib.size &lt;dbl&gt; | norm.factors &lt;dbl&gt; | Condition &lt;fct&gt; | Genotype &lt;fct&gt; |\n",
       "|---|---|---|---|---|---|\n",
       "| S10_1_1 | S10_Control        | 43506 | 1.0897129 | Control   | S10      |\n",
       "| S10_1_2 | S10_Control        | 58660 | 1.0385093 | Control   | S10      |\n",
       "| S10_1_3 | S10_Control        | 62512 | 1.0362962 | Control   | S10      |\n",
       "| S10_2_1 | S10_Treatment      | 59741 | 0.9802860 | Treatment | S10      |\n",
       "| S10_2_2 | S10_Treatment      | 56653 | 0.8418644 | Treatment | S10      |\n",
       "| S10_2_3 | S10_Treatment      | 63008 | 0.8949144 | Treatment | S10      |\n",
       "| TI_1_1 | Tienshan_Control   | 43174 | 1.0618440 | Control   | Tienshan |\n",
       "| TI_1_2 | Tienshan_Control   | 38203 | 1.0431678 | Control   | Tienshan |\n",
       "| TI_1_3 | Tienshan_Control   | 40178 | 1.0676351 | Control   | Tienshan |\n",
       "| TI_2_1 | Tienshan_Treatment | 55391 | 0.9048196 | Treatment | Tienshan |\n",
       "| TI_2_2 | Tienshan_Treatment | 39810 | 1.1235077 | Treatment | Tienshan |\n",
       "| TI_2_3 | Tienshan_Treatment | 44910 | 0.9603761 | Treatment | Tienshan |\n",
       "\n"
      ],
      "text/plain": [
       "        group              lib.size norm.factors Condition Genotype\n",
       "S10_1_1 S10_Control        43506    1.0897129    Control   S10     \n",
       "S10_1_2 S10_Control        58660    1.0385093    Control   S10     \n",
       "S10_1_3 S10_Control        62512    1.0362962    Control   S10     \n",
       "S10_2_1 S10_Treatment      59741    0.9802860    Treatment S10     \n",
       "S10_2_2 S10_Treatment      56653    0.8418644    Treatment S10     \n",
       "S10_2_3 S10_Treatment      63008    0.8949144    Treatment S10     \n",
       "TI_1_1  Tienshan_Control   43174    1.0618440    Control   Tienshan\n",
       "TI_1_2  Tienshan_Control   38203    1.0431678    Control   Tienshan\n",
       "TI_1_3  Tienshan_Control   40178    1.0676351    Control   Tienshan\n",
       "TI_2_1  Tienshan_Treatment 55391    0.9048196    Treatment Tienshan\n",
       "TI_2_2  Tienshan_Treatment 39810    1.1235077    Treatment Tienshan\n",
       "TI_2_3  Tienshan_Treatment 44910    0.9603761    Treatment Tienshan"
      ]
     },
     "metadata": {},
     "output_type": "display_data"
    }
   ],
   "source": [
    "DGEList <- calcNormFactors(DGEList, method=\"RLE\")\n",
    "DGEList$samples"
   ]
  },
  {
   "cell_type": "markdown",
   "metadata": {
    "id": "AgOkkvTQrxaX",
    "tags": []
   },
   "source": [
    "## Normalized counts - Exploratory Data analysis\n",
    "For data analysis purposes normalized log2 counts can be extracted from the DGEList object using the function CPM (counts per million).\n",
    "\n",
    "We will generate the same plots as for the raw counts in order to compare the data before and after normalization. \n",
    "\n",
    "Do the plots for normalized counts look different compared with the plots computed before data filtering and normalization? "
   ]
  },
  {
   "cell_type": "code",
   "execution_count": 11,
   "metadata": {
    "colab": {
     "base_uri": "https://localhost:8080/",
     "height": 1000
    },
    "executionInfo": {
     "elapsed": 912,
     "status": "ok",
     "timestamp": 1654592379673,
     "user": {
      "displayName": "Lavinia Fechete",
      "userId": "03683080993527566677"
     },
     "user_tz": -120
    },
    "id": "-JCT9WcqrwIu",
    "outputId": "7def7808-5abd-466f-ed36-5a4706348a25",
    "tags": [],
    "vscode": {
     "languageId": "r"
    }
   },
   "outputs": [
    {
     "data": {
      "text/html": [
       "<table class=\"dataframe\">\n",
       "<caption>A matrix: 6 × 12 of type dbl</caption>\n",
       "<thead>\n",
       "\t<tr><th></th><th scope=col>S10_1_1</th><th scope=col>S10_1_2</th><th scope=col>S10_1_3</th><th scope=col>S10_2_1</th><th scope=col>S10_2_2</th><th scope=col>S10_2_3</th><th scope=col>TI_1_1</th><th scope=col>TI_1_2</th><th scope=col>TI_1_3</th><th scope=col>TI_2_1</th><th scope=col>TI_2_2</th><th scope=col>TI_2_3</th></tr>\n",
       "</thead>\n",
       "<tbody>\n",
       "\t<tr><th scope=row>g175</th><td>11.568005</td><td>11.864813</td><td>11.782957</td><td>11.863090</td><td>12.083127</td><td>11.749272</td><td>12.323049</td><td>12.334198</td><td>12.178544</td><td>12.112851</td><td>12.175386</td><td>11.908906</td></tr>\n",
       "\t<tr><th scope=row>g176</th><td> 8.564108</td><td> 7.760868</td><td> 7.974199</td><td> 7.290213</td><td> 8.292080</td><td> 8.405708</td><td> 9.349782</td><td> 8.956131</td><td> 9.490388</td><td> 7.125494</td><td> 8.054467</td><td> 9.111569</td></tr>\n",
       "\t<tr><th scope=row>g180</th><td>15.836359</td><td>16.387906</td><td>16.035457</td><td>16.109276</td><td>16.038322</td><td>16.329943</td><td>14.435626</td><td>15.008665</td><td>14.340400</td><td>15.704307</td><td>14.482504</td><td>15.860317</td></tr>\n",
       "\t<tr><th scope=row>g181</th><td>13.287211</td><td>13.446752</td><td>13.138771</td><td>12.869139</td><td>13.000828</td><td>12.965820</td><td>13.775545</td><td>14.101988</td><td>13.989757</td><td>13.664955</td><td>13.327806</td><td>13.217591</td></tr>\n",
       "\t<tr><th scope=row>g182</th><td> 8.716557</td><td> 8.056048</td><td> 8.360376</td><td> 7.439590</td><td> 7.551908</td><td> 6.505541</td><td> 8.245462</td><td> 7.611500</td><td> 7.689402</td><td> 7.125494</td><td> 7.041192</td><td> 6.815835</td></tr>\n",
       "\t<tr><th scope=row>g184</th><td> 9.350249</td><td> 8.573811</td><td> 9.628852</td><td> 9.955925</td><td>11.089735</td><td>10.542877</td><td> 9.653135</td><td> 9.546090</td><td> 8.779819</td><td>11.073313</td><td>10.609695</td><td>11.024686</td></tr>\n",
       "</tbody>\n",
       "</table>\n"
      ],
      "text/latex": [
       "A matrix: 6 × 12 of type dbl\n",
       "\\begin{tabular}{r|llllllllllll}\n",
       "  & S10\\_1\\_1 & S10\\_1\\_2 & S10\\_1\\_3 & S10\\_2\\_1 & S10\\_2\\_2 & S10\\_2\\_3 & TI\\_1\\_1 & TI\\_1\\_2 & TI\\_1\\_3 & TI\\_2\\_1 & TI\\_2\\_2 & TI\\_2\\_3\\\\\n",
       "\\hline\n",
       "\tg175 & 11.568005 & 11.864813 & 11.782957 & 11.863090 & 12.083127 & 11.749272 & 12.323049 & 12.334198 & 12.178544 & 12.112851 & 12.175386 & 11.908906\\\\\n",
       "\tg176 &  8.564108 &  7.760868 &  7.974199 &  7.290213 &  8.292080 &  8.405708 &  9.349782 &  8.956131 &  9.490388 &  7.125494 &  8.054467 &  9.111569\\\\\n",
       "\tg180 & 15.836359 & 16.387906 & 16.035457 & 16.109276 & 16.038322 & 16.329943 & 14.435626 & 15.008665 & 14.340400 & 15.704307 & 14.482504 & 15.860317\\\\\n",
       "\tg181 & 13.287211 & 13.446752 & 13.138771 & 12.869139 & 13.000828 & 12.965820 & 13.775545 & 14.101988 & 13.989757 & 13.664955 & 13.327806 & 13.217591\\\\\n",
       "\tg182 &  8.716557 &  8.056048 &  8.360376 &  7.439590 &  7.551908 &  6.505541 &  8.245462 &  7.611500 &  7.689402 &  7.125494 &  7.041192 &  6.815835\\\\\n",
       "\tg184 &  9.350249 &  8.573811 &  9.628852 &  9.955925 & 11.089735 & 10.542877 &  9.653135 &  9.546090 &  8.779819 & 11.073313 & 10.609695 & 11.024686\\\\\n",
       "\\end{tabular}\n"
      ],
      "text/markdown": [
       "\n",
       "A matrix: 6 × 12 of type dbl\n",
       "\n",
       "| <!--/--> | S10_1_1 | S10_1_2 | S10_1_3 | S10_2_1 | S10_2_2 | S10_2_3 | TI_1_1 | TI_1_2 | TI_1_3 | TI_2_1 | TI_2_2 | TI_2_3 |\n",
       "|---|---|---|---|---|---|---|---|---|---|---|---|---|\n",
       "| g175 | 11.568005 | 11.864813 | 11.782957 | 11.863090 | 12.083127 | 11.749272 | 12.323049 | 12.334198 | 12.178544 | 12.112851 | 12.175386 | 11.908906 |\n",
       "| g176 |  8.564108 |  7.760868 |  7.974199 |  7.290213 |  8.292080 |  8.405708 |  9.349782 |  8.956131 |  9.490388 |  7.125494 |  8.054467 |  9.111569 |\n",
       "| g180 | 15.836359 | 16.387906 | 16.035457 | 16.109276 | 16.038322 | 16.329943 | 14.435626 | 15.008665 | 14.340400 | 15.704307 | 14.482504 | 15.860317 |\n",
       "| g181 | 13.287211 | 13.446752 | 13.138771 | 12.869139 | 13.000828 | 12.965820 | 13.775545 | 14.101988 | 13.989757 | 13.664955 | 13.327806 | 13.217591 |\n",
       "| g182 |  8.716557 |  8.056048 |  8.360376 |  7.439590 |  7.551908 |  6.505541 |  8.245462 |  7.611500 |  7.689402 |  7.125494 |  7.041192 |  6.815835 |\n",
       "| g184 |  9.350249 |  8.573811 |  9.628852 |  9.955925 | 11.089735 | 10.542877 |  9.653135 |  9.546090 |  8.779819 | 11.073313 | 10.609695 | 11.024686 |\n",
       "\n"
      ],
      "text/plain": [
       "     S10_1_1   S10_1_2   S10_1_3   S10_2_1   S10_2_2   S10_2_3   TI_1_1   \n",
       "g175 11.568005 11.864813 11.782957 11.863090 12.083127 11.749272 12.323049\n",
       "g176  8.564108  7.760868  7.974199  7.290213  8.292080  8.405708  9.349782\n",
       "g180 15.836359 16.387906 16.035457 16.109276 16.038322 16.329943 14.435626\n",
       "g181 13.287211 13.446752 13.138771 12.869139 13.000828 12.965820 13.775545\n",
       "g182  8.716557  8.056048  8.360376  7.439590  7.551908  6.505541  8.245462\n",
       "g184  9.350249  8.573811  9.628852  9.955925 11.089735 10.542877  9.653135\n",
       "     TI_1_2    TI_1_3    TI_2_1    TI_2_2    TI_2_3   \n",
       "g175 12.334198 12.178544 12.112851 12.175386 11.908906\n",
       "g176  8.956131  9.490388  7.125494  8.054467  9.111569\n",
       "g180 15.008665 14.340400 15.704307 14.482504 15.860317\n",
       "g181 14.101988 13.989757 13.664955 13.327806 13.217591\n",
       "g182  7.611500  7.689402  7.125494  7.041192  6.815835\n",
       "g184  9.546090  8.779819 11.073313 10.609695 11.024686"
      ]
     },
     "metadata": {},
     "output_type": "display_data"
    },
    {
     "data": {
      "image/png": "[encoded data removed]",
      "text/plain": [
       "Plot with title “”"
      ]
     },
     "metadata": {
      "image/png": {
       "height": 420,
       "width": 420
      }
     },
     "output_type": "display_data"
    },
    {
     "data": {
      "image/png": "[encoded data removed]",
      "text/plain": [
       "plot without title"
      ]
     },
     "metadata": {
      "image/png": {
       "height": 420,
       "width": 420
      }
     },
     "output_type": "display_data"
    },
    {
     "data": {
      "image/png": "[encoded data removed]",
      "text/plain": [
       "plot without title"
      ]
     },
     "metadata": {
      "image/png": {
       "height": 420,
       "width": 420
      }
     },
     "output_type": "display_data"
    }
   ],
   "source": [
    "pseudoNormCounts <- cpm(DGEList, log = TRUE, prior.count = 1)\n",
    "head(pseudoNormCounts)\n",
    "hist(pseudoNormCounts[ ,\"S10_1_1\"], main = \"\", xlab = \"counts\")\n",
    "boxplot(pseudoNormCounts, col = \"gray\", las = 3, cex.names = 1)\n",
    "\n",
    "resPCA <- pca(t(pseudoNormCounts), ncomp = 6)\n",
    "plotIndiv(resPCA, group = metadata$Genotype, pch=metadata$Condition,\n",
    "                  legend = T, legend.title = 'Genotype', legend.title.pch = 'Condition',\n",
    "                  title = 'PCA plot normalized counts', style = 'ggplot2', size.xlabel = 10, size.ylabel = 10)"
   ]
  },
  {
   "cell_type": "markdown",
   "metadata": {
    "id": "MHgVaHK2xr0N"
   },
   "source": [
    "# EdgeR - Testing for Differentially expressed genes (DEGs)\n",
    "\n",
    "We use `edgeR` for Differential Gene Expression using the GLM method (Generalized linear model) with treatment and genotype effects\n"
   ]
  },
  {
   "cell_type": "markdown",
   "metadata": {
    "id": "T2jGcTIoAaf4"
   },
   "source": [
    "After we concluded the exploratory data analysis and the filtering and normalization steps we can now start testing for differentially expressed genes between our samples. \n"
   ]
  },
  {
   "cell_type": "markdown",
   "metadata": {
    "id": "HlvrtfEX4CCS"
   },
   "source": [
    "For this, we first need to define a \"design matrix\" which describes our experimental design. We construct a matrix containing samples as rows and our previously defined groups (S10_Control, S10_Treatment, Tienshan_Control, Tienshan_Treatment) as columns. The samples belonging to each group are assigned a \"1\" in this matrix.   "
   ]
  },
  {
   "cell_type": "code",
   "execution_count": 12,
   "metadata": {
    "colab": {
     "base_uri": "https://localhost:8080/"
    },
    "executionInfo": {
     "elapsed": 738,
     "status": "ok",
     "timestamp": 1654592391013,
     "user": {
      "displayName": "Lavinia Fechete",
      "userId": "03683080993527566677"
     },
     "user_tz": -120
    },
    "id": "HYD9kUpSrxMG",
    "outputId": "214fd833-17b3-465c-de56-6f60416ab515",
    "tags": [],
    "vscode": {
     "languageId": "r"
    }
   },
   "outputs": [
    {
     "data": {
      "text/html": [
       "<table class=\"dataframe\">\n",
       "<caption>A matrix: 12 × 4 of type dbl</caption>\n",
       "<thead>\n",
       "\t<tr><th></th><th scope=col>S10_Control</th><th scope=col>S10_Treatment</th><th scope=col>Tienshan_Control</th><th scope=col>Tienshan_Treatment</th></tr>\n",
       "</thead>\n",
       "<tbody>\n",
       "\t<tr><th scope=row>S10_1_1</th><td>1</td><td>0</td><td>0</td><td>0</td></tr>\n",
       "\t<tr><th scope=row>S10_1_2</th><td>1</td><td>0</td><td>0</td><td>0</td></tr>\n",
       "\t<tr><th scope=row>S10_1_3</th><td>1</td><td>0</td><td>0</td><td>0</td></tr>\n",
       "\t<tr><th scope=row>S10_2_1</th><td>0</td><td>1</td><td>0</td><td>0</td></tr>\n",
       "\t<tr><th scope=row>S10_2_2</th><td>0</td><td>1</td><td>0</td><td>0</td></tr>\n",
       "\t<tr><th scope=row>S10_2_3</th><td>0</td><td>1</td><td>0</td><td>0</td></tr>\n",
       "\t<tr><th scope=row>TI_1_1</th><td>0</td><td>0</td><td>1</td><td>0</td></tr>\n",
       "\t<tr><th scope=row>TI_1_2</th><td>0</td><td>0</td><td>1</td><td>0</td></tr>\n",
       "\t<tr><th scope=row>TI_1_3</th><td>0</td><td>0</td><td>1</td><td>0</td></tr>\n",
       "\t<tr><th scope=row>TI_2_1</th><td>0</td><td>0</td><td>0</td><td>1</td></tr>\n",
       "\t<tr><th scope=row>TI_2_2</th><td>0</td><td>0</td><td>0</td><td>1</td></tr>\n",
       "\t<tr><th scope=row>TI_2_3</th><td>0</td><td>0</td><td>0</td><td>1</td></tr>\n",
       "</tbody>\n",
       "</table>\n"
      ],
      "text/latex": [
       "A matrix: 12 × 4 of type dbl\n",
       "\\begin{tabular}{r|llll}\n",
       "  & S10\\_Control & S10\\_Treatment & Tienshan\\_Control & Tienshan\\_Treatment\\\\\n",
       "\\hline\n",
       "\tS10\\_1\\_1 & 1 & 0 & 0 & 0\\\\\n",
       "\tS10\\_1\\_2 & 1 & 0 & 0 & 0\\\\\n",
       "\tS10\\_1\\_3 & 1 & 0 & 0 & 0\\\\\n",
       "\tS10\\_2\\_1 & 0 & 1 & 0 & 0\\\\\n",
       "\tS10\\_2\\_2 & 0 & 1 & 0 & 0\\\\\n",
       "\tS10\\_2\\_3 & 0 & 1 & 0 & 0\\\\\n",
       "\tTI\\_1\\_1 & 0 & 0 & 1 & 0\\\\\n",
       "\tTI\\_1\\_2 & 0 & 0 & 1 & 0\\\\\n",
       "\tTI\\_1\\_3 & 0 & 0 & 1 & 0\\\\\n",
       "\tTI\\_2\\_1 & 0 & 0 & 0 & 1\\\\\n",
       "\tTI\\_2\\_2 & 0 & 0 & 0 & 1\\\\\n",
       "\tTI\\_2\\_3 & 0 & 0 & 0 & 1\\\\\n",
       "\\end{tabular}\n"
      ],
      "text/markdown": [
       "\n",
       "A matrix: 12 × 4 of type dbl\n",
       "\n",
       "| <!--/--> | S10_Control | S10_Treatment | Tienshan_Control | Tienshan_Treatment |\n",
       "|---|---|---|---|---|\n",
       "| S10_1_1 | 1 | 0 | 0 | 0 |\n",
       "| S10_1_2 | 1 | 0 | 0 | 0 |\n",
       "| S10_1_3 | 1 | 0 | 0 | 0 |\n",
       "| S10_2_1 | 0 | 1 | 0 | 0 |\n",
       "| S10_2_2 | 0 | 1 | 0 | 0 |\n",
       "| S10_2_3 | 0 | 1 | 0 | 0 |\n",
       "| TI_1_1 | 0 | 0 | 1 | 0 |\n",
       "| TI_1_2 | 0 | 0 | 1 | 0 |\n",
       "| TI_1_3 | 0 | 0 | 1 | 0 |\n",
       "| TI_2_1 | 0 | 0 | 0 | 1 |\n",
       "| TI_2_2 | 0 | 0 | 0 | 1 |\n",
       "| TI_2_3 | 0 | 0 | 0 | 1 |\n",
       "\n"
      ],
      "text/plain": [
       "        S10_Control S10_Treatment Tienshan_Control Tienshan_Treatment\n",
       "S10_1_1 1           0             0                0                 \n",
       "S10_1_2 1           0             0                0                 \n",
       "S10_1_3 1           0             0                0                 \n",
       "S10_2_1 0           1             0                0                 \n",
       "S10_2_2 0           1             0                0                 \n",
       "S10_2_3 0           1             0                0                 \n",
       "TI_1_1  0           0             1                0                 \n",
       "TI_1_2  0           0             1                0                 \n",
       "TI_1_3  0           0             1                0                 \n",
       "TI_2_1  0           0             0                1                 \n",
       "TI_2_2  0           0             0                1                 \n",
       "TI_2_3  0           0             0                1                 "
      ]
     },
     "metadata": {},
     "output_type": "display_data"
    }
   ],
   "source": [
    "design.matrix <- model.matrix(~0+Group)\n",
    "rownames(design.matrix) <- colnames(DGEList)\n",
    "colnames(design.matrix) <- levels(metadata$Group)\n",
    "design.matrix"
   ]
  },
  {
   "cell_type": "markdown",
   "metadata": {
    "id": "Td0C_CdS4lov"
   },
   "source": [
    "For easier pairwise comparisons between the groups we can create some \"contrasts\" using the \"makeContrasts\" function. This will tell the program which samples we will like to consider as our \"Control\" and which as our \"Treatment\" groups. The Control groups will be assigned a \"-1\" and the Treatment groups a \"1\". When using multiple Control and Treatment samples in the same contrast we need to devide by the number of samples used as for example in the contrast S10_Tienshan, where we use both S10 and Ti samples.\n",
    "\n",
    "For example, the contrast `S10 = S10_Treatment - S10_Control` will test for differentially expressed genes between the S10 treatment samples vs the S10 Control samples. "
   ]
  },
  {
   "cell_type": "code",
   "execution_count": 13,
   "metadata": {
    "colab": {
     "base_uri": "https://localhost:8080/"
    },
    "executionInfo": {
     "elapsed": 291,
     "status": "ok",
     "timestamp": 1654592481861,
     "user": {
      "displayName": "Lavinia Fechete",
      "userId": "03683080993527566677"
     },
     "user_tz": -120
    },
    "id": "QyfOq6Yc75gA",
    "outputId": "e7164a60-f51b-4349-85d7-4209efd7b617",
    "tags": [],
    "vscode": {
     "languageId": "r"
    }
   },
   "outputs": [
    {
     "data": {
      "text/html": [
       "<table class=\"dataframe\">\n",
       "<caption>A matrix: 4 × 3 of type dbl</caption>\n",
       "<thead>\n",
       "\t<tr><th></th><th scope=col>S10</th><th scope=col>Tienshan</th><th scope=col>S10_Tienshan</th></tr>\n",
       "</thead>\n",
       "<tbody>\n",
       "\t<tr><th scope=row>S10_Control</th><td>-1</td><td> 0</td><td>-0.5</td></tr>\n",
       "\t<tr><th scope=row>S10_Treatment</th><td> 1</td><td> 0</td><td> 0.5</td></tr>\n",
       "\t<tr><th scope=row>Tienshan_Control</th><td> 0</td><td>-1</td><td>-0.5</td></tr>\n",
       "\t<tr><th scope=row>Tienshan_Treatment</th><td> 0</td><td> 1</td><td> 0.5</td></tr>\n",
       "</tbody>\n",
       "</table>\n"
      ],
      "text/latex": [
       "A matrix: 4 × 3 of type dbl\n",
       "\\begin{tabular}{r|lll}\n",
       "  & S10 & Tienshan & S10\\_Tienshan\\\\\n",
       "\\hline\n",
       "\tS10\\_Control & -1 &  0 & -0.5\\\\\n",
       "\tS10\\_Treatment &  1 &  0 &  0.5\\\\\n",
       "\tTienshan\\_Control &  0 & -1 & -0.5\\\\\n",
       "\tTienshan\\_Treatment &  0 &  1 &  0.5\\\\\n",
       "\\end{tabular}\n"
      ],
      "text/markdown": [
       "\n",
       "A matrix: 4 × 3 of type dbl\n",
       "\n",
       "| <!--/--> | S10 | Tienshan | S10_Tienshan |\n",
       "|---|---|---|---|\n",
       "| S10_Control | -1 |  0 | -0.5 |\n",
       "| S10_Treatment |  1 |  0 |  0.5 |\n",
       "| Tienshan_Control |  0 | -1 | -0.5 |\n",
       "| Tienshan_Treatment |  0 |  1 |  0.5 |\n",
       "\n"
      ],
      "text/plain": [
       "                    Contrasts\n",
       "Levels               S10 Tienshan S10_Tienshan\n",
       "  S10_Control        -1   0       -0.5        \n",
       "  S10_Treatment       1   0        0.5        \n",
       "  Tienshan_Control    0  -1       -0.5        \n",
       "  Tienshan_Treatment  0   1        0.5        "
      ]
     },
     "metadata": {},
     "output_type": "display_data"
    }
   ],
   "source": [
    "contrasts <- makeContrasts(\n",
    "                S10 = S10_Treatment-S10_Control,\n",
    "                Tienshan = Tienshan_Treatment-Tienshan_Control,\n",
    "                S10_Tienshan= (S10_Treatment+Tienshan_Treatment)/2 - (S10_Control+Tienshan_Control)/2,\n",
    "                levels=design.matrix)\n",
    "contrasts"
   ]
  },
  {
   "cell_type": "markdown",
   "metadata": {
    "id": "rTfNfL_DVPL4"
   },
   "source": [
    "*   *Any ideas for other contrasts that migth be interesting to explore?*\n",
    "\n",
    "\n",
    "\n",
    "\n",
    "\n"
   ]
  },
  {
   "cell_type": "markdown",
   "metadata": {
    "id": "B3bw7RR6h7YB"
   },
   "source": [
    "The following cell will run two mandatory steps in order to fit a model in edgeR. First, the dispersion needs to be estimated, this is a measure of the degree of inter-library variation for each gene. Afterwards, a QL ( quasi-likelihood) model representing the sample design is fitted using the \"glmQLFit\" function. You can read more about these steps in the edgeR user guide."
   ]
  },
  {
   "cell_type": "code",
   "execution_count": 14,
   "metadata": {
    "executionInfo": {
     "elapsed": 592,
     "status": "ok",
     "timestamp": 1654592493067,
     "user": {
      "displayName": "Lavinia Fechete",
      "userId": "03683080993527566677"
     },
     "user_tz": -120
    },
    "id": "zM841xCPyFIJ",
    "tags": [],
    "vscode": {
     "languageId": "r"
    }
   },
   "outputs": [],
   "source": [
    "DGEList <- estimateDisp(DGEList, design.matrix)\n",
    "fit <- glmQLFit(DGEList, design.matrix)"
   ]
  },
  {
   "cell_type": "markdown",
   "metadata": {
    "id": "7tzzIZjq7Qcb"
   },
   "source": [
    "## DEGs for White clover S10 plants Treatment vs Control\n",
    "\n",
    "Find DEGs for White clover S10 plants in Treatment condition compared with the Control condition\n",
    "We will test for differentially expressed genes using the quasi-likelihood F-tests method. This is easily done just by running the \"glmQFTest\" function on the fit model and selecting one of the contrasts we created above (in this case the \"S10\" contrast).\n",
    "\n",
    "Next, we will use the topTags function to extract the information about all the genes."
   ]
  },
  {
   "cell_type": "code",
   "execution_count": 15,
   "metadata": {
    "colab": {
     "base_uri": "https://localhost:8080/"
    },
    "executionInfo": {
     "elapsed": 3844,
     "status": "ok",
     "timestamp": 1654592502170,
     "user": {
      "displayName": "Lavinia Fechete",
      "userId": "03683080993527566677"
     },
     "user_tz": -120
    },
    "id": "6vOoqgc_V3EI",
    "outputId": "98005ba9-3ece-4af3-dbbb-bda6f571f6fe",
    "tags": [],
    "vscode": {
     "languageId": "r"
    }
   },
   "outputs": [
    {
     "data": {
      "text/html": [
       "<dl>\n",
       "\t<dt>$table</dt>\n",
       "\t\t<dd><table class=\"dataframe\">\n",
       "<caption>A data.frame: 163 × 5</caption>\n",
       "<thead>\n",
       "\t<tr><th></th><th scope=col>logFC</th><th scope=col>logCPM</th><th scope=col>F</th><th scope=col>PValue</th><th scope=col>FDR</th></tr>\n",
       "\t<tr><th></th><th scope=col>&lt;dbl&gt;</th><th scope=col>&lt;dbl&gt;</th><th scope=col>&lt;dbl&gt;</th><th scope=col>&lt;dbl&gt;</th><th scope=col>&lt;dbl&gt;</th></tr>\n",
       "</thead>\n",
       "<tbody>\n",
       "\t<tr><th scope=row>g39</th><td> 3.5861702</td><td>14.124630</td><td>336.66158</td><td>5.227331e-10</td><td>8.520550e-08</td></tr>\n",
       "\t<tr><th scope=row>g232</th><td> 4.0494125</td><td>11.950441</td><td>157.50997</td><td>3.685988e-08</td><td>2.591779e-06</td></tr>\n",
       "\t<tr><th scope=row>g6</th><td> 2.3225347</td><td>12.999541</td><td>150.27854</td><td>4.770146e-08</td><td>2.591779e-06</td></tr>\n",
       "\t<tr><th scope=row>g350</th><td> 2.0530029</td><td>13.324566</td><td> 97.56453</td><td>4.890245e-07</td><td>1.992775e-05</td></tr>\n",
       "\t<tr><th scope=row>g99</th><td>-1.5387874</td><td>11.681004</td><td> 85.17478</td><td>9.976659e-07</td><td>3.195090e-05</td></tr>\n",
       "\t<tr><th scope=row>g142</th><td>-1.4235276</td><td>13.830692</td><td> 82.52308</td><td>1.176107e-06</td><td>3.195090e-05</td></tr>\n",
       "\t<tr><th scope=row>g240</th><td> 1.3603712</td><td>14.708794</td><td> 79.98114</td><td>1.383201e-06</td><td>3.220882e-05</td></tr>\n",
       "\t<tr><th scope=row>g269</th><td>-1.4191681</td><td>11.834217</td><td> 75.66563</td><td>1.841279e-06</td><td>3.751606e-05</td></tr>\n",
       "\t<tr><th scope=row>g26</th><td> 2.1254241</td><td>11.366827</td><td> 68.55898</td><td>3.047273e-06</td><td>5.518949e-05</td></tr>\n",
       "\t<tr><th scope=row>g129</th><td>-5.3324794</td><td> 8.679594</td><td> 60.45459</td><td>5.738115e-06</td><td>9.353127e-05</td></tr>\n",
       "\t<tr><th scope=row>g272</th><td> 3.1405978</td><td>13.860652</td><td> 59.08187</td><td>6.432977e-06</td><td>9.532503e-05</td></tr>\n",
       "\t<tr><th scope=row>g157</th><td> 5.3813801</td><td>10.414972</td><td> 57.03712</td><td>7.659515e-06</td><td>1.040417e-04</td></tr>\n",
       "\t<tr><th scope=row>g42</th><td>-1.9856547</td><td> 9.962762</td><td> 53.97164</td><td>1.005146e-05</td><td>1.260298e-04</td></tr>\n",
       "\t<tr><th scope=row>g165</th><td> 2.2666761</td><td>13.690016</td><td> 51.66777</td><td>1.243606e-05</td><td>1.447913e-04</td></tr>\n",
       "\t<tr><th scope=row>g101</th><td> 3.1488142</td><td>13.181625</td><td> 48.21727</td><td>1.736838e-05</td><td>1.887363e-04</td></tr>\n",
       "\t<tr><th scope=row>g15</th><td> 2.7410696</td><td>10.684840</td><td> 47.29143</td><td>1.906062e-05</td><td>1.941800e-04</td></tr>\n",
       "\t<tr><th scope=row>g210</th><td>-2.2430064</td><td> 9.993002</td><td> 46.52627</td><td>2.060621e-05</td><td>1.975772e-04</td></tr>\n",
       "\t<tr><th scope=row>g299</th><td>-2.3509276</td><td>10.984491</td><td> 45.75893</td><td>2.230566e-05</td><td>2.019901e-04</td></tr>\n",
       "\t<tr><th scope=row>g103</th><td> 2.6810410</td><td>10.579777</td><td> 44.26963</td><td>2.609599e-05</td><td>2.238762e-04</td></tr>\n",
       "\t<tr><th scope=row>g144</th><td>-0.7963477</td><td>16.186987</td><td> 43.17707</td><td>2.936057e-05</td><td>2.392886e-04</td></tr>\n",
       "\t<tr><th scope=row>g77</th><td> 1.0984806</td><td>14.118231</td><td> 41.46740</td><td>3.548119e-05</td><td>2.754016e-04</td></tr>\n",
       "\t<tr><th scope=row>g125</th><td>-1.3099534</td><td>10.195970</td><td> 39.85537</td><td>4.266319e-05</td><td>3.160955e-04</td></tr>\n",
       "\t<tr><th scope=row>g298</th><td>-2.0471647</td><td> 9.837072</td><td> 33.49832</td><td>9.395967e-05</td><td>6.658881e-04</td></tr>\n",
       "\t<tr><th scope=row>g104</th><td> 2.4081173</td><td> 9.219160</td><td> 38.54240</td><td>1.121281e-04</td><td>7.615370e-04</td></tr>\n",
       "\t<tr><th scope=row>g122</th><td>-0.6485441</td><td>12.457152</td><td> 30.90261</td><td>1.341148e-04</td><td>8.744287e-04</td></tr>\n",
       "\t<tr><th scope=row>g164</th><td> 1.4415064</td><td>11.156457</td><td> 30.50383</td><td>1.419308e-04</td><td>8.897970e-04</td></tr>\n",
       "\t<tr><th scope=row>g146</th><td> 1.3983889</td><td>12.824184</td><td> 29.92911</td><td>1.541544e-04</td><td>9.306356e-04</td></tr>\n",
       "\t<tr><th scope=row>g313</th><td> 2.2492040</td><td>13.614815</td><td> 28.41728</td><td>1.926822e-04</td><td>1.121686e-03</td></tr>\n",
       "\t<tr><th scope=row>g150</th><td> 1.9650641</td><td>13.229706</td><td> 27.90020</td><td>2.083770e-04</td><td>1.171222e-03</td></tr>\n",
       "\t<tr><th scope=row>g13</th><td>-0.6522187</td><td>13.101579</td><td> 26.45593</td><td>2.608176e-04</td><td>1.417109e-03</td></tr>\n",
       "\t<tr><th scope=row>⋮</th><td>⋮</td><td>⋮</td><td>⋮</td><td>⋮</td><td>⋮</td></tr>\n",
       "\t<tr><th scope=row>g96</th><td>-1.873792302</td><td> 8.939397</td><td>0.4844512655</td><td>0.4999546</td><td>0.6041584</td></tr>\n",
       "\t<tr><th scope=row>g10</th><td> 0.233134670</td><td>14.382992</td><td>0.4834790913</td><td>0.5003766</td><td>0.6041584</td></tr>\n",
       "\t<tr><th scope=row>g253</th><td> 0.052426914</td><td>13.741219</td><td>0.3075042687</td><td>0.5896191</td><td>0.7066759</td></tr>\n",
       "\t<tr><th scope=row>g289</th><td>-0.212573283</td><td> 9.390864</td><td>0.2887857862</td><td>0.6010328</td><td>0.7150974</td></tr>\n",
       "\t<tr><th scope=row>g312</th><td> 0.093543041</td><td>10.849110</td><td>0.2666731965</td><td>0.6151559</td><td>0.7265972</td></tr>\n",
       "\t<tr><th scope=row>g301</th><td>-0.102000599</td><td>10.135184</td><td>0.2572520652</td><td>0.6214023</td><td>0.7274503</td></tr>\n",
       "\t<tr><th scope=row>g221</th><td>-0.277095720</td><td> 8.469909</td><td>0.2522121463</td><td>0.6248039</td><td>0.7274503</td></tr>\n",
       "\t<tr><th scope=row>g162</th><td>-0.145155616</td><td> 8.517263</td><td>0.2278112475</td><td>0.6463283</td><td>0.7413085</td></tr>\n",
       "\t<tr><th scope=row>g50</th><td>-0.170907352</td><td> 8.749274</td><td>0.2158314533</td><td>0.6507284</td><td>0.7413085</td></tr>\n",
       "\t<tr><th scope=row>g203</th><td> 0.062836598</td><td>14.227601</td><td>0.2124612164</td><td>0.6532634</td><td>0.7413085</td></tr>\n",
       "\t<tr><th scope=row>g88</th><td> 0.045949497</td><td>14.235850</td><td>0.2103049178</td><td>0.6548983</td><td>0.7413085</td></tr>\n",
       "\t<tr><th scope=row>g355</th><td>-0.287897714</td><td> 8.890754</td><td>0.1803234432</td><td>0.6787703</td><td>0.7630314</td></tr>\n",
       "\t<tr><th scope=row>g204</th><td>-0.055975779</td><td>11.947887</td><td>0.1408988543</td><td>0.7140799</td><td>0.7972262</td></tr>\n",
       "\t<tr><th scope=row>g306</th><td> 0.054269738</td><td>11.294732</td><td>0.0923937800</td><td>0.7664733</td><td>0.8498990</td></tr>\n",
       "\t<tr><th scope=row>g193</th><td> 0.049946343</td><td>11.682386</td><td>0.0642557849</td><td>0.8042743</td><td>0.8857886</td></tr>\n",
       "\t<tr><th scope=row>g205</th><td> 0.037877227</td><td>10.986961</td><td>0.0473457745</td><td>0.8314821</td><td>0.9029713</td></tr>\n",
       "\t<tr><th scope=row>g194</th><td>-0.142990391</td><td> 9.403497</td><td>0.0447552162</td><td>0.8360811</td><td>0.9029713</td></tr>\n",
       "\t<tr><th scope=row>g362</th><td> 0.025629967</td><td>11.336529</td><td>0.0415198735</td><td>0.8420254</td><td>0.9029713</td></tr>\n",
       "\t<tr><th scope=row>g315</th><td> 0.027958374</td><td>11.878331</td><td>0.0409766489</td><td>0.8430470</td><td>0.9029713</td></tr>\n",
       "\t<tr><th scope=row>g180</th><td> 0.059680256</td><td>15.711409</td><td>0.0386140448</td><td>0.8475743</td><td>0.9029713</td></tr>\n",
       "\t<tr><th scope=row>g282</th><td>-0.026492114</td><td>11.756078</td><td>0.0247991469</td><td>0.8775434</td><td>0.9288284</td></tr>\n",
       "\t<tr><th scope=row>g176</th><td>-0.061055115</td><td> 8.587203</td><td>0.0144510429</td><td>0.9063467</td><td>0.9531258</td></tr>\n",
       "\t<tr><th scope=row>g126</th><td> 0.061707217</td><td> 8.311212</td><td>0.0024786868</td><td>0.9648334</td><td>1.0000000</td></tr>\n",
       "\t<tr><th scope=row>g128</th><td> 0.063825269</td><td> 7.671043</td><td>0.0019414812</td><td>0.9655950</td><td>1.0000000</td></tr>\n",
       "\t<tr><th scope=row>g227</th><td>-0.025740630</td><td> 7.939955</td><td>0.0011908008</td><td>0.9730516</td><td>1.0000000</td></tr>\n",
       "\t<tr><th scope=row>g121</th><td> 0.002660852</td><td>12.896620</td><td>0.0005233398</td><td>0.9821327</td><td>1.0000000</td></tr>\n",
       "\t<tr><th scope=row>g284</th><td> 0.000000000</td><td> 8.538720</td><td>0.0000000000</td><td>1.0000000</td><td>1.0000000</td></tr>\n",
       "\t<tr><th scope=row>g116</th><td> 0.000000000</td><td> 7.180297</td><td>0.0000000000</td><td>1.0000000</td><td>1.0000000</td></tr>\n",
       "\t<tr><th scope=row>g117</th><td> 0.000000000</td><td> 7.033307</td><td>0.0000000000</td><td>1.0000000</td><td>1.0000000</td></tr>\n",
       "\t<tr><th scope=row>g118</th><td> 0.000000000</td><td> 7.515646</td><td>0.0000000000</td><td>1.0000000</td><td>1.0000000</td></tr>\n",
       "</tbody>\n",
       "</table>\n",
       "</dd>\n",
       "\t<dt>$adjust.method</dt>\n",
       "\t\t<dd>'BH'</dd>\n",
       "\t<dt>$comparison</dt>\n",
       "\t\t<dd>'-1*S10_Control 1*S10_Treatment'</dd>\n",
       "\t<dt>$test</dt>\n",
       "\t\t<dd>'glm'</dd>\n",
       "</dl>\n"
      ],
      "text/latex": [
       "\\begin{description}\n",
       "\\item[\\$table] A data.frame: 163 × 5\n",
       "\\begin{tabular}{r|lllll}\n",
       "  & logFC & logCPM & F & PValue & FDR\\\\\n",
       "  & <dbl> & <dbl> & <dbl> & <dbl> & <dbl>\\\\\n",
       "\\hline\n",
       "\tg39 &  3.5861702 & 14.124630 & 336.66158 & 5.227331e-10 & 8.520550e-08\\\\\n",
       "\tg232 &  4.0494125 & 11.950441 & 157.50997 & 3.685988e-08 & 2.591779e-06\\\\\n",
       "\tg6 &  2.3225347 & 12.999541 & 150.27854 & 4.770146e-08 & 2.591779e-06\\\\\n",
       "\tg350 &  2.0530029 & 13.324566 &  97.56453 & 4.890245e-07 & 1.992775e-05\\\\\n",
       "\tg99 & -1.5387874 & 11.681004 &  85.17478 & 9.976659e-07 & 3.195090e-05\\\\\n",
       "\tg142 & -1.4235276 & 13.830692 &  82.52308 & 1.176107e-06 & 3.195090e-05\\\\\n",
       "\tg240 &  1.3603712 & 14.708794 &  79.98114 & 1.383201e-06 & 3.220882e-05\\\\\n",
       "\tg269 & -1.4191681 & 11.834217 &  75.66563 & 1.841279e-06 & 3.751606e-05\\\\\n",
       "\tg26 &  2.1254241 & 11.366827 &  68.55898 & 3.047273e-06 & 5.518949e-05\\\\\n",
       "\tg129 & -5.3324794 &  8.679594 &  60.45459 & 5.738115e-06 & 9.353127e-05\\\\\n",
       "\tg272 &  3.1405978 & 13.860652 &  59.08187 & 6.432977e-06 & 9.532503e-05\\\\\n",
       "\tg157 &  5.3813801 & 10.414972 &  57.03712 & 7.659515e-06 & 1.040417e-04\\\\\n",
       "\tg42 & -1.9856547 &  9.962762 &  53.97164 & 1.005146e-05 & 1.260298e-04\\\\\n",
       "\tg165 &  2.2666761 & 13.690016 &  51.66777 & 1.243606e-05 & 1.447913e-04\\\\\n",
       "\tg101 &  3.1488142 & 13.181625 &  48.21727 & 1.736838e-05 & 1.887363e-04\\\\\n",
       "\tg15 &  2.7410696 & 10.684840 &  47.29143 & 1.906062e-05 & 1.941800e-04\\\\\n",
       "\tg210 & -2.2430064 &  9.993002 &  46.52627 & 2.060621e-05 & 1.975772e-04\\\\\n",
       "\tg299 & -2.3509276 & 10.984491 &  45.75893 & 2.230566e-05 & 2.019901e-04\\\\\n",
       "\tg103 &  2.6810410 & 10.579777 &  44.26963 & 2.609599e-05 & 2.238762e-04\\\\\n",
       "\tg144 & -0.7963477 & 16.186987 &  43.17707 & 2.936057e-05 & 2.392886e-04\\\\\n",
       "\tg77 &  1.0984806 & 14.118231 &  41.46740 & 3.548119e-05 & 2.754016e-04\\\\\n",
       "\tg125 & -1.3099534 & 10.195970 &  39.85537 & 4.266319e-05 & 3.160955e-04\\\\\n",
       "\tg298 & -2.0471647 &  9.837072 &  33.49832 & 9.395967e-05 & 6.658881e-04\\\\\n",
       "\tg104 &  2.4081173 &  9.219160 &  38.54240 & 1.121281e-04 & 7.615370e-04\\\\\n",
       "\tg122 & -0.6485441 & 12.457152 &  30.90261 & 1.341148e-04 & 8.744287e-04\\\\\n",
       "\tg164 &  1.4415064 & 11.156457 &  30.50383 & 1.419308e-04 & 8.897970e-04\\\\\n",
       "\tg146 &  1.3983889 & 12.824184 &  29.92911 & 1.541544e-04 & 9.306356e-04\\\\\n",
       "\tg313 &  2.2492040 & 13.614815 &  28.41728 & 1.926822e-04 & 1.121686e-03\\\\\n",
       "\tg150 &  1.9650641 & 13.229706 &  27.90020 & 2.083770e-04 & 1.171222e-03\\\\\n",
       "\tg13 & -0.6522187 & 13.101579 &  26.45593 & 2.608176e-04 & 1.417109e-03\\\\\n",
       "\t⋮ & ⋮ & ⋮ & ⋮ & ⋮ & ⋮\\\\\n",
       "\tg96 & -1.873792302 &  8.939397 & 0.4844512655 & 0.4999546 & 0.6041584\\\\\n",
       "\tg10 &  0.233134670 & 14.382992 & 0.4834790913 & 0.5003766 & 0.6041584\\\\\n",
       "\tg253 &  0.052426914 & 13.741219 & 0.3075042687 & 0.5896191 & 0.7066759\\\\\n",
       "\tg289 & -0.212573283 &  9.390864 & 0.2887857862 & 0.6010328 & 0.7150974\\\\\n",
       "\tg312 &  0.093543041 & 10.849110 & 0.2666731965 & 0.6151559 & 0.7265972\\\\\n",
       "\tg301 & -0.102000599 & 10.135184 & 0.2572520652 & 0.6214023 & 0.7274503\\\\\n",
       "\tg221 & -0.277095720 &  8.469909 & 0.2522121463 & 0.6248039 & 0.7274503\\\\\n",
       "\tg162 & -0.145155616 &  8.517263 & 0.2278112475 & 0.6463283 & 0.7413085\\\\\n",
       "\tg50 & -0.170907352 &  8.749274 & 0.2158314533 & 0.6507284 & 0.7413085\\\\\n",
       "\tg203 &  0.062836598 & 14.227601 & 0.2124612164 & 0.6532634 & 0.7413085\\\\\n",
       "\tg88 &  0.045949497 & 14.235850 & 0.2103049178 & 0.6548983 & 0.7413085\\\\\n",
       "\tg355 & -0.287897714 &  8.890754 & 0.1803234432 & 0.6787703 & 0.7630314\\\\\n",
       "\tg204 & -0.055975779 & 11.947887 & 0.1408988543 & 0.7140799 & 0.7972262\\\\\n",
       "\tg306 &  0.054269738 & 11.294732 & 0.0923937800 & 0.7664733 & 0.8498990\\\\\n",
       "\tg193 &  0.049946343 & 11.682386 & 0.0642557849 & 0.8042743 & 0.8857886\\\\\n",
       "\tg205 &  0.037877227 & 10.986961 & 0.0473457745 & 0.8314821 & 0.9029713\\\\\n",
       "\tg194 & -0.142990391 &  9.403497 & 0.0447552162 & 0.8360811 & 0.9029713\\\\\n",
       "\tg362 &  0.025629967 & 11.336529 & 0.0415198735 & 0.8420254 & 0.9029713\\\\\n",
       "\tg315 &  0.027958374 & 11.878331 & 0.0409766489 & 0.8430470 & 0.9029713\\\\\n",
       "\tg180 &  0.059680256 & 15.711409 & 0.0386140448 & 0.8475743 & 0.9029713\\\\\n",
       "\tg282 & -0.026492114 & 11.756078 & 0.0247991469 & 0.8775434 & 0.9288284\\\\\n",
       "\tg176 & -0.061055115 &  8.587203 & 0.0144510429 & 0.9063467 & 0.9531258\\\\\n",
       "\tg126 &  0.061707217 &  8.311212 & 0.0024786868 & 0.9648334 & 1.0000000\\\\\n",
       "\tg128 &  0.063825269 &  7.671043 & 0.0019414812 & 0.9655950 & 1.0000000\\\\\n",
       "\tg227 & -0.025740630 &  7.939955 & 0.0011908008 & 0.9730516 & 1.0000000\\\\\n",
       "\tg121 &  0.002660852 & 12.896620 & 0.0005233398 & 0.9821327 & 1.0000000\\\\\n",
       "\tg284 &  0.000000000 &  8.538720 & 0.0000000000 & 1.0000000 & 1.0000000\\\\\n",
       "\tg116 &  0.000000000 &  7.180297 & 0.0000000000 & 1.0000000 & 1.0000000\\\\\n",
       "\tg117 &  0.000000000 &  7.033307 & 0.0000000000 & 1.0000000 & 1.0000000\\\\\n",
       "\tg118 &  0.000000000 &  7.515646 & 0.0000000000 & 1.0000000 & 1.0000000\\\\\n",
       "\\end{tabular}\n",
       "\n",
       "\\item[\\$adjust.method] 'BH'\n",
       "\\item[\\$comparison] '-1*S10\\_Control 1*S10\\_Treatment'\n",
       "\\item[\\$test] 'glm'\n",
       "\\end{description}\n"
      ],
      "text/markdown": [
       "$table\n",
       ":   \n",
       "A data.frame: 163 × 5\n",
       "\n",
       "| <!--/--> | logFC &lt;dbl&gt; | logCPM &lt;dbl&gt; | F &lt;dbl&gt; | PValue &lt;dbl&gt; | FDR &lt;dbl&gt; |\n",
       "|---|---|---|---|---|---|\n",
       "| g39 |  3.5861702 | 14.124630 | 336.66158 | 5.227331e-10 | 8.520550e-08 |\n",
       "| g232 |  4.0494125 | 11.950441 | 157.50997 | 3.685988e-08 | 2.591779e-06 |\n",
       "| g6 |  2.3225347 | 12.999541 | 150.27854 | 4.770146e-08 | 2.591779e-06 |\n",
       "| g350 |  2.0530029 | 13.324566 |  97.56453 | 4.890245e-07 | 1.992775e-05 |\n",
       "| g99 | -1.5387874 | 11.681004 |  85.17478 | 9.976659e-07 | 3.195090e-05 |\n",
       "| g142 | -1.4235276 | 13.830692 |  82.52308 | 1.176107e-06 | 3.195090e-05 |\n",
       "| g240 |  1.3603712 | 14.708794 |  79.98114 | 1.383201e-06 | 3.220882e-05 |\n",
       "| g269 | -1.4191681 | 11.834217 |  75.66563 | 1.841279e-06 | 3.751606e-05 |\n",
       "| g26 |  2.1254241 | 11.366827 |  68.55898 | 3.047273e-06 | 5.518949e-05 |\n",
       "| g129 | -5.3324794 |  8.679594 |  60.45459 | 5.738115e-06 | 9.353127e-05 |\n",
       "| g272 |  3.1405978 | 13.860652 |  59.08187 | 6.432977e-06 | 9.532503e-05 |\n",
       "| g157 |  5.3813801 | 10.414972 |  57.03712 | 7.659515e-06 | 1.040417e-04 |\n",
       "| g42 | -1.9856547 |  9.962762 |  53.97164 | 1.005146e-05 | 1.260298e-04 |\n",
       "| g165 |  2.2666761 | 13.690016 |  51.66777 | 1.243606e-05 | 1.447913e-04 |\n",
       "| g101 |  3.1488142 | 13.181625 |  48.21727 | 1.736838e-05 | 1.887363e-04 |\n",
       "| g15 |  2.7410696 | 10.684840 |  47.29143 | 1.906062e-05 | 1.941800e-04 |\n",
       "| g210 | -2.2430064 |  9.993002 |  46.52627 | 2.060621e-05 | 1.975772e-04 |\n",
       "| g299 | -2.3509276 | 10.984491 |  45.75893 | 2.230566e-05 | 2.019901e-04 |\n",
       "| g103 |  2.6810410 | 10.579777 |  44.26963 | 2.609599e-05 | 2.238762e-04 |\n",
       "| g144 | -0.7963477 | 16.186987 |  43.17707 | 2.936057e-05 | 2.392886e-04 |\n",
       "| g77 |  1.0984806 | 14.118231 |  41.46740 | 3.548119e-05 | 2.754016e-04 |\n",
       "| g125 | -1.3099534 | 10.195970 |  39.85537 | 4.266319e-05 | 3.160955e-04 |\n",
       "| g298 | -2.0471647 |  9.837072 |  33.49832 | 9.395967e-05 | 6.658881e-04 |\n",
       "| g104 |  2.4081173 |  9.219160 |  38.54240 | 1.121281e-04 | 7.615370e-04 |\n",
       "| g122 | -0.6485441 | 12.457152 |  30.90261 | 1.341148e-04 | 8.744287e-04 |\n",
       "| g164 |  1.4415064 | 11.156457 |  30.50383 | 1.419308e-04 | 8.897970e-04 |\n",
       "| g146 |  1.3983889 | 12.824184 |  29.92911 | 1.541544e-04 | 9.306356e-04 |\n",
       "| g313 |  2.2492040 | 13.614815 |  28.41728 | 1.926822e-04 | 1.121686e-03 |\n",
       "| g150 |  1.9650641 | 13.229706 |  27.90020 | 2.083770e-04 | 1.171222e-03 |\n",
       "| g13 | -0.6522187 | 13.101579 |  26.45593 | 2.608176e-04 | 1.417109e-03 |\n",
       "| ⋮ | ⋮ | ⋮ | ⋮ | ⋮ | ⋮ |\n",
       "| g96 | -1.873792302 |  8.939397 | 0.4844512655 | 0.4999546 | 0.6041584 |\n",
       "| g10 |  0.233134670 | 14.382992 | 0.4834790913 | 0.5003766 | 0.6041584 |\n",
       "| g253 |  0.052426914 | 13.741219 | 0.3075042687 | 0.5896191 | 0.7066759 |\n",
       "| g289 | -0.212573283 |  9.390864 | 0.2887857862 | 0.6010328 | 0.7150974 |\n",
       "| g312 |  0.093543041 | 10.849110 | 0.2666731965 | 0.6151559 | 0.7265972 |\n",
       "| g301 | -0.102000599 | 10.135184 | 0.2572520652 | 0.6214023 | 0.7274503 |\n",
       "| g221 | -0.277095720 |  8.469909 | 0.2522121463 | 0.6248039 | 0.7274503 |\n",
       "| g162 | -0.145155616 |  8.517263 | 0.2278112475 | 0.6463283 | 0.7413085 |\n",
       "| g50 | -0.170907352 |  8.749274 | 0.2158314533 | 0.6507284 | 0.7413085 |\n",
       "| g203 |  0.062836598 | 14.227601 | 0.2124612164 | 0.6532634 | 0.7413085 |\n",
       "| g88 |  0.045949497 | 14.235850 | 0.2103049178 | 0.6548983 | 0.7413085 |\n",
       "| g355 | -0.287897714 |  8.890754 | 0.1803234432 | 0.6787703 | 0.7630314 |\n",
       "| g204 | -0.055975779 | 11.947887 | 0.1408988543 | 0.7140799 | 0.7972262 |\n",
       "| g306 |  0.054269738 | 11.294732 | 0.0923937800 | 0.7664733 | 0.8498990 |\n",
       "| g193 |  0.049946343 | 11.682386 | 0.0642557849 | 0.8042743 | 0.8857886 |\n",
       "| g205 |  0.037877227 | 10.986961 | 0.0473457745 | 0.8314821 | 0.9029713 |\n",
       "| g194 | -0.142990391 |  9.403497 | 0.0447552162 | 0.8360811 | 0.9029713 |\n",
       "| g362 |  0.025629967 | 11.336529 | 0.0415198735 | 0.8420254 | 0.9029713 |\n",
       "| g315 |  0.027958374 | 11.878331 | 0.0409766489 | 0.8430470 | 0.9029713 |\n",
       "| g180 |  0.059680256 | 15.711409 | 0.0386140448 | 0.8475743 | 0.9029713 |\n",
       "| g282 | -0.026492114 | 11.756078 | 0.0247991469 | 0.8775434 | 0.9288284 |\n",
       "| g176 | -0.061055115 |  8.587203 | 0.0144510429 | 0.9063467 | 0.9531258 |\n",
       "| g126 |  0.061707217 |  8.311212 | 0.0024786868 | 0.9648334 | 1.0000000 |\n",
       "| g128 |  0.063825269 |  7.671043 | 0.0019414812 | 0.9655950 | 1.0000000 |\n",
       "| g227 | -0.025740630 |  7.939955 | 0.0011908008 | 0.9730516 | 1.0000000 |\n",
       "| g121 |  0.002660852 | 12.896620 | 0.0005233398 | 0.9821327 | 1.0000000 |\n",
       "| g284 |  0.000000000 |  8.538720 | 0.0000000000 | 1.0000000 | 1.0000000 |\n",
       "| g116 |  0.000000000 |  7.180297 | 0.0000000000 | 1.0000000 | 1.0000000 |\n",
       "| g117 |  0.000000000 |  7.033307 | 0.0000000000 | 1.0000000 | 1.0000000 |\n",
       "| g118 |  0.000000000 |  7.515646 | 0.0000000000 | 1.0000000 | 1.0000000 |\n",
       "\n",
       "\n",
       "$adjust.method\n",
       ":   'BH'\n",
       "$comparison\n",
       ":   '-1*S10_Control 1*S10_Treatment'\n",
       "$test\n",
       ":   'glm'\n",
       "\n",
       "\n"
      ],
      "text/plain": [
       "Coefficient:  -1*S10_Control 1*S10_Treatment \n",
       "            logFC    logCPM            F       PValue          FDR\n",
       "g39   3.586170158 14.124630 3.366616e+02 5.227331e-10 8.520550e-08\n",
       "g232  4.049412536 11.950441 1.575100e+02 3.685988e-08 2.591779e-06\n",
       "g6    2.322534745 12.999541 1.502785e+02 4.770146e-08 2.591779e-06\n",
       "g350  2.053002949 13.324566 9.756453e+01 4.890245e-07 1.992775e-05\n",
       "g99  -1.538787380 11.681004 8.517478e+01 9.976659e-07 3.195090e-05\n",
       "g142 -1.423527632 13.830692 8.252308e+01 1.176107e-06 3.195090e-05\n",
       "g240  1.360371201 14.708794 7.998114e+01 1.383201e-06 3.220882e-05\n",
       "g269 -1.419168115 11.834217 7.566563e+01 1.841279e-06 3.751606e-05\n",
       "g26   2.125424147 11.366827 6.855898e+01 3.047273e-06 5.518949e-05\n",
       "g129 -5.332479420  8.679594 6.045459e+01 5.738115e-06 9.353127e-05\n",
       "g272  3.140597773 13.860652 5.908187e+01 6.432977e-06 9.532503e-05\n",
       "g157  5.381380092 10.414972 5.703712e+01 7.659515e-06 1.040417e-04\n",
       "g42  -1.985654661  9.962762 5.397164e+01 1.005146e-05 1.260298e-04\n",
       "g165  2.266676128 13.690016 5.166777e+01 1.243606e-05 1.447913e-04\n",
       "g101  3.148814246 13.181625 4.821727e+01 1.736838e-05 1.887363e-04\n",
       "g15   2.741069592 10.684840 4.729143e+01 1.906062e-05 1.941800e-04\n",
       "g210 -2.243006367  9.993002 4.652627e+01 2.060621e-05 1.975772e-04\n",
       "g299 -2.350927573 10.984491 4.575893e+01 2.230566e-05 2.019901e-04\n",
       "g103  2.681041038 10.579777 4.426963e+01 2.609599e-05 2.238762e-04\n",
       "g144 -0.796347674 16.186987 4.317707e+01 2.936057e-05 2.392886e-04\n",
       "g77   1.098480570 14.118231 4.146740e+01 3.548119e-05 2.754016e-04\n",
       "g125 -1.309953400 10.195970 3.985537e+01 4.266319e-05 3.160955e-04\n",
       "g298 -2.047164746  9.837072 3.349832e+01 9.395967e-05 6.658881e-04\n",
       "g104  2.408117271  9.219160 3.854240e+01 1.121281e-04 7.615370e-04\n",
       "g122 -0.648544071 12.457152 3.090261e+01 1.341148e-04 8.744287e-04\n",
       "g164  1.441506374 11.156457 3.050383e+01 1.419308e-04 8.897970e-04\n",
       "g146  1.398388938 12.824184 2.992911e+01 1.541544e-04 9.306356e-04\n",
       "g313  2.249204005 13.614815 2.841728e+01 1.926822e-04 1.121686e-03\n",
       "g150  1.965064055 13.229706 2.790020e+01 2.083770e-04 1.171222e-03\n",
       "g13  -0.652218699 13.101579 2.645593e+01 2.608176e-04 1.417109e-03\n",
       "g264 -1.015656673  9.862040 2.530880e+01 3.137196e-04 1.649558e-03\n",
       "g152  0.819936972 11.740191 2.496321e+01 3.320575e-04 1.691418e-03\n",
       "g218 -1.453461293 10.179881 2.446290e+01 3.608804e-04 1.782530e-03\n",
       "g151  1.043086248 10.022957 2.371034e+01 4.099535e-04 1.965365e-03\n",
       "g84  -0.977638825  9.773978 2.098079e+01 6.675001e-04 3.108643e-03\n",
       "g90   4.203024995 12.699197 2.047469e+01 7.340823e-04 3.323761e-03\n",
       "g212 -1.351173259  9.414777 1.974171e+01 8.448523e-04 3.721917e-03\n",
       "g37  -2.287349210 10.808108 1.912659e+01 9.531808e-04 4.088644e-03\n",
       "g127 -1.112391020  9.453116 1.832080e+01 1.120759e-03 4.684196e-03\n",
       "g265 -2.737112958  7.136963 1.783755e+01 1.237837e-03 5.044186e-03\n",
       "g92  -0.857239165 10.983975 1.600510e+01 1.834107e-03 7.291695e-03\n",
       "g184  1.372677539 10.236796 1.530448e+01 2.147530e-03 8.334462e-03\n",
       "g105  1.521498298  9.078678 1.437599e+01 2.665346e-03 1.010352e-02\n",
       "g196  0.808257714 10.566009 1.378480e+01 3.071822e-03 1.137970e-02\n",
       "g237 -1.264062691  9.156264 1.321928e+01 3.530518e-03 1.278832e-02\n",
       "g309  1.055486591 13.300908 1.299072e+01 3.738472e-03 1.324719e-02\n",
       "g290 -2.770987584  7.697263 1.256618e+01 4.164274e-03 1.444206e-02\n",
       "g200 -2.357155577  9.856977 1.227726e+01 4.486832e-03 1.523653e-02\n",
       "g197  2.210664683  8.588200 1.213504e+01 4.656358e-03 1.548952e-02\n",
       "g24   1.227032152  9.514606 1.173809e+01 5.170983e-03 1.685740e-02\n",
       "g287 -1.153799491  9.236498 1.156194e+01 5.420648e-03 1.732482e-02\n",
       "g231 -0.367275582 12.296078 1.109290e+01 6.157887e-03 1.930261e-02\n",
       "g258 -0.433865995 12.442160 1.097685e+01 6.358147e-03 1.955430e-02\n",
       "g182 -1.268561868  7.873846 1.087755e+01 6.535639e-03 1.972795e-02\n",
       "g348 -3.328221815  8.545399 1.024526e+01 7.813303e-03 2.315579e-02\n",
       "g288 -0.618570121 12.681492 1.016316e+01 7.999983e-03 2.328566e-02\n",
       "g56   0.617021665 10.565125 1.006038e+01 8.241158e-03 2.356682e-02\n",
       "g18  -0.572949398 12.038627 9.715778e+00 9.114778e-03 2.561567e-02\n",
       "g44  -0.747787922  9.573581 8.878211e+00 1.173692e-02 3.212985e-02\n",
       "g163  2.331124644  8.090217 8.853497e+00 1.182694e-02 3.212985e-02\n",
       "g238  1.135960096 12.342216 8.709275e+00 1.236882e-02 3.305111e-02\n",
       "g278  3.749247873  9.462726 9.243937e+00 1.281342e-02 3.368689e-02\n",
       "g223 -0.463987996 15.298863 8.467783e+00 1.334344e-02 3.452351e-02\n",
       "g141 -0.493128411 11.304859 8.215370e+00 1.446088e-02 3.683004e-02\n",
       "g308 -0.514814862 15.422876 8.073013e+00 1.513991e-02 3.796623e-02\n",
       "g148 -1.159339389  8.595224 7.853182e+00 1.626422e-02 4.016769e-02\n",
       "g153  0.537607041 11.137723 7.555886e+00 1.794627e-02 4.366033e-02\n",
       "g352  0.647373259 13.622977 7.394067e+00 1.894836e-02 4.542034e-02\n",
       "g274 -2.485211519  8.412923 7.195736e+00 2.026864e-02 4.788098e-02\n",
       "g161 -2.606656543  8.880330 7.083623e+00 2.106326e-02 4.904731e-02\n",
       "g277 -1.260466967  7.799447 7.409725e+00 2.184688e-02 5.015552e-02\n",
       "g58  -0.324772251 12.566855 6.422878e+00 2.657663e-02 5.995795e-02\n",
       "g112 -1.633392455  8.656027 6.363306e+00 2.715358e-02 5.995795e-02\n",
       "g273  2.141576652  7.587979 6.356528e+00 2.722017e-02 5.995795e-02\n",
       "g181 -0.350898192 13.453927 5.964386e+00 3.142669e-02 6.761789e-02\n",
       "g247 -1.805256548  8.424523 5.955782e+00 3.152736e-02 6.761789e-02\n",
       "g86  -0.779060251 10.624138 5.814004e+00 3.324294e-02 7.037143e-02\n",
       "g360  1.872202109  7.900076 7.695352e+00 3.951119e-02 8.166209e-02\n",
       "g120  1.927948618  8.134755 5.357493e+00 3.957856e-02 8.166209e-02\n",
       "g263 -1.186468739  8.104729 5.082046e+00 4.410329e-02 8.986045e-02\n",
       "g229  0.680941891  9.154799 4.985791e+00 4.582921e-02 9.222422e-02\n",
       "g55   0.384110539 15.667226 4.910937e+00 4.722771e-02 9.387947e-02\n",
       "g234 -0.809409375 13.004174 5.026207e+00 5.191007e-02 1.019439e-01\n",
       "g54   0.357826850 13.969007 4.610042e+00 5.339416e-02 1.036101e-01\n",
       "g262 -2.157882707 10.012909 4.574767e+00 5.417898e-02 1.038962e-01\n",
       "g254  3.979453650  7.816122 4.612471e+00 5.798782e-02 1.099071e-01\n",
       "g93  -0.231212110 11.634140 4.213272e+00 6.308161e-02 1.181874e-01\n",
       "g285  0.283349750 12.398742 4.041042e+00 6.794258e-02 1.258482e-01\n",
       "g8    0.677699775  8.594165 3.321653e+00 9.391365e-02 1.719991e-01\n",
       "g40  -0.313185498 10.406557 3.142416e+00 1.021901e-01 1.838817e-01\n",
       "g139 -2.487450625  6.934583 5.134798e+00 1.035617e-01 1.838817e-01\n",
       "g9   -0.222609995 13.473325 3.099767e+00 1.042903e-01 1.838817e-01\n",
       "g73  -1.386320985 10.190256 3.077449e+00 1.054106e-01 1.838817e-01\n",
       "g76   0.670418153  8.281031 3.064995e+00 1.060422e-01 1.838817e-01\n",
       "g168 -1.945065506  8.329541 2.962607e+00 1.114164e-01 1.911670e-01\n",
       "g123  0.230666284 12.436814 2.702152e+00 1.266920e-01 2.151125e-01\n",
       "g222 -0.347647281 14.154914 2.627062e+00 1.315743e-01 2.210991e-01\n",
       "g242  0.331250003 10.586393 2.506885e+00 1.398893e-01 2.326731e-01\n",
       "g261 -0.205307757 13.781759 2.453244e+00 1.438138e-01 2.354162e-01\n",
       "g188 -0.451952095 13.611960 2.445026e+00 1.444271e-01 2.354162e-01\n",
       "g19  -0.570906176 12.930873 2.320048e+00 1.541768e-01 2.488200e-01\n",
       "g195 -0.311025984 10.300617 2.237639e+00 1.610648e-01 2.573879e-01\n",
       "g214 -0.343940556 10.379760 2.020266e+00 1.812161e-01 2.858087e-01\n",
       "g95  -0.190000000 13.561299 2.008900e+00 1.823565e-01 2.858087e-01\n",
       "g79  -0.322769314 10.810041 1.912704e+00 1.923898e-01 2.986623e-01\n",
       "g236 -0.918103515  8.588433 1.679614e+00 2.198643e-01 3.380932e-01\n",
       "g47  -0.278621748 10.317451 1.632775e+00 2.259974e-01 3.442764e-01\n",
       "g89   1.793102874  9.570140 1.981959e+00 2.285887e-01 3.449996e-01\n",
       "g228 -0.894006550  7.447320 1.590655e+00 2.317077e-01 3.464987e-01\n",
       "g87  -0.185137997 11.399716 1.444772e+00 2.530431e-01 3.749639e-01\n",
       "g175  0.159093221 12.018791 1.407326e+00 2.589437e-01 3.802507e-01\n",
       "g286  0.265149160 11.927418 1.338019e+00 2.703687e-01 3.934831e-01\n",
       "g246 -1.301600298  8.174044 1.255651e+00 2.848656e-01 4.109124e-01\n",
       "g307 -0.126505048 15.495813 1.152832e+00 3.045212e-01 4.317196e-01\n",
       "g336 -0.205181177 10.620492 1.208683e+00 3.045874e-01 4.317196e-01\n",
       "g100 -0.183649533 10.699926 1.137790e+00 3.075551e-01 4.321679e-01\n",
       "g173  0.259404017 10.967800 1.093674e+00 3.167043e-01 4.412205e-01\n",
       "g72  -1.013538380  8.030937 1.055552e+00 3.249262e-01 4.451881e-01\n",
       "g226  0.325676025  9.118055 1.055149e+00 3.250146e-01 4.451881e-01\n",
       "g244 -0.324148354  9.541512 1.038623e+00 3.286757e-01 4.464511e-01\n",
       "g7   -0.164156458 16.581142 9.303756e-01 3.542056e-01 4.771530e-01\n",
       "g20  -0.168457341 11.639908 9.167565e-01 3.576223e-01 4.778068e-01\n",
       "g270  0.945318492  7.947509 8.691575e-01 3.699572e-01 4.902685e-01\n",
       "g51  -0.274002238 10.250171 8.523120e-01 3.744758e-01 4.922545e-01\n",
       "g149  0.170102266 10.640383 8.366145e-01 3.787620e-01 4.927485e-01\n",
       "g283  0.127543276 12.199411 8.288933e-01 3.808976e-01 4.927485e-01\n",
       "g217  0.824058375  7.463636 8.126255e-01 3.854576e-01 4.947212e-01\n",
       "g190  0.354202404  8.456866 7.608434e-01 4.005448e-01 5.100688e-01\n",
       "g271 -0.195023401 11.117256 7.262412e-01 4.111446e-01 5.195083e-01\n",
       "g25   0.174701473  9.986579 6.193904e-01 4.468642e-01 5.602989e-01\n",
       "g38   0.097789320 13.948604 6.060392e-01 4.516819e-01 5.605870e-01\n",
       "g187 -0.784640771  8.978649 1.184697e+00 4.539723e-01 5.605870e-01\n",
       "g124  0.162046306 11.220142 5.110854e-01 4.886363e-01 5.988550e-01\n",
       "g96  -1.873792302  8.939397 4.844513e-01 4.999546e-01 6.041584e-01\n",
       "g10   0.233134670 14.382992 4.834791e-01 5.003766e-01 6.041584e-01\n",
       "g253  0.052426914 13.741219 3.075043e-01 5.896191e-01 7.066759e-01\n",
       "g289 -0.212573283  9.390864 2.887858e-01 6.010328e-01 7.150974e-01\n",
       "g312  0.093543041 10.849110 2.666732e-01 6.151559e-01 7.265972e-01\n",
       "g301 -0.102000599 10.135184 2.572521e-01 6.214023e-01 7.274503e-01\n",
       "g221 -0.277095720  8.469909 2.522121e-01 6.248039e-01 7.274503e-01\n",
       "g162 -0.145155616  8.517263 2.278112e-01 6.463283e-01 7.413085e-01\n",
       "g50  -0.170907352  8.749274 2.158315e-01 6.507284e-01 7.413085e-01\n",
       "g203  0.062836598 14.227601 2.124612e-01 6.532634e-01 7.413085e-01\n",
       "g88   0.045949497 14.235850 2.103049e-01 6.548983e-01 7.413085e-01\n",
       "g355 -0.287897714  8.890754 1.803234e-01 6.787703e-01 7.630314e-01\n",
       "g204 -0.055975779 11.947887 1.408989e-01 7.140799e-01 7.972262e-01\n",
       "g306  0.054269738 11.294732 9.239378e-02 7.664733e-01 8.498990e-01\n",
       "g193  0.049946343 11.682386 6.425578e-02 8.042743e-01 8.857886e-01\n",
       "g205  0.037877227 10.986961 4.734577e-02 8.314821e-01 9.029713e-01\n",
       "g194 -0.142990391  9.403497 4.475522e-02 8.360811e-01 9.029713e-01\n",
       "g362  0.025629967 11.336529 4.151987e-02 8.420254e-01 9.029713e-01\n",
       "g315  0.027958374 11.878331 4.097665e-02 8.430470e-01 9.029713e-01\n",
       "g180  0.059680256 15.711409 3.861404e-02 8.475743e-01 9.029713e-01\n",
       "g282 -0.026492114 11.756078 2.479915e-02 8.775434e-01 9.288284e-01\n",
       "g176 -0.061055115  8.587203 1.445104e-02 9.063467e-01 9.531258e-01\n",
       "g126  0.061707217  8.311212 2.478687e-03 9.648334e-01 1.000000e+00\n",
       "g128  0.063825269  7.671043 1.941481e-03 9.655950e-01 1.000000e+00\n",
       "g227 -0.025740630  7.939955 1.190801e-03 9.730516e-01 1.000000e+00\n",
       "g121  0.002660852 12.896620 5.233398e-04 9.821327e-01 1.000000e+00\n",
       "g284  0.000000000  8.538720 0.000000e+00 1.000000e+00 1.000000e+00\n",
       "g116  0.000000000  7.180297 0.000000e+00 1.000000e+00 1.000000e+00\n",
       "g117  0.000000000  7.033307 0.000000e+00 1.000000e+00 1.000000e+00\n",
       "g118  0.000000000  7.515646 0.000000e+00 1.000000e+00 1.000000e+00"
      ]
     },
     "metadata": {},
     "output_type": "display_data"
    }
   ],
   "source": [
    "glmqlf_S10 <- glmQLFTest(fit, contrast=contrasts[,\"S10\"])\n",
    "DEG_S10 <- topTags(glmqlf_S10, n = nrow(DGEList$counts))\n",
    "DEG_S10"
   ]
  },
  {
   "cell_type": "markdown",
   "metadata": {
    "id": "GQ0RYFIXzb33"
   },
   "source": [
    "We have now created a table with certain parameters calculated for each of the genes analysed.\n",
    "\n",
    "**logFC** represents the base 2 logarithm of the fold change and it shows us how much the expression of the gene has changed between the two conditions. A logFC of 1 means a doubling in the read per gene count between the control and treatment samples.\n",
    "The genes with a logFC higher than 0 are upregulated while the genes with a logFC lower than 0 are downregulated between the control and treatment samples. \n",
    "<br>\n",
    "**logCPM** represents the average log2-counts-per-million, the abundance of the gene.\n",
    "\n",
    "**F** - F-statistic.\n",
    "\n",
    "**PValue** is the raw p-value.\n",
    "\n",
    "**FDR** (The false discovery rate) represents the adjusted p-value and is calculated using Benjamini and Hochberg's algorithm. It controls the rate of false positive values under multiple testing. Usually, a threshold of under 5% is set for the FDR.  \n",
    "\n",
    "The important information for us in this table is stored in the \"logFC\" and the \"FDR\" columns. The top DE genes have small FDR values and large fold changes"
   ]
  },
  {
   "cell_type": "markdown",
   "metadata": {
    "id": "qaneQKfFaYir"
   },
   "source": [
    "Many of the genes in the samples are uninteresting for us, as they have a high FDR and/or low logFC values so we cannot consider them as differentially expressed.\n",
    "\n",
    "We will apply a filtering step in order to keep only the statistically significant genes. We will filter out the genes with an FDR higher than 0.05 and an absolute logFC lower than 1."
   ]
  },
  {
   "cell_type": "code",
   "execution_count": 16,
   "metadata": {
    "colab": {
     "base_uri": "https://localhost:8080/"
    },
    "executionInfo": {
     "elapsed": 678,
     "status": "ok",
     "timestamp": 1654592518729,
     "user": {
      "displayName": "Lavinia Fechete",
      "userId": "03683080993527566677"
     },
     "user_tz": -120
    },
    "id": "U7s5TKLuuhlo",
    "outputId": "7cebe4ec-b387-44a6-a992-6544f44d8803",
    "tags": [],
    "vscode": {
     "languageId": "r"
    }
   },
   "outputs": [
    {
     "data": {
      "text/html": [
       "<table class=\"dataframe\">\n",
       "<caption>A data.frame: 6 × 6</caption>\n",
       "<thead>\n",
       "\t<tr><th></th><th scope=col>gene_ID</th><th scope=col>logFC</th><th scope=col>logCPM</th><th scope=col>F</th><th scope=col>PValue</th><th scope=col>FDR</th></tr>\n",
       "\t<tr><th></th><th scope=col>&lt;chr&gt;</th><th scope=col>&lt;dbl&gt;</th><th scope=col>&lt;dbl&gt;</th><th scope=col>&lt;dbl&gt;</th><th scope=col>&lt;dbl&gt;</th><th scope=col>&lt;dbl&gt;</th></tr>\n",
       "</thead>\n",
       "<tbody>\n",
       "\t<tr><th scope=row>1</th><td>g39 </td><td> 3.586170</td><td>14.12463</td><td>336.66158</td><td>5.227331e-10</td><td>8.520550e-08</td></tr>\n",
       "\t<tr><th scope=row>2</th><td>g232</td><td> 4.049413</td><td>11.95044</td><td>157.50997</td><td>3.685988e-08</td><td>2.591779e-06</td></tr>\n",
       "\t<tr><th scope=row>3</th><td>g6  </td><td> 2.322535</td><td>12.99954</td><td>150.27854</td><td>4.770146e-08</td><td>2.591779e-06</td></tr>\n",
       "\t<tr><th scope=row>4</th><td>g350</td><td> 2.053003</td><td>13.32457</td><td> 97.56453</td><td>4.890245e-07</td><td>1.992775e-05</td></tr>\n",
       "\t<tr><th scope=row>5</th><td>g99 </td><td>-1.538787</td><td>11.68100</td><td> 85.17478</td><td>9.976659e-07</td><td>3.195090e-05</td></tr>\n",
       "\t<tr><th scope=row>6</th><td>g142</td><td>-1.423528</td><td>13.83069</td><td> 82.52308</td><td>1.176107e-06</td><td>3.195090e-05</td></tr>\n",
       "</tbody>\n",
       "</table>\n"
      ],
      "text/latex": [
       "A data.frame: 6 × 6\n",
       "\\begin{tabular}{r|llllll}\n",
       "  & gene\\_ID & logFC & logCPM & F & PValue & FDR\\\\\n",
       "  & <chr> & <dbl> & <dbl> & <dbl> & <dbl> & <dbl>\\\\\n",
       "\\hline\n",
       "\t1 & g39  &  3.586170 & 14.12463 & 336.66158 & 5.227331e-10 & 8.520550e-08\\\\\n",
       "\t2 & g232 &  4.049413 & 11.95044 & 157.50997 & 3.685988e-08 & 2.591779e-06\\\\\n",
       "\t3 & g6   &  2.322535 & 12.99954 & 150.27854 & 4.770146e-08 & 2.591779e-06\\\\\n",
       "\t4 & g350 &  2.053003 & 13.32457 &  97.56453 & 4.890245e-07 & 1.992775e-05\\\\\n",
       "\t5 & g99  & -1.538787 & 11.68100 &  85.17478 & 9.976659e-07 & 3.195090e-05\\\\\n",
       "\t6 & g142 & -1.423528 & 13.83069 &  82.52308 & 1.176107e-06 & 3.195090e-05\\\\\n",
       "\\end{tabular}\n"
      ],
      "text/markdown": [
       "\n",
       "A data.frame: 6 × 6\n",
       "\n",
       "| <!--/--> | gene_ID &lt;chr&gt; | logFC &lt;dbl&gt; | logCPM &lt;dbl&gt; | F &lt;dbl&gt; | PValue &lt;dbl&gt; | FDR &lt;dbl&gt; |\n",
       "|---|---|---|---|---|---|---|\n",
       "| 1 | g39  |  3.586170 | 14.12463 | 336.66158 | 5.227331e-10 | 8.520550e-08 |\n",
       "| 2 | g232 |  4.049413 | 11.95044 | 157.50997 | 3.685988e-08 | 2.591779e-06 |\n",
       "| 3 | g6   |  2.322535 | 12.99954 | 150.27854 | 4.770146e-08 | 2.591779e-06 |\n",
       "| 4 | g350 |  2.053003 | 13.32457 |  97.56453 | 4.890245e-07 | 1.992775e-05 |\n",
       "| 5 | g99  | -1.538787 | 11.68100 |  85.17478 | 9.976659e-07 | 3.195090e-05 |\n",
       "| 6 | g142 | -1.423528 | 13.83069 |  82.52308 | 1.176107e-06 | 3.195090e-05 |\n",
       "\n"
      ],
      "text/plain": [
       "  gene_ID logFC     logCPM   F         PValue       FDR         \n",
       "1 g39      3.586170 14.12463 336.66158 5.227331e-10 8.520550e-08\n",
       "2 g232     4.049413 11.95044 157.50997 3.685988e-08 2.591779e-06\n",
       "3 g6       2.322535 12.99954 150.27854 4.770146e-08 2.591779e-06\n",
       "4 g350     2.053003 13.32457  97.56453 4.890245e-07 1.992775e-05\n",
       "5 g99     -1.538787 11.68100  85.17478 9.976659e-07 3.195090e-05\n",
       "6 g142    -1.423528 13.83069  82.52308 1.176107e-06 3.195090e-05"
      ]
     },
     "metadata": {},
     "output_type": "display_data"
    },
    {
     "data": {
      "text/html": [
       "52"
      ],
      "text/latex": [
       "52"
      ],
      "text/markdown": [
       "52"
      ],
      "text/plain": [
       "[1] 52"
      ]
     },
     "metadata": {},
     "output_type": "display_data"
    }
   ],
   "source": [
    "DEG_S10_filtered <- DEG_S10$table[DEG_S10$table$FDR < 0.05 & abs(DEG_S10$table$logFC) > 1,] #Filtering\n",
    "DEG_S10_filtered <- rownames_to_column(DEG_S10_filtered) %>% rename(gene_ID = rowname) #Adding the gene_ID column\n",
    "head(DEG_S10_filtered)\n",
    "nrow(DEG_S10_filtered) # finding the number of genes that passed the filter "
   ]
  },
  {
   "cell_type": "markdown",
   "metadata": {
    "id": "apC30py88Tln"
   },
   "source": [
    "We can also visualize the selected genes by plotting a Smear plot or a Volcano plot. The Genes that passed the filter are coloured in red, and the top 10 genes with the lowest FDR value are labelled with their gene ID.\n",
    "\n",
    "We can see that the majority of the genes analysed are either not statistically significant or have a very small logFC."
   ]
  },
  {
   "cell_type": "code",
   "execution_count": 17,
   "metadata": {
    "colab": {
     "base_uri": "https://localhost:8080/",
     "height": 497
    },
    "executionInfo": {
     "elapsed": 335,
     "status": "ok",
     "timestamp": 1654592521575,
     "user": {
      "displayName": "Lavinia Fechete",
      "userId": "03683080993527566677"
     },
     "user_tz": -120
    },
    "id": "RrjE2BhW0z-e",
    "outputId": "15318014-668e-4b38-dd94-ddb9bb81f396",
    "tags": [],
    "vscode": {
     "languageId": "r"
    }
   },
   "outputs": [
    {
     "data": {
      "image/png": "[encoded data removed]",
      "text/plain": [
       "plot without title"
      ]
     },
     "metadata": {
      "image/png": {
       "height": 420,
       "width": 420
      }
     },
     "output_type": "display_data"
    }
   ],
   "source": [
    "plotSmear(glmqlf_S10,\n",
    "          de.tags = rownames(DEG_S10$table)[which(DEG_S10$table$FDR < 0.05 & abs(DEG_S10$table$logFC) > 1)])\n",
    "text(x=DEG_S10_filtered$logCPM[1:10],\n",
    "     y=DEG_S10_filtered$logFC[1:10],\n",
    "     labels=DEG_S10_filtered$gene_ID[1:10], cex=0.7, pos=1)\n",
    "abline(h = c(-1, 1), col = \"blue\")"
   ]
  },
  {
   "cell_type": "markdown",
   "metadata": {
    "id": "k9J6gJ9iUtOf"
   },
   "source": [
    "We can also create a heatmap with the log2 read counts of the selected differentially expressed genes so that we can visualise the differences in normalized counts between the Control and the Treatment samples.\n",
    "\n",
    "The genes are ordered by the FDR value. "
   ]
  },
  {
   "cell_type": "code",
   "execution_count": 18,
   "metadata": {
    "colab": {
     "base_uri": "https://localhost:8080/",
     "height": 497
    },
    "executionInfo": {
     "elapsed": 903,
     "status": "ok",
     "timestamp": 1654592598499,
     "user": {
      "displayName": "Lavinia Fechete",
      "userId": "03683080993527566677"
     },
     "user_tz": -120
    },
    "id": "IxhY-fTVFt8i",
    "outputId": "340a6abb-dfc0-433f-f987-8d79f7ed0437",
    "tags": [],
    "vscode": {
     "languageId": "r"
    }
   },
   "outputs": [
    {
     "data": {
      "image/png": "[encoded data removed]",
      "text/plain": [
       "plot without title"
      ]
     },
     "metadata": {
      "image/png": {
       "height": 420,
       "width": 420
      }
     },
     "output_type": "display_data"
    }
   ],
   "source": [
    "annot_col <- data.frame(row.names = colnames(pseudoNormCounts)[1:6], Condition = c(rep(\"Control\", 3),rep( \"Treatment\", 3)))                   \n",
    "pheatmap(as.matrix(pseudoNormCounts[DEG_S10_filtered$gene_ID,c(1:6)]), cluster_rows = F, cluster_col = F, annotation_col = annot_col)"
   ]
  },
  {
   "cell_type": "markdown",
   "metadata": {
    "id": "Dpo0xoqzKFVA"
   },
   "source": [
    "## DEGs for White clover Tienshan Treatment vs Control\n",
    "We can do this using the same functions as above and changing the contrast.\n",
    "\n",
    "This time we will directly filter the differentially expressed genes using the same parameters as for the S10 samples."
   ]
  },
  {
   "cell_type": "code",
   "execution_count": 19,
   "metadata": {
    "colab": {
     "base_uri": "https://localhost:8080/"
    },
    "executionInfo": {
     "elapsed": 299,
     "status": "ok",
     "timestamp": 1654592628511,
     "user": {
      "displayName": "Lavinia Fechete",
      "userId": "03683080993527566677"
     },
     "user_tz": -120
    },
    "id": "XHfwYQw2Z_fB",
    "outputId": "22bd389e-fc28-43c6-ff33-e464164c06a6",
    "tags": [],
    "vscode": {
     "languageId": "r"
    }
   },
   "outputs": [
    {
     "name": "stdout",
     "output_type": "stream",
     "text": [
      "  gene_ID     logFC   logCPM         F       PValue          FDR\n",
      "1    g234 -3.348667 13.00417 278.01679 1.547626e-09 2.522630e-07\n",
      "2    g269 -1.885843 11.83422 127.39949 1.172628e-07 9.556922e-06\n",
      "3     g26  2.423725 11.36683  74.33983 2.016212e-06 8.910761e-05\n",
      "4    g101  4.303290 13.18162  73.17140 2.186690e-06 8.910761e-05\n",
      "5    g272  3.391225 13.86065  66.80131 3.475790e-06 9.840357e-05\n",
      "6     g99 -1.430395 11.68100  66.25814 3.622217e-06 9.840357e-05\n",
      "[1] \"Nr of differentially expressed genes:\"\n",
      "[1] 42\n"
     ]
    }
   ],
   "source": [
    "glmqlf_Ti <- glmQLFTest(fit, contrast=contrasts[,\"Tienshan\"])\n",
    "DEG_Ti <- topTags(glmqlf_Ti, n = nrow(DGEList$counts))\n",
    "DEG_Ti_filtered <- DEG_Ti$table[DEG_Ti$table$FDR < 0.05 & abs(DEG_Ti$table$logFC) > 1,]\n",
    "DEG_Ti_filtered <- rownames_to_column(DEG_Ti_filtered) %>% rename(gene_ID = rowname)\n",
    "print(head(DEG_Ti_filtered))\n",
    "print(\"Nr of differentially expressed genes:\")\n",
    "print(nrow(DEG_Ti_filtered))"
   ]
  },
  {
   "cell_type": "markdown",
   "metadata": {
    "id": "x3k2KcekDTyA"
   },
   "source": [
    "We can now plot a Venn diagram with the DEGs for the two genotypes in order to observe the number of common and specific differentially expressed genes between the two genotypes as response to the cold exposure. You can see that a high percentage of the identified genes are common for the two genotypes, while each genotype has also specific genes."
   ]
  },
  {
   "cell_type": "code",
   "execution_count": 20,
   "metadata": {
    "colab": {
     "base_uri": "https://localhost:8080/",
     "height": 497
    },
    "executionInfo": {
     "elapsed": 455,
     "status": "ok",
     "timestamp": 1654592637394,
     "user": {
      "displayName": "Lavinia Fechete",
      "userId": "03683080993527566677"
     },
     "user_tz": -120
    },
    "id": "7Gzzzf8JTvWZ",
    "outputId": "72c86e42-33b5-4a6e-e3b3-30816eb231b6",
    "tags": [],
    "vscode": {
     "languageId": "r"
    }
   },
   "outputs": [
    {
     "data": {
      "image/png": "[encoded data removed]",
      "text/plain": [
       "plot without title"
      ]
     },
     "metadata": {
      "image/png": {
       "height": 420,
       "width": 420
      }
     },
     "output_type": "display_data"
    }
   ],
   "source": [
    "vd <- venn.diagram(\n",
    "  x = list(DEG_S10_filtered$gene_ID, DEG_Ti_filtered$gene_ID),\n",
    "  category.names = c(\"S10\" , \"Tienshan\"),\n",
    "  lwd = 4,\n",
    "  fill = c(\"cornflowerblue\", \"yellowgreen\"),\n",
    "  filename = NULL,\n",
    "  cat.cex = 1,\n",
    "  cat.fontface = \"bold\",\n",
    "  output=TRUE\n",
    ")\n",
    "grid.draw(vd)"
   ]
  },
  {
   "cell_type": "markdown",
   "metadata": {
    "id": "rk-Jav3xKUjG"
   },
   "source": [
    "## DEGs for S10+Tienshan Treatment vs Control w/o genotype effects\n",
    "\n",
    "Until now we tested for DEGs specific for each of the two genotypes under cold treatment. We can also run a test where we ignore the genotype and just test for the differences in the cold response.\n",
    "<br>\n",
    "Consider the counts for both genotypes as a single dataset using the previously created contrast \"S10_Tienshan\". \n",
    "<br>\n",
    "* Do the results look different compared with the previous tests?"
   ]
  },
  {
   "cell_type": "code",
   "execution_count": 21,
   "metadata": {
    "colab": {
     "base_uri": "https://localhost:8080/"
    },
    "executionInfo": {
     "elapsed": 705,
     "status": "ok",
     "timestamp": 1654592959246,
     "user": {
      "displayName": "Lavinia Fechete",
      "userId": "03683080993527566677"
     },
     "user_tz": -120
    },
    "id": "bUNUnvONaGfD",
    "outputId": "9c18f993-436d-4f83-e440-339e6b267631",
    "tags": [],
    "vscode": {
     "languageId": "r"
    }
   },
   "outputs": [
    {
     "name": "stdout",
     "output_type": "stream",
     "text": [
      "  gene_ID     logFC   logCPM        F       PValue          FDR\n",
      "1     g39  2.057128 14.12463 246.6519 3.039491e-09 4.954370e-07\n",
      "2    g232  3.261008 11.95044 203.4580 8.934889e-09 5.288546e-07\n",
      "3    g269 -1.652505 11.83422 200.3564 9.733520e-09 5.288546e-07\n",
      "4      g6  1.714849 12.99954 166.2297 2.740066e-08 1.116577e-06\n",
      "5     g99 -1.484591 11.68100 150.3246 4.762148e-08 1.552460e-06\n",
      "6     g26  2.274575 11.36683 142.8625 6.290957e-08 1.623160e-06\n",
      "[1] \"Nr of differentially expressed genes:\"\n",
      "[1] 52\n"
     ]
    }
   ],
   "source": [
    "glmqlf_S10_Ti <- glmQLFTest(fit, contrast=contrasts[,\"S10_Tienshan\"])\n",
    "DEG_S10_Ti <- topTags(glmqlf_S10_Ti, n = nrow(DGEList$counts))\n",
    "DEG_S10_Ti_filtered <- DEG_S10_Ti$table[DEG_S10_Ti$table$FDR < 0.05 & abs(DEG_S10_Ti$table$logFC) > 1,]\n",
    "DEG_S10_Ti_filtered <- rownames_to_column(DEG_S10_Ti_filtered)  %>% rename(gene_ID = rowname)\n",
    "print(head(DEG_S10_Ti_filtered))\n",
    "print(\"Nr of differentially expressed genes:\")\n",
    "print(nrow(DEG_S10_Ti_filtered))"
   ]
  },
  {
   "cell_type": "markdown",
   "metadata": {
    "id": "5wOTlT7HDyJj"
   },
   "source": [
    "Plot the results from the 3 tests in a Venn diagram to visualize the number of common and unique genes"
   ]
  },
  {
   "cell_type": "code",
   "execution_count": 22,
   "metadata": {
    "colab": {
     "base_uri": "https://localhost:8080/",
     "height": 497
    },
    "executionInfo": {
     "elapsed": 464,
     "status": "ok",
     "timestamp": 1654592962509,
     "user": {
      "displayName": "Lavinia Fechete",
      "userId": "03683080993527566677"
     },
     "user_tz": -120
    },
    "id": "Zt7hF5o_XEPU",
    "outputId": "df9b7407-c040-4c1d-b480-312522f8b1a7",
    "tags": [],
    "vscode": {
     "languageId": "r"
    }
   },
   "outputs": [
    {
     "data": {
      "image/png": "[encoded data removed]",
      "text/plain": [
       "plot without title"
      ]
     },
     "metadata": {
      "image/png": {
       "height": 420,
       "width": 420
      }
     },
     "output_type": "display_data"
    }
   ],
   "source": [
    "vd <- venn.diagram(\n",
    "  x = list(DEG_S10_filtered$gene_ID, DEG_Ti_filtered$gene_ID,\n",
    "           DEG_S10_Ti_filtered$gene_ID),\n",
    "  category.names = c(\"S10\" , \"Tienshan\", \"S10_Tienshan\"),\n",
    "  lwd = 3,\n",
    "  fill = c(\"cornflowerblue\", \"yellowgreen\", \"thistle3\"),\n",
    "  filename = NULL,\n",
    "  cat.cex = 1,\n",
    "  cat.fontface = \"bold\",\n",
    "  output=TRUE\n",
    ")\n",
    "grid.draw(vd)"
   ]
  },
  {
   "cell_type": "markdown",
   "metadata": {},
   "source": [
    "## Explore DGE results"
   ]
  },
  {
   "cell_type": "markdown",
   "metadata": {
    "id": "zdFlsLILa7e3"
   },
   "source": [
    "### Select the genes which appear only in the analysis using both genotypes for further examination.\n",
    "\n",
    "We can use the \"anti_join\" function from the dplyr package to keep only the unique genes that appear only when using both genotypes."
   ]
  },
  {
   "cell_type": "code",
   "execution_count": 23,
   "metadata": {
    "colab": {
     "base_uri": "https://localhost:8080/"
    },
    "id": "9EWR08KmHYMB",
    "outputId": "f1cb0416-2fc8-4d25-c378-3712e7cac131",
    "tags": [],
    "vscode": {
     "languageId": "r"
    }
   },
   "outputs": [
    {
     "data": {
      "text/html": [
       "<table class=\"dataframe\">\n",
       "<caption>A data.frame: 2 × 6</caption>\n",
       "<thead>\n",
       "\t<tr><th scope=col>gene_ID</th><th scope=col>logFC</th><th scope=col>logCPM</th><th scope=col>F</th><th scope=col>PValue</th><th scope=col>FDR</th></tr>\n",
       "\t<tr><th scope=col>&lt;chr&gt;</th><th scope=col>&lt;dbl&gt;</th><th scope=col>&lt;dbl&gt;</th><th scope=col>&lt;dbl&gt;</th><th scope=col>&lt;dbl&gt;</th><th scope=col>&lt;dbl&gt;</th></tr>\n",
       "</thead>\n",
       "<tbody>\n",
       "\t<tr><td>g247</td><td>-1.412652</td><td>8.424523</td><td>10.877350</td><td>0.006535994</td><td>0.01500517</td></tr>\n",
       "\t<tr><td>g360</td><td> 1.180849</td><td>7.900076</td><td> 9.804067</td><td>0.013809376</td><td>0.02813660</td></tr>\n",
       "</tbody>\n",
       "</table>\n"
      ],
      "text/latex": [
       "A data.frame: 2 × 6\n",
       "\\begin{tabular}{llllll}\n",
       " gene\\_ID & logFC & logCPM & F & PValue & FDR\\\\\n",
       " <chr> & <dbl> & <dbl> & <dbl> & <dbl> & <dbl>\\\\\n",
       "\\hline\n",
       "\t g247 & -1.412652 & 8.424523 & 10.877350 & 0.006535994 & 0.01500517\\\\\n",
       "\t g360 &  1.180849 & 7.900076 &  9.804067 & 0.013809376 & 0.02813660\\\\\n",
       "\\end{tabular}\n"
      ],
      "text/markdown": [
       "\n",
       "A data.frame: 2 × 6\n",
       "\n",
       "| gene_ID &lt;chr&gt; | logFC &lt;dbl&gt; | logCPM &lt;dbl&gt; | F &lt;dbl&gt; | PValue &lt;dbl&gt; | FDR &lt;dbl&gt; |\n",
       "|---|---|---|---|---|---|\n",
       "| g247 | -1.412652 | 8.424523 | 10.877350 | 0.006535994 | 0.01500517 |\n",
       "| g360 |  1.180849 | 7.900076 |  9.804067 | 0.013809376 | 0.02813660 |\n",
       "\n"
      ],
      "text/plain": [
       "  gene_ID logFC     logCPM   F         PValue      FDR       \n",
       "1 g247    -1.412652 8.424523 10.877350 0.006535994 0.01500517\n",
       "2 g360     1.180849 7.900076  9.804067 0.013809376 0.02813660"
      ]
     },
     "metadata": {},
     "output_type": "display_data"
    }
   ],
   "source": [
    "S10_Ti_unique <- anti_join(DEG_S10_Ti_filtered, DEG_S10_filtered, by=\"gene_ID\") %>%\n",
    "                       anti_join(DEG_Ti_filtered, by=\"gene_ID\")\n",
    "S10_Ti_unique"
   ]
  },
  {
   "cell_type": "markdown",
   "metadata": {
    "id": "06oKpDFZInrD"
   },
   "source": [
    "### Linking the genes selected as differentially expressed back to the raw read counts\n",
    "\n",
    "How do the counts look for these genes, does it make sense that they are differentially expressed only when using the two genotypes?"
   ]
  },
  {
   "cell_type": "code",
   "execution_count": 24,
   "metadata": {
    "colab": {
     "base_uri": "https://localhost:8080/"
    },
    "id": "4SKJ727zOKRB",
    "outputId": "495b2bbd-e625-4c4c-95c0-5e6fba3ed677",
    "tags": [],
    "vscode": {
     "languageId": "r"
    }
   },
   "outputs": [
    {
     "data": {
      "text/html": [
       "<table class=\"dataframe\">\n",
       "<caption>A data.frame: 2 × 15</caption>\n",
       "<thead>\n",
       "\t<tr><th scope=col>gene_ID</th><th scope=col>logFC</th><th scope=col>FDR</th><th scope=col>S10_1_1</th><th scope=col>S10_1_2</th><th scope=col>S10_1_3</th><th scope=col>S10_2_1</th><th scope=col>S10_2_2</th><th scope=col>S10_2_3</th><th scope=col>TI_1_1</th><th scope=col>TI_1_2</th><th scope=col>TI_1_3</th><th scope=col>TI_2_1</th><th scope=col>TI_2_2</th><th scope=col>TI_2_3</th></tr>\n",
       "\t<tr><th scope=col>&lt;chr&gt;</th><th scope=col>&lt;dbl&gt;</th><th scope=col>&lt;dbl&gt;</th><th scope=col>&lt;int&gt;</th><th scope=col>&lt;int&gt;</th><th scope=col>&lt;int&gt;</th><th scope=col>&lt;int&gt;</th><th scope=col>&lt;int&gt;</th><th scope=col>&lt;int&gt;</th><th scope=col>&lt;int&gt;</th><th scope=col>&lt;int&gt;</th><th scope=col>&lt;int&gt;</th><th scope=col>&lt;int&gt;</th><th scope=col>&lt;int&gt;</th><th scope=col>&lt;int&gt;</th></tr>\n",
       "</thead>\n",
       "<tbody>\n",
       "\t<tr><td>g247</td><td>-1.412652</td><td>0.01500517</td><td>4</td><td>9</td><td>3</td><td>1</td><td>2</td><td>1</td><td>42</td><td>27</td><td>32</td><td> 8</td><td>22</td><td>22</td></tr>\n",
       "\t<tr><td>g360</td><td> 1.180849</td><td>0.02813660</td><td>1</td><td>0</td><td>1</td><td>3</td><td>2</td><td>3</td><td>16</td><td>10</td><td>16</td><td>22</td><td>19</td><td>22</td></tr>\n",
       "</tbody>\n",
       "</table>\n"
      ],
      "text/latex": [
       "A data.frame: 2 × 15\n",
       "\\begin{tabular}{lllllllllllllll}\n",
       " gene\\_ID & logFC & FDR & S10\\_1\\_1 & S10\\_1\\_2 & S10\\_1\\_3 & S10\\_2\\_1 & S10\\_2\\_2 & S10\\_2\\_3 & TI\\_1\\_1 & TI\\_1\\_2 & TI\\_1\\_3 & TI\\_2\\_1 & TI\\_2\\_2 & TI\\_2\\_3\\\\\n",
       " <chr> & <dbl> & <dbl> & <int> & <int> & <int> & <int> & <int> & <int> & <int> & <int> & <int> & <int> & <int> & <int>\\\\\n",
       "\\hline\n",
       "\t g247 & -1.412652 & 0.01500517 & 4 & 9 & 3 & 1 & 2 & 1 & 42 & 27 & 32 &  8 & 22 & 22\\\\\n",
       "\t g360 &  1.180849 & 0.02813660 & 1 & 0 & 1 & 3 & 2 & 3 & 16 & 10 & 16 & 22 & 19 & 22\\\\\n",
       "\\end{tabular}\n"
      ],
      "text/markdown": [
       "\n",
       "A data.frame: 2 × 15\n",
       "\n",
       "| gene_ID &lt;chr&gt; | logFC &lt;dbl&gt; | FDR &lt;dbl&gt; | S10_1_1 &lt;int&gt; | S10_1_2 &lt;int&gt; | S10_1_3 &lt;int&gt; | S10_2_1 &lt;int&gt; | S10_2_2 &lt;int&gt; | S10_2_3 &lt;int&gt; | TI_1_1 &lt;int&gt; | TI_1_2 &lt;int&gt; | TI_1_3 &lt;int&gt; | TI_2_1 &lt;int&gt; | TI_2_2 &lt;int&gt; | TI_2_3 &lt;int&gt; |\n",
       "|---|---|---|---|---|---|---|---|---|---|---|---|---|---|---|\n",
       "| g247 | -1.412652 | 0.01500517 | 4 | 9 | 3 | 1 | 2 | 1 | 42 | 27 | 32 |  8 | 22 | 22 |\n",
       "| g360 |  1.180849 | 0.02813660 | 1 | 0 | 1 | 3 | 2 | 3 | 16 | 10 | 16 | 22 | 19 | 22 |\n",
       "\n"
      ],
      "text/plain": [
       "  gene_ID logFC     FDR        S10_1_1 S10_1_2 S10_1_3 S10_2_1 S10_2_2 S10_2_3\n",
       "1 g247    -1.412652 0.01500517 4       9       3       1       2       1      \n",
       "2 g360     1.180849 0.02813660 1       0       1       3       2       3      \n",
       "  TI_1_1 TI_1_2 TI_1_3 TI_2_1 TI_2_2 TI_2_3\n",
       "1 42     27     32      8     22     22    \n",
       "2 16     10     16     22     19     22    "
      ]
     },
     "metadata": {},
     "output_type": "display_data"
    }
   ],
   "source": [
    "Read_counts <- rownames_to_column(Read_counts) %>% rename(gene_ID = rowname)\n",
    "S10_Ti_unique_counts <- inner_join(S10_Ti_unique[,c(1,2,6)], Read_counts, by=\"gene_ID\")\n",
    "S10_Ti_unique_counts"
   ]
  },
  {
   "cell_type": "markdown",
   "metadata": {
    "id": "MmwdKeQyN-hg"
   },
   "source": [
    "### Adding functional annotation to DEGs\n",
    "Until now we looked only at gene IDs, but we can also add functional annotations to the DEGs. The functional annotations were generated using protein sequences and the `EggNOG` software.\n",
    "\n",
    "Identifying the molecular function of the differentially expressed genes can help us do a literature survey in order to check if any of the genes discovered have been previously identified as being involved in the cold response."
   ]
  },
  {
   "cell_type": "code",
   "execution_count": 25,
   "metadata": {
    "colab": {
     "base_uri": "https://localhost:8080/"
    },
    "id": "cecgm4MVWAlp",
    "outputId": "30170679-e42b-4184-c2fd-5451dfc656ae",
    "tags": [],
    "vscode": {
     "languageId": "r"
    }
   },
   "outputs": [
    {
     "data": {
      "text/html": [
       "<table class=\"dataframe\">\n",
       "<caption>A data.frame: 2 × 4</caption>\n",
       "<thead>\n",
       "\t<tr><th scope=col>gene_ID</th><th scope=col>logFC</th><th scope=col>FDR</th><th scope=col>Human.Readable.Description</th></tr>\n",
       "\t<tr><th scope=col>&lt;chr&gt;</th><th scope=col>&lt;dbl&gt;</th><th scope=col>&lt;dbl&gt;</th><th scope=col>&lt;chr&gt;</th></tr>\n",
       "</thead>\n",
       "<tbody>\n",
       "\t<tr><td>g247</td><td>-1.412652</td><td>0.01500517</td><td>Nitrogen regulatory protein P-II homolog</td></tr>\n",
       "\t<tr><td>g360</td><td> 1.180849</td><td>0.02813660</td><td>Unknown protein                         </td></tr>\n",
       "</tbody>\n",
       "</table>\n"
      ],
      "text/latex": [
       "A data.frame: 2 × 4\n",
       "\\begin{tabular}{llll}\n",
       " gene\\_ID & logFC & FDR & Human.Readable.Description\\\\\n",
       " <chr> & <dbl> & <dbl> & <chr>\\\\\n",
       "\\hline\n",
       "\t g247 & -1.412652 & 0.01500517 & Nitrogen regulatory protein P-II homolog\\\\\n",
       "\t g360 &  1.180849 & 0.02813660 & Unknown protein                         \\\\\n",
       "\\end{tabular}\n"
      ],
      "text/markdown": [
       "\n",
       "A data.frame: 2 × 4\n",
       "\n",
       "| gene_ID &lt;chr&gt; | logFC &lt;dbl&gt; | FDR &lt;dbl&gt; | Human.Readable.Description &lt;chr&gt; |\n",
       "|---|---|---|---|\n",
       "| g247 | -1.412652 | 0.01500517 | Nitrogen regulatory protein P-II homolog |\n",
       "| g360 |  1.180849 | 0.02813660 | Unknown protein                          |\n",
       "\n"
      ],
      "text/plain": [
       "  gene_ID logFC     FDR        Human.Readable.Description              \n",
       "1 g247    -1.412652 0.01500517 Nitrogen regulatory protein P-II homolog\n",
       "2 g360     1.180849 0.02813660 Unknown protein                         "
      ]
     },
     "metadata": {},
     "output_type": "display_data"
    }
   ],
   "source": [
    "Functional_annotations <- read.delim(\"../Data/Clover_Data/Functional_Annotations.txt\")\n",
    "S10_Ti_unique_FA <- inner_join(S10_Ti_unique[,c(1,2,6)], Functional_annotations, by=\"gene_ID\")\n",
    "S10_Ti_unique_FA"
   ]
  },
  {
   "cell_type": "markdown",
   "metadata": {
    "id": "06sty1R5YQsJ"
   },
   "source": [
    "<div class=\"alert-success\"> <font size=\"+2\"> <b> Tasks and Questions </b> </font> </div>"
   ]
  },
  {
   "cell_type": "markdown",
   "metadata": {
    "id": "F1f-dq2yYcCn"
   },
   "source": [
    "\n",
    "*   Based on the results obtained in the analysis so far, would you change the cut-off for the FDR and logFC to be more strict or more permissive? Look back at the raw counts for different FDR and logFC values and set the thresholds as you find appropriate.\n",
    "\n",
    "You can also plot histograms with the FDR and logFC values. \n",
    "\n",
    "\n",
    "\n"
   ]
  },
  {
   "cell_type": "code",
   "execution_count": null,
   "metadata": {
    "colab": {
     "base_uri": "https://localhost:8080/",
     "height": 497
    },
    "id": "nRVBHbNzVczV",
    "outputId": "3ba78a4d-9651-40e1-b69b-55ee83104b77",
    "tags": [],
    "vscode": {
     "languageId": "r"
    }
   },
   "outputs": [],
   "source": [
    " hist(DEG_S10$table$FDR , main = \"\", xlab = \"FDR\",  breaks= 200, xlim = range(c(0, 0.1)))"
   ]
  },
  {
   "cell_type": "code",
   "execution_count": null,
   "metadata": {
    "tags": [],
    "vscode": {
     "languageId": "r"
    }
   },
   "outputs": [],
   "source": [
    " hist(DEG_S10$table$logFC , main = \"\", xlab = \"logFC\",  breaks= 50, xlim = range(c(-6, 6)))"
   ]
  },
  {
   "cell_type": "markdown",
   "metadata": {
    "id": "TFOvBqoQaTFF"
   },
   "source": [
    "* Separate the upregulated and downregulated genes for each genotype and append functional annotations to them. \n",
    "* Identify the genes that are commonly upregulated in S10 and Tienshan samples and the uniquely upregulated genes for each genotype.\n",
    "* Why do you think some of the proteins appear in duplicates? <br>\n",
    "\n",
    "To answer these questions, it may be convenient to save summary tables from R and open them in excel. See the code below for examples of how to do this. Files can be downloaded by right-clicking on the file name.\n",
    "\n",
    "If you are familiar with R functions, you are welcome to use those for counting.\n"
   ]
  },
  {
   "cell_type": "code",
   "execution_count": null,
   "metadata": {
    "tags": [],
    "vscode": {
     "languageId": "r"
    }
   },
   "outputs": [],
   "source": [
    "dir.create(\"DEG_Output_tables\", showWarnings = FALSE)"
   ]
  },
  {
   "cell_type": "code",
   "execution_count": null,
   "metadata": {
    "colab": {
     "base_uri": "https://localhost:8080/",
     "height": 711
    },
    "executionInfo": {
     "elapsed": 461,
     "status": "error",
     "timestamp": 1654593190300,
     "user": {
      "displayName": "Lavinia Fechete",
      "userId": "03683080993527566677"
     },
     "user_tz": -120
    },
    "id": "bqyevMcc9CVo",
    "outputId": "4fca6a22-48cd-44d5-f221-f9172ea5ad3d",
    "tags": [],
    "vscode": {
     "languageId": "r"
    }
   },
   "outputs": [],
   "source": [
    "#Create the table with the DEGs, Raw counts(just for the Ti samples in this case, change to columns (2:7) for the S10 samples) and Functional annotations\n",
    "DEG_Ti_counts_FA <- inner_join(DEG_Ti_filtered[,c(1, 2, 6)], Read_counts[, c(1, 8:13)], by=\"gene_ID\") %>%\n",
    "                 inner_join(Functional_annotations, by=\"gene_ID\")\n",
    "#Write the table to file\n",
    "write.table(DEG_Ti_counts_FA, file = \"DEG_Output_tables/Ti_Treatment_Control_DGE.txt\", quote = FALSE, row.names = FALSE, sep = \"\\t\")\n",
    "#Display the first 10 rows of the table\n",
    "head(DEG_Ti_counts_FA, n=10)"
   ]
  },
  {
   "cell_type": "markdown",
   "metadata": {
    "id": "Mhzzu3PxAQUx"
   },
   "source": [
    "Example for filtering and counting the Up/Down genes. You can easily filter using the \"filter()\" function just by specifying the dataframe and a logical argument."
   ]
  },
  {
   "cell_type": "code",
   "execution_count": null,
   "metadata": {
    "id": "Y0VGwBQbAOWD",
    "tags": [],
    "vscode": {
     "languageId": "r"
    }
   },
   "outputs": [],
   "source": [
    "DEG_Ti_up <- filter(DEG_Ti_counts_FA, logFC > 0)\n",
    "print(\"Nr of upregulated genes:\")\n",
    "print(nrow(DEG_Ti_up))\n",
    "DEG_Ti_down <- filter(DEG_Ti_counts_FA, logFC < 0)\n",
    "print(\"Nr of downregulated genes:\")\n",
    "print(nrow(DEG_Ti_down))"
   ]
  },
  {
   "cell_type": "markdown",
   "metadata": {},
   "source": [
    "You can use the \"inner_join\" and the \"anti_join\" functions from the dplyr package to select the common and unique genes for each genotype:\n",
    "\n",
    "`example_file_joined <- inner_join(file1, file2, by=\"gene_ID\")`"
   ]
  },
  {
   "cell_type": "markdown",
   "metadata": {},
   "source": [
    "# Wrapping up  🎉 🎉 🎉\n",
    "\n",
    "In this notebook, you have worked with RNA-seq results for two white clover genotypes exposed to one night of cold treatment, aiming to identify genes that change their expression in response to the cold treatment. You have learned to perform exploratory data analysis of raw and normalized RNA-seq read counts. You have also performed differential gene expression using `edgeR`. "
   ]
  }
 ],
 "metadata": {
  "colab": {
   "collapsed_sections": [],
   "name": "RNAseq_final_May2022.ipynb",
   "provenance": []
  },
  "kernelspec": {
   "display_name": "NGS (R)",
   "language": "R",
   "name": "ngs_r"
  },
  "language_info": {
   "codemirror_mode": "r",
   "file_extension": ".r",
   "mimetype": "text/x-r-source",
   "name": "R",
   "pygments_lexer": "r",
   "version": "4.1.2"
  },
  "toc-autonumbering": true,
  "toc-showmarkdowntxt": false,
  "toc-showtags": false
 },
 "nbformat": 4,
 "nbformat_minor": 4
}
